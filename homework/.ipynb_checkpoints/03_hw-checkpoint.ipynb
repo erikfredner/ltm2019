{
 "cells": [
  {
   "cell_type": "markdown",
   "metadata": {},
   "source": [
    "# 1. Improving our `kwic` function\n",
    "Our `kwic` function has at least one annoying bug left: Whenever you print *any* KWIC analysis, it always `prints` one extra line when `loc == -1`.\n",
    "\n",
    "Modify our `kwic` function so that it does *not* print when `loc == -1`.\n",
    "\n",
    "When `loc == -1`, `print` a message to the user telling them that there are no instances of their target word in the text."
   ]
  },
  {
   "cell_type": "code",
   "execution_count": 11,
   "metadata": {},
   "outputs": [],
   "source": [
    "def find_next(word, text, loc = 0):\n",
    "    return text.lower().find(word, loc) # this returns the character position of the next instance"
   ]
  },
  {
   "cell_type": "code",
   "execution_count": 12,
   "metadata": {},
   "outputs": [],
   "source": [
    "def kwic(loc, text, window = 75):\n",
    "    mn = 0\n",
    "    mx = len(text)\n",
    "    start = loc - window\n",
    "    stop = loc + window\n",
    "    \n",
    "    if start < mn:\n",
    "        start = mn\n",
    "        stop = window\n",
    "    if stop > mx:\n",
    "        start = mx - window\n",
    "        stop = mx\n",
    "        \n",
    "    return text[start:stop]"
   ]
  },
  {
   "cell_type": "code",
   "execution_count": 13,
   "metadata": {},
   "outputs": [],
   "source": [
    "def get_kwics(word, text, loc = 0):\n",
    "    while loc != -1:\n",
    "        loc = find_next(word, text, loc + 1)\n",
    "        print('word:', word)\n",
    "        print('loc:', loc)\n",
    "        print('kwic:')\n",
    "        print(kwic(loc, text))\n",
    "        print('-'*50)"
   ]
  },
  {
   "cell_type": "code",
   "execution_count": 15,
   "metadata": {},
   "outputs": [],
   "source": [
    "whitman = '''I SING the Body electric;\n",
    "The armies of those I love engirth me, and I engirth them;\n",
    "They will not let me off till I go with them, respond to them,\n",
    "And discorrupt them, and charge them full with the charge of the Soul.'''"
   ]
  },
  {
   "cell_type": "code",
   "execution_count": 16,
   "metadata": {},
   "outputs": [
    {
     "name": "stdout",
     "output_type": "stream",
     "text": [
      "word: butter\n",
      "loc: -1\n",
      "kwic:\n",
      "I SING the Body electric;\n",
      "The armies of those I love engirth me, and I engi\n",
      "--------------------------------------------------\n"
     ]
    }
   ],
   "source": [
    "get_kwics('butter', whitman)"
   ]
  },
  {
   "cell_type": "markdown",
   "metadata": {},
   "source": [
    "# Optional challenge\n",
    "How could you rewrite `get_kwics` into two or fewer functions? You may answer in pseudocode or code."
   ]
  },
  {
   "cell_type": "markdown",
   "metadata": {},
   "source": [
    "# 2. Textual analysis with `get_kwics`\n",
    "\n",
    "1. Pick a text of your choosing from Project Gutenberg or elsewhere.\n",
    "2. Save the `utf-8` file to your computer with the extension `.txt`.\n",
    "3. Using your improved `get_kwics` function, print every instance of a word that interests you in the text. For example, if you're looking at \"Sherlock Holmes,\" the word \"clue\" might be interesting.\n",
    "4. Read each instance of your target word in your `get_kwics` results.\n",
    "5. Write a few sentences describing the different *contexts* in which your word appears."
   ]
  },
  {
   "cell_type": "markdown",
   "metadata": {},
   "source": [
    "# 3. Repeating Piper's punctuation analysis on other texts\n",
    "\n",
    "In *Enumerations*, Piper counted the number of punctuation marks per poem over the 19th and 20th centuries. We're going to use the same idea to compare two texts:\n",
    "\n",
    "1. Download one additional text of your choosing to compare to your text from question 2. It might be another text by the same author, period, genre, or any other reason you might want to compare them.\n",
    "2. Write a function that counts all of the instances of the punctuation marks `.`, `,`, and `?` in any text. The function should `print` your results.\n",
    "3. Scale the total number of each of those punctuation marks by the total number of words in the text. (Remember, we discussed how to count the total number of words in a string using `split`.)\n",
    "4. Write a few sentences about the differences you observe between the two texts. Do they use these punctation marks at similar rates? How are they different? This answer will depend entirely on the texts you choose.\n",
    "\n",
    "**Here is a hint for how to scale your texts:**"
   ]
  },
  {
   "cell_type": "code",
   "execution_count": 25,
   "metadata": {},
   "outputs": [
    {
     "data": {
      "text/plain": [
       "\"I don't have strong opinions about punctuation. Oh, wait, perhaps I do?\""
      ]
     },
     "execution_count": 25,
     "metadata": {},
     "output_type": "execute_result"
    }
   ],
   "source": [
    "'I don\\'t have strong opinions about punctuation. Oh, wait, perhaps I do?'"
   ]
  },
  {
   "cell_type": "markdown",
   "metadata": {},
   "source": [
    "I count 2 `,` and 12 words in the string above. So the scaled value measuring the rate at which commas occur would be:"
   ]
  },
  {
   "cell_type": "code",
   "execution_count": 22,
   "metadata": {},
   "outputs": [
    {
     "data": {
      "text/plain": [
       "0.16666666666666666"
      ]
     },
     "execution_count": 22,
     "metadata": {},
     "output_type": "execute_result"
    }
   ],
   "source": [
    "2/12"
   ]
  },
  {
   "cell_type": "markdown",
   "metadata": {},
   "source": [
    "The `float` above represents the *number of commas per word* in that example string. We want a similar measure for each of the three punctuation marks identified above: `.`, `,`, and `?`"
   ]
  },
  {
   "cell_type": "markdown",
   "metadata": {},
   "source": [
    "# 4. Reflection\n",
    "This week we discussed the relationship between our data, our models, our corpora, and our results. This was described by both Piper and Arnold and Tilton as an *iterative process*.\n",
    "\n",
    "Reflect on the iterative process that led to your improved `kwic` function above. In what other ways could you still improve it? How did we discover its different properties and behaviors? What would we need to change about it in order for it to be more useful for analyzing texts?"
   ]
  },
  {
   "cell_type": "markdown",
   "metadata": {},
   "source": [
    "*Write your answer in this markdown cell*"
   ]
  }
 ],
 "metadata": {
  "kernelspec": {
   "display_name": "Python 3",
   "language": "python",
   "name": "python3"
  },
  "language_info": {
   "codemirror_mode": {
    "name": "ipython",
    "version": 3
   },
   "file_extension": ".py",
   "mimetype": "text/x-python",
   "name": "python",
   "nbconvert_exporter": "python",
   "pygments_lexer": "ipython3",
   "version": "3.7.3"
  }
 },
 "nbformat": 4,
 "nbformat_minor": 4
}
