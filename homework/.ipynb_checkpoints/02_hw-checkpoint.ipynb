{
 "cells": [
  {
   "cell_type": "markdown",
   "metadata": {},
   "source": [
    "# Homework 2\n",
    "## Reminder to use Markdown cells for prose\n",
    "Remember, one of the reasons we're using Jupyter notebooks is becuase they allow us to mix prose and code together nicely. When you are writing notes or descriptions of your reuslts, please do put them in Markdown cells.\n",
    "\n",
    "To do so, make a new cell, select it, and at the top of the window, you can click the drop-down menu that changes the type of the cell from `Code` (default) to `Markdown`. You can also change a cell to Markdown using the keyboard shortcut `m` or back to code using the shortcut `y`.\n",
    "\n",
    "In a Markdown cell, type as you would normally, then hit `shift+enter` to render the text."
   ]
  },
  {
   "cell_type": "markdown",
   "metadata": {},
   "source": [
    "## Looking for help\n",
    "If you get stuck on a problem, try the following things:\n",
    "1. Come to office hours (Friday 1-3pm).\n",
    "2. Review the old notebooks published on Canvas.\n",
    "3. Contact your classmates (you can find each other's emails via the People tab on Canvas).\n",
    "4. Search for help online.\n",
    "\n",
    "I put searching for help online *last* because two bad things can happen if you try that first: 1) you waste a lot of time and don't find anything, or 2) you find a solution that works, but you don't understand how or why it works.\n",
    "\n",
    "If you must look online, [StackOverflow](https://stackoverflow.com/questions/tagged/python) is pretty good."
   ]
  },
  {
   "cell_type": "markdown",
   "metadata": {},
   "source": [
    "# 1. Estimating clauses per sentence\n",
    "Grammatically, clauses refer to any part of a sentence that contains a verb. An example sentence with one clause would be: \"Don Quixote fought the windmill.\" A sentence with two clauses might be: \"Don Quixote fought the windmill, and then he rode away,\" with \"fought\" anchoring the first clause, and \"rode\" the second. Frequently in English, clauses are separated by commas or semi-colons, as in the second example. Sentences with multiple clauses are generally regarded as more complex than single-clause sentences.\n",
    "\n",
    "Write a function that calculates the average number of clauses per sentence for any text.\n",
    "\n",
    "For the purposes of this assignment, we will count `,` and `;` as proxies for clauses. And we will consider instances of `.`, `?`, and `!` as proxies for sentences.\n",
    "\n",
    "Your function will need at least one argument, `text`."
   ]
  },
  {
   "cell_type": "code",
   "execution_count": null,
   "metadata": {},
   "outputs": [],
   "source": [
    "def clauses_per_sentence(text):\n",
    "    # your code here"
   ]
  },
  {
   "cell_type": "markdown",
   "metadata": {},
   "source": [
    "**Optional challenge**: Of course, many sentences only have one clause. Just counting `,` and `;` does not count the clause in sentences that do not contain `,` or `;`. How could you deal with this in your measurement?"
   ]
  },
  {
   "cell_type": "markdown",
   "metadata": {},
   "source": [
    "# 2. Testing your function with a random text\n",
    "1. Pick any text from [Project Gutenberg](https://www.gutenberg.org/ebooks/search/%3Fsort_order%3Ddownloads).\n",
    "\n",
    "2. Save the plain text UTF-8 file to your computer. Click on any title, then right-click on the link that says \"Plain Text UTF-8.\" Then click Save. See, for instance, [Sherlock Holmes](https://www.gutenberg.org/ebooks/1661).\n",
    "\n",
    "3. Find that file on your computer, open it in Python, and convert it to a string.\n",
    "\n",
    "4. Then, pass that string to `clauses_per_sentence` and print the result below."
   ]
  },
  {
   "cell_type": "code",
   "execution_count": null,
   "metadata": {},
   "outputs": [],
   "source": [
    "my_file = # put your text here"
   ]
  },
  {
   "cell_type": "markdown",
   "metadata": {},
   "source": [
    "**Optional Challenge**: You may notice that your Gutenberg text contains a lot of stuff that *isn't* the text you were interested in. It begins with something like \"This eBook is for the use of anyone anywhere at no cost...\" and it ends with something like, *** END OF THIS PROJECT GUTENBERG EBOOK\n",
    "\n",
    "Can you use `find` and string slicing to eliminate the Project Gutenberg junk from your text? Hint: `find` can search for substrings of any length, and long substrings are usually unique."
   ]
  },
  {
   "cell_type": "markdown",
   "metadata": {},
   "source": [
    "# 3. Slicing your text to compare the first half to the second\n",
    "1. Take your text from Gutenberg, `my_file`, and measure its length in characters.\n",
    "\n",
    "2. Create a new variable that is equal to half of the length of your text.\n",
    "\n",
    "3. Using `[]` notation and your new variable, slice your text into two new strings: one string should contain the first half of your text, the other string should contain the second half.\n",
    "\n",
    "4. Then, pass each half of your text to `clauses_per_sentence`.\n",
    "\n",
    "5. Compare the results: How are the halves different from each other, if at all?"
   ]
  },
  {
   "cell_type": "markdown",
   "metadata": {},
   "source": [
    "# 4. Clean a string and count instances of a word\n",
    "Write a function that takes the following actions:\n",
    "1. Strips the whitespace off of the ends of the text.\n",
    "2. Converts the stripped text to lowercase.\n",
    "3. Counts instances of any word the user chooses in the cleaned text.\n",
    "4. Returns the number of instances of the word in the text."
   ]
  },
  {
   "cell_type": "markdown",
   "metadata": {},
   "source": [
    "To do this, you will need to give your function two variables: `text` and `word`.\n",
    "\n",
    "Here's a model function to show you how to pass functions two variables, and do something with them:"
   ]
  },
  {
   "cell_type": "code",
   "execution_count": 12,
   "metadata": {},
   "outputs": [],
   "source": [
    "def multiplier(x,y):\n",
    "    print('x =', x)\n",
    "    print('y =', y)\n",
    "    return x * y"
   ]
  },
  {
   "cell_type": "code",
   "execution_count": 13,
   "metadata": {},
   "outputs": [
    {
     "name": "stdout",
     "output_type": "stream",
     "text": [
      "x = 4\n",
      "y = 3\n"
     ]
    },
    {
     "data": {
      "text/plain": [
       "12"
      ]
     },
     "execution_count": 13,
     "metadata": {},
     "output_type": "execute_result"
    }
   ],
   "source": [
    "multiplier(x = 4, y = 3)"
   ]
  },
  {
   "cell_type": "code",
   "execution_count": null,
   "metadata": {},
   "outputs": [],
   "source": [
    "def clean_and_count(text, word):\n",
    "    # your code here"
   ]
  },
  {
   "cell_type": "markdown",
   "metadata": {},
   "source": [
    "# 5. Reflecting on corpora\n",
    "Earlier this week, I mentioned a famous slogan in the digital humanities: \"Every corpus is a question.\"\n",
    "\n",
    "Explain what that means. What is a corpus? How can it be used to address a question?\n",
    "\n",
    "You may want to refer back to the essays we read from Algee-Hewitt & McGurl, Porter, or Burrows."
   ]
  },
  {
   "cell_type": "markdown",
   "metadata": {},
   "source": [
    "*Write your answer in this Markdown block*"
   ]
  }
 ],
 "metadata": {
  "kernelspec": {
   "display_name": "Python 3",
   "language": "python",
   "name": "python3"
  },
  "language_info": {
   "codemirror_mode": {
    "name": "ipython",
    "version": 3
   },
   "file_extension": ".py",
   "mimetype": "text/x-python",
   "name": "python",
   "nbconvert_exporter": "python",
   "pygments_lexer": "ipython3",
   "version": "3.7.3"
  }
 },
 "nbformat": 4,
 "nbformat_minor": 4
}
