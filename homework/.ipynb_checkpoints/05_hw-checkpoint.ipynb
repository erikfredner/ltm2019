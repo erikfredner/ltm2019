{
 "cells": [
  {
   "cell_type": "markdown",
   "metadata": {},
   "source": [
    "# 4. Biblical criticism\n",
    "Many early computational textual analyses were performed on sacred texts. We're going to use Piper's method of counting punctuation from *Enumerations* to see if there is change over time in the frequency of punctuation in a series of early English Bibles.\n",
    "\n",
    "1. Download `early_english_bibles.zip` from `Canvas/Files/homework`.\n",
    "2. Extract the .zip file on your computer.\n",
    "3. Get the path for your texts and paste it where mine is below:"
   ]
  },
  {
   "cell_type": "code",
   "execution_count": 24,
   "metadata": {},
   "outputs": [],
   "source": [
    "my_path = '/Users/e/Downloads/early_english_bibles'"
   ]
  },
  {
   "cell_type": "markdown",
   "metadata": {},
   "source": [
    "Note that each of the files are named in the following way: `[year]_[author].txt`. The filenames will help you see change over time.\n",
    "\n",
    "If you have not studied early Bibles, you likely have not encountered either Wycliffe or Tyndale before. However, `1611_kjb` is one of the most famous works in the English language, the King James Bible. The King James version is perhaps best known for this formulation from Genesis: \"And God said, Let there be light: and there was light.\" It is arguably as influential on style in English poetry and prose as any text, including Shakespeare. It is almost certainly the most widely read literary text in the history of the English language."
   ]
  },
  {
   "cell_type": "markdown",
   "metadata": {},
   "source": [
    "Write a function that performs the following tasks:\n",
    "\n",
    "1. Opens, reads, and cleans each of the bibles in sequence.\n",
    "2. For every text, count the total number of the following punctuation marks: `.`, `?`, `,`\n",
    "3. Scale the frequency of each punctuation total by the total number of words in the text.\n",
    "4. `print` your results including the name of the file, and the scaled frequency of each punctuation mark.\n",
    "5. Write a sentence or two about similarities and differences you observe between the results."
   ]
  },
  {
   "cell_type": "markdown",
   "metadata": {},
   "source": [
    "By \"scaled frequency,\" I mean the quantity of each punctuation mark divided by the total number of words in the text. In other words, we are looking for measures of the number of periods, question marks, and commas per word.\n",
    "\n",
    "So, for instance, you would scale the following string like so:"
   ]
  },
  {
   "cell_type": "markdown",
   "metadata": {},
   "source": [
    "The reason we need to *scale* our results is that these bibles are of different lengths. We cannot compare the total number of punctuation marks directly because the main cause of the difference will be difference in length, not difference in writing style or formatting."
   ]
  }
 ],
 "metadata": {
  "kernelspec": {
   "display_name": "Python 3",
   "language": "python",
   "name": "python3"
  },
  "language_info": {
   "codemirror_mode": {
    "name": "ipython",
    "version": 3
   },
   "file_extension": ".py",
   "mimetype": "text/x-python",
   "name": "python",
   "nbconvert_exporter": "python",
   "pygments_lexer": "ipython3",
   "version": "3.7.3"
  }
 },
 "nbformat": 4,
 "nbformat_minor": 4
}
