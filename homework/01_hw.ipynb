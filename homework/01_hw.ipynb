{
 "cells": [
  {
   "cell_type": "markdown",
   "metadata": {},
   "source": [
    "# Homework 01\n",
    "This week, we read Kirschenbaum and Liu, and discussed some essential elements of programming. This assignment reviews what we have discussed. Then, it asks for brief written responses to the readings."
   ]
  },
  {
   "cell_type": "markdown",
   "metadata": {},
   "source": [
    "## About the homework notebooks\n",
    "One of the great things about Jupyter is that it allows you to program and format documents all at the same time. You can easily mix prose with code examples and results. I've been using the notebooks this way for our lectures.\n",
    "\n",
    "If you hit `enter` with your cursor (the blue line on the left) over this block, you'll be able to edit it.\n",
    "\n",
    "Below, you will see some questions requiring written responses, and some coding questions. The cells have already been formatted correcty for the required output. Simply hit `enter` to add your answer, and you can hit `shift + enter` to format it.\n",
    "\n",
    "This is called a `Markdown` cell, and it's designed for prose instead of code. Python code *will not work* in a Markdown cell. But any new cell you create will be able to be used for Python and for command-line actions like `ls` and `pwd`."
   ]
  },
  {
   "cell_type": "markdown",
   "metadata": {},
   "source": [
    "### Excecute `pwd` in the cell below. Explain how to read the filepath that it prints. What does the `/` character mean? \n",
    "*type your response here, then hit shift-enter to see it formatted*"
   ]
  },
  {
   "cell_type": "code",
   "execution_count": 1,
   "metadata": {},
   "outputs": [
    {
     "data": {
      "text/plain": [
       "'/Users/e/Library/Mobile Documents/com~apple~CloudDocs/PhD/ltm/notebooks/homework'"
      ]
     },
     "execution_count": 1,
     "metadata": {},
     "output_type": "execute_result"
    }
   ],
   "source": [
    "pwd"
   ]
  },
  {
   "cell_type": "markdown",
   "metadata": {},
   "source": [
    "### Using `cd` and `ls`, move 1) from your current directory to your Desktop, 2) then to the folder on your machine you use for this class, and 3) then back to your original directory.\n",
    "*You should begin in the cell below and add new cells until you have completed the movement:*"
   ]
  },
  {
   "cell_type": "code",
   "execution_count": 2,
   "metadata": {},
   "outputs": [
    {
     "name": "stdout",
     "output_type": "stream",
     "text": [
      "01_hw.ipynb\n"
     ]
    }
   ],
   "source": [
    "ls"
   ]
  },
  {
   "cell_type": "markdown",
   "metadata": {},
   "source": [
    "*You will need to add new cells here to complete the assignment. Check the Keyboard Shortcuts if you forgot how, or press the `+` button directly above.*"
   ]
  },
  {
   "cell_type": "markdown",
   "metadata": {},
   "source": [
    "### Differentiate Python `input` from `output`.\n",
    "*type your response here*"
   ]
  },
  {
   "cell_type": "markdown",
   "metadata": {},
   "source": [
    "### Pass the text of any poem into the cell below as a `string`."
   ]
  },
  {
   "cell_type": "code",
   "execution_count": null,
   "metadata": {},
   "outputs": [],
   "source": [
    "# put the poem here"
   ]
  },
  {
   "cell_type": "markdown",
   "metadata": {},
   "source": [
    "## What does `\\n` mean?\n",
    "*type your response here*"
   ]
  },
  {
   "cell_type": "markdown",
   "metadata": {},
   "source": [
    "### Use Python to `print` your name like this:\n",
    "First\\\n",
    "Middle\\\n",
    "Last"
   ]
  },
  {
   "cell_type": "code",
   "execution_count": null,
   "metadata": {},
   "outputs": [],
   "source": []
  },
  {
   "cell_type": "markdown",
   "metadata": {},
   "source": [
    "### Assign the names of three musicians or bands to the variable names below:"
   ]
  },
  {
   "cell_type": "code",
   "execution_count": null,
   "metadata": {},
   "outputs": [],
   "source": [
    "chill_music = "
   ]
  },
  {
   "cell_type": "code",
   "execution_count": null,
   "metadata": {},
   "outputs": [],
   "source": [
    "study_music ="
   ]
  },
  {
   "cell_type": "code",
   "execution_count": null,
   "metadata": {},
   "outputs": [],
   "source": [
    "hype_music ="
   ]
  },
  {
   "cell_type": "markdown",
   "metadata": {},
   "source": [
    "### Construct a `print` statement containing a few sentences that describes all three musicians. `Print` the names of the artists using their variable names (e.g. `chill_music`)."
   ]
  },
  {
   "cell_type": "code",
   "execution_count": null,
   "metadata": {},
   "outputs": [],
   "source": []
  },
  {
   "cell_type": "markdown",
   "metadata": {},
   "source": [
    "# Reading Responses"
   ]
  },
  {
   "cell_type": "markdown",
   "metadata": {},
   "source": [
    "*Remember that you can click in to any cell to begin writing in it.*"
   ]
  },
  {
   "cell_type": "markdown",
   "metadata": {},
   "source": [
    "Liu writes:\n",
    "> Heuser and Le-Khac assume that there *are* preexisting themes to be found in the word cohorts of primary materials...the more postmodern side of the digital humanities \\[argues\\] that critics should use algorithmic methods to play with texts experimentally...The common goal is to banish, or at least crucially delay, human ideation at the formative onset of interpretation.\n",
    "\n",
    "*Explain what this means, and why it matters here.*"
   ]
  },
  {
   "cell_type": "markdown",
   "metadata": {},
   "source": [
    "Heuser and Le-Khac wonder:\n",
    "> How do we get from numbers to *meaning*?\n",
    "\n",
    "Other disciplines have well-established procedures for this. As Heuser and Le-Khac show, literary criticism hardly has a consensus on this question.\n",
    "\n",
    "As we begin a class that is essentially about this question, how would you answer it now? How could quantitative results produce or guide new qualitative meanings?\n",
    "\n",
    "*Write your response here.*"
   ]
  },
  {
   "cell_type": "markdown",
   "metadata": {},
   "source": [
    "# To submit your homework:\n",
    "1. Save this notebook with your changes in it. You can save by going to File > Save Notebook.\n",
    "2. Then, locate the file on your machine. It should be called `01_hw.ipynb`. It's probably in your `~/Downloads` folder.\n",
    "3. Upload `01_hw.ipynb` to Canvas in the Assignments section."
   ]
  }
 ],
 "metadata": {
  "kernelspec": {
   "display_name": "Python 3",
   "language": "python",
   "name": "python3"
  },
  "language_info": {
   "codemirror_mode": {
    "name": "ipython",
    "version": 3
   },
   "file_extension": ".py",
   "mimetype": "text/x-python",
   "name": "python",
   "nbconvert_exporter": "python",
   "pygments_lexer": "ipython3",
   "version": "3.7.3"
  }
 },
 "nbformat": 4,
 "nbformat_minor": 4
}
