{
 "cells": [
  {
   "cell_type": "markdown",
   "metadata": {},
   "source": [
    "# A few text processing tasks with `nltk`\n",
    "We're going to cover a few common text processing tasks that we can do with `nltk`. You may want to use some or all of these for your research. No need to reinvent the wheel!\n",
    "\n",
    "First, let's get nltk up and running:"
   ]
  },
  {
   "cell_type": "code",
   "execution_count": 34,
   "metadata": {},
   "outputs": [],
   "source": [
    "import nltk"
   ]
  },
  {
   "cell_type": "markdown",
   "metadata": {},
   "source": [
    "After that imports, run the following command:"
   ]
  },
  {
   "cell_type": "code",
   "execution_count": 35,
   "metadata": {},
   "outputs": [
    {
     "name": "stdout",
     "output_type": "stream",
     "text": [
      "showing info https://raw.githubusercontent.com/nltk/nltk_data/gh-pages/index.xml\n"
     ]
    },
    {
     "data": {
      "text/plain": [
       "True"
      ]
     },
     "execution_count": 35,
     "metadata": {},
     "output_type": "execute_result"
    }
   ],
   "source": [
    "nltk.download()"
   ]
  },
  {
   "cell_type": "markdown",
   "metadata": {},
   "source": [
    "That will bring up a window on your machine. Select the row called `book`, which should include all of the elements we'll use in class today. Download that, and we'll follow along."
   ]
  },
  {
   "cell_type": "markdown",
   "metadata": {},
   "source": [
    "# Splitting by sentence\n",
    "We know how to split by words. But you may be interested in other units like the sentence. `nltk` can help us get all of the sentences out of a book:"
   ]
  },
  {
   "cell_type": "code",
   "execution_count": 37,
   "metadata": {},
   "outputs": [
    {
     "name": "stdout",
     "output_type": "stream",
     "text": [
      "['5 Order of the Phoenix.txt', '4 Goblet of Fire.txt', '6 Half-Blood Prince.txt', '1 Sorcerers Stone.txt', '3 Prisoner of Azkaban.txt', '7 Deathly Hallows.txt', '2 Chamber of Secrets.txt']\n"
     ]
    }
   ],
   "source": [
    "import os\n",
    "hp_dir = '/Users/e/code/literarytextmining/corpora/harry_potter/texts'\n",
    "hp_relative = os.listdir(hp_dir)\n",
    "print(hp_relative)\n",
    "hp_absolute = []\n",
    "for x in hp_relative:\n",
    "    abs_path = os.path.join(hp_dir, x)\n",
    "    hp_absolute.append(abs_path)"
   ]
  },
  {
   "cell_type": "code",
   "execution_count": 38,
   "metadata": {},
   "outputs": [
    {
     "data": {
      "text/plain": [
       "['/Users/e/code/literarytextmining/corpora/harry_potter/texts/5 Order of the Phoenix.txt',\n",
       " '/Users/e/code/literarytextmining/corpora/harry_potter/texts/4 Goblet of Fire.txt',\n",
       " '/Users/e/code/literarytextmining/corpora/harry_potter/texts/6 Half-Blood Prince.txt',\n",
       " '/Users/e/code/literarytextmining/corpora/harry_potter/texts/1 Sorcerers Stone.txt',\n",
       " '/Users/e/code/literarytextmining/corpora/harry_potter/texts/3 Prisoner of Azkaban.txt',\n",
       " '/Users/e/code/literarytextmining/corpora/harry_potter/texts/7 Deathly Hallows.txt',\n",
       " '/Users/e/code/literarytextmining/corpora/harry_potter/texts/2 Chamber of Secrets.txt']"
      ]
     },
     "execution_count": 38,
     "metadata": {},
     "output_type": "execute_result"
    }
   ],
   "source": [
    "hp_absolute"
   ]
  },
  {
   "cell_type": "code",
   "execution_count": 39,
   "metadata": {},
   "outputs": [],
   "source": [
    "prince = open(hp_absolute[2]).read()"
   ]
  },
  {
   "cell_type": "code",
   "execution_count": 40,
   "metadata": {},
   "outputs": [
    {
     "data": {
      "text/plain": [
       "'CHAPTER ONE\\n\\n\\n\\n\\n\\nTHE OTHER MINISTER\\n\\n\\n\\n\\nIt was nearing midnight and the Prime Minister was sitting a'"
      ]
     },
     "execution_count": 40,
     "metadata": {},
     "output_type": "execute_result"
    }
   ],
   "source": [
    "prince[:100]"
   ]
  },
  {
   "cell_type": "code",
   "execution_count": 41,
   "metadata": {},
   "outputs": [],
   "source": [
    "# we've got a lot of whitespace. let's replace all that with single spaces\n",
    "import re\n",
    "prince = re.sub('\\s+', ' ', prince)"
   ]
  },
  {
   "cell_type": "code",
   "execution_count": 42,
   "metadata": {},
   "outputs": [
    {
     "data": {
      "text/plain": [
       "'CHAPTER ONE THE OTHER MINISTER It was nearing midnight and the Prime Minister was sitting alone in h'"
      ]
     },
     "execution_count": 42,
     "metadata": {},
     "output_type": "execute_result"
    }
   ],
   "source": [
    "prince[:100]"
   ]
  },
  {
   "cell_type": "markdown",
   "metadata": {},
   "source": [
    "Now, we can test out `nltk`'s sentence tokenizer:"
   ]
  },
  {
   "cell_type": "code",
   "execution_count": 43,
   "metadata": {},
   "outputs": [
    {
     "data": {
      "text/plain": [
       "['CHAPTER ONE THE OTHER MINISTER It was nearing midnight and the Prime Minister was sitting alone in his office, reading a long memo that was slipping through his brain without leaving the slightest trace of meaning behind.',\n",
       " 'He was waiting for a call from the President of a far distant country, and between wondering when the wretched man would telephone, and trying to suppress unpleasant memories of what had been a very long, tiring, and difficult week, there was not much space in his head for anything else.',\n",
       " 'The more he attempted to focus on the print on the page before him, the more clearly the Prime Minister could see the gloating face of one of his political opponents.',\n",
       " 'This particular opponent had appeared on the news that very day, not only to enumerate all the terrible things that had happened in the last week (as though anyone needed reminding) but also to explain why each and every one of them was the government’s fault.',\n",
       " 'The Prime Minister’s pulse quickened at the very thought of these accusations, for they were neither fair nor true.']"
      ]
     },
     "execution_count": 43,
     "metadata": {},
     "output_type": "execute_result"
    }
   ],
   "source": [
    "from nltk.tokenize import sent_tokenize\n",
    "sent_tokenize(prince)[:5]"
   ]
  },
  {
   "cell_type": "markdown",
   "metadata": {},
   "source": [
    "# Looking for specific sentence structures\n",
    "\n",
    "`sent_tokenize` returns a list of sentences. We could do a lot of things with this. For instance, perhaps we only want to see all of the sentences with the words `not only` and `but also` in them, as in the sentence structure \"not this but that.\""
   ]
  },
  {
   "cell_type": "code",
   "execution_count": 44,
   "metadata": {},
   "outputs": [
    {
     "name": "stdout",
     "output_type": "stream",
     "text": [
      "This particular opponent had appeared on the news that very day, not only to enumerate all the terrible things that had happened in the last week (as though anyone needed reminding) but also to explain why each and every one of them was the government’s fault.\n",
      "--------------------------------------------------------------------------------\n",
      "The more Harry pored over the book, the more he realized how much was in there, not only the handy hints and shortcuts on potions that were earning him such a glowing reputation with Slughorn, but also the imaginative little jinxes and hexes scribbled in the margins, which Harry was sure, judging by the crossings-out and revisions, that the Prince had invented himself.\n",
      "--------------------------------------------------------------------------------\n",
      "Harry awoke next morning feeling slightly dazed and confused by a series of dreams in which Ron had chased him with a Beater’s bat, but by midday he would have happily exchanged the dream Ron for the real one, who was not only cold-shouldering Ginny and Dean, but also treating a hurt and bewildered Hermione with an icy, sneering indifference.\n",
      "--------------------------------------------------------------------------------\n",
      "One failed attempt on the Minister’s life will set me back a long way.” “Yes — my Lord, that is true — but you know, as Head of the Department of Magical Law Enforcement, Thicknesse has regular contact not only with the Minister himself, but also with the Heads of all the other Ministry departments.\n",
      "--------------------------------------------------------------------------------\n"
     ]
    }
   ],
   "source": [
    "prince_sents = sent_tokenize(prince)\n",
    "\n",
    "for sent in prince_sents:\n",
    "    if 'not only' in sent.lower() and 'but also' in sent.lower():\n",
    "        print(sent)\n",
    "        print('-'*80)"
   ]
  },
  {
   "cell_type": "markdown",
   "metadata": {},
   "source": [
    "## Similes\n",
    "Another easy type of sentence to look for would be similes. Similes are a subset of metaphor where the comparison is offset by the word `like a` or the phrase `as if`, `such as`, etc.\n",
    "\n",
    "A classic distinction between metaphor and simile exists in the trope about the \"taste\" of knowledge.\n",
    "\n",
    "The poem [\"At the Fishhouses\"](https://www.poetryfoundation.org/poems/52192/at-the-fishhouses) by Elizabeth Bishop contains two excellent examples comparing knowledge to the ocean:\n",
    "- Simile: \"(The sea) is like what we imagine knowledge to be: / dark, salt, clear, moving, utterly free,\"\n",
    "- Metaphor: \"I have seen it over and over, the same sea, the same, / slightly, indifferently swinging above the stones, / icily free above the stones, / above the stones and then the world.\""
   ]
  },
  {
   "cell_type": "code",
   "execution_count": 45,
   "metadata": {},
   "outputs": [],
   "source": [
    "simile_sents = []\n",
    "simile_phrases = ['as if', 'such as', 'like a']\n",
    "\n",
    "for sent in prince_sents:\n",
    "    for phrase in simile_phrases:\n",
    "        if phrase in sent.lower():\n",
    "            simile_sents.append(sent)"
   ]
  },
  {
   "cell_type": "code",
   "execution_count": 46,
   "metadata": {},
   "outputs": [
    {
     "data": {
      "text/plain": [
       "91"
      ]
     },
     "execution_count": 46,
     "metadata": {},
     "output_type": "execute_result"
    }
   ],
   "source": [
    "len(simile_sents)"
   ]
  },
  {
   "cell_type": "code",
   "execution_count": 48,
   "metadata": {},
   "outputs": [
    {
     "data": {
      "text/plain": [
       "['He was, after all, the Prime Minister and did not appreciate being made to feel like an ignorant schoolboy.',\n",
       " 'The papers had a field day with it, ‘breakdown of law and order in the Prime Minister’s backyard —’” “And as if all that wasn’t enough,” said Fudge, barely listening to the Prime Minister, “we’ve got dementors swarming all over the place, attacking people left, right, and center.',\n",
       " 'The Prime Minister’s first, foolish thought was that Rufus Scrimgeour looked rather like an old lion.',\n",
       " 'You wouldn’t —” “There is nothing I wouldn’t do anymore!” Narcissa breathed, a note of hysteria in her voice, and as she brought down the wand like a knife, there was another flash of light.',\n",
       " 'At last, Narcissa hurried up a street named Spinner’s End, over which the towering mill chimney seemed to hover like a giant admonitory finger.']"
      ]
     },
     "execution_count": 48,
     "metadata": {},
     "output_type": "execute_result"
    }
   ],
   "source": [
    "simile_sents[:5]"
   ]
  },
  {
   "cell_type": "markdown",
   "metadata": {},
   "source": [
    "## Tripping up on ellipses\n",
    "Let's take another look at our sentences:"
   ]
  },
  {
   "cell_type": "code",
   "execution_count": 16,
   "metadata": {},
   "outputs": [
    {
     "data": {
      "text/plain": [
       "['He turned very slowly to face the empty room.',\n",
       " '“Hello?” he said, trying to sound braver than he felt.',\n",
       " 'For a brief moment he allowed himself the impossible hope that nobody would answer him.',\n",
       " 'However, a voice responded at once, a crisp, decisive voice that sounded as though it were reading a prepared statement.',\n",
       " 'It was coming — as the Prime Minister had known at the first cough — from the froglike little man wearing a long silver wig who was depicted in a small, dirty oil painting in the far corner of the room.',\n",
       " '“To the Prime Minister of Muggles.',\n",
       " 'Urgent we meet.',\n",
       " 'Kindly respond immediately.',\n",
       " 'Sincerely, Fudge.” The man in the painting looked inquiringly at the Prime Minister.',\n",
       " '“Er,” said the Prime Minister, “listen.',\n",
       " '.',\n",
       " '.',\n",
       " '.',\n",
       " 'It’s not a very good time for me.',\n",
       " '.',\n",
       " '.',\n",
       " '.',\n",
       " 'I’m waiting for a telephone call, you see .',\n",
       " '.',\n",
       " '.']"
      ]
     },
     "execution_count": 16,
     "metadata": {},
     "output_type": "execute_result"
    }
   ],
   "source": [
    "prince_sents[30:50]"
   ]
  },
  {
   "cell_type": "markdown",
   "metadata": {},
   "source": [
    "`nltk` is good, but it isn't perfect. Those single `.` suggest that ellipses are tricking it. We can try to fix that with a simple `replace`:"
   ]
  },
  {
   "cell_type": "code",
   "execution_count": 50,
   "metadata": {},
   "outputs": [],
   "source": [
    "prince = prince.replace('. . .','...')"
   ]
  },
  {
   "cell_type": "markdown",
   "metadata": {},
   "source": [
    "Let's try it again with the cleaned text:"
   ]
  },
  {
   "cell_type": "code",
   "execution_count": 51,
   "metadata": {},
   "outputs": [
    {
     "data": {
      "text/plain": [
       "['Urgent we meet.',\n",
       " 'Kindly respond immediately.',\n",
       " 'Sincerely, Fudge.” The man in the painting looked inquiringly at the Prime Minister.',\n",
       " '“Er,” said the Prime Minister, “listen... .',\n",
       " 'It’s not a very good time for me... .',\n",
       " 'I’m waiting for a telephone call, you see ... from the President of —” “That can be rearranged,” said the portrait at once.',\n",
       " 'The Prime Minister’s heart sank.',\n",
       " 'He had been afraid of that.',\n",
       " '“But I really was rather hoping to speak —” “We shall arrange for the President to forget to call.',\n",
       " 'He will telephone tomorrow night instead,” said the little man.',\n",
       " '“Kindly respond immediately to Mr. Fudge.” “I ... oh ... very well,” said the Prime Minister weakly.',\n",
       " '“Yes, I’ll see Fudge.” He hurried back to his desk, straightening his tie as he went.',\n",
       " 'He had barely resumed his seat, and arranged his face into what he hoped was a relaxed and unfazed expression, when bright green flames burst into life in the empty grate beneath his marble mantelpiece.',\n",
       " 'He watched, trying not to betray a flicker of surprise or alarm, as a portly man appeared within the flames, spinning as fast as a top.',\n",
       " 'Seconds later, he had climbed out onto a rather fine antique rug, brushing ash from the sleeves of his long pin-striped cloak, a lime-green bowler hat in his hand.',\n",
       " '“Ah ... Prime Minister,” said Cornelius Fudge, striding forward with his hand outstretched.',\n",
       " '“Good to see you again.” The Prime Minister could not honestly return this compliment, so said nothing at all.',\n",
       " 'He was not remotely pleased to see Fudge, whose occasional appearances, apart from being downright alarming in themselves, generally meant that he was about to hear some very bad news.',\n",
       " 'Furthermore, Fudge was looking distinctly careworn.',\n",
       " 'He was thinner, balder, and grayer, and his face had a crumpled look.']"
      ]
     },
     "execution_count": 51,
     "metadata": {},
     "output_type": "execute_result"
    }
   ],
   "source": [
    "sent_tokenize(prince)[30:50] # looks good!"
   ]
  },
  {
   "cell_type": "code",
   "execution_count": 20,
   "metadata": {},
   "outputs": [],
   "source": [
    "prince_sents = sent_tokenize(prince)"
   ]
  },
  {
   "cell_type": "markdown",
   "metadata": {},
   "source": [
    "# How many sentences are in my text?\n",
    "Of course this lets us easily check the number of sentences in the text:"
   ]
  },
  {
   "cell_type": "code",
   "execution_count": 52,
   "metadata": {},
   "outputs": [
    {
     "data": {
      "text/plain": [
       "8762"
      ]
     },
     "execution_count": 52,
     "metadata": {},
     "output_type": "execute_result"
    }
   ],
   "source": [
    "len(sent_tokenize(prince))"
   ]
  },
  {
   "cell_type": "markdown",
   "metadata": {},
   "source": [
    "# How many words in each sentence in my text?"
   ]
  },
  {
   "cell_type": "code",
   "execution_count": 23,
   "metadata": {},
   "outputs": [
    {
     "name": "stdout",
     "output_type": "stream",
     "text": [
      "37 CHAPTER ONE THE OTHER MINISTER It was nearing midnight and the Prime Minister was sitting alone in his office, reading a long memo that was slipping through his brain without leaving the slightest trace of meaning behind.\n",
      "--------------------------------------------------------------------------------\n",
      "51 He was waiting for a call from the President of a far distant country, and between wondering when the wretched man would telephone, and trying to suppress unpleasant memories of what had been a very long, tiring, and difficult week, there was not much space in his head for anything else.\n",
      "--------------------------------------------------------------------------------\n",
      "31 The more he attempted to focus on the print on the page before him, the more clearly the Prime Minister could see the gloating face of one of his political opponents.\n",
      "--------------------------------------------------------------------------------\n",
      "46 This particular opponent had appeared on the news that very day, not only to enumerate all the terrible things that had happened in the last week (as though anyone needed reminding) but also to explain why each and every one of them was the government’s fault.\n",
      "--------------------------------------------------------------------------------\n",
      "19 The Prime Minister’s pulse quickened at the very thought of these accusations, for they were neither fair nor true.\n",
      "--------------------------------------------------------------------------------\n",
      "13 How on earth was his government supposed to have stopped that bridge collapsing?\n",
      "--------------------------------------------------------------------------------\n",
      "15 It was outrageous for anybody to suggest that they were not spending enough on bridges.\n",
      "--------------------------------------------------------------------------------\n",
      "37 The bridge was fewer than ten years old, and the best experts were at a loss to explain why it had snapped cleanly in two, sending a dozen cars into the watery depths of the river below.\n",
      "--------------------------------------------------------------------------------\n",
      "22 And how dare anyone suggest that it was lack of policemen that had resulted in those two very nasty and well-publicized murders?\n",
      "--------------------------------------------------------------------------------\n",
      "26 Or that the government should have somehow foreseen the freak hurricane in the West Country that had caused so much damage to both people and property?\n",
      "--------------------------------------------------------------------------------\n"
     ]
    }
   ],
   "source": [
    "for sent in prince_sents[:10]: # just demoing the first ten\n",
    "    word_count = len(sent.split(' '))\n",
    "    print(word_count, sent)\n",
    "    print('-'*80)"
   ]
  },
  {
   "cell_type": "markdown",
   "metadata": {},
   "source": [
    "# How many words on average in a Rowling sentence?\n",
    "1. Append all sentence lengths to a list\n",
    "2. Sum the list\n",
    "3. Divide that sum by the length of the list"
   ]
  },
  {
   "cell_type": "code",
   "execution_count": 53,
   "metadata": {},
   "outputs": [
    {
     "name": "stdout",
     "output_type": "stream",
     "text": [
      "14.188467060137183\n"
     ]
    }
   ],
   "source": [
    "sent_lens = []\n",
    "\n",
    "for sent in prince_sents:\n",
    "    word_count = len(sent.split(' '))\n",
    "    sent_lens.append(word_count)\n",
    "    \n",
    "avg_sent = sum(sent_lens) / len(sent_lens)\n",
    "\n",
    "print(avg_sent)"
   ]
  },
  {
   "cell_type": "markdown",
   "metadata": {},
   "source": [
    "20 words is a *very* long average sentence. Generally in the 19th and 20th centuries, the average sentence in English language fiction is between 12 and 14 words."
   ]
  },
  {
   "cell_type": "markdown",
   "metadata": {},
   "source": [
    "# What about the median Rowling sentence?\n",
    "1. Append all sentence lengths to a list\n",
    "2. Sort the list\n",
    "3. Identify the middle-most value"
   ]
  },
  {
   "cell_type": "code",
   "execution_count": 54,
   "metadata": {},
   "outputs": [
    {
     "data": {
      "text/plain": [
       "11"
      ]
     },
     "execution_count": 54,
     "metadata": {},
     "output_type": "execute_result"
    }
   ],
   "source": [
    "sent_lens = []\n",
    "\n",
    "for sent in prince_sents:\n",
    "    word_count = len(sent.split(' '))\n",
    "    sent_lens.append(word_count)\n",
    "    \n",
    "sent_lens = sorted(sent_lens)\n",
    "median = sent_lens[round(len(sent_lens)/2)]\n",
    "median"
   ]
  },
  {
   "cell_type": "markdown",
   "metadata": {},
   "source": [
    "# What about the modal frequency of a Rowling sentence?\n",
    "i.e. which sentence length does Rowling write the most times?"
   ]
  },
  {
   "cell_type": "code",
   "execution_count": null,
   "metadata": {},
   "outputs": [],
   "source": []
  },
  {
   "cell_type": "code",
   "execution_count": 56,
   "metadata": {},
   "outputs": [],
   "source": [
    "sent_lens = []\n",
    "\n",
    "for sent in prince_sents:\n",
    "    word_count = len(sent.split(' '))\n",
    "    sent_lens.append(word_count)\n",
    "    "
   ]
  },
  {
   "cell_type": "code",
   "execution_count": 57,
   "metadata": {},
   "outputs": [
    {
     "data": {
      "text/plain": [
       "[37, 51, 31, 46, 19]"
      ]
     },
     "execution_count": 57,
     "metadata": {},
     "output_type": "execute_result"
    }
   ],
   "source": [
    "sent_lens[:5]"
   ]
  },
  {
   "cell_type": "code",
   "execution_count": 58,
   "metadata": {},
   "outputs": [],
   "source": [
    "d ={}\n",
    "for x in sent_lens:\n",
    "    if x not in d:\n",
    "        d[x] = 1\n",
    "    else:\n",
    "        d[x] +=1"
   ]
  },
  {
   "cell_type": "code",
   "execution_count": 60,
   "metadata": {},
   "outputs": [],
   "source": [
    "from collections import Counter # this is a fast way to count all of the values in a list like this\n",
    "len_freqs = Counter(sent_lens)\n",
    "# yes, you can also use Counter to calculate the number of tokens for each type in your list of words"
   ]
  },
  {
   "cell_type": "code",
   "execution_count": 149,
   "metadata": {},
   "outputs": [
    {
     "data": {
      "text/plain": [
       "(270, 326, 293)"
      ]
     },
     "execution_count": 149,
     "metadata": {},
     "output_type": "execute_result"
    }
   ],
   "source": [
    "len_freqs[5], len_freqs[10], len_freqs[15]"
   ]
  },
  {
   "cell_type": "code",
   "execution_count": 67,
   "metadata": {},
   "outputs": [
    {
     "name": "stdout",
     "output_type": "stream",
     "text": [
      "13\n"
     ]
    }
   ],
   "source": [
    "for key,value in len_freqs.items():\n",
    "    if value == max(len_freqs.values()):\n",
    "        print(key)"
   ]
  },
  {
   "cell_type": "markdown",
   "metadata": {},
   "source": [
    "Rowling most commonly writes 13-word sentences."
   ]
  },
  {
   "cell_type": "markdown",
   "metadata": {},
   "source": [
    "# Let's see examples of each of these"
   ]
  },
  {
   "cell_type": "code",
   "execution_count": 63,
   "metadata": {},
   "outputs": [],
   "source": [
    "medians = []\n",
    "means = []\n",
    "modes = []\n",
    "\n",
    "for sent in prince_sents:\n",
    "    word_count = len(sent.split(' '))\n",
    "    if word_count == 17:\n",
    "        medians.append(sent)\n",
    "    elif word_count == 14:\n",
    "        means.append(sent)\n",
    "    elif word_count == 13:\n",
    "        modes.append(sent)"
   ]
  },
  {
   "cell_type": "code",
   "execution_count": 64,
   "metadata": {},
   "outputs": [
    {
     "data": {
      "text/plain": [
       "280"
      ]
     },
     "execution_count": 64,
     "metadata": {},
     "output_type": "execute_result"
    }
   ],
   "source": [
    "len(medians)"
   ]
  },
  {
   "cell_type": "code",
   "execution_count": 65,
   "metadata": {},
   "outputs": [
    {
     "data": {
      "text/plain": [
       "316"
      ]
     },
     "execution_count": 65,
     "metadata": {},
     "output_type": "execute_result"
    }
   ],
   "source": [
    "len(means)"
   ]
  },
  {
   "cell_type": "code",
   "execution_count": 66,
   "metadata": {},
   "outputs": [
    {
     "data": {
      "text/plain": [
       "381"
      ]
     },
     "execution_count": 66,
     "metadata": {},
     "output_type": "execute_result"
    }
   ],
   "source": [
    "len(modes)"
   ]
  },
  {
   "cell_type": "code",
   "execution_count": 67,
   "metadata": {},
   "outputs": [
    {
     "data": {
      "text/plain": [
       "['“A grim mood has gripped the country,” the opponent had concluded, barely concealing his own broad grin.',\n",
       " 'The Prime Minister had seen that kind of look in politicians before, and it never boded well.',\n",
       " 'Fudge had then patted the shoulder of the still-dumbstruck Prime Minister in a fatherly sort of way.',\n",
       " '“No need to worry, no need to worry!” shouted Fudge, already with one foot in the flames.',\n",
       " 'While the Prime Minister surreptitiously touched the wood of his desk, Fudge continued, “But Black’s by-the-by now.']"
      ]
     },
     "execution_count": 67,
     "metadata": {},
     "output_type": "execute_result"
    }
   ],
   "source": [
    "medians[:5]"
   ]
  },
  {
   "cell_type": "code",
   "execution_count": 68,
   "metadata": {},
   "outputs": [
    {
     "data": {
      "text/plain": [
       "['The Prime Minister felt it himself; people really did seem more miserable than usual.',\n",
       " 'Even the weather was dismal; all this chilly mist in the middle of July.',\n",
       " 'He froze, nose to nose with his own scared-looking reflection in the dark glass.',\n",
       " 'from the President of —” “That can be rearranged,” said the portrait at once.',\n",
       " '“You’re — you’re not a hoax, then?” It had been his last, desperate hope.']"
      ]
     },
     "execution_count": 68,
     "metadata": {},
     "output_type": "execute_result"
    }
   ],
   "source": [
    "means[:5]"
   ]
  },
  {
   "cell_type": "code",
   "execution_count": 69,
   "metadata": {},
   "outputs": [
    {
     "data": {
      "text/plain": [
       "['How on earth was his government supposed to have stopped that bridge collapsing?',\n",
       " 'Sincerely, Fudge.” The man in the painting looked inquiringly at the Prime Minister.',\n",
       " 'He was thinner, balder, and grayer, and his face had a crumpled look.',\n",
       " '“Not to worry,” he had said, “it’s odds-on you’ll never see me again.',\n",
       " 'And I must say, you’re taking it a lot better than your predecessor.']"
      ]
     },
     "execution_count": 69,
     "metadata": {},
     "output_type": "execute_result"
    }
   ],
   "source": [
    "modes[:5]"
   ]
  }
 ],
 "metadata": {
  "kernelspec": {
   "display_name": "Python 3",
   "language": "python",
   "name": "python3"
  },
  "language_info": {
   "codemirror_mode": {
    "name": "ipython",
    "version": 3
   },
   "file_extension": ".py",
   "mimetype": "text/x-python",
   "name": "python",
   "nbconvert_exporter": "python",
   "pygments_lexer": "ipython3",
   "version": "3.7.3"
  }
 },
 "nbformat": 4,
 "nbformat_minor": 4
}
