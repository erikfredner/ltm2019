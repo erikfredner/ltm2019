{
 "cells": [
  {
   "cell_type": "markdown",
   "metadata": {},
   "source": [
    "# A note about merging data frames with different column names\n",
    "Some of you had column names in the homework that were mismatched across two different data frames. People did a bunch of different workarounds, including renaming columns.\n",
    "\n",
    "There's one option that we didn't discuss: Merging on two columns with overlapping values, but different column names.\n",
    "\n",
    "Let's return to the example from the homework:"
   ]
  },
  {
   "cell_type": "code",
   "execution_count": 244,
   "metadata": {},
   "outputs": [],
   "source": [
    "coffee = {'food':'coffee','size':'8oz','price':'$3.00'}\n",
    "banana ={'food':'banana','size':'4oz','price':'$0.50'}\n",
    "donut = {'food':'donut', 'size':'6oz', 'price':'$1.00'}\n",
    "food_df = pd.DataFrame([coffee,banana,donut])"
   ]
  },
  {
   "cell_type": "code",
   "execution_count": 245,
   "metadata": {},
   "outputs": [
    {
     "data": {
      "text/html": [
       "<div>\n",
       "<style scoped>\n",
       "    .dataframe tbody tr th:only-of-type {\n",
       "        vertical-align: middle;\n",
       "    }\n",
       "\n",
       "    .dataframe tbody tr th {\n",
       "        vertical-align: top;\n",
       "    }\n",
       "\n",
       "    .dataframe thead th {\n",
       "        text-align: right;\n",
       "    }\n",
       "</style>\n",
       "<table border=\"1\" class=\"dataframe\">\n",
       "  <thead>\n",
       "    <tr style=\"text-align: right;\">\n",
       "      <th></th>\n",
       "      <th>food</th>\n",
       "      <th>price</th>\n",
       "      <th>size</th>\n",
       "    </tr>\n",
       "  </thead>\n",
       "  <tbody>\n",
       "    <tr>\n",
       "      <th>0</th>\n",
       "      <td>coffee</td>\n",
       "      <td>$3.00</td>\n",
       "      <td>8oz</td>\n",
       "    </tr>\n",
       "    <tr>\n",
       "      <th>1</th>\n",
       "      <td>banana</td>\n",
       "      <td>$0.50</td>\n",
       "      <td>4oz</td>\n",
       "    </tr>\n",
       "    <tr>\n",
       "      <th>2</th>\n",
       "      <td>donut</td>\n",
       "      <td>$1.00</td>\n",
       "      <td>6oz</td>\n",
       "    </tr>\n",
       "  </tbody>\n",
       "</table>\n",
       "</div>"
      ],
      "text/plain": [
       "     food  price size\n",
       "0  coffee  $3.00  8oz\n",
       "1  banana  $0.50  4oz\n",
       "2   donut  $1.00  6oz"
      ]
     },
     "execution_count": 245,
     "metadata": {},
     "output_type": "execute_result"
    }
   ],
   "source": [
    "food_df"
   ]
  },
  {
   "cell_type": "markdown",
   "metadata": {},
   "source": [
    "What if we want to combine that data with some other data about when and how those foods sell **and** the column names are mismatched?"
   ]
  },
  {
   "cell_type": "code",
   "execution_count": 155,
   "metadata": {},
   "outputs": [],
   "source": [
    "coffee_sales = {'item':'coffee', 'peak sales':'9am', 'total sold':181}\n",
    "banana_sales = {'item':'banana', 'peak sales':'1pm', 'total sold':36}\n",
    "donut_sales = {'item':'donut', 'peak sales':'10am', 'total sold':96}\n",
    "sales_df = pd.DataFrame([banana_sales, coffee_sales, donut_sales])"
   ]
  },
  {
   "cell_type": "code",
   "execution_count": 156,
   "metadata": {},
   "outputs": [
    {
     "data": {
      "text/html": [
       "<div>\n",
       "<style scoped>\n",
       "    .dataframe tbody tr th:only-of-type {\n",
       "        vertical-align: middle;\n",
       "    }\n",
       "\n",
       "    .dataframe tbody tr th {\n",
       "        vertical-align: top;\n",
       "    }\n",
       "\n",
       "    .dataframe thead th {\n",
       "        text-align: right;\n",
       "    }\n",
       "</style>\n",
       "<table border=\"1\" class=\"dataframe\">\n",
       "  <thead>\n",
       "    <tr style=\"text-align: right;\">\n",
       "      <th></th>\n",
       "      <th>item</th>\n",
       "      <th>peak sales</th>\n",
       "      <th>total sold</th>\n",
       "    </tr>\n",
       "  </thead>\n",
       "  <tbody>\n",
       "    <tr>\n",
       "      <th>0</th>\n",
       "      <td>banana</td>\n",
       "      <td>1pm</td>\n",
       "      <td>36</td>\n",
       "    </tr>\n",
       "    <tr>\n",
       "      <th>1</th>\n",
       "      <td>coffee</td>\n",
       "      <td>9am</td>\n",
       "      <td>181</td>\n",
       "    </tr>\n",
       "    <tr>\n",
       "      <th>2</th>\n",
       "      <td>donut</td>\n",
       "      <td>10am</td>\n",
       "      <td>96</td>\n",
       "    </tr>\n",
       "  </tbody>\n",
       "</table>\n",
       "</div>"
      ],
      "text/plain": [
       "     item peak sales  total sold\n",
       "0  banana        1pm          36\n",
       "1  coffee        9am         181\n",
       "2   donut       10am          96"
      ]
     },
     "execution_count": 156,
     "metadata": {},
     "output_type": "execute_result"
    }
   ],
   "source": [
    "sales_df"
   ]
  },
  {
   "cell_type": "markdown",
   "metadata": {},
   "source": [
    "Note that the **rows** are in a different order. `sales_df` starts with banana whereas `food_df` stats with coffee.\n",
    "\n",
    "The column `food` in `food_df` matches the column `item` in `sales_df`. Although they don't have the same column name, we can match the columns since they have the same **values**.\n",
    "\n",
    "We just have to use the arguments `right_on` and `left_on` with `pd.merge`:"
   ]
  },
  {
   "cell_type": "code",
   "execution_count": 151,
   "metadata": {},
   "outputs": [
    {
     "data": {
      "text/html": [
       "<div>\n",
       "<style scoped>\n",
       "    .dataframe tbody tr th:only-of-type {\n",
       "        vertical-align: middle;\n",
       "    }\n",
       "\n",
       "    .dataframe tbody tr th {\n",
       "        vertical-align: top;\n",
       "    }\n",
       "\n",
       "    .dataframe thead th {\n",
       "        text-align: right;\n",
       "    }\n",
       "</style>\n",
       "<table border=\"1\" class=\"dataframe\">\n",
       "  <thead>\n",
       "    <tr style=\"text-align: right;\">\n",
       "      <th></th>\n",
       "      <th>food</th>\n",
       "      <th>price</th>\n",
       "      <th>size</th>\n",
       "      <th>item</th>\n",
       "      <th>peak sales</th>\n",
       "      <th>total sold</th>\n",
       "    </tr>\n",
       "  </thead>\n",
       "  <tbody>\n",
       "    <tr>\n",
       "      <th>0</th>\n",
       "      <td>coffee</td>\n",
       "      <td>$3.00</td>\n",
       "      <td>8oz</td>\n",
       "      <td>coffee</td>\n",
       "      <td>9am</td>\n",
       "      <td>181</td>\n",
       "    </tr>\n",
       "    <tr>\n",
       "      <th>1</th>\n",
       "      <td>banana</td>\n",
       "      <td>$0.50</td>\n",
       "      <td>4oz</td>\n",
       "      <td>banana</td>\n",
       "      <td>1pm</td>\n",
       "      <td>36</td>\n",
       "    </tr>\n",
       "    <tr>\n",
       "      <th>2</th>\n",
       "      <td>donut</td>\n",
       "      <td>$1.00</td>\n",
       "      <td>6oz</td>\n",
       "      <td>donut</td>\n",
       "      <td>10am</td>\n",
       "      <td>96</td>\n",
       "    </tr>\n",
       "  </tbody>\n",
       "</table>\n",
       "</div>"
      ],
      "text/plain": [
       "     food  price size    item peak sales  total sold\n",
       "0  coffee  $3.00  8oz  coffee        9am         181\n",
       "1  banana  $0.50  4oz  banana        1pm          36\n",
       "2   donut  $1.00  6oz   donut       10am          96"
      ]
     },
     "execution_count": 151,
     "metadata": {},
     "output_type": "execute_result"
    }
   ],
   "source": [
    "pd.merge(food_df, sales_df, left_on = 'food', right_on = 'item')"
   ]
  },
  {
   "cell_type": "markdown",
   "metadata": {},
   "source": [
    "`pd.merge` identifies the columns correctly, and orders them based on the left data frame, in this case `food_df`.\n",
    "\n",
    "Since the column names are not the same, it retains them both. We can easily resolve that with a `df.drop()` call:"
   ]
  },
  {
   "cell_type": "code",
   "execution_count": 247,
   "metadata": {},
   "outputs": [
    {
     "data": {
      "text/html": [
       "<div>\n",
       "<style scoped>\n",
       "    .dataframe tbody tr th:only-of-type {\n",
       "        vertical-align: middle;\n",
       "    }\n",
       "\n",
       "    .dataframe tbody tr th {\n",
       "        vertical-align: top;\n",
       "    }\n",
       "\n",
       "    .dataframe thead th {\n",
       "        text-align: right;\n",
       "    }\n",
       "</style>\n",
       "<table border=\"1\" class=\"dataframe\">\n",
       "  <thead>\n",
       "    <tr style=\"text-align: right;\">\n",
       "      <th></th>\n",
       "      <th>food</th>\n",
       "      <th>price</th>\n",
       "      <th>size</th>\n",
       "      <th>peak sales</th>\n",
       "      <th>total sold</th>\n",
       "    </tr>\n",
       "  </thead>\n",
       "  <tbody>\n",
       "    <tr>\n",
       "      <th>0</th>\n",
       "      <td>coffee</td>\n",
       "      <td>$3.00</td>\n",
       "      <td>8oz</td>\n",
       "      <td>9am</td>\n",
       "      <td>181</td>\n",
       "    </tr>\n",
       "    <tr>\n",
       "      <th>1</th>\n",
       "      <td>banana</td>\n",
       "      <td>$0.50</td>\n",
       "      <td>4oz</td>\n",
       "      <td>1pm</td>\n",
       "      <td>36</td>\n",
       "    </tr>\n",
       "    <tr>\n",
       "      <th>2</th>\n",
       "      <td>donut</td>\n",
       "      <td>$1.00</td>\n",
       "      <td>6oz</td>\n",
       "      <td>10am</td>\n",
       "      <td>96</td>\n",
       "    </tr>\n",
       "  </tbody>\n",
       "</table>\n",
       "</div>"
      ],
      "text/plain": [
       "     food  price size peak sales  total sold\n",
       "0  coffee  $3.00  8oz        9am         181\n",
       "1  banana  $0.50  4oz        1pm          36\n",
       "2   donut  $1.00  6oz       10am          96"
      ]
     },
     "execution_count": 247,
     "metadata": {},
     "output_type": "execute_result"
    }
   ],
   "source": [
    "pd.merge(food_df, sales_df, left_on = 'food', right_on = 'item').drop('item', axis = 'columns')"
   ]
  },
  {
   "cell_type": "markdown",
   "metadata": {},
   "source": [
    "# Different ways of calculating distinctive words\n",
    "We're going to discuss three different ways of calculating **distinctive words**, by which I mean simply words that are used differently between two different texts or groups of texts.\n",
    "\n",
    "## Which words distinguish my groups from each other?\n",
    "These groups could be made in any way: differences in time\n",
    "\n",
    "1. **Difference of means**: This analyzes the average difference per document between two groups. Mainly useful if you assume that your documents are broadly similar.\n",
    "\n",
    "2. **Fisher's exact test**: This statistical test compares the total number of times a word was used and not used by two groups, which we'll call A and B. The test calculates the *odds* that group A would use that particular word as compared to group B. For example, a result could tell you that \"the odds are 300 to 1 that `accio` was used by J.K. Rowling as opposed to a group of authors who are not J.K. Rowling.\" It also calculates the p-value, which measures the probability of obtaining that result if the null-hypothesis were correct. A low p-value indicates that we can reject the null-hypothesis. In our case, the null-hypothesis is that our groups use the words at exactly equal rates. Rejecting the null-hypothesis means that the groups of authors do use words at rates that are significantly different.\n",
    "\n",
    "## Which words are distinctive of each *document* in my corpus?\n",
    "(Or, alternatively, which documents contain a distinctive number of a given word in my corpus?)\n",
    "\n",
    "**Term-frequency `*` inverse document frequency**: This measure compares how rare words are in your corpus with how frequent they are in a particular document. Words that are rare in the corpus but frequent in an individual document are likely distinctive of that document. For example, `accio` would be common in *Harry Potter*, but absent in almost every other book. That makes it a distinctive word."
   ]
  },
  {
   "cell_type": "markdown",
   "metadata": {},
   "source": [
    "## Fisher's exact test\n",
    "[Fisher's Exact Test](https://en.wikipedia.org/wiki/Fisher%27s_exact_test) allows us to calculate the odds (and the p-value) that a given word would be used by a given group. It is based on contingency tables (aka cross tabluations) which look like this:\n",
    "\n",
    "|            | Guess milk | Guess tea |   |\n",
    "|------------|------------|-----------|---|\n",
    "| Milk first | 4          | 0         |   |\n",
    "| Tea first  | 0          | 4         |   |\n",
    "|   Total    | 4          | 4         | 8 |"
   ]
  },
  {
   "cell_type": "markdown",
   "metadata": {},
   "source": [
    "We can think about this as representing *one* conclusion of the experiment. Of course there are numerous other possibilities: One where the guesser gets some or all of their guesses incorrect. Fisher's exact test evaluates the probability that this particular distribution of data was reached by chance.\n",
    "\n",
    "When dealing with high frequencies like this, it might be preferable to use the chi-squared test, which we may cover at a later date in this class."
   ]
  },
  {
   "cell_type": "markdown",
   "metadata": {},
   "source": [
    "To make a comparable contingency matrix for word frequencies, we need the following categories for data about words:\n",
    "\n",
    "|         | Number of target word | All words except target word |   |\n",
    "|---------|-----------------------|------------------------------|---|\n",
    "| Group A | w                     | x                            |   |\n",
    "| Group B | y                     | z                            |   |\n",
    "|  Total  |                       |                              | n |"
   ]
  },
  {
   "cell_type": "markdown",
   "metadata": {},
   "source": [
    "## Fisher's exact requires raw counts, not scaled:\n",
    "To start, we need a dtm containing raw counts:"
   ]
  },
  {
   "cell_type": "code",
   "execution_count": 2,
   "metadata": {},
   "outputs": [],
   "source": [
    "from make_dtm import *"
   ]
  },
  {
   "cell_type": "code",
   "execution_count": 3,
   "metadata": {},
   "outputs": [],
   "source": [
    "sotus = '/Users/e/code/literarytextmining/corpora/sotu_1900-2019/texts'"
   ]
  },
  {
   "cell_type": "code",
   "execution_count": 4,
   "metadata": {},
   "outputs": [],
   "source": [
    "import pandas as pd\n",
    "meta = '/Users/e/code/literarytextmining/corpora/sotu_1900-2019/meta.csv'\n",
    "meta = pd.read_csv(meta)"
   ]
  },
  {
   "cell_type": "code",
   "execution_count": 5,
   "metadata": {},
   "outputs": [
    {
     "data": {
      "text/html": [
       "<div>\n",
       "<style scoped>\n",
       "    .dataframe tbody tr th:only-of-type {\n",
       "        vertical-align: middle;\n",
       "    }\n",
       "\n",
       "    .dataframe tbody tr th {\n",
       "        vertical-align: top;\n",
       "    }\n",
       "\n",
       "    .dataframe thead th {\n",
       "        text-align: right;\n",
       "    }\n",
       "</style>\n",
       "<table border=\"1\" class=\"dataframe\">\n",
       "  <thead>\n",
       "    <tr style=\"text-align: right;\">\n",
       "      <th></th>\n",
       "      <th>president</th>\n",
       "      <th>year</th>\n",
       "      <th>filepath</th>\n",
       "      <th>party</th>\n",
       "    </tr>\n",
       "  </thead>\n",
       "  <tbody>\n",
       "    <tr>\n",
       "      <th>0</th>\n",
       "      <td>McKinley</td>\n",
       "      <td>1900</td>\n",
       "      <td>1900.McKinley.txt</td>\n",
       "      <td>Republican</td>\n",
       "    </tr>\n",
       "    <tr>\n",
       "      <th>1</th>\n",
       "      <td>Roosevelt</td>\n",
       "      <td>1901</td>\n",
       "      <td>1901.Roosevelt.txt</td>\n",
       "      <td>Republican</td>\n",
       "    </tr>\n",
       "    <tr>\n",
       "      <th>2</th>\n",
       "      <td>Roosevelt</td>\n",
       "      <td>1902</td>\n",
       "      <td>1902.Roosevelt.txt</td>\n",
       "      <td>Republican</td>\n",
       "    </tr>\n",
       "    <tr>\n",
       "      <th>3</th>\n",
       "      <td>Roosevelt</td>\n",
       "      <td>1903</td>\n",
       "      <td>1903.Roosevelt.txt</td>\n",
       "      <td>Republican</td>\n",
       "    </tr>\n",
       "    <tr>\n",
       "      <th>4</th>\n",
       "      <td>Roosevelt</td>\n",
       "      <td>1904</td>\n",
       "      <td>1904.Roosevelt.txt</td>\n",
       "      <td>Republican</td>\n",
       "    </tr>\n",
       "  </tbody>\n",
       "</table>\n",
       "</div>"
      ],
      "text/plain": [
       "   president  year            filepath       party\n",
       "0   McKinley  1900   1900.McKinley.txt  Republican\n",
       "1  Roosevelt  1901  1901.Roosevelt.txt  Republican\n",
       "2  Roosevelt  1902  1902.Roosevelt.txt  Republican\n",
       "3  Roosevelt  1903  1903.Roosevelt.txt  Republican\n",
       "4  Roosevelt  1904  1904.Roosevelt.txt  Republican"
      ]
     },
     "execution_count": 5,
     "metadata": {},
     "output_type": "execute_result"
    }
   ],
   "source": [
    "meta.head()"
   ]
  },
  {
   "cell_type": "code",
   "execution_count": 6,
   "metadata": {},
   "outputs": [],
   "source": [
    "df = make_dtm(sotus, scaled = False, drop_below=50)"
   ]
  },
  {
   "cell_type": "code",
   "execution_count": 7,
   "metadata": {},
   "outputs": [
    {
     "data": {
      "text/html": [
       "<div>\n",
       "<style scoped>\n",
       "    .dataframe tbody tr th:only-of-type {\n",
       "        vertical-align: middle;\n",
       "    }\n",
       "\n",
       "    .dataframe tbody tr th {\n",
       "        vertical-align: top;\n",
       "    }\n",
       "\n",
       "    .dataframe thead th {\n",
       "        text-align: right;\n",
       "    }\n",
       "</style>\n",
       "<table border=\"1\" class=\"dataframe\">\n",
       "  <thead>\n",
       "    <tr style=\"text-align: right;\">\n",
       "      <th></th>\n",
       "      <th>a</th>\n",
       "      <th>ability</th>\n",
       "      <th>able</th>\n",
       "      <th>about</th>\n",
       "      <th>above</th>\n",
       "      <th>abroad</th>\n",
       "      <th>absolutely</th>\n",
       "      <th>abuse</th>\n",
       "      <th>abuses</th>\n",
       "      <th>accept</th>\n",
       "      <th>...</th>\n",
       "      <th>worthy</th>\n",
       "      <th>would</th>\n",
       "      <th>wrong</th>\n",
       "      <th>year</th>\n",
       "      <th>years</th>\n",
       "      <th>yes</th>\n",
       "      <th>yet</th>\n",
       "      <th>you</th>\n",
       "      <th>young</th>\n",
       "      <th>your</th>\n",
       "    </tr>\n",
       "    <tr>\n",
       "      <th>filepath</th>\n",
       "      <th></th>\n",
       "      <th></th>\n",
       "      <th></th>\n",
       "      <th></th>\n",
       "      <th></th>\n",
       "      <th></th>\n",
       "      <th></th>\n",
       "      <th></th>\n",
       "      <th></th>\n",
       "      <th></th>\n",
       "      <th></th>\n",
       "      <th></th>\n",
       "      <th></th>\n",
       "      <th></th>\n",
       "      <th></th>\n",
       "      <th></th>\n",
       "      <th></th>\n",
       "      <th></th>\n",
       "      <th></th>\n",
       "      <th></th>\n",
       "      <th></th>\n",
       "    </tr>\n",
       "  </thead>\n",
       "  <tbody>\n",
       "    <tr>\n",
       "      <th>1900.McKinley.txt</th>\n",
       "      <td>253</td>\n",
       "      <td>4.0</td>\n",
       "      <td>3.0</td>\n",
       "      <td>11.0</td>\n",
       "      <td>2.0</td>\n",
       "      <td>4.0</td>\n",
       "      <td>NaN</td>\n",
       "      <td>NaN</td>\n",
       "      <td>NaN</td>\n",
       "      <td>NaN</td>\n",
       "      <td>...</td>\n",
       "      <td>2.0</td>\n",
       "      <td>13.0</td>\n",
       "      <td>NaN</td>\n",
       "      <td>48.0</td>\n",
       "      <td>8.0</td>\n",
       "      <td>NaN</td>\n",
       "      <td>4.0</td>\n",
       "      <td>11.0</td>\n",
       "      <td>NaN</td>\n",
       "      <td>15.0</td>\n",
       "    </tr>\n",
       "    <tr>\n",
       "      <th>1901.Roosevelt.txt</th>\n",
       "      <td>275</td>\n",
       "      <td>5.0</td>\n",
       "      <td>11.0</td>\n",
       "      <td>4.0</td>\n",
       "      <td>6.0</td>\n",
       "      <td>7.0</td>\n",
       "      <td>4.0</td>\n",
       "      <td>NaN</td>\n",
       "      <td>3.0</td>\n",
       "      <td>1.0</td>\n",
       "      <td>...</td>\n",
       "      <td>NaN</td>\n",
       "      <td>47.0</td>\n",
       "      <td>3.0</td>\n",
       "      <td>9.0</td>\n",
       "      <td>26.0</td>\n",
       "      <td>NaN</td>\n",
       "      <td>10.0</td>\n",
       "      <td>2.0</td>\n",
       "      <td>NaN</td>\n",
       "      <td>4.0</td>\n",
       "    </tr>\n",
       "    <tr>\n",
       "      <th>1902.Roosevelt.txt</th>\n",
       "      <td>181</td>\n",
       "      <td>2.0</td>\n",
       "      <td>1.0</td>\n",
       "      <td>5.0</td>\n",
       "      <td>8.0</td>\n",
       "      <td>4.0</td>\n",
       "      <td>1.0</td>\n",
       "      <td>NaN</td>\n",
       "      <td>NaN</td>\n",
       "      <td>NaN</td>\n",
       "      <td>...</td>\n",
       "      <td>1.0</td>\n",
       "      <td>36.0</td>\n",
       "      <td>2.0</td>\n",
       "      <td>7.0</td>\n",
       "      <td>5.0</td>\n",
       "      <td>NaN</td>\n",
       "      <td>6.0</td>\n",
       "      <td>1.0</td>\n",
       "      <td>3.0</td>\n",
       "      <td>3.0</td>\n",
       "    </tr>\n",
       "    <tr>\n",
       "      <th>1903.Roosevelt.txt</th>\n",
       "      <td>215</td>\n",
       "      <td>2.0</td>\n",
       "      <td>NaN</td>\n",
       "      <td>8.0</td>\n",
       "      <td>9.0</td>\n",
       "      <td>NaN</td>\n",
       "      <td>NaN</td>\n",
       "      <td>NaN</td>\n",
       "      <td>NaN</td>\n",
       "      <td>NaN</td>\n",
       "      <td>...</td>\n",
       "      <td>1.0</td>\n",
       "      <td>26.0</td>\n",
       "      <td>1.0</td>\n",
       "      <td>39.0</td>\n",
       "      <td>19.0</td>\n",
       "      <td>NaN</td>\n",
       "      <td>9.0</td>\n",
       "      <td>2.0</td>\n",
       "      <td>1.0</td>\n",
       "      <td>3.0</td>\n",
       "    </tr>\n",
       "    <tr>\n",
       "      <th>1904.Roosevelt.txt</th>\n",
       "      <td>247</td>\n",
       "      <td>1.0</td>\n",
       "      <td>6.0</td>\n",
       "      <td>7.0</td>\n",
       "      <td>7.0</td>\n",
       "      <td>7.0</td>\n",
       "      <td>3.0</td>\n",
       "      <td>NaN</td>\n",
       "      <td>5.0</td>\n",
       "      <td>4.0</td>\n",
       "      <td>...</td>\n",
       "      <td>3.0</td>\n",
       "      <td>43.0</td>\n",
       "      <td>10.0</td>\n",
       "      <td>12.0</td>\n",
       "      <td>13.0</td>\n",
       "      <td>NaN</td>\n",
       "      <td>14.0</td>\n",
       "      <td>4.0</td>\n",
       "      <td>3.0</td>\n",
       "      <td>6.0</td>\n",
       "    </tr>\n",
       "  </tbody>\n",
       "</table>\n",
       "<p>5 rows × 1834 columns</p>\n",
       "</div>"
      ],
      "text/plain": [
       "                      a  ability  able  about  above  abroad  absolutely  \\\n",
       "filepath                                                                   \n",
       "1900.McKinley.txt   253      4.0   3.0   11.0    2.0     4.0         NaN   \n",
       "1901.Roosevelt.txt  275      5.0  11.0    4.0    6.0     7.0         4.0   \n",
       "1902.Roosevelt.txt  181      2.0   1.0    5.0    8.0     4.0         1.0   \n",
       "1903.Roosevelt.txt  215      2.0   NaN    8.0    9.0     NaN         NaN   \n",
       "1904.Roosevelt.txt  247      1.0   6.0    7.0    7.0     7.0         3.0   \n",
       "\n",
       "                    abuse  abuses  accept  ...  worthy  would  wrong  year  \\\n",
       "filepath                                   ...                               \n",
       "1900.McKinley.txt     NaN     NaN     NaN  ...     2.0   13.0    NaN  48.0   \n",
       "1901.Roosevelt.txt    NaN     3.0     1.0  ...     NaN   47.0    3.0   9.0   \n",
       "1902.Roosevelt.txt    NaN     NaN     NaN  ...     1.0   36.0    2.0   7.0   \n",
       "1903.Roosevelt.txt    NaN     NaN     NaN  ...     1.0   26.0    1.0  39.0   \n",
       "1904.Roosevelt.txt    NaN     5.0     4.0  ...     3.0   43.0   10.0  12.0   \n",
       "\n",
       "                    years  yes   yet   you  young  your  \n",
       "filepath                                                 \n",
       "1900.McKinley.txt     8.0  NaN   4.0  11.0    NaN  15.0  \n",
       "1901.Roosevelt.txt   26.0  NaN  10.0   2.0    NaN   4.0  \n",
       "1902.Roosevelt.txt    5.0  NaN   6.0   1.0    3.0   3.0  \n",
       "1903.Roosevelt.txt   19.0  NaN   9.0   2.0    1.0   3.0  \n",
       "1904.Roosevelt.txt   13.0  NaN  14.0   4.0    3.0   6.0  \n",
       "\n",
       "[5 rows x 1834 columns]"
      ]
     },
     "execution_count": 7,
     "metadata": {},
     "output_type": "execute_result"
    }
   ],
   "source": [
    "df.head()"
   ]
  },
  {
   "cell_type": "markdown",
   "metadata": {},
   "source": [
    "Let's re-add our metadata:"
   ]
  },
  {
   "cell_type": "code",
   "execution_count": 8,
   "metadata": {},
   "outputs": [],
   "source": [
    "df = pd.merge(df,meta,on='filepath')"
   ]
  },
  {
   "cell_type": "markdown",
   "metadata": {},
   "source": [
    "# Returning to Fisher's"
   ]
  },
  {
   "cell_type": "code",
   "execution_count": 256,
   "metadata": {},
   "outputs": [],
   "source": [
    "df.set_index('filepath', inplace=True)"
   ]
  },
  {
   "cell_type": "markdown",
   "metadata": {},
   "source": [
    "Note that once again we get the extra metadata columns at the end:"
   ]
  },
  {
   "cell_type": "code",
   "execution_count": 165,
   "metadata": {},
   "outputs": [
    {
     "data": {
      "text/html": [
       "<div>\n",
       "<style scoped>\n",
       "    .dataframe tbody tr th:only-of-type {\n",
       "        vertical-align: middle;\n",
       "    }\n",
       "\n",
       "    .dataframe tbody tr th {\n",
       "        vertical-align: top;\n",
       "    }\n",
       "\n",
       "    .dataframe thead th {\n",
       "        text-align: right;\n",
       "    }\n",
       "</style>\n",
       "<table border=\"1\" class=\"dataframe\">\n",
       "  <thead>\n",
       "    <tr style=\"text-align: right;\">\n",
       "      <th></th>\n",
       "      <th>a</th>\n",
       "      <th>ability</th>\n",
       "      <th>able</th>\n",
       "      <th>about</th>\n",
       "      <th>above</th>\n",
       "      <th>abroad</th>\n",
       "      <th>absolutely</th>\n",
       "      <th>abuse</th>\n",
       "      <th>abuses</th>\n",
       "      <th>accept</th>\n",
       "      <th>...</th>\n",
       "      <th>year_x</th>\n",
       "      <th>years</th>\n",
       "      <th>yes</th>\n",
       "      <th>yet</th>\n",
       "      <th>you</th>\n",
       "      <th>young</th>\n",
       "      <th>your</th>\n",
       "      <th>president_y</th>\n",
       "      <th>year_y</th>\n",
       "      <th>party_y</th>\n",
       "    </tr>\n",
       "    <tr>\n",
       "      <th>filepath</th>\n",
       "      <th></th>\n",
       "      <th></th>\n",
       "      <th></th>\n",
       "      <th></th>\n",
       "      <th></th>\n",
       "      <th></th>\n",
       "      <th></th>\n",
       "      <th></th>\n",
       "      <th></th>\n",
       "      <th></th>\n",
       "      <th></th>\n",
       "      <th></th>\n",
       "      <th></th>\n",
       "      <th></th>\n",
       "      <th></th>\n",
       "      <th></th>\n",
       "      <th></th>\n",
       "      <th></th>\n",
       "      <th></th>\n",
       "      <th></th>\n",
       "      <th></th>\n",
       "    </tr>\n",
       "  </thead>\n",
       "  <tbody>\n",
       "    <tr>\n",
       "      <th>1900.McKinley.txt</th>\n",
       "      <td>253</td>\n",
       "      <td>4.0</td>\n",
       "      <td>3.0</td>\n",
       "      <td>11.0</td>\n",
       "      <td>2.0</td>\n",
       "      <td>4.0</td>\n",
       "      <td>NaN</td>\n",
       "      <td>NaN</td>\n",
       "      <td>NaN</td>\n",
       "      <td>NaN</td>\n",
       "      <td>...</td>\n",
       "      <td>48.0</td>\n",
       "      <td>8.0</td>\n",
       "      <td>NaN</td>\n",
       "      <td>4.0</td>\n",
       "      <td>11.0</td>\n",
       "      <td>NaN</td>\n",
       "      <td>15.0</td>\n",
       "      <td>McKinley</td>\n",
       "      <td>1900</td>\n",
       "      <td>Republican</td>\n",
       "    </tr>\n",
       "    <tr>\n",
       "      <th>1901.Roosevelt.txt</th>\n",
       "      <td>275</td>\n",
       "      <td>5.0</td>\n",
       "      <td>11.0</td>\n",
       "      <td>4.0</td>\n",
       "      <td>6.0</td>\n",
       "      <td>7.0</td>\n",
       "      <td>4.0</td>\n",
       "      <td>NaN</td>\n",
       "      <td>3.0</td>\n",
       "      <td>1.0</td>\n",
       "      <td>...</td>\n",
       "      <td>9.0</td>\n",
       "      <td>26.0</td>\n",
       "      <td>NaN</td>\n",
       "      <td>10.0</td>\n",
       "      <td>2.0</td>\n",
       "      <td>NaN</td>\n",
       "      <td>4.0</td>\n",
       "      <td>Roosevelt</td>\n",
       "      <td>1901</td>\n",
       "      <td>Republican</td>\n",
       "    </tr>\n",
       "    <tr>\n",
       "      <th>1902.Roosevelt.txt</th>\n",
       "      <td>181</td>\n",
       "      <td>2.0</td>\n",
       "      <td>1.0</td>\n",
       "      <td>5.0</td>\n",
       "      <td>8.0</td>\n",
       "      <td>4.0</td>\n",
       "      <td>1.0</td>\n",
       "      <td>NaN</td>\n",
       "      <td>NaN</td>\n",
       "      <td>NaN</td>\n",
       "      <td>...</td>\n",
       "      <td>7.0</td>\n",
       "      <td>5.0</td>\n",
       "      <td>NaN</td>\n",
       "      <td>6.0</td>\n",
       "      <td>1.0</td>\n",
       "      <td>3.0</td>\n",
       "      <td>3.0</td>\n",
       "      <td>Roosevelt</td>\n",
       "      <td>1902</td>\n",
       "      <td>Republican</td>\n",
       "    </tr>\n",
       "    <tr>\n",
       "      <th>1903.Roosevelt.txt</th>\n",
       "      <td>215</td>\n",
       "      <td>2.0</td>\n",
       "      <td>NaN</td>\n",
       "      <td>8.0</td>\n",
       "      <td>9.0</td>\n",
       "      <td>NaN</td>\n",
       "      <td>NaN</td>\n",
       "      <td>NaN</td>\n",
       "      <td>NaN</td>\n",
       "      <td>NaN</td>\n",
       "      <td>...</td>\n",
       "      <td>39.0</td>\n",
       "      <td>19.0</td>\n",
       "      <td>NaN</td>\n",
       "      <td>9.0</td>\n",
       "      <td>2.0</td>\n",
       "      <td>1.0</td>\n",
       "      <td>3.0</td>\n",
       "      <td>Roosevelt</td>\n",
       "      <td>1903</td>\n",
       "      <td>Republican</td>\n",
       "    </tr>\n",
       "    <tr>\n",
       "      <th>1904.Roosevelt.txt</th>\n",
       "      <td>247</td>\n",
       "      <td>1.0</td>\n",
       "      <td>6.0</td>\n",
       "      <td>7.0</td>\n",
       "      <td>7.0</td>\n",
       "      <td>7.0</td>\n",
       "      <td>3.0</td>\n",
       "      <td>NaN</td>\n",
       "      <td>5.0</td>\n",
       "      <td>4.0</td>\n",
       "      <td>...</td>\n",
       "      <td>12.0</td>\n",
       "      <td>13.0</td>\n",
       "      <td>NaN</td>\n",
       "      <td>14.0</td>\n",
       "      <td>4.0</td>\n",
       "      <td>3.0</td>\n",
       "      <td>6.0</td>\n",
       "      <td>Roosevelt</td>\n",
       "      <td>1904</td>\n",
       "      <td>Republican</td>\n",
       "    </tr>\n",
       "  </tbody>\n",
       "</table>\n",
       "<p>5 rows × 1837 columns</p>\n",
       "</div>"
      ],
      "text/plain": [
       "                      a  ability  able  about  above  abroad  absolutely  \\\n",
       "filepath                                                                   \n",
       "1900.McKinley.txt   253      4.0   3.0   11.0    2.0     4.0         NaN   \n",
       "1901.Roosevelt.txt  275      5.0  11.0    4.0    6.0     7.0         4.0   \n",
       "1902.Roosevelt.txt  181      2.0   1.0    5.0    8.0     4.0         1.0   \n",
       "1903.Roosevelt.txt  215      2.0   NaN    8.0    9.0     NaN         NaN   \n",
       "1904.Roosevelt.txt  247      1.0   6.0    7.0    7.0     7.0         3.0   \n",
       "\n",
       "                    abuse  abuses  accept  ...  year_x  years  yes   yet  \\\n",
       "filepath                                   ...                             \n",
       "1900.McKinley.txt     NaN     NaN     NaN  ...    48.0    8.0  NaN   4.0   \n",
       "1901.Roosevelt.txt    NaN     3.0     1.0  ...     9.0   26.0  NaN  10.0   \n",
       "1902.Roosevelt.txt    NaN     NaN     NaN  ...     7.0    5.0  NaN   6.0   \n",
       "1903.Roosevelt.txt    NaN     NaN     NaN  ...    39.0   19.0  NaN   9.0   \n",
       "1904.Roosevelt.txt    NaN     5.0     4.0  ...    12.0   13.0  NaN  14.0   \n",
       "\n",
       "                     you  young  your  president_y  year_y     party_y  \n",
       "filepath                                                                \n",
       "1900.McKinley.txt   11.0    NaN  15.0     McKinley    1900  Republican  \n",
       "1901.Roosevelt.txt   2.0    NaN   4.0    Roosevelt    1901  Republican  \n",
       "1902.Roosevelt.txt   1.0    3.0   3.0    Roosevelt    1902  Republican  \n",
       "1903.Roosevelt.txt   2.0    1.0   3.0    Roosevelt    1903  Republican  \n",
       "1904.Roosevelt.txt   4.0    3.0   6.0    Roosevelt    1904  Republican  \n",
       "\n",
       "[5 rows x 1837 columns]"
      ]
     },
     "execution_count": 165,
     "metadata": {},
     "output_type": "execute_result"
    }
   ],
   "source": [
    "df.head()"
   ]
  },
  {
   "cell_type": "code",
   "execution_count": 257,
   "metadata": {},
   "outputs": [],
   "source": [
    "words = df.columns[:-3] # just get our words to avoid calculating on the metadata"
   ]
  },
  {
   "cell_type": "code",
   "execution_count": 258,
   "metadata": {},
   "outputs": [
    {
     "data": {
      "text/plain": [
       "(Index(['a', 'ability', 'able'], dtype='object'),\n",
       " Index(['you', 'young', 'your'], dtype='object'))"
      ]
     },
     "execution_count": 258,
     "metadata": {},
     "output_type": "execute_result"
    }
   ],
   "source": [
    "words[:3], words[-3:]"
   ]
  },
  {
   "cell_type": "markdown",
   "metadata": {},
   "source": [
    "From the tf`*`idf results, we know that George W. Bush was most likely to talk about `iraq`. Let's see if that holds true for the Republican party as a whole:"
   ]
  },
  {
   "cell_type": "code",
   "execution_count": 168,
   "metadata": {},
   "outputs": [
    {
     "data": {
      "text/html": [
       "<div>\n",
       "<style scoped>\n",
       "    .dataframe tbody tr th:only-of-type {\n",
       "        vertical-align: middle;\n",
       "    }\n",
       "\n",
       "    .dataframe tbody tr th {\n",
       "        vertical-align: top;\n",
       "    }\n",
       "\n",
       "    .dataframe thead th {\n",
       "        text-align: right;\n",
       "    }\n",
       "</style>\n",
       "<table border=\"1\" class=\"dataframe\">\n",
       "  <thead>\n",
       "    <tr style=\"text-align: right;\">\n",
       "      <th></th>\n",
       "      <th>a</th>\n",
       "      <th>ability</th>\n",
       "      <th>able</th>\n",
       "      <th>about</th>\n",
       "      <th>above</th>\n",
       "      <th>abroad</th>\n",
       "      <th>absolutely</th>\n",
       "      <th>abuse</th>\n",
       "      <th>abuses</th>\n",
       "      <th>accept</th>\n",
       "      <th>...</th>\n",
       "      <th>worthy</th>\n",
       "      <th>would</th>\n",
       "      <th>wrong</th>\n",
       "      <th>year_x</th>\n",
       "      <th>years</th>\n",
       "      <th>yes</th>\n",
       "      <th>yet</th>\n",
       "      <th>you</th>\n",
       "      <th>young</th>\n",
       "      <th>your</th>\n",
       "    </tr>\n",
       "    <tr>\n",
       "      <th>filepath</th>\n",
       "      <th></th>\n",
       "      <th></th>\n",
       "      <th></th>\n",
       "      <th></th>\n",
       "      <th></th>\n",
       "      <th></th>\n",
       "      <th></th>\n",
       "      <th></th>\n",
       "      <th></th>\n",
       "      <th></th>\n",
       "      <th></th>\n",
       "      <th></th>\n",
       "      <th></th>\n",
       "      <th></th>\n",
       "      <th></th>\n",
       "      <th></th>\n",
       "      <th></th>\n",
       "      <th></th>\n",
       "      <th></th>\n",
       "      <th></th>\n",
       "      <th></th>\n",
       "    </tr>\n",
       "  </thead>\n",
       "  <tbody>\n",
       "    <tr>\n",
       "      <th>1900.McKinley.txt</th>\n",
       "      <td>253</td>\n",
       "      <td>4.0</td>\n",
       "      <td>3.0</td>\n",
       "      <td>11.0</td>\n",
       "      <td>2.0</td>\n",
       "      <td>4.0</td>\n",
       "      <td>NaN</td>\n",
       "      <td>NaN</td>\n",
       "      <td>NaN</td>\n",
       "      <td>NaN</td>\n",
       "      <td>...</td>\n",
       "      <td>2.0</td>\n",
       "      <td>13.0</td>\n",
       "      <td>NaN</td>\n",
       "      <td>48.0</td>\n",
       "      <td>8.0</td>\n",
       "      <td>NaN</td>\n",
       "      <td>4.0</td>\n",
       "      <td>11.0</td>\n",
       "      <td>NaN</td>\n",
       "      <td>15.0</td>\n",
       "    </tr>\n",
       "    <tr>\n",
       "      <th>1901.Roosevelt.txt</th>\n",
       "      <td>275</td>\n",
       "      <td>5.0</td>\n",
       "      <td>11.0</td>\n",
       "      <td>4.0</td>\n",
       "      <td>6.0</td>\n",
       "      <td>7.0</td>\n",
       "      <td>4.0</td>\n",
       "      <td>NaN</td>\n",
       "      <td>3.0</td>\n",
       "      <td>1.0</td>\n",
       "      <td>...</td>\n",
       "      <td>NaN</td>\n",
       "      <td>47.0</td>\n",
       "      <td>3.0</td>\n",
       "      <td>9.0</td>\n",
       "      <td>26.0</td>\n",
       "      <td>NaN</td>\n",
       "      <td>10.0</td>\n",
       "      <td>2.0</td>\n",
       "      <td>NaN</td>\n",
       "      <td>4.0</td>\n",
       "    </tr>\n",
       "    <tr>\n",
       "      <th>1902.Roosevelt.txt</th>\n",
       "      <td>181</td>\n",
       "      <td>2.0</td>\n",
       "      <td>1.0</td>\n",
       "      <td>5.0</td>\n",
       "      <td>8.0</td>\n",
       "      <td>4.0</td>\n",
       "      <td>1.0</td>\n",
       "      <td>NaN</td>\n",
       "      <td>NaN</td>\n",
       "      <td>NaN</td>\n",
       "      <td>...</td>\n",
       "      <td>1.0</td>\n",
       "      <td>36.0</td>\n",
       "      <td>2.0</td>\n",
       "      <td>7.0</td>\n",
       "      <td>5.0</td>\n",
       "      <td>NaN</td>\n",
       "      <td>6.0</td>\n",
       "      <td>1.0</td>\n",
       "      <td>3.0</td>\n",
       "      <td>3.0</td>\n",
       "    </tr>\n",
       "    <tr>\n",
       "      <th>1903.Roosevelt.txt</th>\n",
       "      <td>215</td>\n",
       "      <td>2.0</td>\n",
       "      <td>NaN</td>\n",
       "      <td>8.0</td>\n",
       "      <td>9.0</td>\n",
       "      <td>NaN</td>\n",
       "      <td>NaN</td>\n",
       "      <td>NaN</td>\n",
       "      <td>NaN</td>\n",
       "      <td>NaN</td>\n",
       "      <td>...</td>\n",
       "      <td>1.0</td>\n",
       "      <td>26.0</td>\n",
       "      <td>1.0</td>\n",
       "      <td>39.0</td>\n",
       "      <td>19.0</td>\n",
       "      <td>NaN</td>\n",
       "      <td>9.0</td>\n",
       "      <td>2.0</td>\n",
       "      <td>1.0</td>\n",
       "      <td>3.0</td>\n",
       "    </tr>\n",
       "    <tr>\n",
       "      <th>1904.Roosevelt.txt</th>\n",
       "      <td>247</td>\n",
       "      <td>1.0</td>\n",
       "      <td>6.0</td>\n",
       "      <td>7.0</td>\n",
       "      <td>7.0</td>\n",
       "      <td>7.0</td>\n",
       "      <td>3.0</td>\n",
       "      <td>NaN</td>\n",
       "      <td>5.0</td>\n",
       "      <td>4.0</td>\n",
       "      <td>...</td>\n",
       "      <td>3.0</td>\n",
       "      <td>43.0</td>\n",
       "      <td>10.0</td>\n",
       "      <td>12.0</td>\n",
       "      <td>13.0</td>\n",
       "      <td>NaN</td>\n",
       "      <td>14.0</td>\n",
       "      <td>4.0</td>\n",
       "      <td>3.0</td>\n",
       "      <td>6.0</td>\n",
       "    </tr>\n",
       "  </tbody>\n",
       "</table>\n",
       "<p>5 rows × 1834 columns</p>\n",
       "</div>"
      ],
      "text/plain": [
       "                      a  ability  able  about  above  abroad  absolutely  \\\n",
       "filepath                                                                   \n",
       "1900.McKinley.txt   253      4.0   3.0   11.0    2.0     4.0         NaN   \n",
       "1901.Roosevelt.txt  275      5.0  11.0    4.0    6.0     7.0         4.0   \n",
       "1902.Roosevelt.txt  181      2.0   1.0    5.0    8.0     4.0         1.0   \n",
       "1903.Roosevelt.txt  215      2.0   NaN    8.0    9.0     NaN         NaN   \n",
       "1904.Roosevelt.txt  247      1.0   6.0    7.0    7.0     7.0         3.0   \n",
       "\n",
       "                    abuse  abuses  accept  ...  worthy  would  wrong  year_x  \\\n",
       "filepath                                   ...                                 \n",
       "1900.McKinley.txt     NaN     NaN     NaN  ...     2.0   13.0    NaN    48.0   \n",
       "1901.Roosevelt.txt    NaN     3.0     1.0  ...     NaN   47.0    3.0     9.0   \n",
       "1902.Roosevelt.txt    NaN     NaN     NaN  ...     1.0   36.0    2.0     7.0   \n",
       "1903.Roosevelt.txt    NaN     NaN     NaN  ...     1.0   26.0    1.0    39.0   \n",
       "1904.Roosevelt.txt    NaN     5.0     4.0  ...     3.0   43.0   10.0    12.0   \n",
       "\n",
       "                    years  yes   yet   you  young  your  \n",
       "filepath                                                 \n",
       "1900.McKinley.txt     8.0  NaN   4.0  11.0    NaN  15.0  \n",
       "1901.Roosevelt.txt   26.0  NaN  10.0   2.0    NaN   4.0  \n",
       "1902.Roosevelt.txt    5.0  NaN   6.0   1.0    3.0   3.0  \n",
       "1903.Roosevelt.txt   19.0  NaN   9.0   2.0    1.0   3.0  \n",
       "1904.Roosevelt.txt   13.0  NaN  14.0   4.0    3.0   6.0  \n",
       "\n",
       "[5 rows x 1834 columns]"
      ]
     },
     "execution_count": 168,
     "metadata": {},
     "output_type": "execute_result"
    }
   ],
   "source": [
    "Rs=df[df['party_y'] == 'Republican'][words]\n",
    "Ds= df[df['party_y'] == 'Democrat'][words]\n",
    "Rs.head()"
   ]
  },
  {
   "cell_type": "markdown",
   "metadata": {},
   "source": [
    "## First column: frequencies of target word by group"
   ]
  },
  {
   "cell_type": "code",
   "execution_count": 259,
   "metadata": {},
   "outputs": [
    {
     "name": "stdout",
     "output_type": "stream",
     "text": [
      "105.0 31.0\n"
     ]
    }
   ],
   "source": [
    "word='iraq'\n",
    "sum_word_Rs = Rs[word].sum()\n",
    "sum_word_Ds = Ds[word].sum()\n",
    "\n",
    "print(sum_word_Rs,sum_word_Ds) # these are our frequencies for each group. they will be column 1 in our contingency table"
   ]
  },
  {
   "cell_type": "markdown",
   "metadata": {},
   "source": [
    "## Second column: sum of all words minus our target words\n",
    "We can get the sum of all of our words by calling `sum` twice. This adds every column, and then adds every row in the resulting series:"
   ]
  },
  {
   "cell_type": "code",
   "execution_count": 262,
   "metadata": {},
   "outputs": [
    {
     "data": {
      "text/plain": [
       "448709.0"
      ]
     },
     "execution_count": 262,
     "metadata": {},
     "output_type": "execute_result"
    }
   ],
   "source": [
    "Rs.sum().sum()"
   ]
  },
  {
   "cell_type": "code",
   "execution_count": 170,
   "metadata": {},
   "outputs": [
    {
     "data": {
      "text/plain": [
       "448709.0"
      ]
     },
     "execution_count": 170,
     "metadata": {},
     "output_type": "execute_result"
    }
   ],
   "source": [
    "Rs.sum().sum()"
   ]
  },
  {
   "cell_type": "code",
   "execution_count": 171,
   "metadata": {},
   "outputs": [
    {
     "data": {
      "text/plain": [
       "448709.0"
      ]
     },
     "execution_count": 171,
     "metadata": {},
     "output_type": "execute_result"
    }
   ],
   "source": [
    "sum_allword_Rs=Rs.sum().sum()\n",
    "sum_allword_Rs"
   ]
  },
  {
   "cell_type": "code",
   "execution_count": 172,
   "metadata": {},
   "outputs": [
    {
     "data": {
      "text/plain": [
       "305467.0"
      ]
     },
     "execution_count": 172,
     "metadata": {},
     "output_type": "execute_result"
    }
   ],
   "source": [
    "sum_allword_Ds=Ds.sum().sum()\n",
    "sum_allword_Ds"
   ]
  },
  {
   "cell_type": "code",
   "execution_count": 173,
   "metadata": {},
   "outputs": [
    {
     "data": {
      "text/plain": [
       "448604.0"
      ]
     },
     "execution_count": 173,
     "metadata": {},
     "output_type": "execute_result"
    }
   ],
   "source": [
    "sum_notword_Rs = sum_allword_Rs - sum_word_Rs\n",
    "sum_notword_Rs"
   ]
  },
  {
   "cell_type": "code",
   "execution_count": 174,
   "metadata": {},
   "outputs": [
    {
     "data": {
      "text/plain": [
       "305436.0"
      ]
     },
     "execution_count": 174,
     "metadata": {},
     "output_type": "execute_result"
    }
   ],
   "source": [
    "sum_notword_Ds = sum_allword_Ds - sum_word_Ds\n",
    "sum_notword_Ds"
   ]
  },
  {
   "cell_type": "markdown",
   "metadata": {},
   "source": [
    "## Make the table:"
   ]
  },
  {
   "cell_type": "code",
   "execution_count": 263,
   "metadata": {},
   "outputs": [],
   "source": [
    "contingency_table = [\n",
    "    [sum_word_Rs, sum_notword_Rs],\n",
    "    [sum_word_Ds, sum_notword_Ds]\n",
    "]"
   ]
  },
  {
   "cell_type": "code",
   "execution_count": 264,
   "metadata": {},
   "outputs": [
    {
     "data": {
      "text/plain": [
       "[[105.0, 448604.0], [31.0, 305436.0]]"
      ]
     },
     "execution_count": 264,
     "metadata": {},
     "output_type": "execute_result"
    }
   ],
   "source": [
    "contingency_table"
   ]
  },
  {
   "cell_type": "markdown",
   "metadata": {},
   "source": [
    "To return to our data from above with our example, `contingency_table` now has:\n",
    "\n",
    "|            | Number of \"iraq\" | Sum of all words except \"Iraq\" | Sums |\n",
    "|------------|------------------|--------------------------------|---------|\n",
    "| Republican | 105              | 448604                         | 448709 |\n",
    "| Democrat   | 31               | 305436                         | 305467  |\n",
    "| Total      | 136              | 754040                         |  754176 |"
   ]
  },
  {
   "cell_type": "markdown",
   "metadata": {},
   "source": [
    "It's clear that Republicans use `iraq` more, but they also use more words in total, too. Fisher's test will tell us the *odds* of either party using it.\n",
    "\n",
    "Now that we have this, we can use the Fisher's exact test to see what the odds of one party using this more than the other"
   ]
  },
  {
   "cell_type": "code",
   "execution_count": 265,
   "metadata": {},
   "outputs": [
    {
     "data": {
      "text/plain": [
       "(2.3061347877472795, 1.5757521308192708e-05)"
      ]
     },
     "execution_count": 265,
     "metadata": {},
     "output_type": "execute_result"
    }
   ],
   "source": [
    "from scipy.stats import fisher_exact\n",
    "\n",
    "oddsratio, pvalue = fisher_exact(contingency_table)\n",
    "oddsratio, pvalue"
   ]
  },
  {
   "cell_type": "markdown",
   "metadata": {},
   "source": [
    "## Interpreting results\n",
    "So, Republicans are 2.3X more likely to talk about `iraq` than Democrats according to our `oddsratio`. We know that value is significant because the p-value is much lower than the standard `0.05` used to reject the null-hypothesis.\n",
    "\n",
    "Remember, Fisher's exact begins from the premise that the *groups are equally likely to use the words*. (Of course we don't actually need to believe that will be true in advance in order to find significant differences between the groups!)"
   ]
  },
  {
   "cell_type": "code",
   "execution_count": 269,
   "metadata": {},
   "outputs": [
    {
     "data": {
      "text/plain": [
       "1210.1411819458008"
      ]
     },
     "execution_count": 269,
     "metadata": {},
     "output_type": "execute_result"
    }
   ],
   "source": [
    "import time\n",
    "start = time.time()\n",
    "oddsratio, pvalue = fisher_exact(contingency_table)\n",
    "(time.time() - start)*60000"
   ]
  },
  {
   "cell_type": "markdown",
   "metadata": {},
   "source": [
    "# Fisher's exact every word in our data frame\n",
    "When we check all of our words, which ones are significantly more likely to be used by one group rather than another?\n",
    "\n",
    "We can write a function to test this:"
   ]
  },
  {
   "cell_type": "code",
   "execution_count": 270,
   "metadata": {},
   "outputs": [],
   "source": [
    "def fish(group_a, group_a_name, group_b, group_b_name):\n",
    "    results = []\n",
    "    if (group_a.columns == group_b.columns).all(): # test the columns for equivalence; don't run if the columns don't match\n",
    "        for word in group_a.columns:\n",
    "            # TODO: shrink relative df for rows in cases where a and b contain zeroes\n",
    "            \n",
    "            # 1. calculate frequencies of each word\n",
    "            sum_word_a = group_a[word].sum()\n",
    "            sum_word_b = group_b[word].sum()\n",
    "\n",
    "            # 2. calculate total number of words\n",
    "            sum_allword_a = group_a.sum().sum()\n",
    "            sum_allword_b = group_b.sum().sum()\n",
    "\n",
    "            # 3. calculate total number of words minus the target word\n",
    "            sum_notword_a = sum_allword_a - sum_word_a\n",
    "            sum_notword_b = sum_allword_b - sum_word_b\n",
    "\n",
    "            # 4. make contingency table\n",
    "            contingency_table = [[sum_word_a, sum_notword_a], [sum_word_b, sum_notword_b]]\n",
    "\n",
    "            # 5. run fisher's exact\n",
    "            odds,pvalue = fisher_exact(contingency_table)\n",
    "\n",
    "            # 6. capture results in dictionary\n",
    "            d = {}\n",
    "            d['word'] = word\n",
    "            d['odds'] = odds\n",
    "            d['pvalue'] = pvalue\n",
    "            d['group_a']= group_a_name\n",
    "            d['group_b'] = group_b_name\n",
    "\n",
    "            results.append(d)\n",
    "    \n",
    "    return results"
   ]
  },
  {
   "cell_type": "markdown",
   "metadata": {},
   "source": [
    "This may take a minute to run!"
   ]
  },
  {
   "cell_type": "code",
   "execution_count": 181,
   "metadata": {},
   "outputs": [],
   "source": [
    "test = fish(Rs, 'Republicans', Ds, 'Democrats')\n",
    "# this takes about a minute to run on my computer"
   ]
  },
  {
   "cell_type": "code",
   "execution_count": 271,
   "metadata": {},
   "outputs": [],
   "source": [
    "df_fish = pd.DataFrame(test)"
   ]
  },
  {
   "cell_type": "code",
   "execution_count": 272,
   "metadata": {},
   "outputs": [
    {
     "data": {
      "text/html": [
       "<div>\n",
       "<style scoped>\n",
       "    .dataframe tbody tr th:only-of-type {\n",
       "        vertical-align: middle;\n",
       "    }\n",
       "\n",
       "    .dataframe tbody tr th {\n",
       "        vertical-align: top;\n",
       "    }\n",
       "\n",
       "    .dataframe thead th {\n",
       "        text-align: right;\n",
       "    }\n",
       "</style>\n",
       "<table border=\"1\" class=\"dataframe\">\n",
       "  <thead>\n",
       "    <tr style=\"text-align: right;\">\n",
       "      <th></th>\n",
       "      <th>group_a</th>\n",
       "      <th>group_b</th>\n",
       "      <th>odds</th>\n",
       "      <th>pvalue</th>\n",
       "      <th>word</th>\n",
       "    </tr>\n",
       "  </thead>\n",
       "  <tbody>\n",
       "    <tr>\n",
       "      <th>0</th>\n",
       "      <td>Republicans</td>\n",
       "      <td>Democrats</td>\n",
       "      <td>1.073176</td>\n",
       "      <td>0.000039</td>\n",
       "      <td>a</td>\n",
       "    </tr>\n",
       "    <tr>\n",
       "      <th>1</th>\n",
       "      <td>Republicans</td>\n",
       "      <td>Democrats</td>\n",
       "      <td>0.943339</td>\n",
       "      <td>0.752629</td>\n",
       "      <td>ability</td>\n",
       "    </tr>\n",
       "    <tr>\n",
       "      <th>2</th>\n",
       "      <td>Republicans</td>\n",
       "      <td>Democrats</td>\n",
       "      <td>0.748276</td>\n",
       "      <td>0.012898</td>\n",
       "      <td>able</td>\n",
       "    </tr>\n",
       "    <tr>\n",
       "      <th>3</th>\n",
       "      <td>Republicans</td>\n",
       "      <td>Democrats</td>\n",
       "      <td>0.789779</td>\n",
       "      <td>0.000961</td>\n",
       "      <td>about</td>\n",
       "    </tr>\n",
       "    <tr>\n",
       "      <th>4</th>\n",
       "      <td>Republicans</td>\n",
       "      <td>Democrats</td>\n",
       "      <td>1.317702</td>\n",
       "      <td>0.082408</td>\n",
       "      <td>above</td>\n",
       "    </tr>\n",
       "  </tbody>\n",
       "</table>\n",
       "</div>"
      ],
      "text/plain": [
       "       group_a    group_b      odds    pvalue     word\n",
       "0  Republicans  Democrats  1.073176  0.000039        a\n",
       "1  Republicans  Democrats  0.943339  0.752629  ability\n",
       "2  Republicans  Democrats  0.748276  0.012898     able\n",
       "3  Republicans  Democrats  0.789779  0.000961    about\n",
       "4  Republicans  Democrats  1.317702  0.082408    above"
      ]
     },
     "execution_count": 272,
     "metadata": {},
     "output_type": "execute_result"
    }
   ],
   "source": [
    "df_fish.head()"
   ]
  },
  {
   "cell_type": "markdown",
   "metadata": {},
   "source": [
    "The values with the highest odds are more likely to appear in group A; the values with the lowest odds are more likely to appear in group B.\n",
    "\n",
    "Let's first filter for values that are less than than the standard significance threshold of `0.05`:"
   ]
  },
  {
   "cell_type": "code",
   "execution_count": 277,
   "metadata": {},
   "outputs": [
    {
     "data": {
      "text/plain": [
       "(1834, 5)"
      ]
     },
     "execution_count": 277,
     "metadata": {},
     "output_type": "execute_result"
    }
   ],
   "source": [
    "df_fish.shape"
   ]
  },
  {
   "cell_type": "code",
   "execution_count": 278,
   "metadata": {},
   "outputs": [],
   "source": [
    "df_fish = df_fish[df_fish['pvalue'] < 0.05]"
   ]
  },
  {
   "cell_type": "markdown",
   "metadata": {},
   "source": [
    "Because of the way we have structured our data, the odds are calculated *relative* to group A. So, the usage of `vietnam` is very unlikely by group A (in this case, Republicans), so the odds values is very low. Likewise, the odds value for `applause` is extremely high because it is primarily associated with Republican texts, and appears rarely or never in Democratic texts, which are group B."
   ]
  },
  {
   "cell_type": "code",
   "execution_count": 279,
   "metadata": {},
   "outputs": [
    {
     "data": {
      "text/html": [
       "<div>\n",
       "<style scoped>\n",
       "    .dataframe tbody tr th:only-of-type {\n",
       "        vertical-align: middle;\n",
       "    }\n",
       "\n",
       "    .dataframe tbody tr th {\n",
       "        vertical-align: top;\n",
       "    }\n",
       "\n",
       "    .dataframe thead th {\n",
       "        text-align: right;\n",
       "    }\n",
       "</style>\n",
       "<table border=\"1\" class=\"dataframe\">\n",
       "  <thead>\n",
       "    <tr style=\"text-align: right;\">\n",
       "      <th></th>\n",
       "      <th>group_a</th>\n",
       "      <th>group_b</th>\n",
       "      <th>odds</th>\n",
       "      <th>pvalue</th>\n",
       "      <th>word</th>\n",
       "    </tr>\n",
       "  </thead>\n",
       "  <tbody>\n",
       "    <tr>\n",
       "      <th>1751</th>\n",
       "      <td>Republicans</td>\n",
       "      <td>Democrats</td>\n",
       "      <td>0.117974</td>\n",
       "      <td>6.635271e-18</td>\n",
       "      <td>vietnam</td>\n",
       "    </tr>\n",
       "    <tr>\n",
       "      <th>292</th>\n",
       "      <td>Republicans</td>\n",
       "      <td>Democrats</td>\n",
       "      <td>0.118821</td>\n",
       "      <td>4.320487e-29</td>\n",
       "      <td>college</td>\n",
       "    </tr>\n",
       "    <tr>\n",
       "      <th>489</th>\n",
       "      <td>Republicans</td>\n",
       "      <td>Democrats</td>\n",
       "      <td>0.151229</td>\n",
       "      <td>1.171550e-25</td>\n",
       "      <td>don</td>\n",
       "    </tr>\n",
       "    <tr>\n",
       "      <th>1613</th>\n",
       "      <td>Republicans</td>\n",
       "      <td>Democrats</td>\n",
       "      <td>0.188356</td>\n",
       "      <td>2.997954e-72</td>\n",
       "      <td>t</td>\n",
       "    </tr>\n",
       "    <tr>\n",
       "      <th>222</th>\n",
       "      <td>Republicans</td>\n",
       "      <td>Democrats</td>\n",
       "      <td>0.191555</td>\n",
       "      <td>1.001661e-23</td>\n",
       "      <td>businesses</td>\n",
       "    </tr>\n",
       "    <tr>\n",
       "      <th>1712</th>\n",
       "      <td>Republicans</td>\n",
       "      <td>Democrats</td>\n",
       "      <td>0.201861</td>\n",
       "      <td>4.123396e-20</td>\n",
       "      <td>u</td>\n",
       "    </tr>\n",
       "    <tr>\n",
       "      <th>725</th>\n",
       "      <td>Republicans</td>\n",
       "      <td>Democrats</td>\n",
       "      <td>0.202565</td>\n",
       "      <td>1.376399e-14</td>\n",
       "      <td>global</td>\n",
       "    </tr>\n",
       "    <tr>\n",
       "      <th>290</th>\n",
       "      <td>Republicans</td>\n",
       "      <td>Democrats</td>\n",
       "      <td>0.207166</td>\n",
       "      <td>1.667630e-08</td>\n",
       "      <td>cold</td>\n",
       "    </tr>\n",
       "    <tr>\n",
       "      <th>916</th>\n",
       "      <td>Republicans</td>\n",
       "      <td>Democrats</td>\n",
       "      <td>0.209439</td>\n",
       "      <td>2.553747e-09</td>\n",
       "      <td>kids</td>\n",
       "    </tr>\n",
       "    <tr>\n",
       "      <th>1394</th>\n",
       "      <td>Republicans</td>\n",
       "      <td>Democrats</td>\n",
       "      <td>0.213546</td>\n",
       "      <td>4.577548e-09</td>\n",
       "      <td>republicans</td>\n",
       "    </tr>\n",
       "    <tr>\n",
       "      <th>434</th>\n",
       "      <td>Republicans</td>\n",
       "      <td>Democrats</td>\n",
       "      <td>0.222264</td>\n",
       "      <td>1.486360e-08</td>\n",
       "      <td>democrats</td>\n",
       "    </tr>\n",
       "    <tr>\n",
       "      <th>352</th>\n",
       "      <td>Republicans</td>\n",
       "      <td>Democrats</td>\n",
       "      <td>0.226899</td>\n",
       "      <td>3.205969e-07</td>\n",
       "      <td>consumers</td>\n",
       "    </tr>\n",
       "    <tr>\n",
       "      <th>1327</th>\n",
       "      <td>Republicans</td>\n",
       "      <td>Democrats</td>\n",
       "      <td>0.231696</td>\n",
       "      <td>9.555787e-15</td>\n",
       "      <td>raise</td>\n",
       "    </tr>\n",
       "    <tr>\n",
       "      <th>735</th>\n",
       "      <td>Republicans</td>\n",
       "      <td>Democrats</td>\n",
       "      <td>0.239497</td>\n",
       "      <td>1.131001e-08</td>\n",
       "      <td>got</td>\n",
       "    </tr>\n",
       "    <tr>\n",
       "      <th>251</th>\n",
       "      <td>Republicans</td>\n",
       "      <td>Democrats</td>\n",
       "      <td>0.247062</td>\n",
       "      <td>2.719019e-22</td>\n",
       "      <td>challenge</td>\n",
       "    </tr>\n",
       "    <tr>\n",
       "      <th>1466</th>\n",
       "      <td>Republicans</td>\n",
       "      <td>Democrats</td>\n",
       "      <td>0.248711</td>\n",
       "      <td>3.331685e-08</td>\n",
       "      <td>sector</td>\n",
       "    </tr>\n",
       "    <tr>\n",
       "      <th>1573</th>\n",
       "      <td>Republicans</td>\n",
       "      <td>Democrats</td>\n",
       "      <td>0.250786</td>\n",
       "      <td>2.798474e-06</td>\n",
       "      <td>streets</td>\n",
       "    </tr>\n",
       "    <tr>\n",
       "      <th>399</th>\n",
       "      <td>Republicans</td>\n",
       "      <td>Democrats</td>\n",
       "      <td>0.260490</td>\n",
       "      <td>1.200966e-11</td>\n",
       "      <td>cuts</td>\n",
       "    </tr>\n",
       "    <tr>\n",
       "      <th>1799</th>\n",
       "      <td>Republicans</td>\n",
       "      <td>Democrats</td>\n",
       "      <td>0.266285</td>\n",
       "      <td>3.168755e-21</td>\n",
       "      <td>why</td>\n",
       "    </tr>\n",
       "    <tr>\n",
       "      <th>1047</th>\n",
       "      <td>Republicans</td>\n",
       "      <td>Democrats</td>\n",
       "      <td>0.267120</td>\n",
       "      <td>3.131264e-52</td>\n",
       "      <td>million</td>\n",
       "    </tr>\n",
       "    <tr>\n",
       "      <th>1311</th>\n",
       "      <td>Republicans</td>\n",
       "      <td>Democrats</td>\n",
       "      <td>0.268700</td>\n",
       "      <td>7.315869e-06</td>\n",
       "      <td>purchasing</td>\n",
       "    </tr>\n",
       "    <tr>\n",
       "      <th>985</th>\n",
       "      <td>Republicans</td>\n",
       "      <td>Democrats</td>\n",
       "      <td>0.272278</td>\n",
       "      <td>9.442348e-07</td>\n",
       "      <td>lot</td>\n",
       "    </tr>\n",
       "    <tr>\n",
       "      <th>1618</th>\n",
       "      <td>Republicans</td>\n",
       "      <td>Democrats</td>\n",
       "      <td>0.272281</td>\n",
       "      <td>3.669273e-06</td>\n",
       "      <td>talk</td>\n",
       "    </tr>\n",
       "    <tr>\n",
       "      <th>1621</th>\n",
       "      <td>Republicans</td>\n",
       "      <td>Democrats</td>\n",
       "      <td>0.275522</td>\n",
       "      <td>3.210240e-06</td>\n",
       "      <td>tasks</td>\n",
       "    </tr>\n",
       "    <tr>\n",
       "      <th>804</th>\n",
       "      <td>Republicans</td>\n",
       "      <td>Democrats</td>\n",
       "      <td>0.277408</td>\n",
       "      <td>5.995520e-20</td>\n",
       "      <td>housing</td>\n",
       "    </tr>\n",
       "    <tr>\n",
       "      <th>622</th>\n",
       "      <td>Republicans</td>\n",
       "      <td>Democrats</td>\n",
       "      <td>0.279264</td>\n",
       "      <td>6.277559e-06</td>\n",
       "      <td>faced</td>\n",
       "    </tr>\n",
       "    <tr>\n",
       "      <th>49</th>\n",
       "      <td>Republicans</td>\n",
       "      <td>Democrats</td>\n",
       "      <td>0.283630</td>\n",
       "      <td>2.027923e-05</td>\n",
       "      <td>affordable</td>\n",
       "    </tr>\n",
       "    <tr>\n",
       "      <th>1626</th>\n",
       "      <td>Republicans</td>\n",
       "      <td>Democrats</td>\n",
       "      <td>0.284456</td>\n",
       "      <td>5.688220e-09</td>\n",
       "      <td>teachers</td>\n",
       "    </tr>\n",
       "    <tr>\n",
       "      <th>982</th>\n",
       "      <td>Republicans</td>\n",
       "      <td>Democrats</td>\n",
       "      <td>0.285889</td>\n",
       "      <td>6.136261e-07</td>\n",
       "      <td>lose</td>\n",
       "    </tr>\n",
       "    <tr>\n",
       "      <th>876</th>\n",
       "      <td>Republicans</td>\n",
       "      <td>Democrats</td>\n",
       "      <td>0.286601</td>\n",
       "      <td>7.923035e-08</td>\n",
       "      <td>invest</td>\n",
       "    </tr>\n",
       "    <tr>\n",
       "      <th>...</th>\n",
       "      <td>...</td>\n",
       "      <td>...</td>\n",
       "      <td>...</td>\n",
       "      <td>...</td>\n",
       "      <td>...</td>\n",
       "    </tr>\n",
       "    <tr>\n",
       "      <th>1125</th>\n",
       "      <td>Republicans</td>\n",
       "      <td>Democrats</td>\n",
       "      <td>7.262425</td>\n",
       "      <td>4.759442e-09</td>\n",
       "      <td>offices</td>\n",
       "    </tr>\n",
       "    <tr>\n",
       "      <th>1231</th>\n",
       "      <td>Republicans</td>\n",
       "      <td>Democrats</td>\n",
       "      <td>7.319474</td>\n",
       "      <td>4.929132e-12</td>\n",
       "      <td>postal</td>\n",
       "    </tr>\n",
       "    <tr>\n",
       "      <th>884</th>\n",
       "      <td>Republicans</td>\n",
       "      <td>Democrats</td>\n",
       "      <td>7.625435</td>\n",
       "      <td>2.434883e-08</td>\n",
       "      <td>irrigation</td>\n",
       "    </tr>\n",
       "    <tr>\n",
       "      <th>184</th>\n",
       "      <td>Republicans</td>\n",
       "      <td>Democrats</td>\n",
       "      <td>8.169990</td>\n",
       "      <td>2.237781e-07</td>\n",
       "      <td>beneficial</td>\n",
       "    </tr>\n",
       "    <tr>\n",
       "      <th>596</th>\n",
       "      <td>Republicans</td>\n",
       "      <td>Democrats</td>\n",
       "      <td>8.169990</td>\n",
       "      <td>2.237781e-07</td>\n",
       "      <td>exercised</td>\n",
       "    </tr>\n",
       "    <tr>\n",
       "      <th>877</th>\n",
       "      <td>Republicans</td>\n",
       "      <td>Democrats</td>\n",
       "      <td>8.255888</td>\n",
       "      <td>5.371092e-14</td>\n",
       "      <td>investigation</td>\n",
       "    </tr>\n",
       "    <tr>\n",
       "      <th>1325</th>\n",
       "      <td>Republicans</td>\n",
       "      <td>Democrats</td>\n",
       "      <td>8.442559</td>\n",
       "      <td>1.923108e-09</td>\n",
       "      <td>railway</td>\n",
       "    </tr>\n",
       "    <tr>\n",
       "      <th>1451</th>\n",
       "      <td>Republicans</td>\n",
       "      <td>Democrats</td>\n",
       "      <td>8.462428</td>\n",
       "      <td>7.350387e-13</td>\n",
       "      <td>satisfactory</td>\n",
       "    </tr>\n",
       "    <tr>\n",
       "      <th>1094</th>\n",
       "      <td>Republicans</td>\n",
       "      <td>Democrats</td>\n",
       "      <td>8.850902</td>\n",
       "      <td>2.793354e-08</td>\n",
       "      <td>nicaragua</td>\n",
       "    </tr>\n",
       "    <tr>\n",
       "      <th>1123</th>\n",
       "      <td>Republicans</td>\n",
       "      <td>Democrats</td>\n",
       "      <td>8.850902</td>\n",
       "      <td>2.793354e-08</td>\n",
       "      <td>officer</td>\n",
       "    </tr>\n",
       "    <tr>\n",
       "      <th>279</th>\n",
       "      <td>Republicans</td>\n",
       "      <td>Democrats</td>\n",
       "      <td>8.851584</td>\n",
       "      <td>1.720228e-13</td>\n",
       "      <td>claims</td>\n",
       "    </tr>\n",
       "    <tr>\n",
       "      <th>379</th>\n",
       "      <td>Republicans</td>\n",
       "      <td>Democrats</td>\n",
       "      <td>9.471761</td>\n",
       "      <td>9.170311e-23</td>\n",
       "      <td>courts</td>\n",
       "    </tr>\n",
       "    <tr>\n",
       "      <th>860</th>\n",
       "      <td>Republicans</td>\n",
       "      <td>Democrats</td>\n",
       "      <td>9.531825</td>\n",
       "      <td>6.055462e-09</td>\n",
       "      <td>instance</td>\n",
       "    </tr>\n",
       "    <tr>\n",
       "      <th>1698</th>\n",
       "      <td>Republicans</td>\n",
       "      <td>Democrats</td>\n",
       "      <td>9.531825</td>\n",
       "      <td>6.055462e-09</td>\n",
       "      <td>tribunal</td>\n",
       "    </tr>\n",
       "    <tr>\n",
       "      <th>397</th>\n",
       "      <td>Republicans</td>\n",
       "      <td>Democrats</td>\n",
       "      <td>9.702058</td>\n",
       "      <td>3.524891e-09</td>\n",
       "      <td>customs</td>\n",
       "    </tr>\n",
       "    <tr>\n",
       "      <th>1469</th>\n",
       "      <td>Republicans</td>\n",
       "      <td>Democrats</td>\n",
       "      <td>10.213069</td>\n",
       "      <td>6.907278e-12</td>\n",
       "      <td>securing</td>\n",
       "    </tr>\n",
       "    <tr>\n",
       "      <th>296</th>\n",
       "      <td>Republicans</td>\n",
       "      <td>Democrats</td>\n",
       "      <td>10.893356</td>\n",
       "      <td>2.949975e-08</td>\n",
       "      <td>combinations</td>\n",
       "    </tr>\n",
       "    <tr>\n",
       "      <th>1267</th>\n",
       "      <td>Republicans</td>\n",
       "      <td>Democrats</td>\n",
       "      <td>10.893709</td>\n",
       "      <td>1.544841e-10</td>\n",
       "      <td>procedure</td>\n",
       "    </tr>\n",
       "    <tr>\n",
       "      <th>1619</th>\n",
       "      <td>Republicans</td>\n",
       "      <td>Democrats</td>\n",
       "      <td>12.011043</td>\n",
       "      <td>5.910464e-31</td>\n",
       "      <td>tariff</td>\n",
       "    </tr>\n",
       "    <tr>\n",
       "      <th>245</th>\n",
       "      <td>Republicans</td>\n",
       "      <td>Democrats</td>\n",
       "      <td>12.409287</td>\n",
       "      <td>1.927786e-26</td>\n",
       "      <td>cent</td>\n",
       "    </tr>\n",
       "    <tr>\n",
       "      <th>220</th>\n",
       "      <td>Republicans</td>\n",
       "      <td>Democrats</td>\n",
       "      <td>13.618747</td>\n",
       "      <td>3.694597e-20</td>\n",
       "      <td>bureau</td>\n",
       "    </tr>\n",
       "    <tr>\n",
       "      <th>395</th>\n",
       "      <td>Republicans</td>\n",
       "      <td>Democrats</td>\n",
       "      <td>14.751979</td>\n",
       "      <td>9.557351e-12</td>\n",
       "      <td>currency</td>\n",
       "    </tr>\n",
       "    <tr>\n",
       "      <th>909</th>\n",
       "      <td>Republicans</td>\n",
       "      <td>Democrats</td>\n",
       "      <td>15.205953</td>\n",
       "      <td>5.779534e-12</td>\n",
       "      <td>jurisdiction</td>\n",
       "    </tr>\n",
       "    <tr>\n",
       "      <th>890</th>\n",
       "      <td>Republicans</td>\n",
       "      <td>Democrats</td>\n",
       "      <td>19.744712</td>\n",
       "      <td>3.678758e-11</td>\n",
       "      <td>isthmus</td>\n",
       "    </tr>\n",
       "    <tr>\n",
       "      <th>993</th>\n",
       "      <td>Republicans</td>\n",
       "      <td>Democrats</td>\n",
       "      <td>20.766130</td>\n",
       "      <td>7.157169e-12</td>\n",
       "      <td>mail</td>\n",
       "    </tr>\n",
       "    <tr>\n",
       "      <th>1600</th>\n",
       "      <td>Republicans</td>\n",
       "      <td>Democrats</td>\n",
       "      <td>21.789043</td>\n",
       "      <td>3.280503e-18</td>\n",
       "      <td>supervision</td>\n",
       "    </tr>\n",
       "    <tr>\n",
       "      <th>904</th>\n",
       "      <td>Republicans</td>\n",
       "      <td>Democrats</td>\n",
       "      <td>26.894919</td>\n",
       "      <td>9.712575e-16</td>\n",
       "      <td>judges</td>\n",
       "    </tr>\n",
       "    <tr>\n",
       "      <th>378</th>\n",
       "      <td>Republicans</td>\n",
       "      <td>Democrats</td>\n",
       "      <td>28.039859</td>\n",
       "      <td>5.144281e-47</td>\n",
       "      <td>court</td>\n",
       "    </tr>\n",
       "    <tr>\n",
       "      <th>105</th>\n",
       "      <td>Republicans</td>\n",
       "      <td>Democrats</td>\n",
       "      <td>36.770114</td>\n",
       "      <td>6.892732e-22</td>\n",
       "      <td>applause</td>\n",
       "    </tr>\n",
       "    <tr>\n",
       "      <th>759</th>\n",
       "      <td>Republicans</td>\n",
       "      <td>Democrats</td>\n",
       "      <td>inf</td>\n",
       "      <td>8.436439e-13</td>\n",
       "      <td>hague</td>\n",
       "    </tr>\n",
       "  </tbody>\n",
       "</table>\n",
       "<p>1058 rows × 5 columns</p>\n",
       "</div>"
      ],
      "text/plain": [
       "          group_a    group_b       odds        pvalue           word\n",
       "1751  Republicans  Democrats   0.117974  6.635271e-18        vietnam\n",
       "292   Republicans  Democrats   0.118821  4.320487e-29        college\n",
       "489   Republicans  Democrats   0.151229  1.171550e-25            don\n",
       "1613  Republicans  Democrats   0.188356  2.997954e-72              t\n",
       "222   Republicans  Democrats   0.191555  1.001661e-23     businesses\n",
       "1712  Republicans  Democrats   0.201861  4.123396e-20              u\n",
       "725   Republicans  Democrats   0.202565  1.376399e-14         global\n",
       "290   Republicans  Democrats   0.207166  1.667630e-08           cold\n",
       "916   Republicans  Democrats   0.209439  2.553747e-09           kids\n",
       "1394  Republicans  Democrats   0.213546  4.577548e-09    republicans\n",
       "434   Republicans  Democrats   0.222264  1.486360e-08      democrats\n",
       "352   Republicans  Democrats   0.226899  3.205969e-07      consumers\n",
       "1327  Republicans  Democrats   0.231696  9.555787e-15          raise\n",
       "735   Republicans  Democrats   0.239497  1.131001e-08            got\n",
       "251   Republicans  Democrats   0.247062  2.719019e-22      challenge\n",
       "1466  Republicans  Democrats   0.248711  3.331685e-08         sector\n",
       "1573  Republicans  Democrats   0.250786  2.798474e-06        streets\n",
       "399   Republicans  Democrats   0.260490  1.200966e-11           cuts\n",
       "1799  Republicans  Democrats   0.266285  3.168755e-21            why\n",
       "1047  Republicans  Democrats   0.267120  3.131264e-52        million\n",
       "1311  Republicans  Democrats   0.268700  7.315869e-06     purchasing\n",
       "985   Republicans  Democrats   0.272278  9.442348e-07            lot\n",
       "1618  Republicans  Democrats   0.272281  3.669273e-06           talk\n",
       "1621  Republicans  Democrats   0.275522  3.210240e-06          tasks\n",
       "804   Republicans  Democrats   0.277408  5.995520e-20        housing\n",
       "622   Republicans  Democrats   0.279264  6.277559e-06          faced\n",
       "49    Republicans  Democrats   0.283630  2.027923e-05     affordable\n",
       "1626  Republicans  Democrats   0.284456  5.688220e-09       teachers\n",
       "982   Republicans  Democrats   0.285889  6.136261e-07           lose\n",
       "876   Republicans  Democrats   0.286601  7.923035e-08         invest\n",
       "...           ...        ...        ...           ...            ...\n",
       "1125  Republicans  Democrats   7.262425  4.759442e-09        offices\n",
       "1231  Republicans  Democrats   7.319474  4.929132e-12         postal\n",
       "884   Republicans  Democrats   7.625435  2.434883e-08     irrigation\n",
       "184   Republicans  Democrats   8.169990  2.237781e-07     beneficial\n",
       "596   Republicans  Democrats   8.169990  2.237781e-07      exercised\n",
       "877   Republicans  Democrats   8.255888  5.371092e-14  investigation\n",
       "1325  Republicans  Democrats   8.442559  1.923108e-09        railway\n",
       "1451  Republicans  Democrats   8.462428  7.350387e-13   satisfactory\n",
       "1094  Republicans  Democrats   8.850902  2.793354e-08      nicaragua\n",
       "1123  Republicans  Democrats   8.850902  2.793354e-08        officer\n",
       "279   Republicans  Democrats   8.851584  1.720228e-13         claims\n",
       "379   Republicans  Democrats   9.471761  9.170311e-23         courts\n",
       "860   Republicans  Democrats   9.531825  6.055462e-09       instance\n",
       "1698  Republicans  Democrats   9.531825  6.055462e-09       tribunal\n",
       "397   Republicans  Democrats   9.702058  3.524891e-09        customs\n",
       "1469  Republicans  Democrats  10.213069  6.907278e-12       securing\n",
       "296   Republicans  Democrats  10.893356  2.949975e-08   combinations\n",
       "1267  Republicans  Democrats  10.893709  1.544841e-10      procedure\n",
       "1619  Republicans  Democrats  12.011043  5.910464e-31         tariff\n",
       "245   Republicans  Democrats  12.409287  1.927786e-26           cent\n",
       "220   Republicans  Democrats  13.618747  3.694597e-20         bureau\n",
       "395   Republicans  Democrats  14.751979  9.557351e-12       currency\n",
       "909   Republicans  Democrats  15.205953  5.779534e-12   jurisdiction\n",
       "890   Republicans  Democrats  19.744712  3.678758e-11        isthmus\n",
       "993   Republicans  Democrats  20.766130  7.157169e-12           mail\n",
       "1600  Republicans  Democrats  21.789043  3.280503e-18    supervision\n",
       "904   Republicans  Democrats  26.894919  9.712575e-16         judges\n",
       "378   Republicans  Democrats  28.039859  5.144281e-47          court\n",
       "105   Republicans  Democrats  36.770114  6.892732e-22       applause\n",
       "759   Republicans  Democrats        inf  8.436439e-13          hague\n",
       "\n",
       "[1058 rows x 5 columns]"
      ]
     },
     "execution_count": 279,
     "metadata": {},
     "output_type": "execute_result"
    }
   ],
   "source": [
    "df_fish.sort_values(by='odds')"
   ]
  },
  {
   "cell_type": "markdown",
   "metadata": {},
   "source": [
    "# Visualizing differences between texts"
   ]
  },
  {
   "cell_type": "markdown",
   "metadata": {},
   "source": [
    "## Distance matrix\n",
    "\n",
    "We can also use DTMs to think about the \"distance\" between documents in the DTM space.\n",
    "\n",
    "We need to begin with a scaled document-term matrix. I'm going to choose words that appear very frequently:"
   ]
  },
  {
   "cell_type": "code",
   "execution_count": 280,
   "metadata": {},
   "outputs": [],
   "source": [
    "df = make_dtm(sotus, scaled = True, drop_below=1000)"
   ]
  },
  {
   "cell_type": "markdown",
   "metadata": {},
   "source": [
    "Going to collect our words:"
   ]
  },
  {
   "cell_type": "code",
   "execution_count": 281,
   "metadata": {},
   "outputs": [],
   "source": [
    "words = df.columns"
   ]
  },
  {
   "cell_type": "code",
   "execution_count": 282,
   "metadata": {},
   "outputs": [
    {
     "data": {
      "text/plain": [
       "Index(['a', 'able', 'about', 'abroad', 'achieve', 'act', 'action',\n",
       "       'additional', 'adequate', 'administration',\n",
       "       ...\n",
       "       'workers', 'working', 'world', 'would', 'year', 'years', 'yet', 'you',\n",
       "       'young', 'your'],\n",
       "      dtype='object', length=494)"
      ]
     },
     "execution_count": 282,
     "metadata": {},
     "output_type": "execute_result"
    }
   ],
   "source": [
    "words"
   ]
  },
  {
   "cell_type": "markdown",
   "metadata": {},
   "source": [
    "And we'll add party metadata for analysis:"
   ]
  },
  {
   "cell_type": "code",
   "execution_count": 283,
   "metadata": {},
   "outputs": [
    {
     "data": {
      "text/plain": [
       "Index(['president', 'year', 'filepath', 'party'], dtype='object')"
      ]
     },
     "execution_count": 283,
     "metadata": {},
     "output_type": "execute_result"
    }
   ],
   "source": [
    "meta.columns"
   ]
  },
  {
   "cell_type": "code",
   "execution_count": 284,
   "metadata": {},
   "outputs": [],
   "source": [
    "df = pd.merge(df, meta[['filepath','party']], on='filepath')"
   ]
  },
  {
   "cell_type": "markdown",
   "metadata": {},
   "source": [
    "Now, I'm going to reset the index so that we can use the filepaths column as a label:"
   ]
  },
  {
   "cell_type": "code",
   "execution_count": 285,
   "metadata": {},
   "outputs": [
    {
     "data": {
      "text/html": [
       "<div>\n",
       "<style scoped>\n",
       "    .dataframe tbody tr th:only-of-type {\n",
       "        vertical-align: middle;\n",
       "    }\n",
       "\n",
       "    .dataframe tbody tr th {\n",
       "        vertical-align: top;\n",
       "    }\n",
       "\n",
       "    .dataframe thead th {\n",
       "        text-align: right;\n",
       "    }\n",
       "</style>\n",
       "<table border=\"1\" class=\"dataframe\">\n",
       "  <thead>\n",
       "    <tr style=\"text-align: right;\">\n",
       "      <th></th>\n",
       "      <th>filepath</th>\n",
       "      <th>a</th>\n",
       "      <th>able</th>\n",
       "      <th>about</th>\n",
       "      <th>abroad</th>\n",
       "      <th>achieve</th>\n",
       "      <th>act</th>\n",
       "      <th>action</th>\n",
       "      <th>additional</th>\n",
       "      <th>adequate</th>\n",
       "      <th>...</th>\n",
       "      <th>working</th>\n",
       "      <th>world</th>\n",
       "      <th>would</th>\n",
       "      <th>year</th>\n",
       "      <th>years</th>\n",
       "      <th>yet</th>\n",
       "      <th>you</th>\n",
       "      <th>young</th>\n",
       "      <th>your</th>\n",
       "      <th>party</th>\n",
       "    </tr>\n",
       "  </thead>\n",
       "  <tbody>\n",
       "    <tr>\n",
       "      <th>0</th>\n",
       "      <td>1900.McKinley.txt</td>\n",
       "      <td>0.013367</td>\n",
       "      <td>0.000159</td>\n",
       "      <td>0.000581</td>\n",
       "      <td>0.000211</td>\n",
       "      <td>NaN</td>\n",
       "      <td>0.001004</td>\n",
       "      <td>0.001268</td>\n",
       "      <td>0.000264</td>\n",
       "      <td>0.000264</td>\n",
       "      <td>...</td>\n",
       "      <td>0.000106</td>\n",
       "      <td>0.000528</td>\n",
       "      <td>0.000687</td>\n",
       "      <td>0.002536</td>\n",
       "      <td>0.000423</td>\n",
       "      <td>0.000211</td>\n",
       "      <td>0.000581</td>\n",
       "      <td>NaN</td>\n",
       "      <td>0.000793</td>\n",
       "      <td>Republican</td>\n",
       "    </tr>\n",
       "    <tr>\n",
       "      <th>1</th>\n",
       "      <td>1901.Roosevelt.txt</td>\n",
       "      <td>0.013951</td>\n",
       "      <td>0.000558</td>\n",
       "      <td>0.000203</td>\n",
       "      <td>0.000355</td>\n",
       "      <td>0.000101</td>\n",
       "      <td>0.000812</td>\n",
       "      <td>0.000609</td>\n",
       "      <td>0.000355</td>\n",
       "      <td>0.000304</td>\n",
       "      <td>...</td>\n",
       "      <td>0.000101</td>\n",
       "      <td>0.001522</td>\n",
       "      <td>0.002384</td>\n",
       "      <td>0.000457</td>\n",
       "      <td>0.001319</td>\n",
       "      <td>0.000507</td>\n",
       "      <td>0.000101</td>\n",
       "      <td>NaN</td>\n",
       "      <td>0.000203</td>\n",
       "      <td>Republican</td>\n",
       "    </tr>\n",
       "    <tr>\n",
       "      <th>2</th>\n",
       "      <td>1902.Roosevelt.txt</td>\n",
       "      <td>0.018451</td>\n",
       "      <td>0.000102</td>\n",
       "      <td>0.000510</td>\n",
       "      <td>0.000408</td>\n",
       "      <td>NaN</td>\n",
       "      <td>0.000612</td>\n",
       "      <td>0.000917</td>\n",
       "      <td>0.000714</td>\n",
       "      <td>0.000102</td>\n",
       "      <td>...</td>\n",
       "      <td>NaN</td>\n",
       "      <td>0.001325</td>\n",
       "      <td>0.003670</td>\n",
       "      <td>0.000714</td>\n",
       "      <td>0.000510</td>\n",
       "      <td>0.000612</td>\n",
       "      <td>0.000102</td>\n",
       "      <td>0.000306</td>\n",
       "      <td>0.000306</td>\n",
       "      <td>Republican</td>\n",
       "    </tr>\n",
       "    <tr>\n",
       "      <th>3</th>\n",
       "      <td>1903.Roosevelt.txt</td>\n",
       "      <td>0.014483</td>\n",
       "      <td>NaN</td>\n",
       "      <td>0.000539</td>\n",
       "      <td>NaN</td>\n",
       "      <td>NaN</td>\n",
       "      <td>0.000876</td>\n",
       "      <td>0.000674</td>\n",
       "      <td>0.000067</td>\n",
       "      <td>0.000269</td>\n",
       "      <td>...</td>\n",
       "      <td>0.000269</td>\n",
       "      <td>0.001078</td>\n",
       "      <td>0.001751</td>\n",
       "      <td>0.002627</td>\n",
       "      <td>0.001280</td>\n",
       "      <td>0.000606</td>\n",
       "      <td>0.000135</td>\n",
       "      <td>0.000067</td>\n",
       "      <td>0.000202</td>\n",
       "      <td>Republican</td>\n",
       "    </tr>\n",
       "    <tr>\n",
       "      <th>4</th>\n",
       "      <td>1904.Roosevelt.txt</td>\n",
       "      <td>0.014109</td>\n",
       "      <td>0.000343</td>\n",
       "      <td>0.000400</td>\n",
       "      <td>0.000400</td>\n",
       "      <td>0.000114</td>\n",
       "      <td>0.000857</td>\n",
       "      <td>0.000628</td>\n",
       "      <td>0.000057</td>\n",
       "      <td>0.000343</td>\n",
       "      <td>...</td>\n",
       "      <td>0.000228</td>\n",
       "      <td>0.000628</td>\n",
       "      <td>0.002456</td>\n",
       "      <td>0.000685</td>\n",
       "      <td>0.000743</td>\n",
       "      <td>0.000800</td>\n",
       "      <td>0.000228</td>\n",
       "      <td>0.000171</td>\n",
       "      <td>0.000343</td>\n",
       "      <td>Republican</td>\n",
       "    </tr>\n",
       "  </tbody>\n",
       "</table>\n",
       "<p>5 rows × 496 columns</p>\n",
       "</div>"
      ],
      "text/plain": [
       "             filepath         a      able     about    abroad   achieve  \\\n",
       "0   1900.McKinley.txt  0.013367  0.000159  0.000581  0.000211       NaN   \n",
       "1  1901.Roosevelt.txt  0.013951  0.000558  0.000203  0.000355  0.000101   \n",
       "2  1902.Roosevelt.txt  0.018451  0.000102  0.000510  0.000408       NaN   \n",
       "3  1903.Roosevelt.txt  0.014483       NaN  0.000539       NaN       NaN   \n",
       "4  1904.Roosevelt.txt  0.014109  0.000343  0.000400  0.000400  0.000114   \n",
       "\n",
       "        act    action  additional  adequate  ...   working     world  \\\n",
       "0  0.001004  0.001268    0.000264  0.000264  ...  0.000106  0.000528   \n",
       "1  0.000812  0.000609    0.000355  0.000304  ...  0.000101  0.001522   \n",
       "2  0.000612  0.000917    0.000714  0.000102  ...       NaN  0.001325   \n",
       "3  0.000876  0.000674    0.000067  0.000269  ...  0.000269  0.001078   \n",
       "4  0.000857  0.000628    0.000057  0.000343  ...  0.000228  0.000628   \n",
       "\n",
       "      would      year     years       yet       you     young      your  \\\n",
       "0  0.000687  0.002536  0.000423  0.000211  0.000581       NaN  0.000793   \n",
       "1  0.002384  0.000457  0.001319  0.000507  0.000101       NaN  0.000203   \n",
       "2  0.003670  0.000714  0.000510  0.000612  0.000102  0.000306  0.000306   \n",
       "3  0.001751  0.002627  0.001280  0.000606  0.000135  0.000067  0.000202   \n",
       "4  0.002456  0.000685  0.000743  0.000800  0.000228  0.000171  0.000343   \n",
       "\n",
       "        party  \n",
       "0  Republican  \n",
       "1  Republican  \n",
       "2  Republican  \n",
       "3  Republican  \n",
       "4  Republican  \n",
       "\n",
       "[5 rows x 496 columns]"
      ]
     },
     "execution_count": 285,
     "metadata": {},
     "output_type": "execute_result"
    }
   ],
   "source": [
    "df.head()"
   ]
  },
  {
   "cell_type": "markdown",
   "metadata": {},
   "source": [
    "**Different:** I'm going to keep filepath as both a column and as the index in order ot use it to label points in a graph:"
   ]
  },
  {
   "cell_type": "code",
   "execution_count": 195,
   "metadata": {},
   "outputs": [],
   "source": [
    "df.set_index('filepath', drop = False, inplace=True) # drop = False prevents the column from being dropped used as index"
   ]
  },
  {
   "cell_type": "code",
   "execution_count": 196,
   "metadata": {},
   "outputs": [
    {
     "data": {
      "text/html": [
       "<div>\n",
       "<style scoped>\n",
       "    .dataframe tbody tr th:only-of-type {\n",
       "        vertical-align: middle;\n",
       "    }\n",
       "\n",
       "    .dataframe tbody tr th {\n",
       "        vertical-align: top;\n",
       "    }\n",
       "\n",
       "    .dataframe thead th {\n",
       "        text-align: right;\n",
       "    }\n",
       "</style>\n",
       "<table border=\"1\" class=\"dataframe\">\n",
       "  <thead>\n",
       "    <tr style=\"text-align: right;\">\n",
       "      <th></th>\n",
       "      <th>filepath</th>\n",
       "      <th>a</th>\n",
       "      <th>able</th>\n",
       "      <th>about</th>\n",
       "      <th>abroad</th>\n",
       "      <th>achieve</th>\n",
       "      <th>act</th>\n",
       "      <th>action</th>\n",
       "      <th>additional</th>\n",
       "      <th>adequate</th>\n",
       "      <th>...</th>\n",
       "      <th>working</th>\n",
       "      <th>world</th>\n",
       "      <th>would</th>\n",
       "      <th>year</th>\n",
       "      <th>years</th>\n",
       "      <th>yet</th>\n",
       "      <th>you</th>\n",
       "      <th>young</th>\n",
       "      <th>your</th>\n",
       "      <th>party</th>\n",
       "    </tr>\n",
       "    <tr>\n",
       "      <th>filepath</th>\n",
       "      <th></th>\n",
       "      <th></th>\n",
       "      <th></th>\n",
       "      <th></th>\n",
       "      <th></th>\n",
       "      <th></th>\n",
       "      <th></th>\n",
       "      <th></th>\n",
       "      <th></th>\n",
       "      <th></th>\n",
       "      <th></th>\n",
       "      <th></th>\n",
       "      <th></th>\n",
       "      <th></th>\n",
       "      <th></th>\n",
       "      <th></th>\n",
       "      <th></th>\n",
       "      <th></th>\n",
       "      <th></th>\n",
       "      <th></th>\n",
       "      <th></th>\n",
       "    </tr>\n",
       "  </thead>\n",
       "  <tbody>\n",
       "    <tr>\n",
       "      <th>1900.McKinley.txt</th>\n",
       "      <td>1900.McKinley.txt</td>\n",
       "      <td>0.013367</td>\n",
       "      <td>0.000159</td>\n",
       "      <td>0.000581</td>\n",
       "      <td>0.000211</td>\n",
       "      <td>NaN</td>\n",
       "      <td>0.001004</td>\n",
       "      <td>0.001268</td>\n",
       "      <td>0.000264</td>\n",
       "      <td>0.000264</td>\n",
       "      <td>...</td>\n",
       "      <td>0.000106</td>\n",
       "      <td>0.000528</td>\n",
       "      <td>0.000687</td>\n",
       "      <td>0.002536</td>\n",
       "      <td>0.000423</td>\n",
       "      <td>0.000211</td>\n",
       "      <td>0.000581</td>\n",
       "      <td>NaN</td>\n",
       "      <td>0.000793</td>\n",
       "      <td>Republican</td>\n",
       "    </tr>\n",
       "    <tr>\n",
       "      <th>1901.Roosevelt.txt</th>\n",
       "      <td>1901.Roosevelt.txt</td>\n",
       "      <td>0.013951</td>\n",
       "      <td>0.000558</td>\n",
       "      <td>0.000203</td>\n",
       "      <td>0.000355</td>\n",
       "      <td>0.000101</td>\n",
       "      <td>0.000812</td>\n",
       "      <td>0.000609</td>\n",
       "      <td>0.000355</td>\n",
       "      <td>0.000304</td>\n",
       "      <td>...</td>\n",
       "      <td>0.000101</td>\n",
       "      <td>0.001522</td>\n",
       "      <td>0.002384</td>\n",
       "      <td>0.000457</td>\n",
       "      <td>0.001319</td>\n",
       "      <td>0.000507</td>\n",
       "      <td>0.000101</td>\n",
       "      <td>NaN</td>\n",
       "      <td>0.000203</td>\n",
       "      <td>Republican</td>\n",
       "    </tr>\n",
       "    <tr>\n",
       "      <th>1902.Roosevelt.txt</th>\n",
       "      <td>1902.Roosevelt.txt</td>\n",
       "      <td>0.018451</td>\n",
       "      <td>0.000102</td>\n",
       "      <td>0.000510</td>\n",
       "      <td>0.000408</td>\n",
       "      <td>NaN</td>\n",
       "      <td>0.000612</td>\n",
       "      <td>0.000917</td>\n",
       "      <td>0.000714</td>\n",
       "      <td>0.000102</td>\n",
       "      <td>...</td>\n",
       "      <td>NaN</td>\n",
       "      <td>0.001325</td>\n",
       "      <td>0.003670</td>\n",
       "      <td>0.000714</td>\n",
       "      <td>0.000510</td>\n",
       "      <td>0.000612</td>\n",
       "      <td>0.000102</td>\n",
       "      <td>0.000306</td>\n",
       "      <td>0.000306</td>\n",
       "      <td>Republican</td>\n",
       "    </tr>\n",
       "    <tr>\n",
       "      <th>1903.Roosevelt.txt</th>\n",
       "      <td>1903.Roosevelt.txt</td>\n",
       "      <td>0.014483</td>\n",
       "      <td>NaN</td>\n",
       "      <td>0.000539</td>\n",
       "      <td>NaN</td>\n",
       "      <td>NaN</td>\n",
       "      <td>0.000876</td>\n",
       "      <td>0.000674</td>\n",
       "      <td>0.000067</td>\n",
       "      <td>0.000269</td>\n",
       "      <td>...</td>\n",
       "      <td>0.000269</td>\n",
       "      <td>0.001078</td>\n",
       "      <td>0.001751</td>\n",
       "      <td>0.002627</td>\n",
       "      <td>0.001280</td>\n",
       "      <td>0.000606</td>\n",
       "      <td>0.000135</td>\n",
       "      <td>0.000067</td>\n",
       "      <td>0.000202</td>\n",
       "      <td>Republican</td>\n",
       "    </tr>\n",
       "    <tr>\n",
       "      <th>1904.Roosevelt.txt</th>\n",
       "      <td>1904.Roosevelt.txt</td>\n",
       "      <td>0.014109</td>\n",
       "      <td>0.000343</td>\n",
       "      <td>0.000400</td>\n",
       "      <td>0.000400</td>\n",
       "      <td>0.000114</td>\n",
       "      <td>0.000857</td>\n",
       "      <td>0.000628</td>\n",
       "      <td>0.000057</td>\n",
       "      <td>0.000343</td>\n",
       "      <td>...</td>\n",
       "      <td>0.000228</td>\n",
       "      <td>0.000628</td>\n",
       "      <td>0.002456</td>\n",
       "      <td>0.000685</td>\n",
       "      <td>0.000743</td>\n",
       "      <td>0.000800</td>\n",
       "      <td>0.000228</td>\n",
       "      <td>0.000171</td>\n",
       "      <td>0.000343</td>\n",
       "      <td>Republican</td>\n",
       "    </tr>\n",
       "  </tbody>\n",
       "</table>\n",
       "<p>5 rows × 496 columns</p>\n",
       "</div>"
      ],
      "text/plain": [
       "                              filepath         a      able     about  \\\n",
       "filepath                                                               \n",
       "1900.McKinley.txt    1900.McKinley.txt  0.013367  0.000159  0.000581   \n",
       "1901.Roosevelt.txt  1901.Roosevelt.txt  0.013951  0.000558  0.000203   \n",
       "1902.Roosevelt.txt  1902.Roosevelt.txt  0.018451  0.000102  0.000510   \n",
       "1903.Roosevelt.txt  1903.Roosevelt.txt  0.014483       NaN  0.000539   \n",
       "1904.Roosevelt.txt  1904.Roosevelt.txt  0.014109  0.000343  0.000400   \n",
       "\n",
       "                      abroad   achieve       act    action  additional  \\\n",
       "filepath                                                                 \n",
       "1900.McKinley.txt   0.000211       NaN  0.001004  0.001268    0.000264   \n",
       "1901.Roosevelt.txt  0.000355  0.000101  0.000812  0.000609    0.000355   \n",
       "1902.Roosevelt.txt  0.000408       NaN  0.000612  0.000917    0.000714   \n",
       "1903.Roosevelt.txt       NaN       NaN  0.000876  0.000674    0.000067   \n",
       "1904.Roosevelt.txt  0.000400  0.000114  0.000857  0.000628    0.000057   \n",
       "\n",
       "                    adequate  ...   working     world     would      year  \\\n",
       "filepath                      ...                                           \n",
       "1900.McKinley.txt   0.000264  ...  0.000106  0.000528  0.000687  0.002536   \n",
       "1901.Roosevelt.txt  0.000304  ...  0.000101  0.001522  0.002384  0.000457   \n",
       "1902.Roosevelt.txt  0.000102  ...       NaN  0.001325  0.003670  0.000714   \n",
       "1903.Roosevelt.txt  0.000269  ...  0.000269  0.001078  0.001751  0.002627   \n",
       "1904.Roosevelt.txt  0.000343  ...  0.000228  0.000628  0.002456  0.000685   \n",
       "\n",
       "                       years       yet       you     young      your  \\\n",
       "filepath                                                               \n",
       "1900.McKinley.txt   0.000423  0.000211  0.000581       NaN  0.000793   \n",
       "1901.Roosevelt.txt  0.001319  0.000507  0.000101       NaN  0.000203   \n",
       "1902.Roosevelt.txt  0.000510  0.000612  0.000102  0.000306  0.000306   \n",
       "1903.Roosevelt.txt  0.001280  0.000606  0.000135  0.000067  0.000202   \n",
       "1904.Roosevelt.txt  0.000743  0.000800  0.000228  0.000171  0.000343   \n",
       "\n",
       "                         party  \n",
       "filepath                        \n",
       "1900.McKinley.txt   Republican  \n",
       "1901.Roosevelt.txt  Republican  \n",
       "1902.Roosevelt.txt  Republican  \n",
       "1903.Roosevelt.txt  Republican  \n",
       "1904.Roosevelt.txt  Republican  \n",
       "\n",
       "[5 rows x 496 columns]"
      ]
     },
     "execution_count": 196,
     "metadata": {},
     "output_type": "execute_result"
    }
   ],
   "source": [
    "df.head()"
   ]
  },
  {
   "cell_type": "markdown",
   "metadata": {},
   "source": [
    "# Other `nltk` methods"
   ]
  },
  {
   "cell_type": "markdown",
   "metadata": {},
   "source": [
    "First, we need to create our familiar list of words. We can do it using our own `tokenize` function, or `nltk`'s:"
   ]
  },
  {
   "cell_type": "code",
   "execution_count": 554,
   "metadata": {},
   "outputs": [],
   "source": [
    "johnson = '/Users/e/Downloads/1912_johnson_ex-colored.txt'\n",
    "text = open(johnson).read()"
   ]
  },
  {
   "cell_type": "code",
   "execution_count": 555,
   "metadata": {},
   "outputs": [],
   "source": [
    "tokens = tokenize(text)"
   ]
  },
  {
   "cell_type": "code",
   "execution_count": 556,
   "metadata": {},
   "outputs": [
    {
     "data": {
      "text/plain": [
       "['the', 'autobiography', 'of', 'an', 'ex']"
      ]
     },
     "execution_count": 556,
     "metadata": {},
     "output_type": "execute_result"
    }
   ],
   "source": [
    "tokens[:5]"
   ]
  },
  {
   "cell_type": "markdown",
   "metadata": {},
   "source": [
    "We can then create an `nltk` `Text` object that will allow us to use some of its other features:"
   ]
  },
  {
   "cell_type": "code",
   "execution_count": 557,
   "metadata": {},
   "outputs": [],
   "source": [
    "autobio = nltk.Text(tokens)"
   ]
  },
  {
   "cell_type": "code",
   "execution_count": 558,
   "metadata": {},
   "outputs": [
    {
     "name": "stdout",
     "output_type": "stream",
     "text": [
      "Displaying 6 of 6 matches:\n",
      "ging house in th street just west of sixth avenue the house was run by a short \n",
      " about the middle of a block between sixth and seventh avenues one of the young\n",
      "ed that we go to the club we went to sixth avenue walked two blocks and turned \n",
      "t dark went round to a restaurant on sixth avenue and ate something then walked\n",
      "ed to ten blocks the boundaries were sixth avenue from twenty third to thirty t\n",
      "ss restaurants but i shunned the old sixth avenue district as though it were pe\n"
     ]
    }
   ],
   "source": [
    "autobio.concordance('sixth')"
   ]
  },
  {
   "cell_type": "markdown",
   "metadata": {},
   "source": [
    "Our `KWIC` function is already better than this! But NLTK does let us do some other useful stuff with our new `Text` object.\n",
    "\n",
    "For example, `Text.similar()` simply counts the number of unique *contexts* that words share."
   ]
  },
  {
   "cell_type": "code",
   "execution_count": 559,
   "metadata": {},
   "outputs": [
    {
     "name": "stdout",
     "output_type": "stream",
     "text": [
      "whites blacks them themselves me three shiny him four poor bliss\n",
      "alaska fifth\n"
     ]
    }
   ],
   "source": [
    "autobio.similar('sixth')"
   ]
  },
  {
   "cell_type": "code",
   "execution_count": 560,
   "metadata": {},
   "outputs": [
    {
     "name": "stdout",
     "output_type": "stream",
     "text": [
      "day time race school moment man evening boy newspapers and question\n",
      "people country me place times world once excitement if\n"
     ]
    }
   ],
   "source": [
    "autobio.similar('night')"
   ]
  },
  {
   "cell_type": "code",
   "execution_count": 561,
   "metadata": {},
   "outputs": [
    {
     "name": "stdout",
     "output_type": "stream",
     "text": [
      "club me house men table race it them life place world school others\n",
      "south car paris day country time which\n"
     ]
    }
   ],
   "source": [
    "autobio.similar('music')"
   ]
  },
  {
   "cell_type": "markdown",
   "metadata": {},
   "source": [
    "## What is a \"context\"?\n",
    "Using the same data as with `Text.similar()`, we can see which contexts words share:"
   ]
  },
  {
   "cell_type": "code",
   "execution_count": 562,
   "metadata": {},
   "outputs": [
    {
     "name": "stdout",
     "output_type": "stream",
     "text": [
      "between_and\n"
     ]
    }
   ],
   "source": [
    "autobio.common_contexts(['sixth','whites'])"
   ]
  },
  {
   "cell_type": "code",
   "execution_count": 563,
   "metadata": {},
   "outputs": [
    {
     "name": "stdout",
     "output_type": "stream",
     "text": [
      "between_and\n"
     ]
    }
   ],
   "source": [
    "autobio.common_contexts(['sixth','blacks'])"
   ]
  },
  {
   "cell_type": "code",
   "execution_count": 564,
   "metadata": {},
   "outputs": [
    {
     "name": "stdout",
     "output_type": "stream",
     "text": [
      "the_after that_i one_near one_at one_a one_i the_i that_she the_before\n",
      "the_and one_he\n"
     ]
    }
   ],
   "source": [
    "autobio.common_contexts(['day','night'])"
   ]
  },
  {
   "cell_type": "code",
   "execution_count": 565,
   "metadata": {},
   "outputs": [
    {
     "name": "stdout",
     "output_type": "stream",
     "text": [
      "the_people the_race the_boys a_man the_one the_man the_men as_as\n"
     ]
    }
   ],
   "source": [
    "autobio.common_contexts(['white','black'])"
   ]
  },
  {
   "cell_type": "markdown",
   "metadata": {},
   "source": [
    "In each of the above cases, `'white'` and `'black'` both appear somewhere in the text in the position given by the `_`.\n",
    "\n",
    "i.e. the book contains both the phrase \"the white boys\" and \"the black boys.\""
   ]
  },
  {
   "cell_type": "markdown",
   "metadata": {},
   "source": [
    "## `nltk`'s collocates\n",
    "This enables us to see which words appear next to each other more often than we would expect based on their distributions. By default, it ignores all stopwords.\n",
    "\n",
    "Frequently collocates are used to identify words have a specific meaning when combined that they do not have individually. A classic example would be \"red wine.\" In this context, \"red\" is less a description than a conventional way of referring to some types of wines. We do not talk about \"maroon wine\" or \"crimson wine;\" it has a conventional name.\n",
    "\n",
    "NLTK makes collocates very easy to get:"
   ]
  },
  {
   "cell_type": "code",
   "execution_count": null,
   "metadata": {},
   "outputs": [],
   "source": [
    "autobio.collocation_list(num=20) # the num option tells nltk how many to return"
   ]
  },
  {
   "cell_type": "markdown",
   "metadata": {},
   "source": [
    "You could use the collocates listed here to modify the way you count words in your text. For example, in every case where \"united\" is followed by \"states\" or \"new\" is followed by \"york,\" that phrase refers to a different object than any of those words in isolation."
   ]
  }
 ],
 "metadata": {
  "kernelspec": {
   "display_name": "Python 3",
   "language": "python",
   "name": "python3"
  },
  "language_info": {
   "codemirror_mode": {
    "name": "ipython",
    "version": 3
   },
   "file_extension": ".py",
   "mimetype": "text/x-python",
   "name": "python",
   "nbconvert_exporter": "python",
   "pygments_lexer": "ipython3",
   "version": "3.7.3"
  }
 },
 "nbformat": 4,
 "nbformat_minor": 4
}
