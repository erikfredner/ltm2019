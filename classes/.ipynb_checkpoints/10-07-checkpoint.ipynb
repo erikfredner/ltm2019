{
 "cells": [
  {
   "cell_type": "markdown",
   "metadata": {},
   "source": [
    "# Review from last time"
   ]
  },
  {
   "cell_type": "code",
   "execution_count": 14,
   "metadata": {},
   "outputs": [],
   "source": [
    "# opening files\n",
    "huck = open('/Users/e/Library/Mobile Documents/com~apple~CloudDocs/PhD/ltm/notebooks/huck.txt')"
   ]
  },
  {
   "cell_type": "code",
   "execution_count": 15,
   "metadata": {},
   "outputs": [],
   "source": [
    "# read an open file object to a string\n",
    "huck = huck.read()"
   ]
  },
  {
   "cell_type": "code",
   "execution_count": 16,
   "metadata": {},
   "outputs": [
    {
     "data": {
      "text/plain": [
       "'CHAPTER I.\\nYOU don’t know about me without you hav'"
      ]
     },
     "execution_count": 16,
     "metadata": {},
     "output_type": "execute_result"
    }
   ],
   "source": [
    "huck[:50]"
   ]
  },
  {
   "cell_type": "code",
   "execution_count": 17,
   "metadata": {},
   "outputs": [],
   "source": [
    "# general form of a function\n",
    "def hours2weeks(num_hours):\n",
    "    num_days = num_hours / 24\n",
    "    num_weeks = num_days / 7\n",
    "    return num_weeks"
   ]
  },
  {
   "cell_type": "code",
   "execution_count": 18,
   "metadata": {},
   "outputs": [
    {
     "data": {
      "text/plain": [
       "2.976190476190476"
      ]
     },
     "execution_count": 18,
     "metadata": {},
     "output_type": "execute_result"
    }
   ],
   "source": [
    "hours2weeks(500)"
   ]
  },
  {
   "cell_type": "markdown",
   "metadata": {},
   "source": [
    "Remember that functions must `return` whatever we want to use elsewhere. In the above example, it is `num_weeks`."
   ]
  },
  {
   "cell_type": "code",
   "execution_count": 19,
   "metadata": {},
   "outputs": [
    {
     "data": {
      "text/plain": [
       "2"
      ]
     },
     "execution_count": 19,
     "metadata": {},
     "output_type": "execute_result"
    }
   ],
   "source": [
    "# updating (incrementing) variables with +=\n",
    "a = 1\n",
    "a += 1\n",
    "a"
   ]
  },
  {
   "cell_type": "code",
   "execution_count": 100,
   "metadata": {},
   "outputs": [
    {
     "name": "stdout",
     "output_type": "stream",
     "text": [
      "1\n",
      "0\n",
      "-1\n"
     ]
    }
   ],
   "source": [
    "# decrementing variables with -=\n",
    "a = 2\n",
    "a -= 1\n",
    "print(a)\n",
    "a -= 1\n",
    "print(a)\n",
    "a -= 1\n",
    "print(a)"
   ]
  },
  {
   "cell_type": "markdown",
   "metadata": {},
   "source": [
    "## String mutability\n",
    "Some objects can be changed in place; some cannot. Take a look at the following example:"
   ]
  },
  {
   "cell_type": "code",
   "execution_count": 20,
   "metadata": {},
   "outputs": [],
   "source": [
    "s = 'This is my string. It has capital letters in some FunNy PLaCes.'"
   ]
  },
  {
   "cell_type": "code",
   "execution_count": 21,
   "metadata": {},
   "outputs": [
    {
     "data": {
      "text/plain": [
       "'this is my string. it has capital letters in some funny places.'"
      ]
     },
     "execution_count": 21,
     "metadata": {},
     "output_type": "execute_result"
    }
   ],
   "source": [
    "s.lower()"
   ]
  },
  {
   "cell_type": "code",
   "execution_count": 22,
   "metadata": {},
   "outputs": [
    {
     "data": {
      "text/plain": [
       "'This is my string. It has capital letters in some FunNy PLaCes.'"
      ]
     },
     "execution_count": 22,
     "metadata": {},
     "output_type": "execute_result"
    }
   ],
   "source": [
    "s"
   ]
  },
  {
   "cell_type": "markdown",
   "metadata": {},
   "source": [
    "Strings do not retain the effects of methods like `lower` automatically; you have to update the variable for them to hold. So, for instance:"
   ]
  },
  {
   "cell_type": "code",
   "execution_count": 23,
   "metadata": {},
   "outputs": [],
   "source": [
    "s = s.upper()"
   ]
  },
  {
   "cell_type": "code",
   "execution_count": 24,
   "metadata": {},
   "outputs": [
    {
     "data": {
      "text/plain": [
       "'THIS IS MY STRING. IT HAS CAPITAL LETTERS IN SOME FUNNY PLACES.'"
      ]
     },
     "execution_count": 24,
     "metadata": {},
     "output_type": "execute_result"
    }
   ],
   "source": [
    "s"
   ]
  },
  {
   "cell_type": "markdown",
   "metadata": {},
   "source": [
    "Look up Jupyter namespace"
   ]
  },
  {
   "cell_type": "markdown",
   "metadata": {},
   "source": [
    "## Declaration of variables in functions\n",
    "We don't need to declare variables inside of functions for them to work. We can create them in the function declaration, and pass them as arguments:"
   ]
  },
  {
   "cell_type": "code",
   "execution_count": 25,
   "metadata": {},
   "outputs": [],
   "source": [
    "def repeat_word(word, number):\n",
    "    word = 'gargoyle'\n",
    "    number = 30\n",
    "    return word * number"
   ]
  },
  {
   "cell_type": "code",
   "execution_count": 11,
   "metadata": {},
   "outputs": [
    {
     "ename": "TypeError",
     "evalue": "repeat_word() missing 2 required positional arguments: 'word' and 'number'",
     "output_type": "error",
     "traceback": [
      "\u001b[0;31m---------------------------------------------------------------------------\u001b[0m",
      "\u001b[0;31mTypeError\u001b[0m                                 Traceback (most recent call last)",
      "\u001b[0;32m<ipython-input-11-773ef0a90949>\u001b[0m in \u001b[0;36m<module>\u001b[0;34m\u001b[0m\n\u001b[0;32m----> 1\u001b[0;31m \u001b[0mrepeat_word\u001b[0m\u001b[0;34m(\u001b[0m\u001b[0;34m)\u001b[0m\u001b[0;34m\u001b[0m\u001b[0;34m\u001b[0m\u001b[0m\n\u001b[0m",
      "\u001b[0;31mTypeError\u001b[0m: repeat_word() missing 2 required positional arguments: 'word' and 'number'"
     ]
    }
   ],
   "source": [
    "repeat_word()"
   ]
  },
  {
   "cell_type": "markdown",
   "metadata": {},
   "source": [
    "Why doesn't the above work? Because we need to pass the function the arguments `word` and `number`. By making them abstract, we can make the function useful in more cases:"
   ]
  },
  {
   "cell_type": "code",
   "execution_count": 26,
   "metadata": {},
   "outputs": [],
   "source": [
    "def repeat_word(word, number):\n",
    "    return word * number"
   ]
  },
  {
   "cell_type": "code",
   "execution_count": 27,
   "metadata": {},
   "outputs": [
    {
     "data": {
      "text/plain": [
       "'gargoyle gargoyle gargoyle gargoyle gargoyle gargoyle gargoyle gargoyle gargoyle gargoyle gargoyle gargoyle gargoyle gargoyle gargoyle gargoyle gargoyle gargoyle gargoyle gargoyle gargoyle gargoyle gargoyle gargoyle gargoyle gargoyle gargoyle gargoyle gargoyle gargoyle '"
      ]
     },
     "execution_count": 27,
     "metadata": {},
     "output_type": "execute_result"
    }
   ],
   "source": [
    "repeat_word(word = 'gargoyle ', number = 30)"
   ]
  },
  {
   "cell_type": "code",
   "execution_count": 28,
   "metadata": {},
   "outputs": [
    {
     "data": {
      "text/plain": [
       "'anythinganythinganythinganythinganything'"
      ]
     },
     "execution_count": 28,
     "metadata": {},
     "output_type": "execute_result"
    }
   ],
   "source": [
    "repeat_word('anything',5)"
   ]
  },
  {
   "cell_type": "markdown",
   "metadata": {},
   "source": [
    "# Writing a better keywords in context (KWIC) function\n",
    "We want to create functions that are short, easy to understand, and widely applicable. Our goal here is to create a function that:\n",
    "1. Takes any text.\n",
    "2. Finds every instance of any substring (word, phrase, whatever) in that text.\n",
    "3. `returns` the context in which that substring appears.\n",
    "\n",
    "Let's improve our current example from last class:"
   ]
  },
  {
   "cell_type": "code",
   "execution_count": 29,
   "metadata": {},
   "outputs": [],
   "source": [
    "def kwic(loc):\n",
    "    return huck[loc-75:loc+75]"
   ]
  },
  {
   "cell_type": "markdown",
   "metadata": {},
   "source": [
    "In this basic function, we ask for a location, `loc`, and return the `75` characters on either side of the variable `huck`. This works for most cases:"
   ]
  },
  {
   "cell_type": "code",
   "execution_count": 30,
   "metadata": {},
   "outputs": [
    {
     "data": {
      "text/plain": [
       "'ich he stretched, but mainly he told the truth.  That is nothing.  I never seen anybody but lied one time or another, without it was Aunt Polly, or th'"
      ]
     },
     "execution_count": 30,
     "metadata": {},
     "output_type": "execute_result"
    }
   ],
   "source": [
    "kwic(300)"
   ]
  },
  {
   "cell_type": "markdown",
   "metadata": {},
   "source": [
    "But it does not work well for all:"
   ]
  },
  {
   "cell_type": "code",
   "execution_count": 31,
   "metadata": {},
   "outputs": [
    {
     "data": {
      "text/plain": [
       "''"
      ]
     },
     "execution_count": 31,
     "metadata": {},
     "output_type": "execute_result"
    }
   ],
   "source": [
    "kwic(10)"
   ]
  },
  {
   "cell_type": "markdown",
   "metadata": {},
   "source": [
    "What's going on here? We can use `print` statements to see what our function is doing:"
   ]
  },
  {
   "cell_type": "code",
   "execution_count": 32,
   "metadata": {},
   "outputs": [],
   "source": [
    "def kwic(loc):\n",
    "    print(loc-75)\n",
    "    print(loc+75)\n",
    "    return huck[loc-75:loc+75]"
   ]
  },
  {
   "cell_type": "code",
   "execution_count": 33,
   "metadata": {},
   "outputs": [
    {
     "name": "stdout",
     "output_type": "stream",
     "text": [
      "-65\n",
      "85\n"
     ]
    },
    {
     "data": {
      "text/plain": [
       "''"
      ]
     },
     "execution_count": 33,
     "metadata": {},
     "output_type": "execute_result"
    }
   ],
   "source": [
    "kwic(10)"
   ]
  },
  {
   "cell_type": "markdown",
   "metadata": {},
   "source": [
    "So we know that the command being `returned` is `huck[-65:85]`. That gives us an empty string, `''`, because Python does not support wrap-around indexing. Either of these would be fine:"
   ]
  },
  {
   "cell_type": "code",
   "execution_count": 16,
   "metadata": {},
   "outputs": [
    {
     "data": {
      "text/plain": [
       "'CHAPTER I.\\nYOU don’t know about me without you have read a book by the name of The Ad'"
      ]
     },
     "execution_count": 16,
     "metadata": {},
     "output_type": "execute_result"
    }
   ],
   "source": [
    "huck[:85]"
   ]
  },
  {
   "cell_type": "code",
   "execution_count": 17,
   "metadata": {},
   "outputs": [
    {
     "data": {
      "text/plain": [
       "'he trees, and, sure enough, there was Tom Sawyer waiting for me.\\n'"
      ]
     },
     "execution_count": 17,
     "metadata": {},
     "output_type": "execute_result"
    }
   ],
   "source": [
    "huck[-65:]"
   ]
  },
  {
   "cell_type": "markdown",
   "metadata": {},
   "source": [
    "But they cannot work in combination:"
   ]
  },
  {
   "cell_type": "code",
   "execution_count": 106,
   "metadata": {},
   "outputs": [
    {
     "data": {
      "text/plain": [
       "''"
      ]
     },
     "execution_count": 106,
     "metadata": {},
     "output_type": "execute_result"
    }
   ],
   "source": [
    "huck[-65:85]"
   ]
  },
  {
   "cell_type": "code",
   "execution_count": 107,
   "metadata": {},
   "outputs": [
    {
     "data": {
      "text/plain": [
       "''"
      ]
     },
     "execution_count": 107,
     "metadata": {},
     "output_type": "execute_result"
    }
   ],
   "source": [
    "huck[-1:1]"
   ]
  },
  {
   "cell_type": "markdown",
   "metadata": {},
   "source": [
    "One way to fix this problem would be by setting minimum and maximum values. I use `mn` and `mx` as variable names because `min` and `max` are reserved words in Python:"
   ]
  },
  {
   "cell_type": "code",
   "execution_count": 18,
   "metadata": {},
   "outputs": [],
   "source": [
    "def kwic(loc):\n",
    "    mn = 0 # avoid negative indexing; always start from the beginning\n",
    "    mx = len(huck) # we never need to go further than the length of the text\n",
    "    return huck[loc-75:loc+76]"
   ]
  },
  {
   "cell_type": "markdown",
   "metadata": {},
   "source": [
    "We know what our minimum and maximum values should be and how to represent them, but we don't know how to *test* whether our value will be above or below our min/max. This is where **Boolean operators** come in."
   ]
  },
  {
   "cell_type": "markdown",
   "metadata": {},
   "source": [
    "# Booleans\n",
    "We can test conditions about our values with what are called Boolean operations. Boolean operations return `True` or `False`, which are reserved words in Python. There are a large number of ways that we can get Boolean results (\"bools\"). Here are a few examples:"
   ]
  },
  {
   "cell_type": "code",
   "execution_count": 19,
   "metadata": {},
   "outputs": [
    {
     "data": {
      "text/plain": [
       "True"
      ]
     },
     "execution_count": 19,
     "metadata": {},
     "output_type": "execute_result"
    }
   ],
   "source": [
    "2 > 1"
   ]
  },
  {
   "cell_type": "code",
   "execution_count": 20,
   "metadata": {},
   "outputs": [
    {
     "data": {
      "text/plain": [
       "False"
      ]
     },
     "execution_count": 20,
     "metadata": {},
     "output_type": "execute_result"
    }
   ],
   "source": [
    "2 < 1"
   ]
  },
  {
   "cell_type": "code",
   "execution_count": 34,
   "metadata": {},
   "outputs": [],
   "source": [
    "a = 1"
   ]
  },
  {
   "cell_type": "code",
   "execution_count": 35,
   "metadata": {},
   "outputs": [
    {
     "data": {
      "text/plain": [
       "1"
      ]
     },
     "execution_count": 35,
     "metadata": {},
     "output_type": "execute_result"
    }
   ],
   "source": [
    "a"
   ]
  },
  {
   "cell_type": "code",
   "execution_count": 36,
   "metadata": {},
   "outputs": [],
   "source": [
    "b = 2"
   ]
  },
  {
   "cell_type": "code",
   "execution_count": 37,
   "metadata": {},
   "outputs": [
    {
     "data": {
      "text/plain": [
       "2"
      ]
     },
     "execution_count": 37,
     "metadata": {},
     "output_type": "execute_result"
    }
   ],
   "source": [
    "b"
   ]
  },
  {
   "cell_type": "code",
   "execution_count": 38,
   "metadata": {},
   "outputs": [
    {
     "data": {
      "text/plain": [
       "False"
      ]
     },
     "execution_count": 38,
     "metadata": {},
     "output_type": "execute_result"
    }
   ],
   "source": [
    "a == b"
   ]
  },
  {
   "cell_type": "code",
   "execution_count": 21,
   "metadata": {},
   "outputs": [
    {
     "data": {
      "text/plain": [
       "True"
      ]
     },
     "execution_count": 21,
     "metadata": {},
     "output_type": "execute_result"
    }
   ],
   "source": [
    "1 == 1 # == tests for equivalency"
   ]
  },
  {
   "cell_type": "code",
   "execution_count": 108,
   "metadata": {},
   "outputs": [
    {
     "data": {
      "text/plain": [
       "False"
      ]
     },
     "execution_count": 108,
     "metadata": {},
     "output_type": "execute_result"
    }
   ],
   "source": [
    "1 == 0"
   ]
  },
  {
   "cell_type": "markdown",
   "metadata": {},
   "source": [
    "A common mistake people new to Python make is mixing up `=` and `==`. Think of `x=y` as saying \"`x` takes the value of `y`.\" By contrast, `x==y` asks, \"is `x` equal to `y`?\" and returns `True` or `False`."
   ]
  },
  {
   "cell_type": "code",
   "execution_count": 22,
   "metadata": {},
   "outputs": [
    {
     "data": {
      "text/plain": [
       "True"
      ]
     },
     "execution_count": 22,
     "metadata": {},
     "output_type": "execute_result"
    }
   ],
   "source": [
    "'False' == 'False'"
   ]
  },
  {
   "cell_type": "code",
   "execution_count": 23,
   "metadata": {},
   "outputs": [
    {
     "data": {
      "text/plain": [
       "False"
      ]
     },
     "execution_count": 23,
     "metadata": {},
     "output_type": "execute_result"
    }
   ],
   "source": [
    "'false' == 'False'"
   ]
  },
  {
   "cell_type": "markdown",
   "metadata": {},
   "source": [
    "Under the hood, `True` and `False` in Python are actually special representations of the numbers `1` and `0` respectively. Therefore:"
   ]
  },
  {
   "cell_type": "code",
   "execution_count": 24,
   "metadata": {},
   "outputs": [
    {
     "data": {
      "text/plain": [
       "True"
      ]
     },
     "execution_count": 24,
     "metadata": {},
     "output_type": "execute_result"
    }
   ],
   "source": [
    "True > 0"
   ]
  },
  {
   "cell_type": "code",
   "execution_count": 25,
   "metadata": {},
   "outputs": [
    {
     "data": {
      "text/plain": [
       "True"
      ]
     },
     "execution_count": 25,
     "metadata": {},
     "output_type": "execute_result"
    }
   ],
   "source": [
    "False == 0"
   ]
  },
  {
   "cell_type": "code",
   "execution_count": 26,
   "metadata": {},
   "outputs": [
    {
     "data": {
      "text/plain": [
       "True"
      ]
     },
     "execution_count": 26,
     "metadata": {},
     "output_type": "execute_result"
    }
   ],
   "source": [
    "False < True"
   ]
  },
  {
   "cell_type": "markdown",
   "metadata": {},
   "source": [
    "You would never use these in this way, but it is useful to know that they work this way in case you see unexpected behaviors."
   ]
  },
  {
   "cell_type": "markdown",
   "metadata": {},
   "source": [
    "## Non-equivalence\n",
    "How do we test if things are *not* equal? You could ask for a response of `False` to `==`. Or:"
   ]
  },
  {
   "cell_type": "code",
   "execution_count": 27,
   "metadata": {},
   "outputs": [
    {
     "data": {
      "text/plain": [
       "True"
      ]
     },
     "execution_count": 27,
     "metadata": {},
     "output_type": "execute_result"
    }
   ],
   "source": [
    "False != True"
   ]
  },
  {
   "cell_type": "code",
   "execution_count": 28,
   "metadata": {},
   "outputs": [
    {
     "data": {
      "text/plain": [
       "False"
      ]
     },
     "execution_count": 28,
     "metadata": {},
     "output_type": "execute_result"
    }
   ],
   "source": [
    "2 != 2"
   ]
  },
  {
   "cell_type": "markdown",
   "metadata": {},
   "source": [
    "You'll also need greater than or equal to, and less than or equal to:"
   ]
  },
  {
   "cell_type": "code",
   "execution_count": 29,
   "metadata": {},
   "outputs": [
    {
     "data": {
      "text/plain": [
       "True"
      ]
     },
     "execution_count": 29,
     "metadata": {},
     "output_type": "execute_result"
    }
   ],
   "source": [
    "1 >= 1"
   ]
  },
  {
   "cell_type": "code",
   "execution_count": 30,
   "metadata": {},
   "outputs": [
    {
     "data": {
      "text/plain": [
       "True"
      ]
     },
     "execution_count": 30,
     "metadata": {},
     "output_type": "execute_result"
    }
   ],
   "source": [
    "2 >= 1"
   ]
  },
  {
   "cell_type": "code",
   "execution_count": 31,
   "metadata": {},
   "outputs": [
    {
     "data": {
      "text/plain": [
       "True"
      ]
     },
     "execution_count": 31,
     "metadata": {},
     "output_type": "execute_result"
    }
   ],
   "source": [
    "1 <= 2"
   ]
  },
  {
   "cell_type": "code",
   "execution_count": 32,
   "metadata": {},
   "outputs": [
    {
     "data": {
      "text/plain": [
       "False"
      ]
     },
     "execution_count": 32,
     "metadata": {},
     "output_type": "execute_result"
    }
   ],
   "source": [
    "1 <= 0"
   ]
  },
  {
   "cell_type": "markdown",
   "metadata": {},
   "source": [
    "## Testing our values\n",
    "Back in our `kwic` function, we can now ask if the numbers we pass it are going to cause problems given how string slicing in Python works:"
   ]
  },
  {
   "cell_type": "code",
   "execution_count": 39,
   "metadata": {},
   "outputs": [],
   "source": [
    "def kwic(loc):\n",
    "    mn = 0\n",
    "    mx = len(huck)\n",
    "    window = 75 # setting the number of characters we want to see on either side of loc\n",
    "    print('min ok?', loc - window >= mn)\n",
    "    print('max ok?', loc + window <= mx)\n",
    "    return huck[loc-75:loc+76]"
   ]
  },
  {
   "cell_type": "code",
   "execution_count": 34,
   "metadata": {},
   "outputs": [
    {
     "name": "stdout",
     "output_type": "stream",
     "text": [
      "min ok? False\n",
      "max ok? True\n"
     ]
    },
    {
     "data": {
      "text/plain": [
       "''"
      ]
     },
     "execution_count": 34,
     "metadata": {},
     "output_type": "execute_result"
    }
   ],
   "source": [
    "kwic(5)"
   ]
  },
  {
   "cell_type": "code",
   "execution_count": 35,
   "metadata": {},
   "outputs": [
    {
     "name": "stdout",
     "output_type": "stream",
     "text": [
      "min ok? True\n",
      "max ok? True\n"
     ]
    },
    {
     "data": {
      "text/plain": [
       "'CHAPTER I.\\nYOU don’t know about me without you have read a book by the name of The Adventures of Tom Sawyer; but that ain’t no matter.  That book was m'"
      ]
     },
     "execution_count": 35,
     "metadata": {},
     "output_type": "execute_result"
    }
   ],
   "source": [
    "kwic(75)"
   ]
  },
  {
   "cell_type": "markdown",
   "metadata": {},
   "source": [
    "Now our function will tell us when there are problems, and where they are.\n",
    "\n",
    "But wouldn't it be better if it could fix them for us?"
   ]
  },
  {
   "cell_type": "markdown",
   "metadata": {},
   "source": [
    "# Logic gates and conditional operations: `if`, `and`, `or`, `not`, `else`\n",
    "This is a classic computer problem: A computer asks a human to do something, the human does something, and the computer wants to know if they did what was asked. Think of when a website checks your password to make sure it has a special characters, or is of a certain length. With the material in this next section, we'll know enough to write one of those!\n",
    "\n",
    "Python makes conditional operations easy:"
   ]
  },
  {
   "cell_type": "code",
   "execution_count": null,
   "metadata": {},
   "outputs": [],
   "source": [
    "def fun(x):\n",
    "    # do something\n",
    "    pass"
   ]
  },
  {
   "cell_type": "code",
   "execution_count": 40,
   "metadata": {},
   "outputs": [
    {
     "name": "stdout",
     "output_type": "stream",
     "text": [
      "that was easy\n"
     ]
    }
   ],
   "source": [
    "if 1 < 2:\n",
    "    print('that was easy')"
   ]
  },
  {
   "cell_type": "markdown",
   "metadata": {},
   "source": [
    "The general form looks like this:"
   ]
  },
  {
   "cell_type": "code",
   "execution_count": 114,
   "metadata": {},
   "outputs": [],
   "source": [
    "if x:\n",
    "    # do something\n",
    "    pass # pass is a reserve word in Python explicitly instructing the program to do nothing, but not crash\n",
    "else:\n",
    "    # do something different\n",
    "    pass "
   ]
  },
  {
   "cell_type": "markdown",
   "metadata": {},
   "source": [
    "Note two things:\n",
    "1. Like `def function(x):`, conditionals end with a `:`\n",
    "2. Also like `def function(x)`, the conditions are evaluated inside of an indented block under the declaration."
   ]
  },
  {
   "cell_type": "code",
   "execution_count": 41,
   "metadata": {},
   "outputs": [
    {
     "name": "stdout",
     "output_type": "stream",
     "text": [
      "hooray\n"
     ]
    }
   ],
   "source": [
    "if 'a' == 'a':\n",
    "    print('hooray')"
   ]
  },
  {
   "cell_type": "markdown",
   "metadata": {},
   "source": [
    "Sometimes you want the computer to do one thing `if` a condition is `True`, and something `else` in all other cases:"
   ]
  },
  {
   "cell_type": "code",
   "execution_count": 42,
   "metadata": {},
   "outputs": [
    {
     "name": "stdout",
     "output_type": "stream",
     "text": [
      "not everything I know is a lie\n"
     ]
    }
   ],
   "source": [
    "if 'a' == 'b':\n",
    "    print('everything I know is a lie')\n",
    "else: # for all other cases...\n",
    "    print('not everything I know is a lie')"
   ]
  },
  {
   "cell_type": "markdown",
   "metadata": {},
   "source": [
    "Python executes one line at a time, top to bottom. Here, the first `if` statement is evaluated. Depending on its result, Python will either skip the `else`, or execute it."
   ]
  },
  {
   "cell_type": "code",
   "execution_count": 116,
   "metadata": {},
   "outputs": [
    {
     "name": "stdout",
     "output_type": "stream",
     "text": [
      "a is a\n"
     ]
    }
   ],
   "source": [
    "if 'a' == 'a':\n",
    "    print('a is a')\n",
    "else:\n",
    "    print('nothing is anything')"
   ]
  },
  {
   "cell_type": "markdown",
   "metadata": {},
   "source": [
    "You can check multiple conditions in sequence using multiple successive `if` statements:"
   ]
  },
  {
   "cell_type": "code",
   "execution_count": 51,
   "metadata": {},
   "outputs": [],
   "source": [
    "favorite_word = 'applesauce'"
   ]
  },
  {
   "cell_type": "code",
   "execution_count": 57,
   "metadata": {},
   "outputs": [
    {
     "name": "stdout",
     "output_type": "stream",
     "text": [
      "your favorite word is too short\n"
     ]
    }
   ],
   "source": [
    "if len(favorite_word) < 10:\n",
    "    print('your favorite word is too short')\n",
    "if len(favorite_word) == 10:\n",
    "    print('your favorite word is just right')\n",
    "if len(favorite_word) > 10:\n",
    "    print('your favorite word is too long')"
   ]
  },
  {
   "cell_type": "code",
   "execution_count": 55,
   "metadata": {},
   "outputs": [],
   "source": [
    "favorite_word = 'applesauces'"
   ]
  },
  {
   "cell_type": "code",
   "execution_count": 56,
   "metadata": {},
   "outputs": [],
   "source": [
    "favorite_word = 'apples'"
   ]
  },
  {
   "cell_type": "markdown",
   "metadata": {},
   "source": [
    "## Multiple conditions\n",
    "Sometimes you only want to take an action if multiple conditions are simultaneously true.\n",
    "\n",
    "You can check multiple conditions simultaneously using `and` and `or` operators:"
   ]
  },
  {
   "cell_type": "code",
   "execution_count": 61,
   "metadata": {},
   "outputs": [],
   "source": [
    "favorite_word = 'art'"
   ]
  },
  {
   "cell_type": "code",
   "execution_count": 63,
   "metadata": {},
   "outputs": [
    {
     "name": "stdout",
     "output_type": "stream",
     "text": [
      "you picked the correct favorite word\n"
     ]
    }
   ],
   "source": [
    "if len(favorite_word) == 10 or favorite_word[0] == 'a': # checking the length of the word and the first character\n",
    "    print('you picked the correct favorite word')"
   ]
  },
  {
   "cell_type": "markdown",
   "metadata": {},
   "source": [
    "With `and`, both conditions must be `True` for the block to execute. With `or`, only one must be `True` for the block to execute.\n",
    "\n",
    "You can think of `or` statements as saying \"if either condition 1 `or` condition 2 is `True`, then do something.\"\n",
    "\n",
    "For `and` statements: \"if condition 1 `and` condition 2 are both `True`, then do something.\""
   ]
  },
  {
   "cell_type": "code",
   "execution_count": 64,
   "metadata": {},
   "outputs": [
    {
     "name": "stdout",
     "output_type": "stream",
     "text": [
      "True\n",
      "True\n",
      "see? the block ran because at least one or condition was true\n"
     ]
    }
   ],
   "source": [
    "if len(favorite_word) < 10 or favorite_word[0] == 'a':\n",
    "    print(len(favorite_word) < 10)\n",
    "    print(favorite_word[0] == 'a')\n",
    "    print('see? the block ran because at least one or condition was true')"
   ]
  },
  {
   "cell_type": "markdown",
   "metadata": {},
   "source": [
    "Finally, you can check if things are `not` the case using multiple methods:"
   ]
  },
  {
   "cell_type": "code",
   "execution_count": 65,
   "metadata": {},
   "outputs": [
    {
     "name": "stdout",
     "output_type": "stream",
     "text": [
      "tsk tsk\n"
     ]
    }
   ],
   "source": [
    "if favorite_word != 'applesauce': # != reads as \"is not equal to\"\n",
    "    print('tsk tsk')\n",
    "else:\n",
    "    print('we love', favorite_word)"
   ]
  },
  {
   "cell_type": "markdown",
   "metadata": {},
   "source": [
    "`not` can be used in much the same way:"
   ]
  },
  {
   "cell_type": "code",
   "execution_count": 66,
   "metadata": {},
   "outputs": [],
   "source": [
    "favorite_word='syzygy'"
   ]
  },
  {
   "cell_type": "code",
   "execution_count": 69,
   "metadata": {},
   "outputs": [
    {
     "name": "stdout",
     "output_type": "stream",
     "text": [
      "your favorite word syzygy should be applesauce\n"
     ]
    }
   ],
   "source": [
    "if not favorite_word == 'applesauce':\n",
    "    print('your favorite word', favorite_word, 'should be applesauce')\n",
    "else:\n",
    "    print('we love', favorite_word)"
   ]
  },
  {
   "cell_type": "code",
   "execution_count": 70,
   "metadata": {},
   "outputs": [],
   "source": [
    "if not 2 > 1:\n",
    "    print('you are dreaming')"
   ]
  },
  {
   "cell_type": "markdown",
   "metadata": {},
   "source": [
    "Finally, `not` is often used to find out if variables contain values. For example:"
   ]
  },
  {
   "cell_type": "code",
   "execution_count": 73,
   "metadata": {},
   "outputs": [
    {
     "name": "stdout",
     "output_type": "stream",
     "text": [
      "pick a favorite word already!\n"
     ]
    }
   ],
   "source": [
    "favorite_word = ''\n",
    "if not favorite_word:\n",
    "    print('pick a favorite word already!')"
   ]
  },
  {
   "cell_type": "markdown",
   "metadata": {},
   "source": [
    "As seen in the above example, an empty string `''` does not exist from Python's perspective."
   ]
  },
  {
   "cell_type": "markdown",
   "metadata": {},
   "source": [
    "You might read this to yourself as, \"`if` it is `not` the case that `favorite_word` has a value, then (`:`)...\""
   ]
  },
  {
   "cell_type": "markdown",
   "metadata": {},
   "source": [
    "# Let's fix our `kwic` function\n",
    "With our Boolean knowledge, we can improve our KWIC function:"
   ]
  },
  {
   "cell_type": "code",
   "execution_count": 156,
   "metadata": {},
   "outputs": [],
   "source": [
    "def kwic(loc):\n",
    "    mn = 0\n",
    "    mx = len(huck)\n",
    "    window = 75\n",
    "    if loc - window < mn:\n",
    "        print('loc too low')\n",
    "    if loc + window > mx:\n",
    "        print('loc too high')\n",
    "    return huck[loc - window:loc + window]"
   ]
  },
  {
   "cell_type": "code",
   "execution_count": 157,
   "metadata": {},
   "outputs": [
    {
     "name": "stdout",
     "output_type": "stream",
     "text": [
      "loc too low\n"
     ]
    },
    {
     "data": {
      "text/plain": [
       "''"
      ]
     },
     "execution_count": 157,
     "metadata": {},
     "output_type": "execute_result"
    }
   ],
   "source": [
    "kwic(1)"
   ]
  },
  {
   "cell_type": "code",
   "execution_count": 158,
   "metadata": {},
   "outputs": [
    {
     "name": "stdout",
     "output_type": "stream",
     "text": [
      "loc too high\n"
     ]
    },
    {
     "data": {
      "text/plain": [
       "''"
      ]
     },
     "execution_count": 158,
     "metadata": {},
     "output_type": "execute_result"
    }
   ],
   "source": [
    "kwic(10000)"
   ]
  },
  {
   "cell_type": "markdown",
   "metadata": {},
   "source": [
    "Great! We can catch the *reason* why the function was misbehaving. But we can go one step further and have the computer fix it for us.\n",
    "\n",
    "Fixing it will also improve the function in general. Functions work best when they are:\n",
    "1. simple\n",
    "2. short\n",
    "3. abstract"
   ]
  },
  {
   "cell_type": "markdown",
   "metadata": {},
   "source": [
    "The advantages of the first two are pretty obvious, but the third is a little more complicated.\n",
    "\n",
    "There are a lot of things about our current `kwic` that are specific rather than abstract.\n",
    "\n",
    "For one, we have designed it so that the variable `loc`, which the user passes to the function, *always* goes directly to the `return` statement. We can change that so that the function can intervene when necessary:"
   ]
  },
  {
   "cell_type": "code",
   "execution_count": 74,
   "metadata": {},
   "outputs": [],
   "source": [
    "def kwic(loc):\n",
    "    mn = 0\n",
    "    mx = len(huck)\n",
    "    window = 75\n",
    "    start = loc - window\n",
    "    stop = loc + window\n",
    "    \n",
    "    if start < mn:\n",
    "        start = mn\n",
    "        stop = loc + window\n",
    "    if stop > mx:\n",
    "        start = mx - window\n",
    "        stop = mx\n",
    "        \n",
    "    return huck[start:stop]"
   ]
  },
  {
   "cell_type": "markdown",
   "metadata": {},
   "source": [
    "Here, I created a series of tests using boolean values to make sure that the function could never request less nor more than the entire text. That solves many of our problems. "
   ]
  },
  {
   "cell_type": "code",
   "execution_count": 75,
   "metadata": {},
   "outputs": [
    {
     "data": {
      "text/plain": [
       "'CHAPTER I.\\nYOU don’t know about me without you have read a book by the name '"
      ]
     },
     "execution_count": 75,
     "metadata": {},
     "output_type": "execute_result"
    }
   ],
   "source": [
    "kwic(1)"
   ]
  },
  {
   "cell_type": "code",
   "execution_count": 76,
   "metadata": {},
   "outputs": [
    {
     "data": {
      "text/plain": [
       "'in among the trees, and, sure enough, there was Tom Sawyer waiting for me.\\n'"
      ]
     },
     "execution_count": 76,
     "metadata": {},
     "output_type": "execute_result"
    }
   ],
   "source": [
    "kwic(10000)"
   ]
  },
  {
   "cell_type": "markdown",
   "metadata": {},
   "source": [
    "# Abstracting\n",
    "We can make this function more abstract, and therefore more useful in a wider variety of contexts. We want to make it possible to get the context for any word in any text.\n",
    "\n",
    "`window` is still set to a fixed value. We can give our function a `default` value in the fuction definition, but that also allows the user to change it:"
   ]
  },
  {
   "cell_type": "code",
   "execution_count": 78,
   "metadata": {},
   "outputs": [],
   "source": [
    "def kwic(loc, window = 75):\n",
    "    mn = 0\n",
    "    mx = len(huck)\n",
    "    start = loc - window\n",
    "    stop = loc + window\n",
    "    \n",
    "    if start < mn:\n",
    "        start = mn\n",
    "        stop = window\n",
    "    if stop > mx:\n",
    "        start = mx - window\n",
    "        stop = mx\n",
    "        \n",
    "    return huck[start:stop]"
   ]
  },
  {
   "cell_type": "code",
   "execution_count": 79,
   "metadata": {},
   "outputs": [
    {
     "data": {
      "text/plain": [
       "' Sawyer; but that ain’t no matter.  That book was made by Mr. Mark Twain, and he told the truth, mainly.  There was things which he stretched, but mainly he told the truth.  That is nothing.  I never seen anybody but lied one time or another, without it was Aunt Polly, or the widow, or maybe Mary.  Aunt Polly—Tom’s Aunt Polly, she is—and Mary, and the Widow Douglas is all told about in that book, '"
      ]
     },
     "execution_count": 79,
     "metadata": {},
     "output_type": "execute_result"
    }
   ],
   "source": [
    "kwic(loc = 300, window = 200)"
   ]
  },
  {
   "cell_type": "code",
   "execution_count": 80,
   "metadata": {},
   "outputs": [
    {
     "data": {
      "text/plain": [
       "'ich he stretched, but mainly he told the truth.  That is nothing.  I never seen anybody but lied one time or another, without it was Aunt Polly, or th'"
      ]
     },
     "execution_count": 80,
     "metadata": {},
     "output_type": "execute_result"
    }
   ],
   "source": [
    "kwic(loc = 300)"
   ]
  },
  {
   "cell_type": "markdown",
   "metadata": {},
   "source": [
    "We can give our functions multiple arguments. We can assign default values in the functions as above, but the user can override them.\n",
    "\n",
    "So let's abstract a little further: Why should our `text` always be `huck`?"
   ]
  },
  {
   "cell_type": "code",
   "execution_count": 81,
   "metadata": {},
   "outputs": [],
   "source": [
    "def kwic(loc, window = 75, text = huck):\n",
    "    mn = 0\n",
    "    mx = len(text)\n",
    "    start = loc - window\n",
    "    stop = loc + window\n",
    "    \n",
    "    if start < mn:\n",
    "        start = mn\n",
    "        stop = window\n",
    "    if stop > mx:\n",
    "        start = mx - window\n",
    "        stop = mx\n",
    "        \n",
    "    return text[start:stop]"
   ]
  },
  {
   "cell_type": "code",
   "execution_count": 82,
   "metadata": {},
   "outputs": [
    {
     "data": {
      "text/plain": [
       "'his function is gett'"
      ]
     },
     "execution_count": 82,
     "metadata": {},
     "output_type": "execute_result"
    }
   ],
   "source": [
    "kwic(loc = 15, window = 10, text = 'Now this function is getting pretty abstract!')"
   ]
  },
  {
   "cell_type": "markdown",
   "metadata": {},
   "source": [
    "# How to `find` specific words?\n",
    "Our KWIC function is working well with locations we give it. But we ultimately want to know things about words, not character positions.\n",
    "\n",
    "Let's write another function to `find` locations that we can pass to `kwic`."
   ]
  },
  {
   "cell_type": "code",
   "execution_count": 83,
   "metadata": {},
   "outputs": [],
   "source": [
    "def find_next(word, text = huck, loc = 0):\n",
    "    return text.find(word, loc)"
   ]
  },
  {
   "cell_type": "code",
   "execution_count": 169,
   "metadata": {},
   "outputs": [
    {
     "data": {
      "text/plain": [
       "326"
      ]
     },
     "execution_count": 169,
     "metadata": {},
     "output_type": "execute_result"
    }
   ],
   "source": [
    "find_next('time')"
   ]
  },
  {
   "cell_type": "markdown",
   "metadata": {},
   "source": [
    "Note that I have set default values above, but we could theoretically use `find_next` with any word, any text, and `find` from any character position.\n",
    "\n",
    "This is an abstract way of writing the `find` methods we were doing by hand before. Because it is abstract, we can combine this inside another function to print KWICs automatically:"
   ]
  },
  {
   "cell_type": "code",
   "execution_count": 84,
   "metadata": {},
   "outputs": [],
   "source": [
    "def get_kwics(word):\n",
    "    print('word:', word)\n",
    "    loc = find_next(word = word) # note that there I call my custom function find_next()\n",
    "    print('loc:', loc)\n",
    "    print('kwic:', kwic(loc = loc))"
   ]
  },
  {
   "cell_type": "code",
   "execution_count": 173,
   "metadata": {},
   "outputs": [
    {
     "name": "stdout",
     "output_type": "stream",
     "text": [
      "word: time\n",
      "loc: 326\n",
      "kwic: ly he told the truth.  That is nothing.  I never seen anybody but lied one time or another, without it was Aunt Polly, or the widow, or maybe Mary.  A\n"
     ]
    }
   ],
   "source": [
    "get_kwics(word = 'time')"
   ]
  },
  {
   "cell_type": "code",
   "execution_count": 174,
   "metadata": {},
   "outputs": [
    {
     "name": "stdout",
     "output_type": "stream",
     "text": [
      "word: Tom\n",
      "loc: 97\n",
      "kwic: now about me without you have read a book by the name of The Adventures of Tom Sawyer; but that ain’t no matter.  That book was made by Mr. Mark Twain\n"
     ]
    }
   ],
   "source": [
    "get_kwics(word = 'Tom')"
   ]
  },
  {
   "cell_type": "markdown",
   "metadata": {},
   "source": [
    "So, `get_kwics` will now allow us to see the first instance of any word in `huck`.\n",
    "\n",
    "How can we re-write it to show us *every* instance of any word?"
   ]
  },
  {
   "cell_type": "markdown",
   "metadata": {},
   "source": [
    "# `while` loops\n",
    "We know that `find` returns positive location values every time it finds an example of a sub-string. When it does not find the target substring, it returns `-1`.\n",
    "\n",
    "We can use that behavior to create a condition that causes a process to be run repeatedly until that condition is met. This is called a `while` loop:"
   ]
  },
  {
   "cell_type": "code",
   "execution_count": 85,
   "metadata": {},
   "outputs": [
    {
     "name": "stdout",
     "output_type": "stream",
     "text": [
      "10\n",
      "9\n",
      "8\n",
      "7\n",
      "6\n",
      "5\n",
      "4\n",
      "3\n",
      "2\n",
      "1\n"
     ]
    }
   ],
   "source": [
    "x = 10\n",
    "while x > 0:\n",
    "    print(x)\n",
    "    x -= 1 # -= works the same as +=, except for subtraction.\n"
   ]
  },
  {
   "cell_type": "markdown",
   "metadata": {},
   "source": [
    "Why is the last item `0`? Because at the *beginning* of that loop, `x = 1`, which is `>0`. Once `x -= 1` happens inside the loop, Python runs `print(x)`, which prints `0`.\n",
    "\n",
    "Then, the next time it checks, `x = 0`. `0 > 0` returns `False`, which stops the `while` loop.\n",
    "\n",
    "The code under the `while` statement repeats until its condition becomes `False`.\n",
    "\n",
    "Because of this, `while` loops can repeat *infinitely* if they are never falsified. This is useful in some cases, but it can also cause problems.\n",
    "\n",
    "The function below demonstrates an infinite loop:"
   ]
  },
  {
   "cell_type": "code",
   "execution_count": null,
   "metadata": {},
   "outputs": [],
   "source": [
    "n = 0\n",
    "\n",
    "while 'this' != 'that':\n",
    "    n += 1\n",
    "    print('\\r{}'.format(n), end='') # this is a trick to prevent each of these numbers from writing on their own line"
   ]
  },
  {
   "cell_type": "markdown",
   "metadata": {},
   "source": [
    "## Interrupting out-of-control loops\n",
    "Of course it is always `True` that `'this'` does not equal `'that'`. Nothing in our program will change either of those values. So, to stop this function, we have to interrupt it.\n",
    "\n",
    "To do that, you must pass a `KeyboardInterrupt`. Press `i i` on your keyboard, or go to the `Kernel` menu and select `Interrupt Kernel`.\n",
    "\n",
    "If you've done it correctly, you'll get an error message."
   ]
  },
  {
   "cell_type": "markdown",
   "metadata": {},
   "source": [
    "# All KWICs for any word\n",
    "We can use the `while` loop in combination with the above functions to print all of the KWICs for a given word. First, we'll update `get_kwics` to return a `loc` value: "
   ]
  },
  {
   "cell_type": "code",
   "execution_count": 87,
   "metadata": {},
   "outputs": [],
   "source": [
    "def get_kwics(word, loc):\n",
    "    print('word:', word)\n",
    "    loc = find_next(word = word, loc = loc)\n",
    "    print('loc:', loc)\n",
    "    \n",
    "    if loc != -1: # condition to only print if we have another valid instance\n",
    "        print('kwic:')\n",
    "        print(kwic(loc = loc))\n",
    "        \n",
    "    return loc # adding a return statement to search for the next instance"
   ]
  },
  {
   "cell_type": "markdown",
   "metadata": {},
   "source": [
    "We need the `loc` in order to find for the first instance that appears after it. As you may recall, we did this before by calling something like:\n",
    "```python\n",
    "string.find('word', loc + 1)\n",
    "```\n",
    "\n",
    "We can use that same logic here to print KWICs automatically:"
   ]
  },
  {
   "cell_type": "code",
   "execution_count": 88,
   "metadata": {},
   "outputs": [
    {
     "name": "stdout",
     "output_type": "stream",
     "text": [
      "word: because\n",
      "loc: 2473\n",
      "kwic:\n",
      "en dead a considerable long time; so then I didn’t care no more about him, because I don’t take no stock in dead people.\n",
      "\n",
      "Pretty soon I wanted to smok\n",
      "\n",
      "\n",
      "word: because\n",
      "loc: 3040\n",
      "kwic:\n",
      "d some good in it.  And she took snuff, too; of course that was all right, because she done it herself.\n",
      "Her sister, Miss Watson, a tolerable slim old \n",
      "\n",
      "\n",
      "word: because\n",
      "loc: 4110\n",
      "kwic:\n",
      "s going, so I made up my mind I wouldn’t try for it.  But I never said so, because it would only make trouble, and wouldn’t do no good.\n",
      "\n",
      "Now she had g\n",
      "\n",
      "\n",
      "word: because\n",
      "loc: 4539\n",
      "kwic:\n",
      "o there, and she said not by a considerable sight.  I was glad about that, because I wanted him and me to be together.\n",
      "Miss Watson she kept pecking at\n",
      "\n",
      "\n",
      "word: because\n",
      "loc: -1\n",
      "\n",
      "\n",
      "total instances of \"because\": 4\n"
     ]
    }
   ],
   "source": [
    "loc = 0\n",
    "total = 0 # to count the number of instances of the word\n",
    "word = 'because'\n",
    "\n",
    "while loc != -1:\n",
    "    loc = get_kwics(word = word, loc = loc + 1) # need to add 1 here to search for the next instance\n",
    "    total += 1 # to count how many instances we have\n",
    "    print('\\n') # just to make it a little easier to read\n",
    "\n",
    "print('total instances of \"{}\": {}'.format(word,total-1)) # -1 because it loops once through with -1 as the value"
   ]
  },
  {
   "cell_type": "markdown",
   "metadata": {},
   "source": [
    "This is getting there! We can set any word in `word` and automatically see all of the contexts in which it appears. We can customize the length, the text, and pretty much anything about it we want."
   ]
  },
  {
   "cell_type": "markdown",
   "metadata": {},
   "source": [
    "# Summary\n",
    "1. We reviewed last class's material.\n",
    "2. We discussed characteristics of good functions: simple, short, abstract.\n",
    "3. We learned about Booleans (`True` and `False`).\n",
    "4. We learned about logic gates and control flow (`if`, `else`, `and`, etc.)\n",
    "5. We used what we learned to improve our `kwic` function and automate output.\n",
    "6. We learned how functions and loops can call each other.\n",
    "7. We learned how to revise and improve functions iteratively, changing their behaviors to meet our needs."
   ]
  },
  {
   "cell_type": "markdown",
   "metadata": {},
   "source": [
    "# Practice\n",
    "`kwic` can be improved further. One obvious problem is that it `prints` `word` and `loc` one more time when `loc == -1`.\n",
    "\n",
    "How could you revise the function to prevent that behavior? Which part of the function would you have to edit to get the desired result?"
   ]
  }
 ],
 "metadata": {
  "kernelspec": {
   "display_name": "Python 3",
   "language": "python",
   "name": "python3"
  },
  "language_info": {
   "codemirror_mode": {
    "name": "ipython",
    "version": 3
   },
   "file_extension": ".py",
   "mimetype": "text/x-python",
   "name": "python",
   "nbconvert_exporter": "python",
   "pygments_lexer": "ipython3",
   "version": "3.7.3"
  }
 },
 "nbformat": 4,
 "nbformat_minor": 4
}
