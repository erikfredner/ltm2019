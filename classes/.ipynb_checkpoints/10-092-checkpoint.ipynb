{
 "cells": [
  {
   "cell_type": "markdown",
   "metadata": {},
   "source": [
    "# Conceptual review\n",
    "* Functions that are simple and abstract can be used in a wide variety of contexts.\n",
    "* Abstract functions avoid hard-coding specifics wherever possible.\n",
    "* We can test whether statements are `True` or `False` with Boolean expressions.\n",
    "* We can use Boolean values and conditionals like `if` to perform specific actions given specific conditions.\n",
    "* We can use looping constructs like `while` to perform actions repeatedly until a Boolean condition is met.\n",
    "* We can combine all of these elements to write useful functions."
   ]
  },
  {
   "cell_type": "markdown",
   "metadata": {},
   "source": [
    "# Code review"
   ]
  },
  {
   "cell_type": "markdown",
   "metadata": {},
   "source": [
    "## Boolean expressions\n",
    "Basically, any statement that returns `True` or `False`."
   ]
  },
  {
   "cell_type": "code",
   "execution_count": 1,
   "metadata": {},
   "outputs": [
    {
     "data": {
      "text/plain": [
       "True"
      ]
     },
     "execution_count": 1,
     "metadata": {},
     "output_type": "execute_result"
    }
   ],
   "source": [
    "100 > 1"
   ]
  },
  {
   "cell_type": "code",
   "execution_count": 3,
   "metadata": {},
   "outputs": [
    {
     "data": {
      "text/plain": [
       "False"
      ]
     },
     "execution_count": 3,
     "metadata": {},
     "output_type": "execute_result"
    }
   ],
   "source": [
    "100 == 1 # remember == means \"is equal to\""
   ]
  },
  {
   "cell_type": "code",
   "execution_count": 4,
   "metadata": {},
   "outputs": [
    {
     "data": {
      "text/plain": [
       "True"
      ]
     },
     "execution_count": 4,
     "metadata": {},
     "output_type": "execute_result"
    }
   ],
   "source": [
    "100 != 1 # != means \"is not equal to\""
   ]
  },
  {
   "cell_type": "markdown",
   "metadata": {},
   "source": [
    "Another important Boolean operator for the work we do in this class is `in`:"
   ]
  },
  {
   "cell_type": "code",
   "execution_count": 5,
   "metadata": {},
   "outputs": [],
   "source": [
    "beatles = 'we all live in a yellow submarine'"
   ]
  },
  {
   "cell_type": "code",
   "execution_count": 6,
   "metadata": {},
   "outputs": [
    {
     "data": {
      "text/plain": [
       "True"
      ]
     },
     "execution_count": 6,
     "metadata": {},
     "output_type": "execute_result"
    }
   ],
   "source": [
    "'yellow' in beatles"
   ]
  },
  {
   "cell_type": "markdown",
   "metadata": {},
   "source": [
    "`in` checks whether a particular object wholly exists within another object under certain conditions. So:"
   ]
  },
  {
   "cell_type": "code",
   "execution_count": 7,
   "metadata": {},
   "outputs": [
    {
     "data": {
      "text/plain": [
       "True"
      ]
     },
     "execution_count": 7,
     "metadata": {},
     "output_type": "execute_result"
    }
   ],
   "source": [
    "'yello' in beatles # because 'yello' appears in 'yellow'"
   ]
  },
  {
   "cell_type": "code",
   "execution_count": 8,
   "metadata": {},
   "outputs": [
    {
     "data": {
      "text/plain": [
       "False"
      ]
     },
     "execution_count": 8,
     "metadata": {},
     "output_type": "execute_result"
    }
   ],
   "source": [
    "'yellowy' in beatles # because not all of those characters appear in sequence"
   ]
  },
  {
   "cell_type": "markdown",
   "metadata": {},
   "source": [
    "Generally a good idea to put parentheses around multiple conditions:"
   ]
  },
  {
   "cell_type": "code",
   "execution_count": 9,
   "metadata": {},
   "outputs": [
    {
     "data": {
      "text/plain": [
       "True"
      ]
     },
     "execution_count": 9,
     "metadata": {},
     "output_type": "execute_result"
    }
   ],
   "source": [
    "('yellow' and 'submarine') in beatles"
   ]
  },
  {
   "cell_type": "code",
   "execution_count": 11,
   "metadata": {},
   "outputs": [
    {
     "data": {
      "text/plain": [
       "True"
      ]
     },
     "execution_count": 11,
     "metadata": {},
     "output_type": "execute_result"
    }
   ],
   "source": [
    "('yellow' or 'submersible') in beatles"
   ]
  },
  {
   "cell_type": "markdown",
   "metadata": {},
   "source": [
    "We will discuss `in` further later today. For now just know that it is another Boolean operator."
   ]
  },
  {
   "cell_type": "markdown",
   "metadata": {},
   "source": [
    "## Conditional expressions\n",
    "An expression that executes a code block contingent on the `Truth` or `Falsity` of a given statement."
   ]
  },
  {
   "cell_type": "code",
   "execution_count": 12,
   "metadata": {},
   "outputs": [
    {
     "name": "stdout",
     "output_type": "stream",
     "text": [
      "numbers have meaning\n"
     ]
    }
   ],
   "source": [
    "if 100 > 1:\n",
    "    print('numbers have meaning')"
   ]
  },
  {
   "cell_type": "code",
   "execution_count": 14,
   "metadata": {},
   "outputs": [
    {
     "name": "stdout",
     "output_type": "stream",
     "text": [
      "words have meaning\n"
     ]
    }
   ],
   "source": [
    "if 'apple' != 'apple': # conditionals are always evaluated\n",
    "    print('words have no meaning') # but the conditional code block is not always executed\n",
    "else:\n",
    "    print('words have meaning')"
   ]
  },
  {
   "cell_type": "code",
   "execution_count": 15,
   "metadata": {},
   "outputs": [
    {
     "name": "stdout",
     "output_type": "stream",
     "text": [
      "there isn't anything in anything\n"
     ]
    }
   ],
   "source": [
    "anything = ''\n",
    "\n",
    "if not anything: # you can use this form to check if variables have been assigned\n",
    "    print('there isn\\'t anything in anything')"
   ]
  },
  {
   "cell_type": "code",
   "execution_count": 18,
   "metadata": {},
   "outputs": [],
   "source": [
    "anything = None"
   ]
  },
  {
   "cell_type": "code",
   "execution_count": 19,
   "metadata": {},
   "outputs": [
    {
     "data": {
      "text/plain": [
       "NoneType"
      ]
     },
     "execution_count": 19,
     "metadata": {},
     "output_type": "execute_result"
    }
   ],
   "source": [
    "type(anything)"
   ]
  },
  {
   "cell_type": "markdown",
   "metadata": {},
   "source": [
    "# `while` loops\n",
    "`while` allows us to repeatedly check `if` a condition is `True`. If `True`, it re-executes a code block. Once the condition is `False`, the `while` loop ends."
   ]
  },
  {
   "cell_type": "code",
   "execution_count": 20,
   "metadata": {},
   "outputs": [
    {
     "name": "stdout",
     "output_type": "stream",
     "text": [
      "0\n",
      "1\n",
      "2\n",
      "3\n",
      "4\n",
      "5\n",
      "6\n",
      "7\n",
      "8\n",
      "9\n"
     ]
    }
   ],
   "source": [
    "x = 0\n",
    "\n",
    "while x < 10:\n",
    "    print(x)\n",
    "    x += 1"
   ]
  },
  {
   "cell_type": "code",
   "execution_count": 1,
   "metadata": {},
   "outputs": [
    {
     "name": "stdout",
     "output_type": "stream",
     "text": [
      "I'm meltingggggggggggg\n",
      "I'm meltinggggggggggg\n",
      "I'm meltingggggggggg\n",
      "I'm meltinggggggggg\n",
      "I'm meltingggggggg\n",
      "I'm meltinggggggg\n",
      "I'm meltingggggg\n",
      "I'm meltinggggg\n",
      "I'm meltingggg\n",
      "I'm meltinggg\n",
      "I'm meltingg\n",
      "I'm melting\n",
      "I'm meltin\n",
      "I'm melti\n",
      "I'm melt\n",
      "I'm mel\n",
      "I'm me\n",
      "I'm m\n",
      "I'm \n",
      "I'm\n",
      "I'\n",
      "I\n",
      "\n"
     ]
    }
   ],
   "source": [
    "s = 'I\\'m meltinggggggggggggg'\n",
    "\n",
    "while len(s) > 0:\n",
    "    s = s[:-1] # slice off the last character of the string\n",
    "    print(s)"
   ]
  },
  {
   "cell_type": "code",
   "execution_count": 245,
   "metadata": {},
   "outputs": [
    {
     "name": "stdout",
     "output_type": "stream",
     "text": [
      ".\n",
      "..\n",
      "...\n",
      "....\n",
      ".....\n",
      "......\n",
      ".......\n",
      "........\n",
      ".........\n",
      "..........\n",
      ".........\n",
      "........\n",
      ".......\n",
      "......\n",
      ".....\n",
      "....\n",
      "...\n",
      "..\n",
      ".\n"
     ]
    }
   ],
   "source": [
    "dots = 1\n",
    "\n",
    "while dots < 10:\n",
    "    print('.' * dots)\n",
    "    dots += 1\n",
    "    \n",
    "while dots > 0:\n",
    "    print('.' * dots)\n",
    "    dots -= 1"
   ]
  },
  {
   "cell_type": "markdown",
   "metadata": {},
   "source": [
    "# Combining Booleans, Conditionals, and `while` loops to improve our `KWIC` function\n",
    "We can bring all of these elements together to write a better keywords-in-context function"
   ]
  },
  {
   "cell_type": "markdown",
   "metadata": {},
   "source": [
    "# Describing our function with pseudocode\n",
    "\n",
    "Writing \"pseudocode\" is a useful practice that describes what you *intend* your code to do in natural language. It helps us think about the structure and logic of our program without worrying about the details of programming it.\n",
    "\n",
    "Think about it like an outline for an essay.\n",
    "\n",
    "## `kwic` pseudocode\n",
    "\n",
    "Goal: Given a text already open as a `string`, find every instance of any word. For every instance, `print` the word as well as an arbitray number of characters to the screen.\n",
    "\n",
    "Steps:\n",
    "1. Find the location of the first instance of a word in a text.\n",
    "2. Print that instance to the screen.\n",
    "3. Use that instance to search for the *next* instance of the same word.\n",
    "4. Repeat until `find` returns `-1`, indicating that there are no other instances of the word in the text."
   ]
  },
  {
   "cell_type": "code",
   "execution_count": 107,
   "metadata": {},
   "outputs": [
    {
     "data": {
      "text/plain": [
       "\"YOU don't know about me without you have read a book by the name of The\\nAdventures of Tom Sawyer; bu\""
      ]
     },
     "execution_count": 107,
     "metadata": {},
     "output_type": "execute_result"
    }
   ],
   "source": [
    "text = '/Users/e/Downloads/huck.txt'\n",
    "text = open(text).read()\n",
    "text[:100]"
   ]
  },
  {
   "cell_type": "code",
   "execution_count": 108,
   "metadata": {},
   "outputs": [],
   "source": [
    "def find_next(word, text, loc = 0):\n",
    "    return text.lower().find(word, loc) # this returns the character position of the next instance"
   ]
  },
  {
   "cell_type": "code",
   "execution_count": 114,
   "metadata": {},
   "outputs": [],
   "source": [
    "def kwic(loc, text, window = 300):\n",
    "    mn = 0\n",
    "    mx = len(text)\n",
    "    start = loc - window\n",
    "    stop = loc + window\n",
    "    \n",
    "    if start < mn:\n",
    "        start = mn\n",
    "        stop = window\n",
    "    if stop > mx:\n",
    "        start = mx - window\n",
    "        stop = mx\n",
    "        \n",
    "    return text[start:stop]"
   ]
  },
  {
   "cell_type": "code",
   "execution_count": null,
   "metadata": {},
   "outputs": [],
   "source": [
    "get_kwics('huck', text)"
   ]
  },
  {
   "cell_type": "markdown",
   "metadata": {},
   "source": [
    "As written above, the function `get_kwics` calls our other two functions `find_next` and `kwic` to automatically get the *first* instance of any word.\n",
    "\n",
    "This is often a good programming problem-solving strategy: figure out how to do it once, then figure out how to do it many times.\n",
    "\n",
    "Now, we need to repeatedly execute this set of steps. We can do so with a `while` loop, which we can run inside our function `get_kwics`:"
   ]
  },
  {
   "cell_type": "code",
   "execution_count": 115,
   "metadata": {},
   "outputs": [],
   "source": [
    "def get_kwics(word, text):\n",
    "    while loc != -1:\n",
    "        print('word:', word)\n",
    "        loc = find_next(word, text) # note that there I call my custom function find_next()\n",
    "        print('loc:', loc)\n",
    "        print('kwic:', kwic(loc, text))"
   ]
  },
  {
   "cell_type": "code",
   "execution_count": 116,
   "metadata": {},
   "outputs": [],
   "source": [
    "def get_kwics(word, text, loc = 0):\n",
    "    while loc != -1:\n",
    "        loc = find_next(word, text, loc + 1)\n",
    "        print('word:', word)\n",
    "        print('loc:', loc)\n",
    "        print('kwic:')\n",
    "        print(kwic(loc, text))\n",
    "        print('-'*50)"
   ]
  },
  {
   "cell_type": "code",
   "execution_count": 117,
   "metadata": {},
   "outputs": [
    {
     "name": "stdout",
     "output_type": "stream",
     "text": [
      "word: hunch\n",
      "loc: 318015\n",
      "kwic:\n",
      "up like glory, she was so glad her uncles\n",
      "was come. The king he spread his arms, and Mary Jane she jumped for\n",
      "them, and the hare-lip jumped for the duke, and there they had it!\n",
      " Everybody most, leastways women, cried for joy to see them meet again\n",
      "at last and have such good times.\n",
      "\n",
      "Then the king he hunched the duke private--I see him do it--and then he\n",
      "looked around and see the coffin, over in the corner on two chairs; so\n",
      "then him and the duke, with a hand across each other's shoulder, and\n",
      "t'other hand to their eyes, walked slow and solemn over there, everybody\n",
      "dropping back to give them room,\n",
      "--------------------------------------------------\n",
      "word: hunch\n",
      "loc: 457081\n",
      "kwic:\n",
      "'d been a-going to do.\n",
      " So Tom says:\n",
      "\n",
      "“What's the vittles for?  Going to feed the dogs?”\n",
      "\n",
      "The nigger kind of smiled around gradually over his face, like when you\n",
      "heave a brickbat in a mud-puddle, and he says:\n",
      "\n",
      "“Yes, Mars Sid, A dog.  Cur'us dog, too.  Does you want to go en look at\n",
      "'im?”\n",
      "\n",
      "“Yes.”\n",
      "\n",
      "I hunched Tom, and whispers:\n",
      "\n",
      "“You going, right here in the daybreak?  _that_ warn't the plan.”\n",
      "\n",
      "“No, it warn't; but it's the plan _now_.”\n",
      "\n",
      "So, drat him, we went along, but I didn't like it much.  When we got in\n",
      "we couldn't hardly see anything, it was so dark; but Jim was there, sure\n",
      "enough, and could\n",
      "--------------------------------------------------\n",
      "word: hunch\n",
      "loc: -1\n",
      "kwic:\n",
      "YOU don't know about me without you have read a book by the name of The\n",
      "Adventures of Tom Sawyer; but that ain't no matter.  That book was made\n",
      "by Mr. Mark Twain, and he told the truth, mainly.  There was things\n",
      "which he stretched, but mainly he told the truth.  That is nothing.  I\n",
      "never seen anybod\n",
      "--------------------------------------------------\n"
     ]
    }
   ],
   "source": [
    "get_kwics('hunch', text)"
   ]
  },
  {
   "cell_type": "markdown",
   "metadata": {},
   "source": [
    "There are a lot of ways we could improve this function. (We're going to do one for homework!)"
   ]
  },
  {
   "cell_type": "markdown",
   "metadata": {},
   "source": [
    "# Big take-aways\n",
    "1. Functions that are simple and abstract can be used in many contexts. \n",
    "2. Never do the same thing twice. The computer can do that for you.\n",
    "3. Pseudocode helps you plan out your code.\n",
    "4. Functions can call each other.\n",
    "5. `while` loops and `if` / `else` pairs help you take specific actions given specific conditions in your functions."
   ]
  },
  {
   "cell_type": "markdown",
   "metadata": {},
   "source": [
    "# Lists"
   ]
  },
  {
   "cell_type": "markdown",
   "metadata": {},
   "source": [
    "Now we'll learn:\n",
    "\n",
    "* What **lists** are\n",
    "* How to create lists\n",
    "* How to find things in lists\n",
    "* How to edit lists\n",
    "* How to add/remove things from lists\n",
    "\n",
    "Why do lists matter for us? Fundamentally, they allow us to store any *ordered collection of objects* in Python. This will be everything from lists of numbers, to lists of words, to lists of texts.\n",
    "\n",
    "This is the fundamental structure of the list:\n",
    "\n",
    "```python\n",
    "['item 0', 'item 1', 'item 2']\n",
    "```\n",
    "\n",
    "Lists are surrounded by square brackets `[]`, with individual items in the list separated by `,` characters. You can put pretty much anything into a list.\n",
    "\n",
    "We can assign lists to any variable:"
   ]
  },
  {
   "cell_type": "code",
   "execution_count": 38,
   "metadata": {},
   "outputs": [],
   "source": [
    "l = ['item 0', 'item 1', 'item 2']"
   ]
  },
  {
   "cell_type": "markdown",
   "metadata": {},
   "source": [
    "And we can access list items using the same bracket notation that we use for slicing:"
   ]
  },
  {
   "cell_type": "code",
   "execution_count": 39,
   "metadata": {},
   "outputs": [
    {
     "data": {
      "text/plain": [
       "'item 0'"
      ]
     },
     "execution_count": 39,
     "metadata": {},
     "output_type": "execute_result"
    }
   ],
   "source": [
    "l[0]"
   ]
  },
  {
   "cell_type": "markdown",
   "metadata": {},
   "source": [
    "Slicing a list for multiple items gives you a list:"
   ]
  },
  {
   "cell_type": "code",
   "execution_count": 40,
   "metadata": {},
   "outputs": [
    {
     "data": {
      "text/plain": [
       "['item 1', 'item 2']"
      ]
     },
     "execution_count": 40,
     "metadata": {},
     "output_type": "execute_result"
    }
   ],
   "source": [
    "l[1:3]"
   ]
  },
  {
   "cell_type": "code",
   "execution_count": 41,
   "metadata": {},
   "outputs": [
    {
     "data": {
      "text/plain": [
       "20"
      ]
     },
     "execution_count": 41,
     "metadata": {},
     "output_type": "execute_result"
    }
   ],
   "source": [
    "len('the last letter is y')"
   ]
  },
  {
   "cell_type": "code",
   "execution_count": 42,
   "metadata": {},
   "outputs": [
    {
     "data": {
      "text/plain": [
       "'item 2'"
      ]
     },
     "execution_count": 42,
     "metadata": {},
     "output_type": "execute_result"
    }
   ],
   "source": [
    "l[-1]"
   ]
  },
  {
   "cell_type": "markdown",
   "metadata": {},
   "source": [
    "Lists make it easy for us to count by word rather than by character:"
   ]
  },
  {
   "cell_type": "code",
   "execution_count": 51,
   "metadata": {},
   "outputs": [
    {
     "data": {
      "text/plain": [
       "28"
      ]
     },
     "execution_count": 51,
     "metadata": {},
     "output_type": "execute_result"
    }
   ],
   "source": [
    "len('This sentence has five words')"
   ]
  },
  {
   "cell_type": "code",
   "execution_count": 52,
   "metadata": {},
   "outputs": [
    {
     "data": {
      "text/plain": [
       "5"
      ]
     },
     "execution_count": 52,
     "metadata": {},
     "output_type": "execute_result"
    }
   ],
   "source": [
    "len(['This', 'sentence', 'has', 'five', 'words'])"
   ]
  },
  {
   "cell_type": "markdown",
   "metadata": {},
   "source": [
    "Lists can include any kind of data:"
   ]
  },
  {
   "cell_type": "code",
   "execution_count": 53,
   "metadata": {},
   "outputs": [
    {
     "data": {
      "text/plain": [
       "['this is still a list', 32, 'another number']"
      ]
     },
     "execution_count": 53,
     "metadata": {},
     "output_type": "execute_result"
    }
   ],
   "source": [
    "['this is still a list', 32, 'another number']"
   ]
  },
  {
   "cell_type": "markdown",
   "metadata": {},
   "source": [
    "### Lists in lists\n",
    "Lists can even include other lists! We can use this to store tabular data, like matrices."
   ]
  },
  {
   "cell_type": "code",
   "execution_count": 260,
   "metadata": {},
   "outputs": [],
   "source": [
    "l = ['this is the 0th element of a list', ['this', 'is', 'another', 'list', 'in', 'a', 'list']]"
   ]
  },
  {
   "cell_type": "code",
   "execution_count": 261,
   "metadata": {},
   "outputs": [
    {
     "data": {
      "text/plain": [
       "'this is the 0th element of a list'"
      ]
     },
     "execution_count": 261,
     "metadata": {},
     "output_type": "execute_result"
    }
   ],
   "source": [
    "l[0]"
   ]
  },
  {
   "cell_type": "code",
   "execution_count": 262,
   "metadata": {},
   "outputs": [
    {
     "data": {
      "text/plain": [
       "['this', 'is', 'another', 'list', 'in', 'a', 'list']"
      ]
     },
     "execution_count": 262,
     "metadata": {},
     "output_type": "execute_result"
    }
   ],
   "source": [
    "l[1]"
   ]
  },
  {
   "cell_type": "code",
   "execution_count": 263,
   "metadata": {},
   "outputs": [
    {
     "data": {
      "text/plain": [
       "['this is the 0th element of a list',\n",
       " ['this', 'is', 'another', 'list', 'in', 'a', 'list']]"
      ]
     },
     "execution_count": 263,
     "metadata": {},
     "output_type": "execute_result"
    }
   ],
   "source": [
    "l"
   ]
  },
  {
   "cell_type": "markdown",
   "metadata": {},
   "source": [
    "# Finding out where items are in a list"
   ]
  },
  {
   "cell_type": "code",
   "execution_count": 46,
   "metadata": {},
   "outputs": [],
   "source": [
    "l = ['a', 'b', 'kjhc' , 'b', 'uyfkyc', 'c']"
   ]
  },
  {
   "cell_type": "code",
   "execution_count": 47,
   "metadata": {},
   "outputs": [
    {
     "data": {
      "text/plain": [
       "5"
      ]
     },
     "execution_count": 47,
     "metadata": {},
     "output_type": "execute_result"
    }
   ],
   "source": [
    "l.index('c')"
   ]
  },
  {
   "cell_type": "markdown",
   "metadata": {},
   "source": [
    "`index` works much the same as `find`. The second argument represents the index to begin searching from."
   ]
  },
  {
   "cell_type": "code",
   "execution_count": 62,
   "metadata": {},
   "outputs": [
    {
     "data": {
      "text/plain": [
       "4"
      ]
     },
     "execution_count": 62,
     "metadata": {},
     "output_type": "execute_result"
    }
   ],
   "source": [
    "l.index('c', 3)"
   ]
  },
  {
   "cell_type": "markdown",
   "metadata": {},
   "source": [
    "# Editing lists"
   ]
  },
  {
   "cell_type": "markdown",
   "metadata": {},
   "source": [
    "Lists are *mutable* meaning that they can be changed in place. This makes them unlike strings and integers, which are *immutable*."
   ]
  },
  {
   "cell_type": "code",
   "execution_count": 48,
   "metadata": {},
   "outputs": [
    {
     "data": {
      "text/plain": [
       "['a', 'b', 'kjhc', 'b', 'uyfkyc', 'c']"
      ]
     },
     "execution_count": 48,
     "metadata": {},
     "output_type": "execute_result"
    }
   ],
   "source": [
    "l"
   ]
  },
  {
   "cell_type": "code",
   "execution_count": 49,
   "metadata": {},
   "outputs": [
    {
     "data": {
      "text/plain": [
       "'a'"
      ]
     },
     "execution_count": 49,
     "metadata": {},
     "output_type": "execute_result"
    }
   ],
   "source": [
    "l[0]"
   ]
  },
  {
   "cell_type": "code",
   "execution_count": 50,
   "metadata": {},
   "outputs": [],
   "source": [
    "l[0] = 'something completely different'"
   ]
  },
  {
   "cell_type": "markdown",
   "metadata": {},
   "source": [
    "Read the above notation as: `l` at index `0` takes the value of `'something completely different'`."
   ]
  },
  {
   "cell_type": "code",
   "execution_count": 51,
   "metadata": {},
   "outputs": [
    {
     "data": {
      "text/plain": [
       "['something completely different', 'b', 'kjhc', 'b', 'uyfkyc', 'c']"
      ]
     },
     "execution_count": 51,
     "metadata": {},
     "output_type": "execute_result"
    }
   ],
   "source": [
    "l"
   ]
  },
  {
   "cell_type": "markdown",
   "metadata": {},
   "source": [
    "### Adding new things to lists\n",
    "We can also add new things to lists using `append`:"
   ]
  },
  {
   "cell_type": "code",
   "execution_count": 57,
   "metadata": {},
   "outputs": [],
   "source": [
    "l.append('the last thing')"
   ]
  },
  {
   "cell_type": "code",
   "execution_count": 58,
   "metadata": {},
   "outputs": [
    {
     "data": {
      "text/plain": [
       "['something completely different',\n",
       " 'b',\n",
       " 'kjhc',\n",
       " 'b',\n",
       " 'uyfkyc',\n",
       " 'c',\n",
       " 'the last thing']"
      ]
     },
     "execution_count": 58,
     "metadata": {},
     "output_type": "execute_result"
    }
   ],
   "source": [
    "l"
   ]
  },
  {
   "cell_type": "markdown",
   "metadata": {},
   "source": [
    "Sometimes you'll want to add *multiple* items to a list. We can do this using `extend`:"
   ]
  },
  {
   "cell_type": "code",
   "execution_count": 59,
   "metadata": {},
   "outputs": [],
   "source": [
    "m = [1, 2, 3]"
   ]
  },
  {
   "cell_type": "code",
   "execution_count": 60,
   "metadata": {},
   "outputs": [],
   "source": [
    "l.extend(m)"
   ]
  },
  {
   "cell_type": "code",
   "execution_count": 61,
   "metadata": {},
   "outputs": [
    {
     "data": {
      "text/plain": [
       "['something completely different',\n",
       " 'b',\n",
       " 'kjhc',\n",
       " 'b',\n",
       " 'uyfkyc',\n",
       " 'c',\n",
       " 'the last thing',\n",
       " 1,\n",
       " 2,\n",
       " 3]"
      ]
     },
     "execution_count": 61,
     "metadata": {},
     "output_type": "execute_result"
    }
   ],
   "source": [
    "l"
   ]
  },
  {
   "cell_type": "markdown",
   "metadata": {},
   "source": [
    "Look how `append` behaves by contrast:"
   ]
  },
  {
   "cell_type": "code",
   "execution_count": 62,
   "metadata": {},
   "outputs": [
    {
     "data": {
      "text/plain": [
       "[1, 2, 3, ['a', 'b', 'c']]"
      ]
     },
     "execution_count": 62,
     "metadata": {},
     "output_type": "execute_result"
    }
   ],
   "source": [
    "l = [1, 2, 3]\n",
    "m = ['a', 'b', 'c']\n",
    "l.append(m)\n",
    "l"
   ]
  },
  {
   "cell_type": "markdown",
   "metadata": {},
   "source": [
    "We get a list *inside* of a list because `append` adds *the whole object* to the end of the list.\n",
    "\n",
    "By contrast, `extend` adds each of the object's elements to the end of the list in order:"
   ]
  },
  {
   "cell_type": "code",
   "execution_count": 264,
   "metadata": {},
   "outputs": [
    {
     "data": {
      "text/plain": [
       "['this', 'little', 'piggy', 'went', 'to', 'market']"
      ]
     },
     "execution_count": 264,
     "metadata": {},
     "output_type": "execute_result"
    }
   ],
   "source": [
    "piggy = ['this','little','piggy']\n",
    "market = ['went','to','market']\n",
    "piggy.extend(market)\n",
    "piggy"
   ]
  },
  {
   "cell_type": "markdown",
   "metadata": {},
   "source": [
    "You can accomplish the same thing with `+`:"
   ]
  },
  {
   "cell_type": "code",
   "execution_count": 87,
   "metadata": {},
   "outputs": [
    {
     "data": {
      "text/plain": [
       "['R', 'E', 'S', 'P', 'E', 'C', 'T']"
      ]
     },
     "execution_count": 87,
     "metadata": {},
     "output_type": "execute_result"
    }
   ],
   "source": [
    "aretha = ['R', 'E', 'S', 'P']\n",
    "franklin = ['E','C','T']\n",
    "aretha + franklin"
   ]
  },
  {
   "cell_type": "markdown",
   "metadata": {},
   "source": [
    "# Removing things from lists\n",
    "You can remove list elements by name:"
   ]
  },
  {
   "cell_type": "code",
   "execution_count": 63,
   "metadata": {},
   "outputs": [],
   "source": [
    "l = ['one', 'does', 'not', 'donuts', 'belong']"
   ]
  },
  {
   "cell_type": "code",
   "execution_count": 64,
   "metadata": {},
   "outputs": [],
   "source": [
    "l.remove('donuts')"
   ]
  },
  {
   "cell_type": "code",
   "execution_count": 65,
   "metadata": {},
   "outputs": [
    {
     "data": {
      "text/plain": [
       "['one', 'does', 'not', 'belong']"
      ]
     },
     "execution_count": 65,
     "metadata": {},
     "output_type": "execute_result"
    }
   ],
   "source": [
    "l"
   ]
  },
  {
   "cell_type": "markdown",
   "metadata": {},
   "source": [
    "But `remove` only targets the first instance it sees:"
   ]
  },
  {
   "cell_type": "code",
   "execution_count": 66,
   "metadata": {},
   "outputs": [
    {
     "name": "stdout",
     "output_type": "stream",
     "text": [
      "['good', 'bad']\n",
      "['good']\n"
     ]
    }
   ],
   "source": [
    "l = ['good', 'bad', 'bad']\n",
    "l.remove('bad')\n",
    "print(l)\n",
    "l.remove('bad')\n",
    "print(l)"
   ]
  },
  {
   "cell_type": "markdown",
   "metadata": {},
   "source": [
    "Of course we could rewrite this with a `while` loop:"
   ]
  },
  {
   "cell_type": "code",
   "execution_count": 68,
   "metadata": {},
   "outputs": [],
   "source": [
    "l = ['good', 'bad', 'bad', 'good']"
   ]
  },
  {
   "cell_type": "code",
   "execution_count": 69,
   "metadata": {},
   "outputs": [
    {
     "data": {
      "text/plain": [
       "True"
      ]
     },
     "execution_count": 69,
     "metadata": {},
     "output_type": "execute_result"
    }
   ],
   "source": [
    "'bad' in l"
   ]
  },
  {
   "cell_type": "code",
   "execution_count": 70,
   "metadata": {},
   "outputs": [],
   "source": [
    "while 'bad' in l:\n",
    "    l.remove('bad')"
   ]
  },
  {
   "cell_type": "code",
   "execution_count": 71,
   "metadata": {},
   "outputs": [
    {
     "data": {
      "text/plain": [
       "['good', 'good']"
      ]
     },
     "execution_count": 71,
     "metadata": {},
     "output_type": "execute_result"
    }
   ],
   "source": [
    "l"
   ]
  },
  {
   "cell_type": "markdown",
   "metadata": {},
   "source": [
    "### Removing list elements by index\n",
    "You can also remove list elements by index with `del`:"
   ]
  },
  {
   "cell_type": "code",
   "execution_count": 72,
   "metadata": {},
   "outputs": [
    {
     "data": {
      "text/plain": [
       "2"
      ]
     },
     "execution_count": 72,
     "metadata": {},
     "output_type": "execute_result"
    }
   ],
   "source": [
    "planets = ['earth', 'venus', 'pluto']\n",
    "planets.index('pluto')"
   ]
  },
  {
   "cell_type": "code",
   "execution_count": 270,
   "metadata": {},
   "outputs": [
    {
     "data": {
      "text/plain": [
       "['earth', 'venus']"
      ]
     },
     "execution_count": 270,
     "metadata": {},
     "output_type": "execute_result"
    }
   ],
   "source": [
    "del planets[2] # this works because lists are mutable\n",
    "planets"
   ]
  },
  {
   "cell_type": "markdown",
   "metadata": {},
   "source": [
    "An equivalent way of doing the above:"
   ]
  },
  {
   "cell_type": "code",
   "execution_count": 186,
   "metadata": {},
   "outputs": [
    {
     "data": {
      "text/plain": [
       "['earth', 'pluto']"
      ]
     },
     "execution_count": 186,
     "metadata": {},
     "output_type": "execute_result"
    }
   ],
   "source": [
    "planets = ['earth', 'venus', 'pluto']\n",
    "del planets[ planets.index('venus')] # perform the calculation here instead\n",
    "planets"
   ]
  },
  {
   "cell_type": "markdown",
   "metadata": {},
   "source": [
    "# Generating lists of words from strings\n",
    "Lists help us measure a fundamental unit for text analysis, the word. We can `split` strings into words like so:"
   ]
  },
  {
   "cell_type": "code",
   "execution_count": 81,
   "metadata": {},
   "outputs": [],
   "source": [
    "biggie = 'it was all a dream'"
   ]
  },
  {
   "cell_type": "code",
   "execution_count": 82,
   "metadata": {},
   "outputs": [],
   "source": [
    "biggie2 = biggie.split(' ')"
   ]
  },
  {
   "cell_type": "code",
   "execution_count": 83,
   "metadata": {},
   "outputs": [
    {
     "data": {
      "text/plain": [
       "'it was all a dream'"
      ]
     },
     "execution_count": 83,
     "metadata": {},
     "output_type": "execute_result"
    }
   ],
   "source": [
    "biggie"
   ]
  },
  {
   "cell_type": "code",
   "execution_count": 85,
   "metadata": {},
   "outputs": [],
   "source": [
    "biggie2.remove('dream')"
   ]
  },
  {
   "cell_type": "code",
   "execution_count": 86,
   "metadata": {},
   "outputs": [
    {
     "data": {
      "text/plain": [
       "['it', 'was', 'all', 'a']"
      ]
     },
     "execution_count": 86,
     "metadata": {},
     "output_type": "execute_result"
    }
   ],
   "source": [
    "biggie2"
   ]
  },
  {
   "cell_type": "markdown",
   "metadata": {},
   "source": [
    "In the `split` command, the first argument is the *character* you want Python to split by.\n",
    "\n",
    "You can split by *any* character or character sequence:"
   ]
  },
  {
   "cell_type": "code",
   "execution_count": 74,
   "metadata": {},
   "outputs": [],
   "source": [
    "biggie = 'it was all a dream / i used to read word up magazine'"
   ]
  },
  {
   "cell_type": "code",
   "execution_count": 274,
   "metadata": {},
   "outputs": [
    {
     "data": {
      "text/plain": [
       "['it was all a dream', 'i used to read word up magazine']"
      ]
     },
     "execution_count": 274,
     "metadata": {},
     "output_type": "execute_result"
    }
   ],
   "source": [
    "biggie_lines = biggie.split(' / ')\n",
    "biggie_lines"
   ]
  },
  {
   "cell_type": "markdown",
   "metadata": {},
   "source": [
    "The pattern you `split` by is known as the `sep` for separator. Splitting by space is a good first approximation for words."
   ]
  },
  {
   "cell_type": "markdown",
   "metadata": {},
   "source": [
    "## Counting words\n",
    "One obvious benefit of `split` is that it allows us to easily count *words* rather than characters:"
   ]
  },
  {
   "cell_type": "code",
   "execution_count": 87,
   "metadata": {},
   "outputs": [],
   "source": [
    "huck = open('/Users/e/Downloads/huck.txt').read()"
   ]
  },
  {
   "cell_type": "code",
   "execution_count": 88,
   "metadata": {},
   "outputs": [],
   "source": [
    "huck_list = huck.split(' ')"
   ]
  },
  {
   "cell_type": "code",
   "execution_count": 89,
   "metadata": {},
   "outputs": [
    {
     "data": {
      "text/plain": [
       "101012"
      ]
     },
     "execution_count": 89,
     "metadata": {},
     "output_type": "execute_result"
    }
   ],
   "source": [
    "len(huck_list)"
   ]
  },
  {
   "cell_type": "markdown",
   "metadata": {},
   "source": [
    "I'm sure you can imagine how `split` would be useful for things like our `kwic` function: we could request whole words rather than just specific character counts!"
   ]
  },
  {
   "cell_type": "markdown",
   "metadata": {},
   "source": [
    "# Dealing with `split`\n",
    "Let's look at what we get:"
   ]
  },
  {
   "cell_type": "code",
   "execution_count": 90,
   "metadata": {},
   "outputs": [
    {
     "data": {
      "text/plain": [
       "['YOU',\n",
       " \"don't\",\n",
       " 'know',\n",
       " 'about',\n",
       " 'me',\n",
       " 'without',\n",
       " 'you',\n",
       " 'have',\n",
       " 'read',\n",
       " 'a',\n",
       " 'book',\n",
       " 'by',\n",
       " 'the',\n",
       " 'name',\n",
       " 'of',\n",
       " 'The\\nAdventures',\n",
       " 'of',\n",
       " 'Tom',\n",
       " 'Sawyer;',\n",
       " 'but']"
      ]
     },
     "execution_count": 90,
     "metadata": {},
     "output_type": "execute_result"
    }
   ],
   "source": [
    "huck_list[:20]"
   ]
  },
  {
   "cell_type": "markdown",
   "metadata": {},
   "source": [
    "Not bad! Most of these things are words, but we should clean a couple of them up.\n",
    "\n",
    "We have at least two problems here: our old friend `\\n` and a new problem. Humans would count `Sawyer;` as an instance of `Sawyer`, but computers wouldn't. We need to figure out how to separate our punctuation from the words that it is right next to so that they will be counted correctly.\n",
    "\n",
    "Let's try writing a quick text cleaning function to see how much better we can do:"
   ]
  },
  {
   "cell_type": "code",
   "execution_count": 279,
   "metadata": {},
   "outputs": [],
   "source": [
    "def text_list(text):\n",
    "    text = text.lower()\n",
    "    text = text.replace('\\n', ' ') # replacing \\n with a space since we are splitting by space\n",
    "    # this puts a space on either side of common punctuation:\n",
    "    text = text.replace(',', ' , ').replace('.', ' . ').replace('?', ' ? ').replace('!', ' ! ').replace(';', ' ; ')\n",
    "    return text.split(' ')"
   ]
  },
  {
   "cell_type": "code",
   "execution_count": 280,
   "metadata": {},
   "outputs": [],
   "source": [
    "test = text_list(huck)"
   ]
  },
  {
   "cell_type": "code",
   "execution_count": 92,
   "metadata": {},
   "outputs": [
    {
     "data": {
      "text/plain": [
       "['no', 'maybe']"
      ]
     },
     "execution_count": 92,
     "metadata": {},
     "output_type": "execute_result"
    }
   ],
   "source": [
    "l = ['yes', 'no', 'maybe']\n",
    "l[1:]"
   ]
  },
  {
   "cell_type": "code",
   "execution_count": 281,
   "metadata": {},
   "outputs": [
    {
     "data": {
      "text/plain": [
       "['you',\n",
       " \"don't\",\n",
       " 'know',\n",
       " 'about',\n",
       " 'me',\n",
       " 'without',\n",
       " 'you',\n",
       " 'have',\n",
       " 'read',\n",
       " 'a',\n",
       " 'book',\n",
       " 'by',\n",
       " 'the',\n",
       " 'name',\n",
       " 'of',\n",
       " 'the',\n",
       " 'adventures',\n",
       " 'of',\n",
       " 'tom',\n",
       " 'sawyer']"
      ]
     },
     "execution_count": 281,
     "metadata": {},
     "output_type": "execute_result"
    }
   ],
   "source": [
    "test[:20]"
   ]
  },
  {
   "cell_type": "markdown",
   "metadata": {},
   "source": [
    "Looks better!\n",
    "\n",
    "There are still a few things that could trip our function up. One of the big ones has to do with extra spacing:"
   ]
  },
  {
   "cell_type": "code",
   "execution_count": 282,
   "metadata": {},
   "outputs": [],
   "source": [
    "s = 'this  string   has      many   extra    spaces'"
   ]
  },
  {
   "cell_type": "code",
   "execution_count": 283,
   "metadata": {},
   "outputs": [
    {
     "data": {
      "text/plain": [
       "['this',\n",
       " '',\n",
       " 'string',\n",
       " '',\n",
       " '',\n",
       " 'has',\n",
       " '',\n",
       " '',\n",
       " '',\n",
       " '',\n",
       " '',\n",
       " 'many',\n",
       " '',\n",
       " '',\n",
       " 'extra',\n",
       " '',\n",
       " '',\n",
       " '',\n",
       " 'spaces']"
      ]
     },
     "execution_count": 283,
     "metadata": {},
     "output_type": "execute_result"
    }
   ],
   "source": [
    "text_list(s)"
   ]
  },
  {
   "cell_type": "markdown",
   "metadata": {},
   "source": [
    "There are a lot of ways we could address this problem.\n",
    "\n",
    "One way to do it using only what we already know might be the following:"
   ]
  },
  {
   "cell_type": "code",
   "execution_count": 284,
   "metadata": {},
   "outputs": [],
   "source": [
    "# checks to see if there are two consecutive space characters anywhere in the string.\n",
    "# while True, it replaces all of them with a single space\n",
    "while '  ' in s:\n",
    "    s = s.replace('  ', ' ')"
   ]
  },
  {
   "cell_type": "code",
   "execution_count": 285,
   "metadata": {},
   "outputs": [
    {
     "data": {
      "text/plain": [
       "['this', 'string', 'has', 'many', 'extra', 'spaces']"
      ]
     },
     "execution_count": 285,
     "metadata": {},
     "output_type": "execute_result"
    }
   ],
   "source": [
    "text_list(s)"
   ]
  },
  {
   "cell_type": "markdown",
   "metadata": {},
   "source": [
    "We could also do this using what we just learned about `indexing` with a `while` loop and an `in` condition:"
   ]
  },
  {
   "cell_type": "code",
   "execution_count": 286,
   "metadata": {},
   "outputs": [
    {
     "name": "stdout",
     "output_type": "stream",
     "text": [
      "['this', '', 'string', '', '', 'has', '', '', '', '', '', 'many', '', '', 'extra', '', '', '', 'spaces']\n"
     ]
    }
   ],
   "source": [
    "s = 'this  string   has      many   extra    spaces'\n",
    "l = text_list(s)\n",
    "print(l)"
   ]
  },
  {
   "cell_type": "code",
   "execution_count": 287,
   "metadata": {},
   "outputs": [
    {
     "data": {
      "text/plain": [
       "['this', 'string', 'has', 'many', 'extra', 'spaces']"
      ]
     },
     "execution_count": 287,
     "metadata": {},
     "output_type": "execute_result"
    }
   ],
   "source": [
    "while '' in l:\n",
    "    del l[l.index('')]\n",
    "\n",
    "l"
   ]
  },
  {
   "cell_type": "markdown",
   "metadata": {},
   "source": [
    "But it would be more common to approach this problem using another common Python structure: the `for` loop."
   ]
  },
  {
   "cell_type": "markdown",
   "metadata": {},
   "source": [
    "# `for` loops\n",
    "`for` loops are very similar to `while` loops.\n",
    "\n",
    "Whereas `while` loops execute until its condition changes from `True` to `False`, `for` loops execute on *every element in a series*. We might read them like this:\n",
    "\n",
    "```python\n",
    "for each_element in my_object:\n",
    "    # do something\n",
    "```\n",
    "\n",
    "Like `while` loops, `for` loops execute all of their code, then return to the top to check their condition. If there is another element in the series, the `for` loop begins again. Once all of the elements have been exhausted, the `for` loop ends.\n",
    "\n",
    "\n",
    "Lists are one object type where `for` loops are especially useful. They look like this in combination:"
   ]
  },
  {
   "cell_type": "code",
   "execution_count": 100,
   "metadata": {},
   "outputs": [
    {
     "data": {
      "text/plain": [
       "['After', 'great', 'pain,', 'a', 'formal', 'feeling', 'comes', '–']"
      ]
     },
     "execution_count": 100,
     "metadata": {},
     "output_type": "execute_result"
    }
   ],
   "source": [
    "dickinson = 'After great pain, a formal feeling comes –'\n",
    "dickinson_list = dickinson.split(' ')\n",
    "dickinson_list"
   ]
  },
  {
   "cell_type": "code",
   "execution_count": 101,
   "metadata": {},
   "outputs": [
    {
     "name": "stdout",
     "output_type": "stream",
     "text": [
      "After\n",
      "great\n",
      "pain,\n",
      "a\n",
      "formal\n",
      "feeling\n",
      "comes\n",
      "–\n"
     ]
    }
   ],
   "source": [
    "for word in dickinson_list:\n",
    "    print(word)"
   ]
  },
  {
   "cell_type": "markdown",
   "metadata": {},
   "source": [
    "Each of those lines repesents one full execution of the code inside of the loop (`print(word)`) as you can see here:"
   ]
  },
  {
   "cell_type": "code",
   "execution_count": 102,
   "metadata": {},
   "outputs": [
    {
     "name": "stdout",
     "output_type": "stream",
     "text": [
      "0 After\n",
      "1 great\n",
      "2 pain,\n",
      "3 a\n",
      "4 formal\n",
      "5 feeling\n",
      "6 comes\n",
      "7 –\n"
     ]
    }
   ],
   "source": [
    "counter = 0\n",
    "\n",
    "for word in dickinson_list:\n",
    "    print(counter, word)\n",
    "    counter += 1"
   ]
  },
  {
   "cell_type": "markdown",
   "metadata": {},
   "source": [
    "One tricky thing about `for` loops is that the name you give to the iterator (`word` above) is arbitrary. Above, I chose a name that makes semantic sense, but there's no reason that you can't use the same iterator name for every `for` loop if it helps you remember the structure.\n",
    "\n",
    "It's common to use `x` in `for` loops and other short functions. As you can see, it does not change the output:"
   ]
  },
  {
   "cell_type": "code",
   "execution_count": 103,
   "metadata": {},
   "outputs": [
    {
     "name": "stdout",
     "output_type": "stream",
     "text": [
      "After\n",
      "great\n",
      "pain,\n",
      "a\n",
      "formal\n",
      "feeling\n",
      "comes\n",
      "–\n"
     ]
    }
   ],
   "source": [
    "for x in dickinson_list:\n",
    "    print(x)"
   ]
  },
  {
   "cell_type": "markdown",
   "metadata": {},
   "source": [
    "Note that `for` loops use the same indentation logic as `while` loops and functions. You indent under the `for` loop to choose code to execute."
   ]
  },
  {
   "cell_type": "markdown",
   "metadata": {},
   "source": [
    "`for` loops can be run on any object with a length. So strings work, too:"
   ]
  },
  {
   "cell_type": "code",
   "execution_count": 104,
   "metadata": {},
   "outputs": [
    {
     "data": {
      "text/plain": [
       "42"
      ]
     },
     "execution_count": 104,
     "metadata": {},
     "output_type": "execute_result"
    }
   ],
   "source": [
    "len(dickinson)"
   ]
  },
  {
   "cell_type": "code",
   "execution_count": 105,
   "metadata": {},
   "outputs": [
    {
     "name": "stdout",
     "output_type": "stream",
     "text": [
      "A\n",
      "f\n",
      "t\n",
      "e\n",
      "r\n",
      " \n",
      "g\n",
      "r\n",
      "e\n",
      "a\n",
      "t\n",
      " \n",
      "p\n",
      "a\n",
      "i\n",
      "n\n",
      ",\n",
      " \n",
      "a\n",
      " \n",
      "f\n",
      "o\n",
      "r\n",
      "m\n",
      "a\n",
      "l\n",
      " \n",
      "f\n",
      "e\n",
      "e\n",
      "l\n",
      "i\n",
      "n\n",
      "g\n",
      " \n",
      "c\n",
      "o\n",
      "m\n",
      "e\n",
      "s\n",
      " \n",
      "–\n"
     ]
    }
   ],
   "source": [
    "for character in dickinson:\n",
    "    print(character)"
   ]
  },
  {
   "cell_type": "markdown",
   "metadata": {},
   "source": [
    "This shows that `for` loops work on *each element* in the given series. Since strings measure by character, the `for` loop executes one character at a time.\n",
    "\n",
    "That's why they're so useful for us when we're working with lists: we can perform actions one *word* at a time."
   ]
  },
  {
   "cell_type": "code",
   "execution_count": 302,
   "metadata": {},
   "outputs": [
    {
     "data": {
      "text/plain": [
       "['After', 'great', 'pain,', 'a', 'formal', 'feeling', 'comes', '–']"
      ]
     },
     "execution_count": 302,
     "metadata": {},
     "output_type": "execute_result"
    }
   ],
   "source": [
    "dickinson_list"
   ]
  },
  {
   "cell_type": "code",
   "execution_count": 106,
   "metadata": {},
   "outputs": [
    {
     "name": "stdout",
     "output_type": "stream",
     "text": [
      "AFTER\n",
      "GREAT\n",
      "PAIN,\n",
      "aaaaaaaaaaaaaaaaaaaa\n",
      "lamrof\n",
      "gnileef\n",
      "semoc\n",
      "–\n"
     ]
    }
   ],
   "source": [
    "counter = 0\n",
    "\n",
    "for word in dickinson_list:\n",
    "    if counter < 3:\n",
    "        print(word.upper())\n",
    "    if counter == 3:\n",
    "        print(word * 20)\n",
    "    if counter > 3:\n",
    "        print(word[::-1]) # this is a little slicing trick to reverse a string\n",
    "    counter += 1"
   ]
  },
  {
   "cell_type": "markdown",
   "metadata": {},
   "source": [
    "Of course, `for` loops are very useful when we want to perform the same math operation on a list of numbers:"
   ]
  },
  {
   "cell_type": "code",
   "execution_count": 233,
   "metadata": {},
   "outputs": [
    {
     "name": "stdout",
     "output_type": "stream",
     "text": [
      "2300\n",
      "2340100\n",
      "200\n",
      "756400\n",
      "39400\n"
     ]
    }
   ],
   "source": [
    "numbers = [23, 23401, 2, 7564, 394]\n",
    "\n",
    "for number in numbers:\n",
    "    print(number * 100)"
   ]
  },
  {
   "cell_type": "markdown",
   "metadata": {},
   "source": [
    "Usually we will not want to `print` our results to the terminal like this. Instead, we will want to add our results to another list to perform further calculations on.\n",
    "\n",
    "To do this in Python, we need to initialize an empty list, and `append` values to it as our operations are performed:"
   ]
  },
  {
   "cell_type": "code",
   "execution_count": 305,
   "metadata": {},
   "outputs": [
    {
     "name": "stdout",
     "output_type": "stream",
     "text": [
      "[3, 0, 0, 3, 3, 3, 3, 0]\n"
     ]
    }
   ],
   "source": [
    "input_data = [1, 0, 0, 1, 1, 1, 1, 0]\n",
    "output_list = [] # initialize empty list outside of the for loop\n",
    "\n",
    "for number in input_data:\n",
    "    output_list.append(number * 3)\n",
    "    \n",
    "print(output_list)"
   ]
  },
  {
   "cell_type": "markdown",
   "metadata": {},
   "source": [
    "Here's another example of the same principle:"
   ]
  },
  {
   "cell_type": "code",
   "execution_count": 306,
   "metadata": {},
   "outputs": [
    {
     "name": "stdout",
     "output_type": "stream",
     "text": [
      "['T', 'h', 'i', 's', ' ', 'i', 's', ' ', 'g', 'o', 'i', 'n', 'g', ' ', 't', 'o', ' ', 't', 'u', 'r', 'n', ' ', 'i', 'n', 't', 'o', ' ', 'a', ' ', 'l', 'i', 's', 't', ' ', 'o', 'f', ' ', 'c', 'h', 'a', 'r', 'a', 'c', 't', 'e', 'r', 's']\n"
     ]
    }
   ],
   "source": [
    "my_input = 'This is going to turn into a list of characters'\n",
    "my_output = [] # initialize empty list to append to\n",
    "\n",
    "for character in my_input:\n",
    "    my_output.append(character)\n",
    "\n",
    "print(my_output)"
   ]
  }
 ],
 "metadata": {
  "kernelspec": {
   "display_name": "Python 3",
   "language": "python",
   "name": "python3"
  },
  "language_info": {
   "codemirror_mode": {
    "name": "ipython",
    "version": 3
   },
   "file_extension": ".py",
   "mimetype": "text/x-python",
   "name": "python",
   "nbconvert_exporter": "python",
   "pygments_lexer": "ipython3",
   "version": "3.7.3"
  }
 },
 "nbformat": 4,
 "nbformat_minor": 4
}
