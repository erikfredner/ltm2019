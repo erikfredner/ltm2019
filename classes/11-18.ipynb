{
 "cells": [
  {
   "cell_type": "markdown",
   "metadata": {},
   "source": [
    "# Graphing word frequencies over time\n",
    "Some of you have said that you want to look at word frequencies over time in your corpus.\n",
    "\n",
    "You can make your charts in Pandas, or in any other graphing program you would like, such as Tableau."
   ]
  },
  {
   "cell_type": "markdown",
   "metadata": {},
   "source": [
    "## Word frequencies over time\n",
    "\n",
    "Let's make a dataframe. I released a new version of `make_dtm` that fixes a problem that some of you observed: Under certain conditions, the `drop_below` argument would reurn different numbers of words for the scaled and the raw versions of the document-term matrices.\n",
    "\n",
    "The current version of the function generates a list of the words with the highest *raw* frequencies over the whole corpus, and allows you to select a number of those words that you want to return. The default option is to return all words. If you set the argument `keep_top` to, say, `1000`, you will return only the 1,000 words that are most frequent across the whole corpus. That filtered dataframe can be `scaled` or raw.\n",
    "\n",
    "That said, the percentages of each word will be calculated relative to the total number of tokens in each text regardless of the total number of words you choose to return. So, you should exepct that the sum of all of the scaled frequencies will be less than 1.0 since it is very likely that less than 100% of the words in a given text will also be included in the top 1,000 words overall.\n",
    "\n",
    "Otherwise, the function works identically: You pass it a path to a folder containing texts, set options if you want to, and it spits out a document-term matrix."
   ]
  },
  {
   "cell_type": "code",
   "execution_count": 342,
   "metadata": {},
   "outputs": [],
   "source": [
    "from make_dtm import *"
   ]
  },
  {
   "cell_type": "code",
   "execution_count": 343,
   "metadata": {},
   "outputs": [],
   "source": [
    "corp_path = '/Users/e/Library/Mobile Documents/com~apple~CloudDocs/PhD/ltm/corpora/race/texts'"
   ]
  },
  {
   "cell_type": "code",
   "execution_count": 344,
   "metadata": {},
   "outputs": [],
   "source": [
    "# new version takes about 1 second per novel to process on my computer\n",
    "dtm = make_dtm(corp_path, scaled = True, keep_top = 4000)"
   ]
  },
  {
   "cell_type": "code",
   "execution_count": 329,
   "metadata": {},
   "outputs": [
    {
     "data": {
      "text/plain": [
       "filepath\n",
       "00020738.txt    0.959354\n",
       "00020084.txt    0.932080\n",
       "00020063.txt    0.929793\n",
       "00020906.txt    0.925727\n",
       "00020686.txt    0.923623\n",
       "dtype: float64"
      ]
     },
     "execution_count": 329,
     "metadata": {},
     "output_type": "execute_result"
    }
   ],
   "source": [
    "# to demonstrate what percentage of all of the words in a given text included in the top 4,000\n",
    "dtm.sum(axis = 'columns').sort_values(ascending = False)[:5]"
   ]
  },
  {
   "cell_type": "code",
   "execution_count": 330,
   "metadata": {},
   "outputs": [
    {
     "data": {
      "text/plain": [
       "filepath\n",
       "00020755.txt    0.830065\n",
       "00020818.txt    0.841195\n",
       "00020804.txt    0.850271\n",
       "00020531.txt    0.856969\n",
       "00020848.txt    0.863670\n",
       "dtype: float64"
      ]
     },
     "execution_count": 330,
     "metadata": {},
     "output_type": "execute_result"
    }
   ],
   "source": [
    "dtm.sum(axis = 'columns').sort_values()[:5]# \"axis\" indicates which axis you want to sum along."
   ]
  },
  {
   "cell_type": "markdown",
   "metadata": {},
   "source": [
    "So, at most the top 4,000 words in this corpus describe 95% of all of the tokens in a text. At the low end, they account for 83% of the tokens in a text."
   ]
  },
  {
   "cell_type": "code",
   "execution_count": 345,
   "metadata": {},
   "outputs": [
    {
     "data": {
      "text/html": [
       "<div>\n",
       "<style scoped>\n",
       "    .dataframe tbody tr th:only-of-type {\n",
       "        vertical-align: middle;\n",
       "    }\n",
       "\n",
       "    .dataframe tbody tr th {\n",
       "        vertical-align: top;\n",
       "    }\n",
       "\n",
       "    .dataframe thead th {\n",
       "        text-align: right;\n",
       "    }\n",
       "</style>\n",
       "<table border=\"1\" class=\"dataframe\">\n",
       "  <thead>\n",
       "    <tr style=\"text-align: right;\">\n",
       "      <th></th>\n",
       "      <th>a</th>\n",
       "      <th>aaron</th>\n",
       "      <th>abandoned</th>\n",
       "      <th>able</th>\n",
       "      <th>about</th>\n",
       "      <th>above</th>\n",
       "      <th>abruptly</th>\n",
       "      <th>absence</th>\n",
       "      <th>absolutely</th>\n",
       "      <th>absurd</th>\n",
       "      <th>...</th>\n",
       "      <th>younger</th>\n",
       "      <th>your</th>\n",
       "      <th>youre</th>\n",
       "      <th>yours</th>\n",
       "      <th>yourself</th>\n",
       "      <th>youth</th>\n",
       "      <th>youve</th>\n",
       "      <th>yul</th>\n",
       "      <th>zelenko</th>\n",
       "      <th>zulfiqar</th>\n",
       "    </tr>\n",
       "    <tr>\n",
       "      <th>filepath</th>\n",
       "      <th></th>\n",
       "      <th></th>\n",
       "      <th></th>\n",
       "      <th></th>\n",
       "      <th></th>\n",
       "      <th></th>\n",
       "      <th></th>\n",
       "      <th></th>\n",
       "      <th></th>\n",
       "      <th></th>\n",
       "      <th></th>\n",
       "      <th></th>\n",
       "      <th></th>\n",
       "      <th></th>\n",
       "      <th></th>\n",
       "      <th></th>\n",
       "      <th></th>\n",
       "      <th></th>\n",
       "      <th></th>\n",
       "      <th></th>\n",
       "      <th></th>\n",
       "    </tr>\n",
       "  </thead>\n",
       "  <tbody>\n",
       "    <tr>\n",
       "      <th>00020055.txt</th>\n",
       "      <td>0.025098</td>\n",
       "      <td>NaN</td>\n",
       "      <td>0.000011</td>\n",
       "      <td>0.000068</td>\n",
       "      <td>0.002253</td>\n",
       "      <td>0.000649</td>\n",
       "      <td>0.000028</td>\n",
       "      <td>0.000006</td>\n",
       "      <td>0.000045</td>\n",
       "      <td>0.000040</td>\n",
       "      <td>...</td>\n",
       "      <td>0.000028</td>\n",
       "      <td>0.002270</td>\n",
       "      <td>0.000768</td>\n",
       "      <td>0.000062</td>\n",
       "      <td>0.000203</td>\n",
       "      <td>0.000079</td>\n",
       "      <td>0.000231</td>\n",
       "      <td>NaN</td>\n",
       "      <td>NaN</td>\n",
       "      <td>NaN</td>\n",
       "    </tr>\n",
       "    <tr>\n",
       "      <th>00020063.txt</th>\n",
       "      <td>0.014889</td>\n",
       "      <td>NaN</td>\n",
       "      <td>NaN</td>\n",
       "      <td>0.000113</td>\n",
       "      <td>0.001088</td>\n",
       "      <td>0.000300</td>\n",
       "      <td>NaN</td>\n",
       "      <td>NaN</td>\n",
       "      <td>0.000038</td>\n",
       "      <td>NaN</td>\n",
       "      <td>...</td>\n",
       "      <td>0.000038</td>\n",
       "      <td>0.001125</td>\n",
       "      <td>0.000338</td>\n",
       "      <td>0.000038</td>\n",
       "      <td>0.000188</td>\n",
       "      <td>NaN</td>\n",
       "      <td>0.000038</td>\n",
       "      <td>NaN</td>\n",
       "      <td>NaN</td>\n",
       "      <td>NaN</td>\n",
       "    </tr>\n",
       "    <tr>\n",
       "      <th>00020084.txt</th>\n",
       "      <td>0.016666</td>\n",
       "      <td>NaN</td>\n",
       "      <td>0.000037</td>\n",
       "      <td>0.000311</td>\n",
       "      <td>0.001628</td>\n",
       "      <td>0.000485</td>\n",
       "      <td>0.000112</td>\n",
       "      <td>NaN</td>\n",
       "      <td>NaN</td>\n",
       "      <td>NaN</td>\n",
       "      <td>...</td>\n",
       "      <td>0.000087</td>\n",
       "      <td>0.001740</td>\n",
       "      <td>0.000050</td>\n",
       "      <td>0.000062</td>\n",
       "      <td>0.000099</td>\n",
       "      <td>0.000025</td>\n",
       "      <td>NaN</td>\n",
       "      <td>NaN</td>\n",
       "      <td>NaN</td>\n",
       "      <td>NaN</td>\n",
       "    </tr>\n",
       "    <tr>\n",
       "      <th>00020085.txt</th>\n",
       "      <td>0.022344</td>\n",
       "      <td>0.000008</td>\n",
       "      <td>0.000020</td>\n",
       "      <td>0.000192</td>\n",
       "      <td>0.003251</td>\n",
       "      <td>0.000132</td>\n",
       "      <td>0.000004</td>\n",
       "      <td>0.000004</td>\n",
       "      <td>0.000084</td>\n",
       "      <td>0.000008</td>\n",
       "      <td>...</td>\n",
       "      <td>0.000056</td>\n",
       "      <td>0.001499</td>\n",
       "      <td>0.000814</td>\n",
       "      <td>0.000044</td>\n",
       "      <td>0.000253</td>\n",
       "      <td>0.000012</td>\n",
       "      <td>0.000164</td>\n",
       "      <td>NaN</td>\n",
       "      <td>NaN</td>\n",
       "      <td>NaN</td>\n",
       "    </tr>\n",
       "    <tr>\n",
       "      <th>00020209.txt</th>\n",
       "      <td>0.028819</td>\n",
       "      <td>0.000451</td>\n",
       "      <td>0.000020</td>\n",
       "      <td>0.000108</td>\n",
       "      <td>0.003373</td>\n",
       "      <td>0.000088</td>\n",
       "      <td>0.000028</td>\n",
       "      <td>0.000016</td>\n",
       "      <td>0.000196</td>\n",
       "      <td>0.000036</td>\n",
       "      <td>...</td>\n",
       "      <td>0.000064</td>\n",
       "      <td>0.002459</td>\n",
       "      <td>0.002211</td>\n",
       "      <td>0.000092</td>\n",
       "      <td>0.000299</td>\n",
       "      <td>0.000028</td>\n",
       "      <td>0.000651</td>\n",
       "      <td>NaN</td>\n",
       "      <td>0.000255</td>\n",
       "      <td>NaN</td>\n",
       "    </tr>\n",
       "  </tbody>\n",
       "</table>\n",
       "<p>5 rows × 4000 columns</p>\n",
       "</div>"
      ],
      "text/plain": [
       "                     a     aaron  abandoned      able     about     above  \\\n",
       "filepath                                                                    \n",
       "00020055.txt  0.025098       NaN   0.000011  0.000068  0.002253  0.000649   \n",
       "00020063.txt  0.014889       NaN        NaN  0.000113  0.001088  0.000300   \n",
       "00020084.txt  0.016666       NaN   0.000037  0.000311  0.001628  0.000485   \n",
       "00020085.txt  0.022344  0.000008   0.000020  0.000192  0.003251  0.000132   \n",
       "00020209.txt  0.028819  0.000451   0.000020  0.000108  0.003373  0.000088   \n",
       "\n",
       "              abruptly   absence  absolutely    absurd  ...   younger  \\\n",
       "filepath                                                ...             \n",
       "00020055.txt  0.000028  0.000006    0.000045  0.000040  ...  0.000028   \n",
       "00020063.txt       NaN       NaN    0.000038       NaN  ...  0.000038   \n",
       "00020084.txt  0.000112       NaN         NaN       NaN  ...  0.000087   \n",
       "00020085.txt  0.000004  0.000004    0.000084  0.000008  ...  0.000056   \n",
       "00020209.txt  0.000028  0.000016    0.000196  0.000036  ...  0.000064   \n",
       "\n",
       "                  your     youre     yours  yourself     youth     youve  yul  \\\n",
       "filepath                                                                        \n",
       "00020055.txt  0.002270  0.000768  0.000062  0.000203  0.000079  0.000231  NaN   \n",
       "00020063.txt  0.001125  0.000338  0.000038  0.000188       NaN  0.000038  NaN   \n",
       "00020084.txt  0.001740  0.000050  0.000062  0.000099  0.000025       NaN  NaN   \n",
       "00020085.txt  0.001499  0.000814  0.000044  0.000253  0.000012  0.000164  NaN   \n",
       "00020209.txt  0.002459  0.002211  0.000092  0.000299  0.000028  0.000651  NaN   \n",
       "\n",
       "               zelenko  zulfiqar  \n",
       "filepath                          \n",
       "00020055.txt       NaN       NaN  \n",
       "00020063.txt       NaN       NaN  \n",
       "00020084.txt       NaN       NaN  \n",
       "00020085.txt       NaN       NaN  \n",
       "00020209.txt  0.000255       NaN  \n",
       "\n",
       "[5 rows x 4000 columns]"
      ]
     },
     "execution_count": 345,
     "metadata": {},
     "output_type": "execute_result"
    }
   ],
   "source": [
    "dtm.head()"
   ]
  },
  {
   "cell_type": "markdown",
   "metadata": {},
   "source": [
    "Now, we're going to add our year metadata to this table:"
   ]
  },
  {
   "cell_type": "code",
   "execution_count": 332,
   "metadata": {},
   "outputs": [],
   "source": [
    "meta_path = '/Users/e/Library/Mobile Documents/com~apple~CloudDocs/PhD/ltm/corpora/race/meta.csv'\n",
    "meta = pd.read_csv(meta_path)"
   ]
  },
  {
   "cell_type": "code",
   "execution_count": 333,
   "metadata": {},
   "outputs": [
    {
     "data": {
      "text/html": [
       "<div>\n",
       "<style scoped>\n",
       "    .dataframe tbody tr th:only-of-type {\n",
       "        vertical-align: middle;\n",
       "    }\n",
       "\n",
       "    .dataframe tbody tr th {\n",
       "        vertical-align: top;\n",
       "    }\n",
       "\n",
       "    .dataframe thead th {\n",
       "        text-align: right;\n",
       "    }\n",
       "</style>\n",
       "<table border=\"1\" class=\"dataframe\">\n",
       "  <thead>\n",
       "    <tr style=\"text-align: right;\">\n",
       "      <th></th>\n",
       "      <th>BOOK_ID</th>\n",
       "      <th>FILENAME</th>\n",
       "      <th>LIBRARIES</th>\n",
       "      <th>TITLE</th>\n",
       "      <th>AUTH_LAST</th>\n",
       "      <th>AUTH_FIRST</th>\n",
       "      <th>AUTH_ID</th>\n",
       "      <th>WRITTEN_AS</th>\n",
       "      <th>PUBL_CITY</th>\n",
       "      <th>PUBLISHER</th>\n",
       "      <th>PUBL_DATE</th>\n",
       "      <th>SOURCE</th>\n",
       "      <th>NATIONALITY</th>\n",
       "      <th>GENRE</th>\n",
       "      <th>CLEAN?</th>\n",
       "    </tr>\n",
       "  </thead>\n",
       "  <tbody>\n",
       "    <tr>\n",
       "      <th>0</th>\n",
       "      <td>20324</td>\n",
       "      <td>00020324.txt</td>\n",
       "      <td>483</td>\n",
       "      <td>Tambourines to glory</td>\n",
       "      <td>Hughes</td>\n",
       "      <td>Langston</td>\n",
       "      <td>A_01729</td>\n",
       "      <td>NaN</td>\n",
       "      <td>New York</td>\n",
       "      <td>John Day</td>\n",
       "      <td>1958</td>\n",
       "      <td>k</td>\n",
       "      <td>American</td>\n",
       "      <td>NaN</td>\n",
       "      <td>c</td>\n",
       "    </tr>\n",
       "    <tr>\n",
       "      <th>1</th>\n",
       "      <td>20055</td>\n",
       "      <td>00020055.txt</td>\n",
       "      <td>1577</td>\n",
       "      <td>Invisible Man</td>\n",
       "      <td>Ellison</td>\n",
       "      <td>Ralph</td>\n",
       "      <td>A_01078</td>\n",
       "      <td>NaN</td>\n",
       "      <td>New York</td>\n",
       "      <td>Random House</td>\n",
       "      <td>1952</td>\n",
       "      <td>k</td>\n",
       "      <td>American</td>\n",
       "      <td>MOD</td>\n",
       "      <td>c</td>\n",
       "    </tr>\n",
       "    <tr>\n",
       "      <th>2</th>\n",
       "      <td>20084</td>\n",
       "      <td>00020084.txt</td>\n",
       "      <td>953</td>\n",
       "      <td>Go tell it on the mountain</td>\n",
       "      <td>Baldwin</td>\n",
       "      <td>James</td>\n",
       "      <td>A_00139</td>\n",
       "      <td>NaN</td>\n",
       "      <td>New York</td>\n",
       "      <td>Alfred A. Knopf</td>\n",
       "      <td>1953</td>\n",
       "      <td>k</td>\n",
       "      <td>American</td>\n",
       "      <td>MOD</td>\n",
       "      <td>c</td>\n",
       "    </tr>\n",
       "    <tr>\n",
       "      <th>3</th>\n",
       "      <td>20213</td>\n",
       "      <td>00020213.txt</td>\n",
       "      <td>1107</td>\n",
       "      <td>Giovanni's room</td>\n",
       "      <td>Baldwin</td>\n",
       "      <td>James</td>\n",
       "      <td>A_00139</td>\n",
       "      <td>NaN</td>\n",
       "      <td>New York</td>\n",
       "      <td>Dial Press</td>\n",
       "      <td>1956</td>\n",
       "      <td>k</td>\n",
       "      <td>American</td>\n",
       "      <td>MOD</td>\n",
       "      <td>c</td>\n",
       "    </tr>\n",
       "    <tr>\n",
       "      <th>4</th>\n",
       "      <td>20774</td>\n",
       "      <td>00020774.txt</td>\n",
       "      <td>411</td>\n",
       "      <td>Nova</td>\n",
       "      <td>Delany</td>\n",
       "      <td>Samuel R</td>\n",
       "      <td>A_00905</td>\n",
       "      <td>NaN</td>\n",
       "      <td>Garden City/N.Y.</td>\n",
       "      <td>\"Doubleday, Page &amp; Co.\"</td>\n",
       "      <td>1968</td>\n",
       "      <td>k</td>\n",
       "      <td>American</td>\n",
       "      <td>SCI</td>\n",
       "      <td>c</td>\n",
       "    </tr>\n",
       "  </tbody>\n",
       "</table>\n",
       "</div>"
      ],
      "text/plain": [
       "   BOOK_ID      FILENAME  LIBRARIES                       TITLE AUTH_LAST  \\\n",
       "0    20324  00020324.txt        483        Tambourines to glory    Hughes   \n",
       "1    20055  00020055.txt       1577               Invisible Man   Ellison   \n",
       "2    20084  00020084.txt        953  Go tell it on the mountain   Baldwin   \n",
       "3    20213  00020213.txt       1107             Giovanni's room   Baldwin   \n",
       "4    20774  00020774.txt        411                        Nova    Delany   \n",
       "\n",
       "  AUTH_FIRST  AUTH_ID  WRITTEN_AS         PUBL_CITY                PUBLISHER  \\\n",
       "0   Langston  A_01729         NaN          New York                 John Day   \n",
       "1      Ralph  A_01078         NaN          New York             Random House   \n",
       "2      James  A_00139         NaN          New York          Alfred A. Knopf   \n",
       "3      James  A_00139         NaN          New York               Dial Press   \n",
       "4   Samuel R  A_00905         NaN  Garden City/N.Y.  \"Doubleday, Page & Co.\"   \n",
       "\n",
       "   PUBL_DATE SOURCE NATIONALITY GENRE CLEAN?  \n",
       "0       1958      k    American   NaN      c  \n",
       "1       1952      k    American   MOD      c  \n",
       "2       1953      k    American   MOD      c  \n",
       "3       1956      k    American   MOD      c  \n",
       "4       1968      k    American   SCI      c  "
      ]
     },
     "execution_count": 333,
     "metadata": {},
     "output_type": "execute_result"
    }
   ],
   "source": [
    "meta.head()"
   ]
  },
  {
   "cell_type": "markdown",
   "metadata": {},
   "source": [
    "Specifically going to add data about libraries, titles, and publication date for reasons that will become clear:"
   ]
  },
  {
   "cell_type": "code",
   "execution_count": 346,
   "metadata": {},
   "outputs": [],
   "source": [
    "df = pd.merge(dtm, meta[['FILENAME','PUBL_DATE', 'LIBRARIES', 'TITLE']], left_on='filepath', right_on='FILENAME')"
   ]
  },
  {
   "cell_type": "code",
   "execution_count": 347,
   "metadata": {},
   "outputs": [
    {
     "data": {
      "text/html": [
       "<div>\n",
       "<style scoped>\n",
       "    .dataframe tbody tr th:only-of-type {\n",
       "        vertical-align: middle;\n",
       "    }\n",
       "\n",
       "    .dataframe tbody tr th {\n",
       "        vertical-align: top;\n",
       "    }\n",
       "\n",
       "    .dataframe thead th {\n",
       "        text-align: right;\n",
       "    }\n",
       "</style>\n",
       "<table border=\"1\" class=\"dataframe\">\n",
       "  <thead>\n",
       "    <tr style=\"text-align: right;\">\n",
       "      <th></th>\n",
       "      <th>a</th>\n",
       "      <th>aaron</th>\n",
       "      <th>abandoned</th>\n",
       "      <th>able</th>\n",
       "      <th>about</th>\n",
       "      <th>above</th>\n",
       "      <th>abruptly</th>\n",
       "      <th>absence</th>\n",
       "      <th>absolutely</th>\n",
       "      <th>absurd</th>\n",
       "      <th>...</th>\n",
       "      <th>yourself</th>\n",
       "      <th>youth</th>\n",
       "      <th>youve</th>\n",
       "      <th>yul</th>\n",
       "      <th>zelenko</th>\n",
       "      <th>zulfiqar</th>\n",
       "      <th>FILENAME</th>\n",
       "      <th>PUBL_DATE</th>\n",
       "      <th>LIBRARIES</th>\n",
       "      <th>TITLE</th>\n",
       "    </tr>\n",
       "  </thead>\n",
       "  <tbody>\n",
       "    <tr>\n",
       "      <th>0</th>\n",
       "      <td>0.025098</td>\n",
       "      <td>NaN</td>\n",
       "      <td>0.000011</td>\n",
       "      <td>0.000068</td>\n",
       "      <td>0.002253</td>\n",
       "      <td>0.000649</td>\n",
       "      <td>0.000028</td>\n",
       "      <td>0.000006</td>\n",
       "      <td>0.000045</td>\n",
       "      <td>0.000040</td>\n",
       "      <td>...</td>\n",
       "      <td>0.000203</td>\n",
       "      <td>0.000079</td>\n",
       "      <td>0.000231</td>\n",
       "      <td>NaN</td>\n",
       "      <td>NaN</td>\n",
       "      <td>NaN</td>\n",
       "      <td>00020055.txt</td>\n",
       "      <td>1952</td>\n",
       "      <td>1577</td>\n",
       "      <td>Invisible Man</td>\n",
       "    </tr>\n",
       "    <tr>\n",
       "      <th>1</th>\n",
       "      <td>0.014889</td>\n",
       "      <td>NaN</td>\n",
       "      <td>NaN</td>\n",
       "      <td>0.000113</td>\n",
       "      <td>0.001088</td>\n",
       "      <td>0.000300</td>\n",
       "      <td>NaN</td>\n",
       "      <td>NaN</td>\n",
       "      <td>0.000038</td>\n",
       "      <td>NaN</td>\n",
       "      <td>...</td>\n",
       "      <td>0.000188</td>\n",
       "      <td>NaN</td>\n",
       "      <td>0.000038</td>\n",
       "      <td>NaN</td>\n",
       "      <td>NaN</td>\n",
       "      <td>NaN</td>\n",
       "      <td>00020063.txt</td>\n",
       "      <td>1952</td>\n",
       "      <td>2499</td>\n",
       "      <td>The old man and the sea</td>\n",
       "    </tr>\n",
       "    <tr>\n",
       "      <th>2</th>\n",
       "      <td>0.016666</td>\n",
       "      <td>NaN</td>\n",
       "      <td>0.000037</td>\n",
       "      <td>0.000311</td>\n",
       "      <td>0.001628</td>\n",
       "      <td>0.000485</td>\n",
       "      <td>0.000112</td>\n",
       "      <td>NaN</td>\n",
       "      <td>NaN</td>\n",
       "      <td>NaN</td>\n",
       "      <td>...</td>\n",
       "      <td>0.000099</td>\n",
       "      <td>0.000025</td>\n",
       "      <td>NaN</td>\n",
       "      <td>NaN</td>\n",
       "      <td>NaN</td>\n",
       "      <td>NaN</td>\n",
       "      <td>00020084.txt</td>\n",
       "      <td>1953</td>\n",
       "      <td>953</td>\n",
       "      <td>Go tell it on the mountain</td>\n",
       "    </tr>\n",
       "    <tr>\n",
       "      <th>3</th>\n",
       "      <td>0.022344</td>\n",
       "      <td>0.000008</td>\n",
       "      <td>0.000020</td>\n",
       "      <td>0.000192</td>\n",
       "      <td>0.003251</td>\n",
       "      <td>0.000132</td>\n",
       "      <td>0.000004</td>\n",
       "      <td>0.000004</td>\n",
       "      <td>0.000084</td>\n",
       "      <td>0.000008</td>\n",
       "      <td>...</td>\n",
       "      <td>0.000253</td>\n",
       "      <td>0.000012</td>\n",
       "      <td>0.000164</td>\n",
       "      <td>NaN</td>\n",
       "      <td>NaN</td>\n",
       "      <td>NaN</td>\n",
       "      <td>00020085.txt</td>\n",
       "      <td>1953</td>\n",
       "      <td>2080</td>\n",
       "      <td>The adventures of Augie March</td>\n",
       "    </tr>\n",
       "    <tr>\n",
       "      <th>4</th>\n",
       "      <td>0.028819</td>\n",
       "      <td>0.000451</td>\n",
       "      <td>0.000020</td>\n",
       "      <td>0.000108</td>\n",
       "      <td>0.003373</td>\n",
       "      <td>0.000088</td>\n",
       "      <td>0.000028</td>\n",
       "      <td>0.000016</td>\n",
       "      <td>0.000196</td>\n",
       "      <td>0.000036</td>\n",
       "      <td>...</td>\n",
       "      <td>0.000299</td>\n",
       "      <td>0.000028</td>\n",
       "      <td>0.000651</td>\n",
       "      <td>NaN</td>\n",
       "      <td>0.000255</td>\n",
       "      <td>NaN</td>\n",
       "      <td>00020209.txt</td>\n",
       "      <td>1955</td>\n",
       "      <td>2398</td>\n",
       "      <td>Marjorie Morningstar</td>\n",
       "    </tr>\n",
       "  </tbody>\n",
       "</table>\n",
       "<p>5 rows × 4004 columns</p>\n",
       "</div>"
      ],
      "text/plain": [
       "          a     aaron  abandoned      able     about     above  abruptly  \\\n",
       "0  0.025098       NaN   0.000011  0.000068  0.002253  0.000649  0.000028   \n",
       "1  0.014889       NaN        NaN  0.000113  0.001088  0.000300       NaN   \n",
       "2  0.016666       NaN   0.000037  0.000311  0.001628  0.000485  0.000112   \n",
       "3  0.022344  0.000008   0.000020  0.000192  0.003251  0.000132  0.000004   \n",
       "4  0.028819  0.000451   0.000020  0.000108  0.003373  0.000088  0.000028   \n",
       "\n",
       "    absence  absolutely    absurd  ...  yourself     youth     youve  yul  \\\n",
       "0  0.000006    0.000045  0.000040  ...  0.000203  0.000079  0.000231  NaN   \n",
       "1       NaN    0.000038       NaN  ...  0.000188       NaN  0.000038  NaN   \n",
       "2       NaN         NaN       NaN  ...  0.000099  0.000025       NaN  NaN   \n",
       "3  0.000004    0.000084  0.000008  ...  0.000253  0.000012  0.000164  NaN   \n",
       "4  0.000016    0.000196  0.000036  ...  0.000299  0.000028  0.000651  NaN   \n",
       "\n",
       "    zelenko  zulfiqar      FILENAME  PUBL_DATE  LIBRARIES  \\\n",
       "0       NaN       NaN  00020055.txt       1952       1577   \n",
       "1       NaN       NaN  00020063.txt       1952       2499   \n",
       "2       NaN       NaN  00020084.txt       1953        953   \n",
       "3       NaN       NaN  00020085.txt       1953       2080   \n",
       "4  0.000255       NaN  00020209.txt       1955       2398   \n",
       "\n",
       "                           TITLE  \n",
       "0                  Invisible Man  \n",
       "1        The old man and the sea  \n",
       "2     Go tell it on the mountain  \n",
       "3  The adventures of Augie March  \n",
       "4           Marjorie Morningstar  \n",
       "\n",
       "[5 rows x 4004 columns]"
      ]
     },
     "execution_count": 347,
     "metadata": {},
     "output_type": "execute_result"
    }
   ],
   "source": [
    "df.head()"
   ]
  },
  {
   "cell_type": "code",
   "execution_count": 349,
   "metadata": {},
   "outputs": [],
   "source": [
    "df.sort_values('PUBL_DATE', inplace=True)"
   ]
  },
  {
   "cell_type": "markdown",
   "metadata": {},
   "source": [
    "Now we can use our `PUBL_DATE` column to plot the frequencies of various words over time:"
   ]
  },
  {
   "cell_type": "code",
   "execution_count": 351,
   "metadata": {},
   "outputs": [
    {
     "data": {
      "text/plain": [
       "<matplotlib.axes._subplots.AxesSubplot at 0x1a555e9c50>"
      ]
     },
     "execution_count": 351,
     "metadata": {},
     "output_type": "execute_result"
    },
    {
     "data": {
      "image/png": "[encoded data removed]",
      "text/plain": [
       "<Figure size 1296x432 with 1 Axes>"
      ]
     },
     "metadata": {
      "needs_background": "light"
     },
     "output_type": "display_data"
    }
   ],
   "source": [
    "df.plot(x = 'PUBL_DATE', y = 'black', figsize = (18,6))"
   ]
  },
  {
   "cell_type": "markdown",
   "metadata": {},
   "source": [
    "This graph is spiky because we have relatively few texts to look at. And we must always be careful to say that these are trends *within our corpus*, which exists over the time represented on the x-axis but is of course not the same as it."
   ]
  },
  {
   "cell_type": "markdown",
   "metadata": {},
   "source": [
    "The line plot can be misleading about what we actually have. It implies continuities that may not be there. Let's try a scatterplot:"
   ]
  },
  {
   "cell_type": "code",
   "execution_count": 354,
   "metadata": {},
   "outputs": [
    {
     "data": {
      "text/plain": [
       "(0, 0.0032238833744244796)"
      ]
     },
     "execution_count": 354,
     "metadata": {},
     "output_type": "execute_result"
    },
    {
     "data": {
      "image/png": "[encoded data removed]",
      "text/plain": [
       "<Figure size 1296x432 with 1 Axes>"
      ]
     },
     "metadata": {
      "needs_background": "light"
     },
     "output_type": "display_data"
    }
   ],
   "source": [
    "ax = df.plot.scatter(x = 'PUBL_DATE', y = 'black', figsize = (18,6))\n",
    "# this line sets the y-axis so that we can see all of the points clearly:\n",
    "ax.set_ylim((0, df['black'].max()+df['black'].std())) # by default, includes negative values that we don't need"
   ]
  },
  {
   "cell_type": "markdown",
   "metadata": {},
   "source": [
    "We can add additional metadata to a scatterplot like this. For example, let's use our `LIBRARIES` column to color these points by how many places hold them:"
   ]
  },
  {
   "cell_type": "code",
   "execution_count": 355,
   "metadata": {},
   "outputs": [
    {
     "data": {
      "text/plain": [
       "(0, 0.0032238833744244796)"
      ]
     },
     "execution_count": 355,
     "metadata": {},
     "output_type": "execute_result"
    },
    {
     "data": {
      "image/png": "[encoded data removed]",
      "text/plain": [
       "<Figure size 1296x432 with 2 Axes>"
      ]
     },
     "metadata": {
      "needs_background": "light"
     },
     "output_type": "display_data"
    }
   ],
   "source": [
    "ax = df.plot.scatter(x = 'PUBL_DATE', y = 'black', figsize = (18,6), c = 'LIBRARIES', colormap = 'viridis')\n",
    "ax.set_ylim((0, df['black'].max()+df['black'].std()))"
   ]
  },
  {
   "cell_type": "markdown",
   "metadata": {},
   "source": [
    "(`viridis` is the name for the colorscheme associated with the values.)\n",
    "\n",
    "That's pretty cool--some of the outliers are associated with fewer libraries.\n",
    "\n",
    "But what are these texts? We need to label our points:"
   ]
  },
  {
   "cell_type": "code",
   "execution_count": 356,
   "metadata": {},
   "outputs": [
    {
     "data": {
      "image/png": "[encoded data removed]",
      "text/plain": [
       "<Figure size 1296x432 with 2 Axes>"
      ]
     },
     "metadata": {
      "needs_background": "light"
     },
     "output_type": "display_data"
    }
   ],
   "source": [
    "import matplotlib.pyplot as plt # <- conventional import, like import pandas as pd\n",
    "\n",
    "ax = df.plot.scatter(x = 'PUBL_DATE', y = 'black', figsize = (18,6), c = 'LIBRARIES', colormap = 'viridis')\n",
    "ax.set_ylim((0, df['black'].max()+df['black'].std()))\n",
    "\n",
    "# label the points\n",
    "x_coords = df['PUBL_DATE']\n",
    "y_coords = df['black']\n",
    "labels = df['TITLE']\n",
    "\n",
    "for i,label in enumerate(labels):\n",
    "    x = x_coords[i]\n",
    "    y = y_coords[i]\n",
    "    ax.text(x, y, label, fontsize=10)\n",
    "\n",
    "plt.show()"
   ]
  },
  {
   "cell_type": "markdown",
   "metadata": {},
   "source": [
    "Obviously the program doesn't \"know\" whether the texts of each point will overlap with other parts of the graph; it just plots them all. So there are parts of this that are pretty difficult to read. \n",
    "\n",
    "Other software like Tableau will intelligently mark points in such a way that the texts don't overlap like this. And they also enable us to mouse-over the points and see more data about them."
   ]
  },
  {
   "cell_type": "markdown",
   "metadata": {},
   "source": [
    "# Showing multiple words over time simultaneously"
   ]
  },
  {
   "cell_type": "code",
   "execution_count": 358,
   "metadata": {},
   "outputs": [
    {
     "data": {
      "text/html": [
       "<div>\n",
       "<style scoped>\n",
       "    .dataframe tbody tr th:only-of-type {\n",
       "        vertical-align: middle;\n",
       "    }\n",
       "\n",
       "    .dataframe tbody tr th {\n",
       "        vertical-align: top;\n",
       "    }\n",
       "\n",
       "    .dataframe thead th {\n",
       "        text-align: right;\n",
       "    }\n",
       "</style>\n",
       "<table border=\"1\" class=\"dataframe\">\n",
       "  <thead>\n",
       "    <tr style=\"text-align: right;\">\n",
       "      <th></th>\n",
       "      <th>black</th>\n",
       "      <th>white</th>\n",
       "    </tr>\n",
       "  </thead>\n",
       "  <tbody>\n",
       "    <tr>\n",
       "      <th>0</th>\n",
       "      <td>0.001620</td>\n",
       "      <td>0.002016</td>\n",
       "    </tr>\n",
       "    <tr>\n",
       "      <th>1</th>\n",
       "      <td>0.000188</td>\n",
       "      <td>0.000525</td>\n",
       "    </tr>\n",
       "    <tr>\n",
       "      <th>2</th>\n",
       "      <td>0.000783</td>\n",
       "      <td>0.001243</td>\n",
       "    </tr>\n",
       "    <tr>\n",
       "      <th>3</th>\n",
       "      <td>0.000533</td>\n",
       "      <td>0.000645</td>\n",
       "    </tr>\n",
       "    <tr>\n",
       "      <th>29</th>\n",
       "      <td>0.000197</td>\n",
       "      <td>0.000748</td>\n",
       "    </tr>\n",
       "    <tr>\n",
       "      <th>4</th>\n",
       "      <td>0.000846</td>\n",
       "      <td>0.000734</td>\n",
       "    </tr>\n",
       "    <tr>\n",
       "      <th>5</th>\n",
       "      <td>0.000364</td>\n",
       "      <td>0.000456</td>\n",
       "    </tr>\n",
       "    <tr>\n",
       "      <th>6</th>\n",
       "      <td>0.000478</td>\n",
       "      <td>0.001046</td>\n",
       "    </tr>\n",
       "    <tr>\n",
       "      <th>7</th>\n",
       "      <td>0.000308</td>\n",
       "      <td>0.000936</td>\n",
       "    </tr>\n",
       "    <tr>\n",
       "      <th>8</th>\n",
       "      <td>0.000568</td>\n",
       "      <td>0.000673</td>\n",
       "    </tr>\n",
       "    <tr>\n",
       "      <th>9</th>\n",
       "      <td>0.000324</td>\n",
       "      <td>0.000564</td>\n",
       "    </tr>\n",
       "    <tr>\n",
       "      <th>10</th>\n",
       "      <td>0.000319</td>\n",
       "      <td>0.000615</td>\n",
       "    </tr>\n",
       "    <tr>\n",
       "      <th>11</th>\n",
       "      <td>0.000354</td>\n",
       "      <td>0.000218</td>\n",
       "    </tr>\n",
       "    <tr>\n",
       "      <th>12</th>\n",
       "      <td>0.002593</td>\n",
       "      <td>0.002798</td>\n",
       "    </tr>\n",
       "    <tr>\n",
       "      <th>14</th>\n",
       "      <td>0.002166</td>\n",
       "      <td>0.001933</td>\n",
       "    </tr>\n",
       "    <tr>\n",
       "      <th>13</th>\n",
       "      <td>0.000933</td>\n",
       "      <td>0.001489</td>\n",
       "    </tr>\n",
       "    <tr>\n",
       "      <th>15</th>\n",
       "      <td>0.001203</td>\n",
       "      <td>0.001653</td>\n",
       "    </tr>\n",
       "    <tr>\n",
       "      <th>16</th>\n",
       "      <td>0.001693</td>\n",
       "      <td>0.000847</td>\n",
       "    </tr>\n",
       "    <tr>\n",
       "      <th>18</th>\n",
       "      <td>0.000462</td>\n",
       "      <td>0.000566</td>\n",
       "    </tr>\n",
       "    <tr>\n",
       "      <th>17</th>\n",
       "      <td>0.001051</td>\n",
       "      <td>0.000525</td>\n",
       "    </tr>\n",
       "    <tr>\n",
       "      <th>19</th>\n",
       "      <td>0.001078</td>\n",
       "      <td>0.001108</td>\n",
       "    </tr>\n",
       "    <tr>\n",
       "      <th>20</th>\n",
       "      <td>0.000128</td>\n",
       "      <td>0.000544</td>\n",
       "    </tr>\n",
       "    <tr>\n",
       "      <th>21</th>\n",
       "      <td>0.000461</td>\n",
       "      <td>0.000491</td>\n",
       "    </tr>\n",
       "    <tr>\n",
       "      <th>22</th>\n",
       "      <td>0.000429</td>\n",
       "      <td>0.000278</td>\n",
       "    </tr>\n",
       "    <tr>\n",
       "      <th>23</th>\n",
       "      <td>0.000319</td>\n",
       "      <td>0.000370</td>\n",
       "    </tr>\n",
       "    <tr>\n",
       "      <th>24</th>\n",
       "      <td>0.000312</td>\n",
       "      <td>0.001342</td>\n",
       "    </tr>\n",
       "    <tr>\n",
       "      <th>25</th>\n",
       "      <td>0.001026</td>\n",
       "      <td>0.001260</td>\n",
       "    </tr>\n",
       "    <tr>\n",
       "      <th>26</th>\n",
       "      <td>0.001781</td>\n",
       "      <td>0.001800</td>\n",
       "    </tr>\n",
       "    <tr>\n",
       "      <th>27</th>\n",
       "      <td>0.001103</td>\n",
       "      <td>0.002192</td>\n",
       "    </tr>\n",
       "    <tr>\n",
       "      <th>28</th>\n",
       "      <td>0.000348</td>\n",
       "      <td>0.000414</td>\n",
       "    </tr>\n",
       "  </tbody>\n",
       "</table>\n",
       "</div>"
      ],
      "text/plain": [
       "       black     white\n",
       "0   0.001620  0.002016\n",
       "1   0.000188  0.000525\n",
       "2   0.000783  0.001243\n",
       "3   0.000533  0.000645\n",
       "29  0.000197  0.000748\n",
       "4   0.000846  0.000734\n",
       "5   0.000364  0.000456\n",
       "6   0.000478  0.001046\n",
       "7   0.000308  0.000936\n",
       "8   0.000568  0.000673\n",
       "9   0.000324  0.000564\n",
       "10  0.000319  0.000615\n",
       "11  0.000354  0.000218\n",
       "12  0.002593  0.002798\n",
       "14  0.002166  0.001933\n",
       "13  0.000933  0.001489\n",
       "15  0.001203  0.001653\n",
       "16  0.001693  0.000847\n",
       "18  0.000462  0.000566\n",
       "17  0.001051  0.000525\n",
       "19  0.001078  0.001108\n",
       "20  0.000128  0.000544\n",
       "21  0.000461  0.000491\n",
       "22  0.000429  0.000278\n",
       "23  0.000319  0.000370\n",
       "24  0.000312  0.001342\n",
       "25  0.001026  0.001260\n",
       "26  0.001781  0.001800\n",
       "27  0.001103  0.002192\n",
       "28  0.000348  0.000414"
      ]
     },
     "execution_count": 358,
     "metadata": {},
     "output_type": "execute_result"
    }
   ],
   "source": [
    "df[ ['black','white'] ]"
   ]
  },
  {
   "cell_type": "code",
   "execution_count": 240,
   "metadata": {},
   "outputs": [
    {
     "data": {
      "text/plain": [
       "<matplotlib.axes._subplots.AxesSubplot at 0x1a4f05df60>"
      ]
     },
     "execution_count": 240,
     "metadata": {},
     "output_type": "execute_result"
    },
    {
     "data": {
      "image/png": "[encoded data removed]",
      "text/plain": [
       "<Figure size 1296x432 with 1 Axes>"
      ]
     },
     "metadata": {
      "needs_background": "light"
     },
     "output_type": "display_data"
    }
   ],
   "source": [
    "df.plot(x = 'PUBL_DATE', y = ['black','white'], figsize = (18,6))"
   ]
  },
  {
   "cell_type": "markdown",
   "metadata": {},
   "source": [
    "To show this as a scatterplot we have to set the plot as a variable (the conventional name is `ax`) and add other plots on top of it:"
   ]
  },
  {
   "cell_type": "code",
   "execution_count": 363,
   "metadata": {},
   "outputs": [
    {
     "data": {
      "image/png": "[encoded data removed]",
      "text/plain": [
       "<Figure size 1296x432 with 1 Axes>"
      ]
     },
     "metadata": {
      "needs_background": "light"
     },
     "output_type": "display_data"
    }
   ],
   "source": [
    "import matplotlib.pyplot as plt\n",
    "\n",
    "plot1 = df.plot.scatter(x = 'PUBL_DATE', y = 'black', color = 'b', label='black', figsize = (18,6))\n",
    "plot2 = df.plot.scatter(x = 'PUBL_DATE', y = 'white', color = 'r', label = 'white', figsize = (18,6), ax = plot1) # note the extra ax = ax argument\n",
    "plot2.set_ylim((0,df['black'].max()+df['black'].std())) # setting the y axis \n",
    "plot2.set_ylabel('WORD FREQUENCY')\n",
    "plot2.set_xlabel('YEAR OF PUBLICATION')\n",
    "plt.show()"
   ]
  }
 ],
 "metadata": {
  "kernelspec": {
   "display_name": "Python 3",
   "language": "python",
   "name": "python3"
  },
  "language_info": {
   "codemirror_mode": {
    "name": "ipython",
    "version": 3
   },
   "file_extension": ".py",
   "mimetype": "text/x-python",
   "name": "python",
   "nbconvert_exporter": "python",
   "pygments_lexer": "ipython3",
   "version": "3.7.3"
  }
 },
 "nbformat": 4,
 "nbformat_minor": 4
}
