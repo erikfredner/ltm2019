{
 "cells": [
  {
   "cell_type": "markdown",
   "metadata": {},
   "source": [
    "# Dictionaries\n",
    "\n",
    "Today we'll learn about our last core Python datatype, dictionaries. \n",
    "\n",
    "## Why?\n",
    "\n",
    "Dictionaries will help us store many types of data, including word counts. They store information in pairs of `items` known as `keys` and `values`:\n",
    "\n",
    "```python\n",
    "word_counts = {\n",
    "    'to' : 2,\n",
    "    'be' : 2,\n",
    "    'or' : 1,\n",
    "    'not': 1\n",
    "}\n",
    "```\n",
    "\n",
    "## Why are they called \"dictionaries?\"\n",
    "\n",
    "Python dictionaries work like real-world dictionaries.\n",
    "\n",
    "If you want to know what the word \"syzygy\" means, you flip to the word, and find this:\n",
    "```\n",
    "syz·y·gy | ˈsizijē |\n",
    "noun (plural syzygies) Astronomy\n",
    "a conjunction or opposition, especially of the moon with the sun: the planets were aligned in syzygy.\n",
    "```\n",
    "In Python parlance, the word is the `key` and its definition is the `value`.\n",
    "\n",
    "In a Python dictionary, the same definition might be expressed like this:"
   ]
  },
  {
   "cell_type": "code",
   "execution_count": 90,
   "metadata": {},
   "outputs": [],
   "source": [
    "# Create an empty dictionary. Just like initializing an empty list!\n",
    "my_dict = {}\n",
    "\n",
    "# Add an entry\n",
    "my_dict['syzygy'] = 'a conjunction or opposition, especially of the moon with the sun'"
   ]
  },
  {
   "cell_type": "code",
   "execution_count": 91,
   "metadata": {},
   "outputs": [
    {
     "data": {
      "text/plain": [
       "{'syzygy': 'a conjunction or opposition, especially of the moon with the sun'}"
      ]
     },
     "execution_count": 91,
     "metadata": {},
     "output_type": "execute_result"
    }
   ],
   "source": [
    "my_dict"
   ]
  },
  {
   "cell_type": "code",
   "execution_count": 92,
   "metadata": {},
   "outputs": [
    {
     "data": {
      "text/plain": [
       "1"
      ]
     },
     "execution_count": 92,
     "metadata": {},
     "output_type": "execute_result"
    }
   ],
   "source": [
    "len(my_dict)"
   ]
  },
  {
   "cell_type": "markdown",
   "metadata": {},
   "source": [
    "## Structure\n",
    "\n",
    "A dictionary is indicated by `{}`. Each `key` is on the left of a `:`, with its `value` on the right side of the `:`. Each `item` in the dictionary, which is one pair of a key and a value, is separated by a `,` just like in lists.\n",
    "\n",
    "You could manually create this dictionary like so:"
   ]
  },
  {
   "cell_type": "code",
   "execution_count": 3,
   "metadata": {},
   "outputs": [],
   "source": [
    "my_dict = {'syzygy' : 'a conjunction or opposition, especially of the moon with the sun'}"
   ]
  },
  {
   "cell_type": "code",
   "execution_count": 4,
   "metadata": {},
   "outputs": [
    {
     "data": {
      "text/plain": [
       "{'syzygy': 'a conjunction or opposition, especially of the moon with the sun'}"
      ]
     },
     "execution_count": 4,
     "metadata": {},
     "output_type": "execute_result"
    }
   ],
   "source": [
    "my_dict"
   ]
  },
  {
   "cell_type": "markdown",
   "metadata": {},
   "source": [
    "# Looking up values in your dictionary\n",
    "In the above example, `'syzygy'` is the `key`, and its definition is the `value`.\n",
    "\n",
    "We use the `key` to retrieve the `value`:"
   ]
  },
  {
   "cell_type": "code",
   "execution_count": 5,
   "metadata": {},
   "outputs": [
    {
     "data": {
      "text/plain": [
       "'a conjunction or opposition, especially of the moon with the sun'"
      ]
     },
     "execution_count": 5,
     "metadata": {},
     "output_type": "execute_result"
    }
   ],
   "source": [
    "my_dict['syzygy']"
   ]
  },
  {
   "cell_type": "markdown",
   "metadata": {},
   "source": [
    "Dictionary keys are unique; values are not. Watch what happens if we do this:"
   ]
  },
  {
   "cell_type": "code",
   "execution_count": 6,
   "metadata": {},
   "outputs": [],
   "source": [
    "my_dict['syzygy'] = 'a rare sneeze'"
   ]
  },
  {
   "cell_type": "code",
   "execution_count": 7,
   "metadata": {},
   "outputs": [
    {
     "data": {
      "text/plain": [
       "{'syzygy': 'a rare sneeze'}"
      ]
     },
     "execution_count": 7,
     "metadata": {},
     "output_type": "execute_result"
    }
   ],
   "source": [
    "my_dict"
   ]
  },
  {
   "cell_type": "markdown",
   "metadata": {},
   "source": [
    "The `value` of the dictionary can be overwritten or updated while the key stays in place. Like lists, dictionaries are mutable (meaning they can be changed in place).\n",
    "\n",
    "So we can fix it the same way:"
   ]
  },
  {
   "cell_type": "code",
   "execution_count": 8,
   "metadata": {},
   "outputs": [],
   "source": [
    "my_dict['syzygy'] = 'a conjunction or opposition, especially of the moon with the sun'"
   ]
  },
  {
   "cell_type": "code",
   "execution_count": 9,
   "metadata": {},
   "outputs": [
    {
     "data": {
      "text/plain": [
       "{'syzygy': 'a conjunction or opposition, especially of the moon with the sun'}"
      ]
     },
     "execution_count": 9,
     "metadata": {},
     "output_type": "execute_result"
    }
   ],
   "source": [
    "my_dict"
   ]
  },
  {
   "cell_type": "markdown",
   "metadata": {},
   "source": [
    "# Dictionaries can contain any object we've discussed"
   ]
  },
  {
   "cell_type": "code",
   "execution_count": 10,
   "metadata": {},
   "outputs": [
    {
     "data": {
      "text/plain": [
       "'like this'"
      ]
     },
     "execution_count": 10,
     "metadata": {},
     "output_type": "execute_result"
    }
   ],
   "source": [
    "d = {'a string': 'like this'}\n",
    "d['a string']"
   ]
  },
  {
   "cell_type": "code",
   "execution_count": 192,
   "metadata": {},
   "outputs": [
    {
     "data": {
      "text/plain": [
       "600"
      ]
     },
     "execution_count": 192,
     "metadata": {},
     "output_type": "execute_result"
    }
   ],
   "source": [
    "d = {'an integer' : 600}\n",
    "d['an integer']"
   ]
  },
  {
   "cell_type": "code",
   "execution_count": 95,
   "metadata": {},
   "outputs": [
    {
     "data": {
      "text/plain": [
       "[1, 2, 3]"
      ]
     },
     "execution_count": 95,
     "metadata": {},
     "output_type": "execute_result"
    }
   ],
   "source": [
    "d = {'a list': [1,2,3]}\n",
    "d['a list']"
   ]
  },
  {
   "cell_type": "markdown",
   "metadata": {},
   "source": [
    "# Making Dictionaries\n",
    "Since they are mutable, dictionaries can be updated in place, just like `appending` to a list:"
   ]
  },
  {
   "cell_type": "code",
   "execution_count": 197,
   "metadata": {},
   "outputs": [
    {
     "data": {
      "text/plain": [
       "{'syzygy': 'a conjunction or opposition, especially of the moon with the sun'}"
      ]
     },
     "execution_count": 197,
     "metadata": {},
     "output_type": "execute_result"
    }
   ],
   "source": [
    "my_dict"
   ]
  },
  {
   "cell_type": "code",
   "execution_count": 88,
   "metadata": {},
   "outputs": [],
   "source": [
    "my_dict['curlicue'] = 'a decorative curl or twist in calligraphy or in the design of an object'"
   ]
  },
  {
   "cell_type": "code",
   "execution_count": 89,
   "metadata": {},
   "outputs": [
    {
     "data": {
      "text/plain": [
       "6"
      ]
     },
     "execution_count": 89,
     "metadata": {},
     "output_type": "execute_result"
    }
   ],
   "source": [
    "len(my_dict)"
   ]
  },
  {
   "cell_type": "markdown",
   "metadata": {},
   "source": [
    "Note that `my_dict` now has a `,` after the definition for `syzygy`."
   ]
  },
  {
   "cell_type": "markdown",
   "metadata": {},
   "source": [
    "## What happens if you request a `key` that is not in the dictionary?"
   ]
  },
  {
   "cell_type": "code",
   "execution_count": 96,
   "metadata": {},
   "outputs": [
    {
     "ename": "KeyError",
     "evalue": "'plunder'",
     "output_type": "error",
     "traceback": [
      "\u001b[0;31m---------------------------------------------------------------------------\u001b[0m",
      "\u001b[0;31mKeyError\u001b[0m                                  Traceback (most recent call last)",
      "\u001b[0;32m<ipython-input-96-e0540b21cbf4>\u001b[0m in \u001b[0;36m<module>\u001b[0;34m\u001b[0m\n\u001b[0;32m----> 1\u001b[0;31m \u001b[0mmy_dict\u001b[0m\u001b[0;34m[\u001b[0m\u001b[0;34m'plunder'\u001b[0m\u001b[0;34m]\u001b[0m\u001b[0;34m\u001b[0m\u001b[0;34m\u001b[0m\u001b[0m\n\u001b[0m",
      "\u001b[0;31mKeyError\u001b[0m: 'plunder'"
     ]
    }
   ],
   "source": [
    "my_dict['plunder']"
   ]
  },
  {
   "cell_type": "markdown",
   "metadata": {},
   "source": [
    "Alternatively, you can check to see if a key exists in a dictionary using the `get` method, which can be used to `return` a default value when the key does not exist:"
   ]
  },
  {
   "cell_type": "code",
   "execution_count": 99,
   "metadata": {},
   "outputs": [],
   "source": [
    "del my_dict['plunder']"
   ]
  },
  {
   "cell_type": "code",
   "execution_count": 100,
   "metadata": {},
   "outputs": [],
   "source": [
    "my_dict.get('plunder') # the second argument is the default value. returns if the key does not exist"
   ]
  },
  {
   "cell_type": "markdown",
   "metadata": {},
   "source": [
    "# Deleting entries\n",
    "Deleting dictionary `pairs` uses a similar syntax to the one we saw with lists:"
   ]
  },
  {
   "cell_type": "code",
   "execution_count": 101,
   "metadata": {},
   "outputs": [],
   "source": [
    "del my_dict['syzygy']"
   ]
  },
  {
   "cell_type": "markdown",
   "metadata": {},
   "source": [
    "Passing `del` gets rid of *both* the `key` and the `value`."
   ]
  },
  {
   "cell_type": "code",
   "execution_count": 103,
   "metadata": {},
   "outputs": [
    {
     "data": {
      "text/plain": [
       "{}"
      ]
     },
     "execution_count": 103,
     "metadata": {},
     "output_type": "execute_result"
    }
   ],
   "source": [
    "my_dict"
   ]
  },
  {
   "cell_type": "markdown",
   "metadata": {},
   "source": [
    "# Getting dictionary `keys` and `values`\n",
    "Sometimes you may want all of your keys and/or values as lists. This is especially useful to loop over them:"
   ]
  },
  {
   "cell_type": "code",
   "execution_count": 104,
   "metadata": {},
   "outputs": [],
   "source": [
    "hp = {'Hermione' : 'Gryffindor',\n",
    "    'Severus': 'Slytherin',\n",
    "    'Luna': 'Ravenclaw',\n",
    "    'Cedric': 'Hufflepuff'}"
   ]
  },
  {
   "cell_type": "code",
   "execution_count": 105,
   "metadata": {},
   "outputs": [
    {
     "data": {
      "text/plain": [
       "dict_keys(['Hermione', 'Severus', 'Luna', 'Cedric'])"
      ]
     },
     "execution_count": 105,
     "metadata": {},
     "output_type": "execute_result"
    }
   ],
   "source": [
    "hp.keys()"
   ]
  },
  {
   "cell_type": "code",
   "execution_count": 106,
   "metadata": {},
   "outputs": [
    {
     "data": {
      "text/plain": [
       "dict_values(['Gryffindor', 'Slytherin', 'Ravenclaw', 'Hufflepuff'])"
      ]
     },
     "execution_count": 106,
     "metadata": {},
     "output_type": "execute_result"
    }
   ],
   "source": [
    "hp.values()"
   ]
  },
  {
   "cell_type": "markdown",
   "metadata": {},
   "source": [
    "Lastly, you can also have your dictionary export all of its pairs using `items`:"
   ]
  },
  {
   "cell_type": "code",
   "execution_count": 96,
   "metadata": {},
   "outputs": [
    {
     "data": {
      "text/plain": [
       "dict_items([('Hermione', 'Gryffindor'), ('Severus', 'Slytherin'), ('Luna', 'Ravenclaw'), ('Cedric', 'Hufflepuff')])"
      ]
     },
     "execution_count": 96,
     "metadata": {},
     "output_type": "execute_result"
    }
   ],
   "source": [
    "hp.items()"
   ]
  },
  {
   "cell_type": "markdown",
   "metadata": {},
   "source": [
    "The pairs of items grouped by `()` are called tuples."
   ]
  },
  {
   "cell_type": "markdown",
   "metadata": {},
   "source": [
    "# Looping over dictionary keys and values"
   ]
  },
  {
   "cell_type": "code",
   "execution_count": 107,
   "metadata": {},
   "outputs": [
    {
     "name": "stdout",
     "output_type": "stream",
     "text": [
      "key:  Hermione\n",
      "value:  Gryffindor\n",
      "Hermione's house is Gryffindor\n",
      "--------------------------------------------------\n",
      "key:  Severus\n",
      "value:  Slytherin\n",
      "Severus's house is Slytherin\n",
      "--------------------------------------------------\n",
      "key:  Luna\n",
      "value:  Ravenclaw\n",
      "Luna's house is Ravenclaw\n",
      "--------------------------------------------------\n",
      "key:  Cedric\n",
      "value:  Hufflepuff\n",
      "Cedric's house is Hufflepuff\n",
      "--------------------------------------------------\n"
     ]
    }
   ],
   "source": [
    "for key, value in hp.items():\n",
    "    print('key: ', key)\n",
    "    print('value: ', value)\n",
    "    print(key + '\\'s house is ' + value)\n",
    "    print('-'*50)"
   ]
  },
  {
   "cell_type": "markdown",
   "metadata": {},
   "source": [
    "# Booleans and dictionaries\n",
    "You can find out whether specific keys or values are in your dictionary using boolean expressions:"
   ]
  },
  {
   "cell_type": "code",
   "execution_count": 19,
   "metadata": {},
   "outputs": [
    {
     "data": {
      "text/plain": [
       "False"
      ]
     },
     "execution_count": 19,
     "metadata": {},
     "output_type": "execute_result"
    }
   ],
   "source": [
    "'Harry' in hp"
   ]
  },
  {
   "cell_type": "code",
   "execution_count": 20,
   "metadata": {},
   "outputs": [
    {
     "data": {
      "text/plain": [
       "True"
      ]
     },
     "execution_count": 20,
     "metadata": {},
     "output_type": "execute_result"
    }
   ],
   "source": [
    "'Luna' in hp"
   ]
  },
  {
   "cell_type": "markdown",
   "metadata": {},
   "source": [
    "Checking whether a string is `in` a dictionary evaluates against its `keys`. So:"
   ]
  },
  {
   "cell_type": "code",
   "execution_count": 21,
   "metadata": {},
   "outputs": [
    {
     "data": {
      "text/plain": [
       "False"
      ]
     },
     "execution_count": 21,
     "metadata": {},
     "output_type": "execute_result"
    }
   ],
   "source": [
    "'Slytherin' in hp"
   ]
  },
  {
   "cell_type": "code",
   "execution_count": 23,
   "metadata": {},
   "outputs": [
    {
     "data": {
      "text/plain": [
       "True"
      ]
     },
     "execution_count": 23,
     "metadata": {},
     "output_type": "execute_result"
    }
   ],
   "source": [
    "# but this works because it checks values\n",
    "'Slytherin' in hp.values()"
   ]
  },
  {
   "cell_type": "markdown",
   "metadata": {},
   "source": [
    "# Combining dictionaries, lists, and loops to count words\n",
    "We can combine these to accurately count and store values for each unique word in any text."
   ]
  },
  {
   "cell_type": "code",
   "execution_count": 26,
   "metadata": {},
   "outputs": [
    {
     "data": {
      "text/plain": [
       "['the', 'cat', 'sat', 'on', 'the', 'mat']"
      ]
     },
     "execution_count": 26,
     "metadata": {},
     "output_type": "execute_result"
    }
   ],
   "source": [
    "# pretend this is a list of words\n",
    "my_string = 'the cat sat on the mat'\n",
    "my_list = my_string.split(' ')\n",
    "my_list"
   ]
  },
  {
   "cell_type": "code",
   "execution_count": 108,
   "metadata": {},
   "outputs": [],
   "source": [
    "my_dict = {}\n",
    "\n",
    "for x in my_list:\n",
    "    if x not in my_dict: # this checks to see if the word is not yet in my_dict\n",
    "        my_dict[x] = 1\n",
    "    else: # this increments with every subsequent instance of the word\n",
    "        my_dict[x] += 1"
   ]
  },
  {
   "cell_type": "code",
   "execution_count": 113,
   "metadata": {},
   "outputs": [],
   "source": [
    "my_dict = {}\n",
    "for x in my_list:\n",
    "    if x in my_dict:\n",
    "        my_dict[x] += 1\n",
    "    else:\n",
    "        my_dict[x] = 1"
   ]
  },
  {
   "cell_type": "code",
   "execution_count": 114,
   "metadata": {},
   "outputs": [
    {
     "data": {
      "text/plain": [
       "{'the': 2, 'cat': 1, 'sat': 1, 'on': 1, 'mat': 1}"
      ]
     },
     "execution_count": 114,
     "metadata": {},
     "output_type": "execute_result"
    }
   ],
   "source": [
    "my_dict"
   ]
  },
  {
   "cell_type": "markdown",
   "metadata": {},
   "source": [
    "Now we can use the same methods as before to find out how many instances of a word appeared in our text:"
   ]
  },
  {
   "cell_type": "code",
   "execution_count": 115,
   "metadata": {},
   "outputs": [
    {
     "data": {
      "text/plain": [
       "2"
      ]
     },
     "execution_count": 115,
     "metadata": {},
     "output_type": "execute_result"
    }
   ],
   "source": [
    "my_dict['the']"
   ]
  },
  {
   "cell_type": "code",
   "execution_count": 116,
   "metadata": {},
   "outputs": [
    {
     "data": {
      "text/plain": [
       "int"
      ]
     },
     "execution_count": 116,
     "metadata": {},
     "output_type": "execute_result"
    }
   ],
   "source": [
    "type(my_dict['the'])"
   ]
  },
  {
   "cell_type": "code",
   "execution_count": 30,
   "metadata": {},
   "outputs": [
    {
     "data": {
      "text/plain": [
       "1"
      ]
     },
     "execution_count": 30,
     "metadata": {},
     "output_type": "execute_result"
    }
   ],
   "source": [
    "my_dict['cat']"
   ]
  },
  {
   "cell_type": "markdown",
   "metadata": {},
   "source": [
    "Why write the above function that way? Python throws an error if we try to access a nonexistent key, which stops the loop:"
   ]
  },
  {
   "cell_type": "code",
   "execution_count": 110,
   "metadata": {},
   "outputs": [
    {
     "ename": "KeyError",
     "evalue": "'the'",
     "output_type": "error",
     "traceback": [
      "\u001b[0;31m---------------------------------------------------------------------------\u001b[0m",
      "\u001b[0;31mKeyError\u001b[0m                                  Traceback (most recent call last)",
      "\u001b[0;32m<ipython-input-110-84e8fe1c4417>\u001b[0m in \u001b[0;36m<module>\u001b[0;34m\u001b[0m\n\u001b[1;32m      2\u001b[0m \u001b[0;34m\u001b[0m\u001b[0m\n\u001b[1;32m      3\u001b[0m \u001b[0;32mfor\u001b[0m \u001b[0mx\u001b[0m \u001b[0;32min\u001b[0m \u001b[0mmy_list\u001b[0m\u001b[0;34m:\u001b[0m\u001b[0;34m\u001b[0m\u001b[0;34m\u001b[0m\u001b[0m\n\u001b[0;32m----> 4\u001b[0;31m     \u001b[0mother_dict\u001b[0m\u001b[0;34m[\u001b[0m\u001b[0mx\u001b[0m\u001b[0;34m]\u001b[0m \u001b[0;34m+=\u001b[0m \u001b[0;36m1\u001b[0m\u001b[0;34m\u001b[0m\u001b[0;34m\u001b[0m\u001b[0m\n\u001b[0m",
      "\u001b[0;31mKeyError\u001b[0m: 'the'"
     ]
    }
   ],
   "source": [
    "other_dict = {}\n",
    "\n",
    "for x in my_list:\n",
    "    other_dict[x] += 1"
   ]
  },
  {
   "cell_type": "markdown",
   "metadata": {},
   "source": [
    "## Calculating scaled frequencies in a dictionary\n",
    "We can use our dictionary to calculate the scaled frequencies of each of our words easily:"
   ]
  },
  {
   "cell_type": "code",
   "execution_count": 118,
   "metadata": {},
   "outputs": [
    {
     "data": {
      "text/plain": [
       "6"
      ]
     },
     "execution_count": 118,
     "metadata": {},
     "output_type": "execute_result"
    }
   ],
   "source": [
    "sum(my_dict.values())"
   ]
  },
  {
   "cell_type": "code",
   "execution_count": 120,
   "metadata": {},
   "outputs": [
    {
     "name": "stdout",
     "output_type": "stream",
     "text": [
      "total number of words in list:  6\n",
      "--------------------------------------------------\n",
      "key:  the\n",
      "my_dict[key]: 2\n",
      "scaled_dict[key]: 0.3333333333333333\n",
      "--------------------------------------------------\n",
      "key:  cat\n",
      "my_dict[key]: 1\n",
      "scaled_dict[key]: 0.16666666666666666\n",
      "--------------------------------------------------\n",
      "key:  sat\n",
      "my_dict[key]: 1\n",
      "scaled_dict[key]: 0.16666666666666666\n",
      "--------------------------------------------------\n",
      "key:  on\n",
      "my_dict[key]: 1\n",
      "scaled_dict[key]: 0.16666666666666666\n",
      "--------------------------------------------------\n",
      "key:  mat\n",
      "my_dict[key]: 1\n",
      "scaled_dict[key]: 0.16666666666666666\n",
      "--------------------------------------------------\n"
     ]
    }
   ],
   "source": [
    "total = sum(my_dict.values()) # remember that the counts are values, the words are keys\n",
    "\n",
    "print('total number of words in list: ', total)\n",
    "print('-'*50)\n",
    "\n",
    "scaled_dict = {}\n",
    "\n",
    "for key in my_dict.keys():\n",
    "    print('key: ', key)\n",
    "    print('my_dict[key]:', my_dict[key])\n",
    "    scaled_dict[key] = my_dict[key] / total\n",
    "    print('scaled_dict[key]:', scaled_dict[key])\n",
    "    print('-'*50)"
   ]
  },
  {
   "cell_type": "code",
   "execution_count": 121,
   "metadata": {},
   "outputs": [
    {
     "data": {
      "text/plain": [
       "0.3333333333333333"
      ]
     },
     "execution_count": 121,
     "metadata": {},
     "output_type": "execute_result"
    }
   ],
   "source": [
    "scaled_dict['the']"
   ]
  },
  {
   "cell_type": "markdown",
   "metadata": {},
   "source": [
    "# Using loops and dictionaries to compare frequencies across multiple books\n",
    "Now, we could easily create multiple dictionaries representing the frequencies of words in separate texts in order to compare them.\n",
    "\n",
    "Here I have a directory with all of the *Harry Potter* novels. Let's compare the scaled frequencies of character names in each one."
   ]
  },
  {
   "cell_type": "code",
   "execution_count": 122,
   "metadata": {},
   "outputs": [],
   "source": [
    "hp_path = '/Users/e/code/literarytextmining/corpora/harry_potter/texts'"
   ]
  },
  {
   "cell_type": "markdown",
   "metadata": {},
   "source": [
    "Python can list all of the files in this directory and create a list of filepaths for me. We can then use that list of filepaths to `open` the texts one at a time, perform calculations on them, and move to the next book.\n",
    "\n",
    "But to do that, we have to learn how to `import`."
   ]
  },
  {
   "cell_type": "markdown",
   "metadata": {},
   "source": [
    "## `import` statements\n",
    "In Python, many functions and methods like `print` are loaded by default. But some are only used in special circumstances, so we have to ask Python to `import` them for a particular session. For example:"
   ]
  },
  {
   "cell_type": "code",
   "execution_count": 123,
   "metadata": {},
   "outputs": [
    {
     "ename": "NameError",
     "evalue": "name 'pi' is not defined",
     "output_type": "error",
     "traceback": [
      "\u001b[0;31m---------------------------------------------------------------------------\u001b[0m",
      "\u001b[0;31mNameError\u001b[0m                                 Traceback (most recent call last)",
      "\u001b[0;32m<ipython-input-123-f84ab820532c>\u001b[0m in \u001b[0;36m<module>\u001b[0;34m\u001b[0m\n\u001b[0;32m----> 1\u001b[0;31m \u001b[0mpi\u001b[0m\u001b[0;34m\u001b[0m\u001b[0;34m\u001b[0m\u001b[0m\n\u001b[0m",
      "\u001b[0;31mNameError\u001b[0m: name 'pi' is not defined"
     ]
    }
   ],
   "source": [
    "pi"
   ]
  },
  {
   "cell_type": "markdown",
   "metadata": {},
   "source": [
    "But this works:"
   ]
  },
  {
   "cell_type": "code",
   "execution_count": 124,
   "metadata": {},
   "outputs": [
    {
     "data": {
      "text/plain": [
       "3.141592653589793"
      ]
     },
     "execution_count": 124,
     "metadata": {},
     "output_type": "execute_result"
    }
   ],
   "source": [
    "import math\n",
    "math.pi"
   ]
  },
  {
   "cell_type": "markdown",
   "metadata": {},
   "source": [
    "Here, we `import` a Python library called `math` that contains the reserved word `pi`.\n",
    "\n",
    "`import` allows us to load modules and code we need in some circumstances, but perhaps not every time."
   ]
  },
  {
   "cell_type": "markdown",
   "metadata": {},
   "source": [
    "# Using `import` to list a directory of texts\n",
    "To our *Harry Potter* problem:"
   ]
  },
  {
   "cell_type": "code",
   "execution_count": 125,
   "metadata": {},
   "outputs": [],
   "source": [
    "hp_path = '/Users/e/code/literarytextmining/corpora/harry_potter/texts'"
   ]
  },
  {
   "cell_type": "markdown",
   "metadata": {},
   "source": [
    "To list the files in this directory, we need to `import` the `os` module, which gives us some special functions for interacting with our filesystem:"
   ]
  },
  {
   "cell_type": "code",
   "execution_count": 41,
   "metadata": {},
   "outputs": [
    {
     "data": {
      "text/plain": [
       "['5 Order of the Phoenix.txt',\n",
       " '4 Goblet of Fire.txt',\n",
       " '6 Half-Blood Prince.txt',\n",
       " '1 Sorcerers Stone.txt',\n",
       " '3 Prisoner of Azkaban.txt',\n",
       " '7 Deathly Hallows.txt',\n",
       " '2 Chamber of Secrets.txt']"
      ]
     },
     "execution_count": 41,
     "metadata": {},
     "output_type": "execute_result"
    }
   ],
   "source": [
    "import os # os stands for \"operating system\"\n",
    "potters = os.listdir(hp_path) #os.listdir lists all of the files in the path you give it\n",
    "potters"
   ]
  },
  {
   "cell_type": "markdown",
   "metadata": {},
   "source": [
    "`os.listdir` lists the *relative* paths to these files. We want to give Python the *absolute* paths to these files so it knows where to look.\n",
    "\n",
    "To do that, we use another part of the `os` module called `os.path.join`."
   ]
  },
  {
   "cell_type": "code",
   "execution_count": 42,
   "metadata": {},
   "outputs": [
    {
     "data": {
      "text/plain": [
       "'/Users/e/code/literarytextmining/corpora/harry_potter/texts/5 Order of the Phoenix.txt'"
      ]
     },
     "execution_count": 42,
     "metadata": {},
     "output_type": "execute_result"
    }
   ],
   "source": [
    "os.path.join(hp_path, potters[0]) # takes two args: the base path, and the filename to be joined to it"
   ]
  },
  {
   "cell_type": "markdown",
   "metadata": {},
   "source": [
    "So we can use a `for` loop to get absolute paths for all of the files in our directory:"
   ]
  },
  {
   "cell_type": "code",
   "execution_count": 43,
   "metadata": {},
   "outputs": [],
   "source": [
    "hp_paths = []\n",
    "\n",
    "for book in potters:\n",
    "    absolute = os.path.join(hp_path, book)\n",
    "    hp_paths.append(absolute)"
   ]
  },
  {
   "cell_type": "code",
   "execution_count": 44,
   "metadata": {},
   "outputs": [],
   "source": [
    "hp_paths = sorted(hp_paths) # to do the books in order..."
   ]
  },
  {
   "cell_type": "code",
   "execution_count": 45,
   "metadata": {},
   "outputs": [
    {
     "data": {
      "text/plain": [
       "['/Users/e/code/literarytextmining/corpora/harry_potter/texts/1 Sorcerers Stone.txt',\n",
       " '/Users/e/code/literarytextmining/corpora/harry_potter/texts/2 Chamber of Secrets.txt',\n",
       " '/Users/e/code/literarytextmining/corpora/harry_potter/texts/3 Prisoner of Azkaban.txt',\n",
       " '/Users/e/code/literarytextmining/corpora/harry_potter/texts/4 Goblet of Fire.txt',\n",
       " '/Users/e/code/literarytextmining/corpora/harry_potter/texts/5 Order of the Phoenix.txt',\n",
       " '/Users/e/code/literarytextmining/corpora/harry_potter/texts/6 Half-Blood Prince.txt',\n",
       " '/Users/e/code/literarytextmining/corpora/harry_potter/texts/7 Deathly Hallows.txt']"
      ]
     },
     "execution_count": 45,
     "metadata": {},
     "output_type": "execute_result"
    }
   ],
   "source": [
    "hp_paths"
   ]
  },
  {
   "cell_type": "markdown",
   "metadata": {},
   "source": [
    "## Looping over a directory of texts\n",
    "Now we can count our characters in each of our files:"
   ]
  },
  {
   "cell_type": "code",
   "execution_count": 129,
   "metadata": {},
   "outputs": [
    {
     "name": "stdout",
     "output_type": "stream",
     "text": [
      "/Users/e/code/literarytextmining/corpora/harry_potter/texts/1 Sorcerers Stone.txt\n",
      "Harry\n",
      "Hermione\n",
      "Ron\n",
      "/Users/e/code/literarytextmining/corpora/harry_potter/texts/2 Chamber of Secrets.txt\n",
      "Harry\n",
      "Hermione\n",
      "Ron\n",
      "/Users/e/code/literarytextmining/corpora/harry_potter/texts/3 Prisoner of Azkaban.txt\n",
      "Harry\n",
      "Hermione\n",
      "Ron\n",
      "/Users/e/code/literarytextmining/corpora/harry_potter/texts/4 Goblet of Fire.txt\n",
      "Harry\n",
      "Hermione\n",
      "Ron\n",
      "/Users/e/code/literarytextmining/corpora/harry_potter/texts/5 Order of the Phoenix.txt\n",
      "Harry\n",
      "Hermione\n",
      "Ron\n",
      "/Users/e/code/literarytextmining/corpora/harry_potter/texts/6 Half-Blood Prince.txt\n",
      "Harry\n",
      "Hermione\n",
      "Ron\n",
      "/Users/e/code/literarytextmining/corpora/harry_potter/texts/7 Deathly Hallows.txt\n",
      "Harry\n",
      "Hermione\n",
      "Ron\n"
     ]
    }
   ],
   "source": [
    "main_chars = ['Harry', 'Hermione', 'Ron']\n",
    "\n",
    "results = []\n",
    "\n",
    "for book in hp_paths:\n",
    "    print(book)\n",
    "    d = {}\n",
    "    d['file'] = book\n",
    "    text = open(book).read()\n",
    "    \n",
    "    for char in main_chars:\n",
    "        print(char)\n",
    "        d[char] = text.count(char)\n",
    "        \n",
    "    results.append(d)"
   ]
  },
  {
   "cell_type": "markdown",
   "metadata": {},
   "source": [
    "What did we make? A *list of dictionaries*. This is a common way of storing and processing labeled data, such as our results here."
   ]
  },
  {
   "cell_type": "code",
   "execution_count": 130,
   "metadata": {},
   "outputs": [
    {
     "data": {
      "text/plain": [
       "[{'file': '/Users/e/code/literarytextmining/corpora/harry_potter/texts/1 Sorcerers Stone.txt',\n",
       "  'Harry': 722,\n",
       "  'Hermione': 57,\n",
       "  'Ron': 176},\n",
       " {'file': '/Users/e/code/literarytextmining/corpora/harry_potter/texts/2 Chamber of Secrets.txt',\n",
       "  'Harry': 1745,\n",
       "  'Hermione': 329,\n",
       "  'Ron': 721},\n",
       " {'file': '/Users/e/code/literarytextmining/corpora/harry_potter/texts/3 Prisoner of Azkaban.txt',\n",
       "  'Harry': 2057,\n",
       "  'Hermione': 672,\n",
       "  'Ron': 789},\n",
       " {'file': '/Users/e/code/literarytextmining/corpora/harry_potter/texts/4 Goblet of Fire.txt',\n",
       "  'Harry': 3277,\n",
       "  'Hermione': 880,\n",
       "  'Ron': 1051},\n",
       " {'file': '/Users/e/code/literarytextmining/corpora/harry_potter/texts/5 Order of the Phoenix.txt',\n",
       "  'Harry': 4092,\n",
       "  'Hermione': 1304,\n",
       "  'Ron': 1310},\n",
       " {'file': '/Users/e/code/literarytextmining/corpora/harry_potter/texts/6 Half-Blood Prince.txt',\n",
       "  'Harry': 2797,\n",
       "  'Hermione': 694,\n",
       "  'Ron': 883},\n",
       " {'file': '/Users/e/code/literarytextmining/corpora/harry_potter/texts/7 Deathly Hallows.txt',\n",
       "  'Harry': 3146,\n",
       "  'Hermione': 1217,\n",
       "  'Ron': 1185}]"
      ]
     },
     "execution_count": 130,
     "metadata": {},
     "output_type": "execute_result"
    }
   ],
   "source": [
    "results"
   ]
  },
  {
   "cell_type": "markdown",
   "metadata": {},
   "source": [
    "There are two main things to notice about the function above: First, we initialize a list called `results` outside of the `for` loop. Then, I initialize a dictionary, `d`, inside of the first `for` loop. We collect data on each book in `d`, `append` it to `results`, and then clear `d` to get data about the next book.\n",
    "\n",
    "There is a second `for` loop that checks each of the characters in turn, and adds new `keys` and `values` to the dictionary, `d`.\n",
    "\n",
    "We *could* check three names manually. But what about a *ton* of characters from Harry Potter?"
   ]
  },
  {
   "cell_type": "code",
   "execution_count": 131,
   "metadata": {},
   "outputs": [],
   "source": [
    "chars=\"\"\"Ginny\n",
    "Luna\n",
    "Nymphadora\n",
    "Lily\n",
    "Bellatrix\n",
    "Narcissa\n",
    "Petunia\n",
    "Fleur\n",
    "Cho\n",
    "Helga\n",
    "Rowena\n",
    "Nagini\n",
    "Lavender\n",
    "Pansy\n",
    "Parvati\n",
    "Padme\n",
    "Molly\n",
    "Penelope\n",
    "Dolores\n",
    "Minerva\n",
    "Madame\n",
    "Sybill\n",
    "Rita\n",
    "Severus\n",
    "Draco\n",
    "Albus\n",
    "Neville\n",
    "Kingsley\n",
    "James\n",
    "Sirius\n",
    "Remus\n",
    "Cedric\n",
    "Gellert\n",
    "Tom\n",
    "Peter\n",
    "Viktor\n",
    "Dudley\n",
    "Blaise\n",
    "Godric\n",
    "Salazar\n",
    "Vernon\n",
    "Hedwig\n",
    "Newt\n",
    "Lee\n",
    "Fred\n",
    "George\n",
    "Bill\n",
    "Charlie\n",
    "Percy\n",
    "Arthur\n",
    "Oliver\n",
    "Cornelius\n",
    "Mad-Eye\n",
    "Cornelius\n",
    "Gilderoy\n",
    "Barty\n",
    "Lucius\"\"\".split('\\n')"
   ]
  },
  {
   "cell_type": "code",
   "execution_count": 132,
   "metadata": {},
   "outputs": [],
   "source": [
    "chars = sorted(chars)"
   ]
  },
  {
   "cell_type": "code",
   "execution_count": 133,
   "metadata": {},
   "outputs": [
    {
     "data": {
      "text/plain": [
       "['Albus', 'Arthur', 'Barty', 'Bellatrix', 'Bill']"
      ]
     },
     "execution_count": 133,
     "metadata": {},
     "output_type": "execute_result"
    }
   ],
   "source": [
    "chars[:5]"
   ]
  },
  {
   "cell_type": "markdown",
   "metadata": {},
   "source": [
    "All we have to do is change our variable, and we get a lot more data with no new code.\n",
    "\n",
    "This is the great thing about writing abstract code!"
   ]
  },
  {
   "cell_type": "code",
   "execution_count": 134,
   "metadata": {},
   "outputs": [],
   "source": [
    "results = []\n",
    "\n",
    "for book in hp_paths:\n",
    "    d = {}\n",
    "    d['file'] = book\n",
    "    text = open(book).read()\n",
    "    \n",
    "    for char in chars:\n",
    "        d[char] = text.count(char)\n",
    "        \n",
    "    results.append(d)"
   ]
  },
  {
   "cell_type": "code",
   "execution_count": 135,
   "metadata": {},
   "outputs": [
    {
     "data": {
      "text/plain": [
       "[{'file': '/Users/e/code/literarytextmining/corpora/harry_potter/texts/1 Sorcerers Stone.txt',\n",
       "  'Albus': 8,\n",
       "  'Arthur': 0,\n",
       "  'Barty': 0,\n",
       "  'Bellatrix': 0,\n",
       "  'Bill': 4,\n",
       "  'Blaise': 1,\n",
       "  'Cedric': 0,\n",
       "  'Charlie': 10,\n",
       "  'Cho': 7,\n",
       "  'Cornelius': 1,\n",
       "  'Dolores': 0,\n",
       "  'Draco': 7,\n",
       "  'Dudley': 138,\n",
       "  'Fleur': 0,\n",
       "  'Fred': 17,\n",
       "  'Gellert': 0,\n",
       "  'George': 15,\n",
       "  'Gilderoy': 0,\n",
       "  'Ginny': 3,\n",
       "  'Godric': 1,\n",
       "  'Hedwig': 9,\n",
       "  'Helga': 0,\n",
       "  'James': 5,\n",
       "  'Kingsley': 0,\n",
       "  'Lavender': 2,\n",
       "  'Lee': 3,\n",
       "  'Lily': 7,\n",
       "  'Lucius': 0,\n",
       "  'Luna': 0,\n",
       "  'Mad-Eye': 0,\n",
       "  'Madame': 0,\n",
       "  'Minerva': 1,\n",
       "  'Molly': 0,\n",
       "  'Nagini': 0,\n",
       "  'Narcissa': 0,\n",
       "  'Neville': 50,\n",
       "  'Newt': 1,\n",
       "  'Nymphadora': 0,\n",
       "  'Oliver': 3,\n",
       "  'Padme': 0,\n",
       "  'Pansy': 1,\n",
       "  'Parvati': 3,\n",
       "  'Penelope': 0,\n",
       "  'Percy': 31,\n",
       "  'Peter': 0,\n",
       "  'Petunia': 56,\n",
       "  'Remus': 0,\n",
       "  'Rita': 0,\n",
       "  'Rowena': 0,\n",
       "  'Salazar': 0,\n",
       "  'Severus': 1,\n",
       "  'Sirius': 1,\n",
       "  'Sybill': 0,\n",
       "  'Tom': 1,\n",
       "  'Vernon': 112,\n",
       "  'Viktor': 0},\n",
       " {'file': '/Users/e/code/literarytextmining/corpora/harry_potter/texts/2 Chamber of Secrets.txt',\n",
       "  'Albus': 7,\n",
       "  'Arthur': 19,\n",
       "  'Barty': 0,\n",
       "  'Bellatrix': 0,\n",
       "  'Bill': 10,\n",
       "  'Blaise': 0,\n",
       "  'Cedric': 0,\n",
       "  'Charlie': 4,\n",
       "  'Cho': 0,\n",
       "  'Cornelius': 4,\n",
       "  'Dolores': 0,\n",
       "  'Draco': 34,\n",
       "  'Dudley': 38,\n",
       "  'Fleur': 0,\n",
       "  'Fred': 103,\n",
       "  'Gellert': 0,\n",
       "  'George': 93,\n",
       "  'Gilderoy': 36,\n",
       "  'Ginny': 119,\n",
       "  'Godric': 2,\n",
       "  'Hedwig': 30,\n",
       "  'Helga': 1,\n",
       "  'James': 1,\n",
       "  'Kingsley': 0,\n",
       "  'Lavender': 1,\n",
       "  'Lee': 7,\n",
       "  'Lily': 1,\n",
       "  'Lucius': 29,\n",
       "  'Luna': 0,\n",
       "  'Mad-Eye': 0,\n",
       "  'Madame': 0,\n",
       "  'Minerva': 4,\n",
       "  'Molly': 6,\n",
       "  'Nagini': 0,\n",
       "  'Narcissa': 0,\n",
       "  'Neville': 30,\n",
       "  'Newt': 0,\n",
       "  'Nymphadora': 0,\n",
       "  'Oliver': 10,\n",
       "  'Padme': 0,\n",
       "  'Pansy': 0,\n",
       "  'Parvati': 1,\n",
       "  'Penelope': 2,\n",
       "  'Percy': 77,\n",
       "  'Peter': 1,\n",
       "  'Petunia': 33,\n",
       "  'Remus': 0,\n",
       "  'Rita': 0,\n",
       "  'Rowena': 1,\n",
       "  'Salazar': 10,\n",
       "  'Severus': 6,\n",
       "  'Sirius': 0,\n",
       "  'Sybill': 0,\n",
       "  'Tom': 22,\n",
       "  'Vernon': 55,\n",
       "  'Viktor': 0}]"
      ]
     },
     "execution_count": 135,
     "metadata": {},
     "output_type": "execute_result"
    }
   ],
   "source": [
    "results[:2]"
   ]
  },
  {
   "cell_type": "markdown",
   "metadata": {},
   "source": [
    "We're going to use this data structure, the *list of dictionaries* to capture a lot of information about our texts."
   ]
  },
  {
   "cell_type": "markdown",
   "metadata": {},
   "source": [
    "# Pandas\n",
    "This list of dictionaries has a ton of information in it, but it's not in the easiest format to work with. Thankfully, there is a Python library made for this task: `pandas`"
   ]
  },
  {
   "cell_type": "code",
   "execution_count": 56,
   "metadata": {},
   "outputs": [],
   "source": [
    "import pandas as pd # this may take a minute!"
   ]
  },
  {
   "cell_type": "markdown",
   "metadata": {},
   "source": [
    "It's conventional to `import pandas as pd`. What that means is that you call `pandas` methods by typing `pd` instead of `pandas`.\n",
    "\n",
    "`pandas` has a lot of features, but one way to think about it is as a way for working with tabular data in Python."
   ]
  },
  {
   "cell_type": "code",
   "execution_count": null,
   "metadata": {},
   "outputs": [],
   "source": [
    "pd.set_option()"
   ]
  },
  {
   "cell_type": "code",
   "execution_count": 136,
   "metadata": {},
   "outputs": [],
   "source": [
    "df = pd.DataFrame(results) # yes capitalization matters for this one"
   ]
  },
  {
   "cell_type": "code",
   "execution_count": 137,
   "metadata": {},
   "outputs": [
    {
     "data": {
      "text/html": [
       "<div>\n",
       "<style scoped>\n",
       "    .dataframe tbody tr th:only-of-type {\n",
       "        vertical-align: middle;\n",
       "    }\n",
       "\n",
       "    .dataframe tbody tr th {\n",
       "        vertical-align: top;\n",
       "    }\n",
       "\n",
       "    .dataframe thead th {\n",
       "        text-align: right;\n",
       "    }\n",
       "</style>\n",
       "<table border=\"1\" class=\"dataframe\">\n",
       "  <thead>\n",
       "    <tr style=\"text-align: right;\">\n",
       "      <th></th>\n",
       "      <th>Albus</th>\n",
       "      <th>Arthur</th>\n",
       "      <th>Barty</th>\n",
       "      <th>Bellatrix</th>\n",
       "      <th>Bill</th>\n",
       "      <th>Blaise</th>\n",
       "      <th>Cedric</th>\n",
       "      <th>Charlie</th>\n",
       "      <th>Cho</th>\n",
       "      <th>Cornelius</th>\n",
       "      <th>...</th>\n",
       "      <th>Rita</th>\n",
       "      <th>Rowena</th>\n",
       "      <th>Salazar</th>\n",
       "      <th>Severus</th>\n",
       "      <th>Sirius</th>\n",
       "      <th>Sybill</th>\n",
       "      <th>Tom</th>\n",
       "      <th>Vernon</th>\n",
       "      <th>Viktor</th>\n",
       "      <th>file</th>\n",
       "    </tr>\n",
       "  </thead>\n",
       "  <tbody>\n",
       "    <tr>\n",
       "      <th>0</th>\n",
       "      <td>8</td>\n",
       "      <td>0</td>\n",
       "      <td>0</td>\n",
       "      <td>0</td>\n",
       "      <td>4</td>\n",
       "      <td>1</td>\n",
       "      <td>0</td>\n",
       "      <td>10</td>\n",
       "      <td>7</td>\n",
       "      <td>1</td>\n",
       "      <td>...</td>\n",
       "      <td>0</td>\n",
       "      <td>0</td>\n",
       "      <td>0</td>\n",
       "      <td>1</td>\n",
       "      <td>1</td>\n",
       "      <td>0</td>\n",
       "      <td>1</td>\n",
       "      <td>112</td>\n",
       "      <td>0</td>\n",
       "      <td>/Users/e/code/literarytextmining/corpora/harry...</td>\n",
       "    </tr>\n",
       "    <tr>\n",
       "      <th>1</th>\n",
       "      <td>7</td>\n",
       "      <td>19</td>\n",
       "      <td>0</td>\n",
       "      <td>0</td>\n",
       "      <td>10</td>\n",
       "      <td>0</td>\n",
       "      <td>0</td>\n",
       "      <td>4</td>\n",
       "      <td>0</td>\n",
       "      <td>4</td>\n",
       "      <td>...</td>\n",
       "      <td>0</td>\n",
       "      <td>1</td>\n",
       "      <td>10</td>\n",
       "      <td>6</td>\n",
       "      <td>0</td>\n",
       "      <td>0</td>\n",
       "      <td>22</td>\n",
       "      <td>55</td>\n",
       "      <td>0</td>\n",
       "      <td>/Users/e/code/literarytextmining/corpora/harry...</td>\n",
       "    </tr>\n",
       "    <tr>\n",
       "      <th>2</th>\n",
       "      <td>5</td>\n",
       "      <td>6</td>\n",
       "      <td>0</td>\n",
       "      <td>0</td>\n",
       "      <td>4</td>\n",
       "      <td>0</td>\n",
       "      <td>4</td>\n",
       "      <td>1</td>\n",
       "      <td>20</td>\n",
       "      <td>11</td>\n",
       "      <td>...</td>\n",
       "      <td>0</td>\n",
       "      <td>0</td>\n",
       "      <td>0</td>\n",
       "      <td>25</td>\n",
       "      <td>158</td>\n",
       "      <td>6</td>\n",
       "      <td>18</td>\n",
       "      <td>78</td>\n",
       "      <td>0</td>\n",
       "      <td>/Users/e/code/literarytextmining/corpora/harry...</td>\n",
       "    </tr>\n",
       "    <tr>\n",
       "      <th>3</th>\n",
       "      <td>19</td>\n",
       "      <td>34</td>\n",
       "      <td>51</td>\n",
       "      <td>0</td>\n",
       "      <td>75</td>\n",
       "      <td>0</td>\n",
       "      <td>274</td>\n",
       "      <td>58</td>\n",
       "      <td>41</td>\n",
       "      <td>24</td>\n",
       "      <td>...</td>\n",
       "      <td>96</td>\n",
       "      <td>0</td>\n",
       "      <td>0</td>\n",
       "      <td>14</td>\n",
       "      <td>224</td>\n",
       "      <td>0</td>\n",
       "      <td>6</td>\n",
       "      <td>104</td>\n",
       "      <td>50</td>\n",
       "      <td>/Users/e/code/literarytextmining/corpora/harry...</td>\n",
       "    </tr>\n",
       "    <tr>\n",
       "      <th>4</th>\n",
       "      <td>15</td>\n",
       "      <td>48</td>\n",
       "      <td>1</td>\n",
       "      <td>53</td>\n",
       "      <td>33</td>\n",
       "      <td>0</td>\n",
       "      <td>42</td>\n",
       "      <td>5</td>\n",
       "      <td>162</td>\n",
       "      <td>32</td>\n",
       "      <td>...</td>\n",
       "      <td>33</td>\n",
       "      <td>0</td>\n",
       "      <td>0</td>\n",
       "      <td>1</td>\n",
       "      <td>638</td>\n",
       "      <td>11</td>\n",
       "      <td>5</td>\n",
       "      <td>111</td>\n",
       "      <td>3</td>\n",
       "      <td>/Users/e/code/literarytextmining/corpora/harry...</td>\n",
       "    </tr>\n",
       "    <tr>\n",
       "      <th>5</th>\n",
       "      <td>18</td>\n",
       "      <td>23</td>\n",
       "      <td>1</td>\n",
       "      <td>56</td>\n",
       "      <td>55</td>\n",
       "      <td>5</td>\n",
       "      <td>1</td>\n",
       "      <td>4</td>\n",
       "      <td>37</td>\n",
       "      <td>6</td>\n",
       "      <td>...</td>\n",
       "      <td>1</td>\n",
       "      <td>0</td>\n",
       "      <td>2</td>\n",
       "      <td>39</td>\n",
       "      <td>57</td>\n",
       "      <td>4</td>\n",
       "      <td>74</td>\n",
       "      <td>27</td>\n",
       "      <td>2</td>\n",
       "      <td>/Users/e/code/literarytextmining/corpora/harry...</td>\n",
       "    </tr>\n",
       "    <tr>\n",
       "      <th>6</th>\n",
       "      <td>110</td>\n",
       "      <td>21</td>\n",
       "      <td>1</td>\n",
       "      <td>98</td>\n",
       "      <td>125</td>\n",
       "      <td>0</td>\n",
       "      <td>2</td>\n",
       "      <td>15</td>\n",
       "      <td>13</td>\n",
       "      <td>0</td>\n",
       "      <td>...</td>\n",
       "      <td>28</td>\n",
       "      <td>4</td>\n",
       "      <td>1</td>\n",
       "      <td>62</td>\n",
       "      <td>69</td>\n",
       "      <td>0</td>\n",
       "      <td>12</td>\n",
       "      <td>50</td>\n",
       "      <td>5</td>\n",
       "      <td>/Users/e/code/literarytextmining/corpora/harry...</td>\n",
       "    </tr>\n",
       "  </tbody>\n",
       "</table>\n",
       "<p>7 rows × 57 columns</p>\n",
       "</div>"
      ],
      "text/plain": [
       "   Albus  Arthur  Barty  Bellatrix  Bill  Blaise  Cedric  Charlie  Cho  \\\n",
       "0      8       0      0          0     4       1       0       10    7   \n",
       "1      7      19      0          0    10       0       0        4    0   \n",
       "2      5       6      0          0     4       0       4        1   20   \n",
       "3     19      34     51          0    75       0     274       58   41   \n",
       "4     15      48      1         53    33       0      42        5  162   \n",
       "5     18      23      1         56    55       5       1        4   37   \n",
       "6    110      21      1         98   125       0       2       15   13   \n",
       "\n",
       "   Cornelius  ...  Rita  Rowena  Salazar  Severus  Sirius  Sybill  Tom  \\\n",
       "0          1  ...     0       0        0        1       1       0    1   \n",
       "1          4  ...     0       1       10        6       0       0   22   \n",
       "2         11  ...     0       0        0       25     158       6   18   \n",
       "3         24  ...    96       0        0       14     224       0    6   \n",
       "4         32  ...    33       0        0        1     638      11    5   \n",
       "5          6  ...     1       0        2       39      57       4   74   \n",
       "6          0  ...    28       4        1       62      69       0   12   \n",
       "\n",
       "   Vernon  Viktor                                               file  \n",
       "0     112       0  /Users/e/code/literarytextmining/corpora/harry...  \n",
       "1      55       0  /Users/e/code/literarytextmining/corpora/harry...  \n",
       "2      78       0  /Users/e/code/literarytextmining/corpora/harry...  \n",
       "3     104      50  /Users/e/code/literarytextmining/corpora/harry...  \n",
       "4     111       3  /Users/e/code/literarytextmining/corpora/harry...  \n",
       "5      27       2  /Users/e/code/literarytextmining/corpora/harry...  \n",
       "6      50       5  /Users/e/code/literarytextmining/corpora/harry...  \n",
       "\n",
       "[7 rows x 57 columns]"
      ]
     },
     "execution_count": 137,
     "metadata": {},
     "output_type": "execute_result"
    }
   ],
   "source": [
    "df"
   ]
  },
  {
   "cell_type": "markdown",
   "metadata": {},
   "source": [
    "As you can see, `pandas` converts our list of dictionaries into a format that looks a lot like an Excel file. This is called a `DataFrame`.\n",
    "\n",
    "In text mining, we often use what are called \"Document-Term Matrices\" (DTM). The DataFrame above is an example. In a DTM, the rows (horizontal) are our texts (\"documents\"). And the columns are our words (\"terms\"). In the sciences, rows contain our observations, and columns contain our features.\n",
    "\n",
    "Our DTM isn't quite right just yet: All of our columns except one contain character names. The last column contains our filepath to the files we're performing our calculations on:"
   ]
  },
  {
   "cell_type": "code",
   "execution_count": 141,
   "metadata": {},
   "outputs": [
    {
     "data": {
      "text/plain": [
       "0     1\n",
       "1     6\n",
       "2    25\n",
       "3    14\n",
       "4     1\n",
       "5    39\n",
       "6    62\n",
       "Name: Severus, dtype: int64"
      ]
     },
     "execution_count": 141,
     "metadata": {},
     "output_type": "execute_result"
    }
   ],
   "source": [
    "df['Severus']"
   ]
  },
  {
   "cell_type": "markdown",
   "metadata": {},
   "source": [
    "This column should label our rows as its `index`. We can set that like so:"
   ]
  },
  {
   "cell_type": "code",
   "execution_count": 142,
   "metadata": {},
   "outputs": [
    {
     "data": {
      "text/html": [
       "<div>\n",
       "<style scoped>\n",
       "    .dataframe tbody tr th:only-of-type {\n",
       "        vertical-align: middle;\n",
       "    }\n",
       "\n",
       "    .dataframe tbody tr th {\n",
       "        vertical-align: top;\n",
       "    }\n",
       "\n",
       "    .dataframe thead th {\n",
       "        text-align: right;\n",
       "    }\n",
       "</style>\n",
       "<table border=\"1\" class=\"dataframe\">\n",
       "  <thead>\n",
       "    <tr style=\"text-align: right;\">\n",
       "      <th></th>\n",
       "      <th>Albus</th>\n",
       "      <th>Arthur</th>\n",
       "      <th>Barty</th>\n",
       "      <th>Bellatrix</th>\n",
       "      <th>Bill</th>\n",
       "      <th>Blaise</th>\n",
       "      <th>Cedric</th>\n",
       "      <th>Charlie</th>\n",
       "      <th>Cho</th>\n",
       "      <th>Cornelius</th>\n",
       "      <th>...</th>\n",
       "      <th>Remus</th>\n",
       "      <th>Rita</th>\n",
       "      <th>Rowena</th>\n",
       "      <th>Salazar</th>\n",
       "      <th>Severus</th>\n",
       "      <th>Sirius</th>\n",
       "      <th>Sybill</th>\n",
       "      <th>Tom</th>\n",
       "      <th>Vernon</th>\n",
       "      <th>Viktor</th>\n",
       "    </tr>\n",
       "    <tr>\n",
       "      <th>file</th>\n",
       "      <th></th>\n",
       "      <th></th>\n",
       "      <th></th>\n",
       "      <th></th>\n",
       "      <th></th>\n",
       "      <th></th>\n",
       "      <th></th>\n",
       "      <th></th>\n",
       "      <th></th>\n",
       "      <th></th>\n",
       "      <th></th>\n",
       "      <th></th>\n",
       "      <th></th>\n",
       "      <th></th>\n",
       "      <th></th>\n",
       "      <th></th>\n",
       "      <th></th>\n",
       "      <th></th>\n",
       "      <th></th>\n",
       "      <th></th>\n",
       "      <th></th>\n",
       "    </tr>\n",
       "  </thead>\n",
       "  <tbody>\n",
       "    <tr>\n",
       "      <th>/Users/e/code/literarytextmining/corpora/harry_potter/texts/1 Sorcerers Stone.txt</th>\n",
       "      <td>8</td>\n",
       "      <td>0</td>\n",
       "      <td>0</td>\n",
       "      <td>0</td>\n",
       "      <td>4</td>\n",
       "      <td>1</td>\n",
       "      <td>0</td>\n",
       "      <td>10</td>\n",
       "      <td>7</td>\n",
       "      <td>1</td>\n",
       "      <td>...</td>\n",
       "      <td>0</td>\n",
       "      <td>0</td>\n",
       "      <td>0</td>\n",
       "      <td>0</td>\n",
       "      <td>1</td>\n",
       "      <td>1</td>\n",
       "      <td>0</td>\n",
       "      <td>1</td>\n",
       "      <td>112</td>\n",
       "      <td>0</td>\n",
       "    </tr>\n",
       "    <tr>\n",
       "      <th>/Users/e/code/literarytextmining/corpora/harry_potter/texts/2 Chamber of Secrets.txt</th>\n",
       "      <td>7</td>\n",
       "      <td>19</td>\n",
       "      <td>0</td>\n",
       "      <td>0</td>\n",
       "      <td>10</td>\n",
       "      <td>0</td>\n",
       "      <td>0</td>\n",
       "      <td>4</td>\n",
       "      <td>0</td>\n",
       "      <td>4</td>\n",
       "      <td>...</td>\n",
       "      <td>0</td>\n",
       "      <td>0</td>\n",
       "      <td>1</td>\n",
       "      <td>10</td>\n",
       "      <td>6</td>\n",
       "      <td>0</td>\n",
       "      <td>0</td>\n",
       "      <td>22</td>\n",
       "      <td>55</td>\n",
       "      <td>0</td>\n",
       "    </tr>\n",
       "    <tr>\n",
       "      <th>/Users/e/code/literarytextmining/corpora/harry_potter/texts/3 Prisoner of Azkaban.txt</th>\n",
       "      <td>5</td>\n",
       "      <td>6</td>\n",
       "      <td>0</td>\n",
       "      <td>0</td>\n",
       "      <td>4</td>\n",
       "      <td>0</td>\n",
       "      <td>4</td>\n",
       "      <td>1</td>\n",
       "      <td>20</td>\n",
       "      <td>11</td>\n",
       "      <td>...</td>\n",
       "      <td>15</td>\n",
       "      <td>0</td>\n",
       "      <td>0</td>\n",
       "      <td>0</td>\n",
       "      <td>25</td>\n",
       "      <td>158</td>\n",
       "      <td>6</td>\n",
       "      <td>18</td>\n",
       "      <td>78</td>\n",
       "      <td>0</td>\n",
       "    </tr>\n",
       "    <tr>\n",
       "      <th>/Users/e/code/literarytextmining/corpora/harry_potter/texts/4 Goblet of Fire.txt</th>\n",
       "      <td>19</td>\n",
       "      <td>34</td>\n",
       "      <td>51</td>\n",
       "      <td>0</td>\n",
       "      <td>75</td>\n",
       "      <td>0</td>\n",
       "      <td>274</td>\n",
       "      <td>58</td>\n",
       "      <td>41</td>\n",
       "      <td>24</td>\n",
       "      <td>...</td>\n",
       "      <td>1</td>\n",
       "      <td>96</td>\n",
       "      <td>0</td>\n",
       "      <td>0</td>\n",
       "      <td>14</td>\n",
       "      <td>224</td>\n",
       "      <td>0</td>\n",
       "      <td>6</td>\n",
       "      <td>104</td>\n",
       "      <td>50</td>\n",
       "    </tr>\n",
       "    <tr>\n",
       "      <th>/Users/e/code/literarytextmining/corpora/harry_potter/texts/5 Order of the Phoenix.txt</th>\n",
       "      <td>15</td>\n",
       "      <td>48</td>\n",
       "      <td>1</td>\n",
       "      <td>53</td>\n",
       "      <td>33</td>\n",
       "      <td>0</td>\n",
       "      <td>42</td>\n",
       "      <td>5</td>\n",
       "      <td>162</td>\n",
       "      <td>32</td>\n",
       "      <td>...</td>\n",
       "      <td>10</td>\n",
       "      <td>33</td>\n",
       "      <td>0</td>\n",
       "      <td>0</td>\n",
       "      <td>1</td>\n",
       "      <td>638</td>\n",
       "      <td>11</td>\n",
       "      <td>5</td>\n",
       "      <td>111</td>\n",
       "      <td>3</td>\n",
       "    </tr>\n",
       "    <tr>\n",
       "      <th>/Users/e/code/literarytextmining/corpora/harry_potter/texts/6 Half-Blood Prince.txt</th>\n",
       "      <td>18</td>\n",
       "      <td>23</td>\n",
       "      <td>1</td>\n",
       "      <td>56</td>\n",
       "      <td>55</td>\n",
       "      <td>5</td>\n",
       "      <td>1</td>\n",
       "      <td>4</td>\n",
       "      <td>37</td>\n",
       "      <td>6</td>\n",
       "      <td>...</td>\n",
       "      <td>13</td>\n",
       "      <td>1</td>\n",
       "      <td>0</td>\n",
       "      <td>2</td>\n",
       "      <td>39</td>\n",
       "      <td>57</td>\n",
       "      <td>4</td>\n",
       "      <td>74</td>\n",
       "      <td>27</td>\n",
       "      <td>2</td>\n",
       "    </tr>\n",
       "    <tr>\n",
       "      <th>/Users/e/code/literarytextmining/corpora/harry_potter/texts/7 Deathly Hallows.txt</th>\n",
       "      <td>110</td>\n",
       "      <td>21</td>\n",
       "      <td>1</td>\n",
       "      <td>98</td>\n",
       "      <td>125</td>\n",
       "      <td>0</td>\n",
       "      <td>2</td>\n",
       "      <td>15</td>\n",
       "      <td>13</td>\n",
       "      <td>0</td>\n",
       "      <td>...</td>\n",
       "      <td>21</td>\n",
       "      <td>28</td>\n",
       "      <td>4</td>\n",
       "      <td>1</td>\n",
       "      <td>62</td>\n",
       "      <td>69</td>\n",
       "      <td>0</td>\n",
       "      <td>12</td>\n",
       "      <td>50</td>\n",
       "      <td>5</td>\n",
       "    </tr>\n",
       "  </tbody>\n",
       "</table>\n",
       "<p>7 rows × 56 columns</p>\n",
       "</div>"
      ],
      "text/plain": [
       "                                                    Albus  Arthur  Barty  \\\n",
       "file                                                                       \n",
       "/Users/e/code/literarytextmining/corpora/harry_...      8       0      0   \n",
       "/Users/e/code/literarytextmining/corpora/harry_...      7      19      0   \n",
       "/Users/e/code/literarytextmining/corpora/harry_...      5       6      0   \n",
       "/Users/e/code/literarytextmining/corpora/harry_...     19      34     51   \n",
       "/Users/e/code/literarytextmining/corpora/harry_...     15      48      1   \n",
       "/Users/e/code/literarytextmining/corpora/harry_...     18      23      1   \n",
       "/Users/e/code/literarytextmining/corpora/harry_...    110      21      1   \n",
       "\n",
       "                                                    Bellatrix  Bill  Blaise  \\\n",
       "file                                                                          \n",
       "/Users/e/code/literarytextmining/corpora/harry_...          0     4       1   \n",
       "/Users/e/code/literarytextmining/corpora/harry_...          0    10       0   \n",
       "/Users/e/code/literarytextmining/corpora/harry_...          0     4       0   \n",
       "/Users/e/code/literarytextmining/corpora/harry_...          0    75       0   \n",
       "/Users/e/code/literarytextmining/corpora/harry_...         53    33       0   \n",
       "/Users/e/code/literarytextmining/corpora/harry_...         56    55       5   \n",
       "/Users/e/code/literarytextmining/corpora/harry_...         98   125       0   \n",
       "\n",
       "                                                    Cedric  Charlie  Cho  \\\n",
       "file                                                                       \n",
       "/Users/e/code/literarytextmining/corpora/harry_...       0       10    7   \n",
       "/Users/e/code/literarytextmining/corpora/harry_...       0        4    0   \n",
       "/Users/e/code/literarytextmining/corpora/harry_...       4        1   20   \n",
       "/Users/e/code/literarytextmining/corpora/harry_...     274       58   41   \n",
       "/Users/e/code/literarytextmining/corpora/harry_...      42        5  162   \n",
       "/Users/e/code/literarytextmining/corpora/harry_...       1        4   37   \n",
       "/Users/e/code/literarytextmining/corpora/harry_...       2       15   13   \n",
       "\n",
       "                                                    Cornelius  ...  Remus  \\\n",
       "file                                                           ...          \n",
       "/Users/e/code/literarytextmining/corpora/harry_...          1  ...      0   \n",
       "/Users/e/code/literarytextmining/corpora/harry_...          4  ...      0   \n",
       "/Users/e/code/literarytextmining/corpora/harry_...         11  ...     15   \n",
       "/Users/e/code/literarytextmining/corpora/harry_...         24  ...      1   \n",
       "/Users/e/code/literarytextmining/corpora/harry_...         32  ...     10   \n",
       "/Users/e/code/literarytextmining/corpora/harry_...          6  ...     13   \n",
       "/Users/e/code/literarytextmining/corpora/harry_...          0  ...     21   \n",
       "\n",
       "                                                    Rita  Rowena  Salazar  \\\n",
       "file                                                                        \n",
       "/Users/e/code/literarytextmining/corpora/harry_...     0       0        0   \n",
       "/Users/e/code/literarytextmining/corpora/harry_...     0       1       10   \n",
       "/Users/e/code/literarytextmining/corpora/harry_...     0       0        0   \n",
       "/Users/e/code/literarytextmining/corpora/harry_...    96       0        0   \n",
       "/Users/e/code/literarytextmining/corpora/harry_...    33       0        0   \n",
       "/Users/e/code/literarytextmining/corpora/harry_...     1       0        2   \n",
       "/Users/e/code/literarytextmining/corpora/harry_...    28       4        1   \n",
       "\n",
       "                                                    Severus  Sirius  Sybill  \\\n",
       "file                                                                          \n",
       "/Users/e/code/literarytextmining/corpora/harry_...        1       1       0   \n",
       "/Users/e/code/literarytextmining/corpora/harry_...        6       0       0   \n",
       "/Users/e/code/literarytextmining/corpora/harry_...       25     158       6   \n",
       "/Users/e/code/literarytextmining/corpora/harry_...       14     224       0   \n",
       "/Users/e/code/literarytextmining/corpora/harry_...        1     638      11   \n",
       "/Users/e/code/literarytextmining/corpora/harry_...       39      57       4   \n",
       "/Users/e/code/literarytextmining/corpora/harry_...       62      69       0   \n",
       "\n",
       "                                                    Tom  Vernon  Viktor  \n",
       "file                                                                     \n",
       "/Users/e/code/literarytextmining/corpora/harry_...    1     112       0  \n",
       "/Users/e/code/literarytextmining/corpora/harry_...   22      55       0  \n",
       "/Users/e/code/literarytextmining/corpora/harry_...   18      78       0  \n",
       "/Users/e/code/literarytextmining/corpora/harry_...    6     104      50  \n",
       "/Users/e/code/literarytextmining/corpora/harry_...    5     111       3  \n",
       "/Users/e/code/literarytextmining/corpora/harry_...   74      27       2  \n",
       "/Users/e/code/literarytextmining/corpora/harry_...   12      50       5  \n",
       "\n",
       "[7 rows x 56 columns]"
      ]
     },
     "execution_count": 142,
     "metadata": {},
     "output_type": "execute_result"
    }
   ],
   "source": [
    "df.set_index('file')"
   ]
  },
  {
   "cell_type": "markdown",
   "metadata": {},
   "source": [
    "That's a little ugly so I'm going to clean it up. You can *overwrite* values in `pandas` in the exact same way you would with a dictionary:"
   ]
  },
  {
   "cell_type": "code",
   "execution_count": 61,
   "metadata": {},
   "outputs": [
    {
     "data": {
      "text/plain": [
       "['/Users/e/code/literarytextmining/corpora/harry_potter/texts/1 Sorcerers Stone.txt',\n",
       " '/Users/e/code/literarytextmining/corpora/harry_potter/texts/2 Chamber of Secrets.txt',\n",
       " '/Users/e/code/literarytextmining/corpora/harry_potter/texts/3 Prisoner of Azkaban.txt',\n",
       " '/Users/e/code/literarytextmining/corpora/harry_potter/texts/4 Goblet of Fire.txt',\n",
       " '/Users/e/code/literarytextmining/corpora/harry_potter/texts/5 Order of the Phoenix.txt',\n",
       " '/Users/e/code/literarytextmining/corpora/harry_potter/texts/6 Half-Blood Prince.txt',\n",
       " '/Users/e/code/literarytextmining/corpora/harry_potter/texts/7 Deathly Hallows.txt']"
      ]
     },
     "execution_count": 61,
     "metadata": {},
     "output_type": "execute_result"
    }
   ],
   "source": [
    "titles = list(df['file'])\n",
    "titles"
   ]
  },
  {
   "cell_type": "code",
   "execution_count": 62,
   "metadata": {},
   "outputs": [],
   "source": [
    "cleaner = []\n",
    "for x in titles:\n",
    "    nice_title = x.split('/')[-1].split('.txt')[0]\n",
    "    cleaner.append(nice_title)"
   ]
  },
  {
   "cell_type": "code",
   "execution_count": 63,
   "metadata": {},
   "outputs": [
    {
     "data": {
      "text/plain": [
       "['1 Sorcerers Stone',\n",
       " '2 Chamber of Secrets',\n",
       " '3 Prisoner of Azkaban',\n",
       " '4 Goblet of Fire',\n",
       " '5 Order of the Phoenix',\n",
       " '6 Half-Blood Prince',\n",
       " '7 Deathly Hallows']"
      ]
     },
     "execution_count": 63,
     "metadata": {},
     "output_type": "execute_result"
    }
   ],
   "source": [
    "cleaner"
   ]
  },
  {
   "cell_type": "code",
   "execution_count": 76,
   "metadata": {},
   "outputs": [],
   "source": [
    "df['file'] = cleaner"
   ]
  },
  {
   "cell_type": "code",
   "execution_count": 77,
   "metadata": {},
   "outputs": [
    {
     "data": {
      "text/plain": [
       "title\n",
       "1 Sorcerers Stone              1 Sorcerers Stone\n",
       "2 Chamber of Secrets        2 Chamber of Secrets\n",
       "3 Prisoner of Azkaban      3 Prisoner of Azkaban\n",
       "4 Goblet of Fire                4 Goblet of Fire\n",
       "5 Order of the Phoenix    5 Order of the Phoenix\n",
       "6 Half-Blood Prince          6 Half-Blood Prince\n",
       "7 Deathly Hallows              7 Deathly Hallows\n",
       "Name: file, dtype: object"
      ]
     },
     "execution_count": 77,
     "metadata": {},
     "output_type": "execute_result"
    }
   ],
   "source": [
    "df['file']"
   ]
  },
  {
   "cell_type": "code",
   "execution_count": 78,
   "metadata": {},
   "outputs": [],
   "source": [
    "df = df.set_index('file')"
   ]
  },
  {
   "cell_type": "code",
   "execution_count": 79,
   "metadata": {},
   "outputs": [
    {
     "data": {
      "text/html": [
       "<div>\n",
       "<style scoped>\n",
       "    .dataframe tbody tr th:only-of-type {\n",
       "        vertical-align: middle;\n",
       "    }\n",
       "\n",
       "    .dataframe tbody tr th {\n",
       "        vertical-align: top;\n",
       "    }\n",
       "\n",
       "    .dataframe thead th {\n",
       "        text-align: right;\n",
       "    }\n",
       "</style>\n",
       "<table border=\"1\" class=\"dataframe\">\n",
       "  <thead>\n",
       "    <tr style=\"text-align: right;\">\n",
       "      <th></th>\n",
       "      <th>Albus</th>\n",
       "      <th>Arthur</th>\n",
       "      <th>Barty</th>\n",
       "      <th>Bellatrix</th>\n",
       "      <th>Bill</th>\n",
       "      <th>Blaise</th>\n",
       "      <th>Cedric</th>\n",
       "      <th>Charlie</th>\n",
       "      <th>Cho</th>\n",
       "      <th>Cornelius</th>\n",
       "      <th>...</th>\n",
       "      <th>Remus</th>\n",
       "      <th>Rita</th>\n",
       "      <th>Rowena</th>\n",
       "      <th>Salazar</th>\n",
       "      <th>Severus</th>\n",
       "      <th>Sirius</th>\n",
       "      <th>Sybill</th>\n",
       "      <th>Tom</th>\n",
       "      <th>Vernon</th>\n",
       "      <th>Viktor</th>\n",
       "    </tr>\n",
       "    <tr>\n",
       "      <th>file</th>\n",
       "      <th></th>\n",
       "      <th></th>\n",
       "      <th></th>\n",
       "      <th></th>\n",
       "      <th></th>\n",
       "      <th></th>\n",
       "      <th></th>\n",
       "      <th></th>\n",
       "      <th></th>\n",
       "      <th></th>\n",
       "      <th></th>\n",
       "      <th></th>\n",
       "      <th></th>\n",
       "      <th></th>\n",
       "      <th></th>\n",
       "      <th></th>\n",
       "      <th></th>\n",
       "      <th></th>\n",
       "      <th></th>\n",
       "      <th></th>\n",
       "      <th></th>\n",
       "    </tr>\n",
       "  </thead>\n",
       "  <tbody>\n",
       "    <tr>\n",
       "      <th>1 Sorcerers Stone</th>\n",
       "      <td>8</td>\n",
       "      <td>0</td>\n",
       "      <td>0</td>\n",
       "      <td>0</td>\n",
       "      <td>4</td>\n",
       "      <td>1</td>\n",
       "      <td>0</td>\n",
       "      <td>10</td>\n",
       "      <td>7</td>\n",
       "      <td>1</td>\n",
       "      <td>...</td>\n",
       "      <td>0</td>\n",
       "      <td>0</td>\n",
       "      <td>0</td>\n",
       "      <td>0</td>\n",
       "      <td>1</td>\n",
       "      <td>1</td>\n",
       "      <td>0</td>\n",
       "      <td>1</td>\n",
       "      <td>112</td>\n",
       "      <td>0</td>\n",
       "    </tr>\n",
       "    <tr>\n",
       "      <th>2 Chamber of Secrets</th>\n",
       "      <td>7</td>\n",
       "      <td>19</td>\n",
       "      <td>0</td>\n",
       "      <td>0</td>\n",
       "      <td>10</td>\n",
       "      <td>0</td>\n",
       "      <td>0</td>\n",
       "      <td>4</td>\n",
       "      <td>0</td>\n",
       "      <td>4</td>\n",
       "      <td>...</td>\n",
       "      <td>0</td>\n",
       "      <td>0</td>\n",
       "      <td>1</td>\n",
       "      <td>10</td>\n",
       "      <td>6</td>\n",
       "      <td>0</td>\n",
       "      <td>0</td>\n",
       "      <td>22</td>\n",
       "      <td>55</td>\n",
       "      <td>0</td>\n",
       "    </tr>\n",
       "    <tr>\n",
       "      <th>3 Prisoner of Azkaban</th>\n",
       "      <td>5</td>\n",
       "      <td>6</td>\n",
       "      <td>0</td>\n",
       "      <td>0</td>\n",
       "      <td>4</td>\n",
       "      <td>0</td>\n",
       "      <td>4</td>\n",
       "      <td>1</td>\n",
       "      <td>20</td>\n",
       "      <td>11</td>\n",
       "      <td>...</td>\n",
       "      <td>15</td>\n",
       "      <td>0</td>\n",
       "      <td>0</td>\n",
       "      <td>0</td>\n",
       "      <td>25</td>\n",
       "      <td>158</td>\n",
       "      <td>6</td>\n",
       "      <td>18</td>\n",
       "      <td>78</td>\n",
       "      <td>0</td>\n",
       "    </tr>\n",
       "    <tr>\n",
       "      <th>4 Goblet of Fire</th>\n",
       "      <td>19</td>\n",
       "      <td>34</td>\n",
       "      <td>51</td>\n",
       "      <td>0</td>\n",
       "      <td>75</td>\n",
       "      <td>0</td>\n",
       "      <td>274</td>\n",
       "      <td>58</td>\n",
       "      <td>41</td>\n",
       "      <td>24</td>\n",
       "      <td>...</td>\n",
       "      <td>1</td>\n",
       "      <td>96</td>\n",
       "      <td>0</td>\n",
       "      <td>0</td>\n",
       "      <td>14</td>\n",
       "      <td>224</td>\n",
       "      <td>0</td>\n",
       "      <td>6</td>\n",
       "      <td>104</td>\n",
       "      <td>50</td>\n",
       "    </tr>\n",
       "    <tr>\n",
       "      <th>5 Order of the Phoenix</th>\n",
       "      <td>15</td>\n",
       "      <td>48</td>\n",
       "      <td>1</td>\n",
       "      <td>53</td>\n",
       "      <td>33</td>\n",
       "      <td>0</td>\n",
       "      <td>42</td>\n",
       "      <td>5</td>\n",
       "      <td>162</td>\n",
       "      <td>32</td>\n",
       "      <td>...</td>\n",
       "      <td>10</td>\n",
       "      <td>33</td>\n",
       "      <td>0</td>\n",
       "      <td>0</td>\n",
       "      <td>1</td>\n",
       "      <td>638</td>\n",
       "      <td>11</td>\n",
       "      <td>5</td>\n",
       "      <td>111</td>\n",
       "      <td>3</td>\n",
       "    </tr>\n",
       "  </tbody>\n",
       "</table>\n",
       "<p>5 rows × 56 columns</p>\n",
       "</div>"
      ],
      "text/plain": [
       "                        Albus  Arthur  Barty  Bellatrix  Bill  Blaise  Cedric  \\\n",
       "file                                                                            \n",
       "1 Sorcerers Stone           8       0      0          0     4       1       0   \n",
       "2 Chamber of Secrets        7      19      0          0    10       0       0   \n",
       "3 Prisoner of Azkaban       5       6      0          0     4       0       4   \n",
       "4 Goblet of Fire           19      34     51          0    75       0     274   \n",
       "5 Order of the Phoenix     15      48      1         53    33       0      42   \n",
       "\n",
       "                        Charlie  Cho  Cornelius  ...  Remus  Rita  Rowena  \\\n",
       "file                                             ...                        \n",
       "1 Sorcerers Stone            10    7          1  ...      0     0       0   \n",
       "2 Chamber of Secrets          4    0          4  ...      0     0       1   \n",
       "3 Prisoner of Azkaban         1   20         11  ...     15     0       0   \n",
       "4 Goblet of Fire             58   41         24  ...      1    96       0   \n",
       "5 Order of the Phoenix        5  162         32  ...     10    33       0   \n",
       "\n",
       "                        Salazar  Severus  Sirius  Sybill  Tom  Vernon  Viktor  \n",
       "file                                                                           \n",
       "1 Sorcerers Stone             0        1       1       0    1     112       0  \n",
       "2 Chamber of Secrets         10        6       0       0   22      55       0  \n",
       "3 Prisoner of Azkaban         0       25     158       6   18      78       0  \n",
       "4 Goblet of Fire              0       14     224       0    6     104      50  \n",
       "5 Order of the Phoenix        0        1     638      11    5     111       3  \n",
       "\n",
       "[5 rows x 56 columns]"
      ]
     },
     "execution_count": 79,
     "metadata": {},
     "output_type": "execute_result"
    }
   ],
   "source": [
    "df.head() #df.head() prints the first 5 rows. useful when you have big matrices!"
   ]
  },
  {
   "cell_type": "markdown",
   "metadata": {},
   "source": [
    "There are a lot of different ways we can slice and dice our data:"
   ]
  },
  {
   "cell_type": "markdown",
   "metadata": {},
   "source": [
    "## What are my columns called?"
   ]
  },
  {
   "cell_type": "code",
   "execution_count": 80,
   "metadata": {},
   "outputs": [
    {
     "data": {
      "text/plain": [
       "Index(['Albus', 'Arthur', 'Barty', 'Bellatrix', 'Bill', 'Blaise', 'Cedric',\n",
       "       'Charlie', 'Cho', 'Cornelius', 'Dolores', 'Draco', 'Dudley', 'Fleur',\n",
       "       'Fred', 'Gellert', 'George', 'Gilderoy', 'Ginny', 'Godric', 'Hedwig',\n",
       "       'Helga', 'James', 'Kingsley', 'Lavender', 'Lee', 'Lily', 'Lucius',\n",
       "       'Luna', 'Mad-Eye', 'Madame', 'Minerva', 'Molly', 'Nagini', 'Narcissa',\n",
       "       'Neville', 'Newt', 'Nymphadora', 'Oliver', 'Padme', 'Pansy', 'Parvati',\n",
       "       'Penelope', 'Percy', 'Peter', 'Petunia', 'Remus', 'Rita', 'Rowena',\n",
       "       'Salazar', 'Severus', 'Sirius', 'Sybill', 'Tom', 'Vernon', 'Viktor'],\n",
       "      dtype='object')"
      ]
     },
     "execution_count": 80,
     "metadata": {},
     "output_type": "execute_result"
    }
   ],
   "source": [
    "df.columns"
   ]
  },
  {
   "cell_type": "markdown",
   "metadata": {},
   "source": [
    "## What did I set my index as again?"
   ]
  },
  {
   "cell_type": "code",
   "execution_count": 81,
   "metadata": {},
   "outputs": [
    {
     "data": {
      "text/plain": [
       "Index(['1 Sorcerers Stone', '2 Chamber of Secrets', '3 Prisoner of Azkaban',\n",
       "       '4 Goblet of Fire', '5 Order of the Phoenix', '6 Half-Blood Prince',\n",
       "       '7 Deathly Hallows'],\n",
       "      dtype='object', name='file')"
      ]
     },
     "execution_count": 81,
     "metadata": {},
     "output_type": "execute_result"
    }
   ],
   "source": [
    "df.index"
   ]
  },
  {
   "cell_type": "markdown",
   "metadata": {},
   "source": [
    "## How big is my dataframe?"
   ]
  },
  {
   "cell_type": "code",
   "execution_count": 82,
   "metadata": {},
   "outputs": [
    {
     "data": {
      "text/plain": [
       "(7, 56)"
      ]
     },
     "execution_count": 82,
     "metadata": {},
     "output_type": "execute_result"
    }
   ],
   "source": [
    "df.shape # the first number is the number of rows, the second the number of columns"
   ]
  },
  {
   "cell_type": "markdown",
   "metadata": {},
   "source": [
    "## How do I access the values of a named column?"
   ]
  },
  {
   "cell_type": "code",
   "execution_count": 83,
   "metadata": {},
   "outputs": [
    {
     "data": {
      "text/plain": [
       "file\n",
       "1 Sorcerers Stone          1\n",
       "2 Chamber of Secrets      22\n",
       "3 Prisoner of Azkaban     18\n",
       "4 Goblet of Fire           6\n",
       "5 Order of the Phoenix     5\n",
       "6 Half-Blood Prince       74\n",
       "7 Deathly Hallows         12\n",
       "Name: Tom, dtype: int64"
      ]
     },
     "execution_count": 83,
     "metadata": {},
     "output_type": "execute_result"
    }
   ],
   "source": [
    "df['Tom']"
   ]
  },
  {
   "cell_type": "markdown",
   "metadata": {},
   "source": [
    "## How do I access a particular row by index number?"
   ]
  },
  {
   "cell_type": "code",
   "execution_count": 84,
   "metadata": {},
   "outputs": [
    {
     "data": {
      "text/plain": [
       "Albus         110\n",
       "Arthur         21\n",
       "Barty           1\n",
       "Bellatrix      98\n",
       "Bill          125\n",
       "Blaise          0\n",
       "Cedric          2\n",
       "Charlie        15\n",
       "Cho            13\n",
       "Cornelius       0\n",
       "Dolores         4\n",
       "Draco          62\n",
       "Dudley         49\n",
       "Fleur         101\n",
       "Fred           94\n",
       "Gellert        14\n",
       "George         77\n",
       "Gilderoy        0\n",
       "Ginny         122\n",
       "Godric         60\n",
       "Hedwig         19\n",
       "Helga           1\n",
       "James          57\n",
       "Kingsley       51\n",
       "Lavender        3\n",
       "Lee            17\n",
       "Lily           80\n",
       "Lucius         48\n",
       "Luna          140\n",
       "Mad-Eye        49\n",
       "Madame          8\n",
       "Minerva         8\n",
       "Molly          11\n",
       "Nagini         19\n",
       "Narcissa       21\n",
       "Neville        89\n",
       "Newt            0\n",
       "Nymphadora      3\n",
       "Oliver          2\n",
       "Padme           0\n",
       "Pansy           2\n",
       "Parvati         2\n",
       "Penelope        1\n",
       "Percy          33\n",
       "Peter           2\n",
       "Petunia        47\n",
       "Remus          21\n",
       "Rita           28\n",
       "Rowena          4\n",
       "Salazar         1\n",
       "Severus        62\n",
       "Sirius         69\n",
       "Sybill          0\n",
       "Tom            12\n",
       "Vernon         50\n",
       "Viktor          5\n",
       "Name: 7 Deathly Hallows, dtype: int64"
      ]
     },
     "execution_count": 84,
     "metadata": {},
     "output_type": "execute_result"
    }
   ],
   "source": [
    "df.iloc[-1] # give me the last row"
   ]
  },
  {
   "cell_type": "markdown",
   "metadata": {},
   "source": [
    "# How do I access a particular row by name?"
   ]
  },
  {
   "cell_type": "code",
   "execution_count": 85,
   "metadata": {},
   "outputs": [
    {
     "data": {
      "text/plain": [
       "Albus           8\n",
       "Arthur          0\n",
       "Barty           0\n",
       "Bellatrix       0\n",
       "Bill            4\n",
       "Blaise          1\n",
       "Cedric          0\n",
       "Charlie        10\n",
       "Cho             7\n",
       "Cornelius       1\n",
       "Dolores         0\n",
       "Draco           7\n",
       "Dudley        138\n",
       "Fleur           0\n",
       "Fred           17\n",
       "Gellert         0\n",
       "George         15\n",
       "Gilderoy        0\n",
       "Ginny           3\n",
       "Godric          1\n",
       "Hedwig          9\n",
       "Helga           0\n",
       "James           5\n",
       "Kingsley        0\n",
       "Lavender        2\n",
       "Lee             3\n",
       "Lily            7\n",
       "Lucius          0\n",
       "Luna            0\n",
       "Mad-Eye         0\n",
       "Madame          0\n",
       "Minerva         1\n",
       "Molly           0\n",
       "Nagini          0\n",
       "Narcissa        0\n",
       "Neville        50\n",
       "Newt            1\n",
       "Nymphadora      0\n",
       "Oliver          3\n",
       "Padme           0\n",
       "Pansy           1\n",
       "Parvati         3\n",
       "Penelope        0\n",
       "Percy          31\n",
       "Peter           0\n",
       "Petunia        56\n",
       "Remus           0\n",
       "Rita            0\n",
       "Rowena          0\n",
       "Salazar         0\n",
       "Severus         1\n",
       "Sirius          1\n",
       "Sybill          0\n",
       "Tom             1\n",
       "Vernon        112\n",
       "Viktor          0\n",
       "Name: 1 Sorcerers Stone, dtype: int64"
      ]
     },
     "execution_count": 85,
     "metadata": {},
     "output_type": "execute_result"
    }
   ],
   "source": [
    "df.loc['1 Sorcerers Stone']"
   ]
  },
  {
   "cell_type": "markdown",
   "metadata": {},
   "source": [
    "# Filtering with Pandas\n",
    "`pandas` allows us to filter our data easily.\n",
    "\n",
    "Let's say we wanted to figure out which characters were mentioned at least 5 times in every book. How would we do that?"
   ]
  },
  {
   "cell_type": "code",
   "execution_count": 86,
   "metadata": {},
   "outputs": [
    {
     "name": "stdout",
     "output_type": "stream",
     "text": [
      "Albus\n",
      "Draco\n",
      "Dudley\n",
      "Fred\n",
      "George\n",
      "Hedwig\n",
      "Neville\n",
      "Percy\n",
      "Petunia\n",
      "Vernon\n"
     ]
    }
   ],
   "source": [
    "for x in df.columns:\n",
    "    if all(df[x] >= 5):\n",
    "        print(x)"
   ]
  },
  {
   "cell_type": "markdown",
   "metadata": {},
   "source": [
    "`all()` checks the `True` or `False` condition for every element in the DataFrame column. Only if all of the elements are `True` does it `return` `True`.\n",
    "\n",
    "`any()` works similarly. It checks the condition of every element in the column to see if any of them return `True`. Once it hits a `True` value, `any` `returns` `True`."
   ]
  },
  {
   "cell_type": "markdown",
   "metadata": {},
   "source": [
    "Which characters are *not* mentioned in at least one book?"
   ]
  },
  {
   "cell_type": "code",
   "execution_count": 87,
   "metadata": {},
   "outputs": [
    {
     "name": "stdout",
     "output_type": "stream",
     "text": [
      "Arthur\n",
      "Barty\n",
      "Bellatrix\n",
      "Blaise\n",
      "Cedric\n",
      "Cho\n",
      "Cornelius\n",
      "Dolores\n",
      "Fleur\n",
      "Gellert\n",
      "Gilderoy\n",
      "Godric\n",
      "Helga\n",
      "Kingsley\n",
      "Lucius\n",
      "Luna\n",
      "Mad-Eye\n",
      "Madame\n",
      "Molly\n",
      "Nagini\n",
      "Narcissa\n",
      "Newt\n",
      "Nymphadora\n",
      "Oliver\n",
      "Padme\n",
      "Pansy\n",
      "Penelope\n",
      "Peter\n",
      "Remus\n",
      "Rita\n",
      "Rowena\n",
      "Salazar\n",
      "Sirius\n",
      "Sybill\n",
      "Viktor\n"
     ]
    }
   ],
   "source": [
    "for x in df.columns:\n",
    "    if any(df[x] == 0):\n",
    "        print(x)"
   ]
  },
  {
   "cell_type": "markdown",
   "metadata": {},
   "source": [
    "# Using `pandas` with metadata"
   ]
  },
  {
   "cell_type": "markdown",
   "metadata": {},
   "source": [
    "# NLTK\n",
    "We can do the same thing with a library called `nltk`, which stands for Natural Language Tool Kit. It's a library written in Python designed to do some of the work we have been doing by hand to learn:"
   ]
  },
  {
   "cell_type": "code",
   "execution_count": 7,
   "metadata": {},
   "outputs": [
    {
     "data": {
      "text/plain": [
       "['This', 'can', 'help', 'us', 'out']"
      ]
     },
     "execution_count": 7,
     "metadata": {},
     "output_type": "execute_result"
    }
   ],
   "source": [
    "import nltk # this may take a second to load!\n",
    "nltk.word_tokenize('This can help us out')"
   ]
  },
  {
   "cell_type": "markdown",
   "metadata": {},
   "source": [
    "`nltk` isn't perfect. It gets tripped up by stuff like this:"
   ]
  },
  {
   "cell_type": "code",
   "execution_count": 8,
   "metadata": {},
   "outputs": [
    {
     "data": {
      "text/plain": [
       "['Sometimes', 'things-even', 'simple', 'things-cause', 'problems']"
      ]
     },
     "execution_count": 8,
     "metadata": {},
     "output_type": "execute_result"
    }
   ],
   "source": [
    "nltk.word_tokenize('Sometimes things-even simple things-cause problems')"
   ]
  },
  {
   "cell_type": "markdown",
   "metadata": {},
   "source": [
    "We can improve its results by preprocessing our texts some. We can `import` lists of punctuation to save time, too:"
   ]
  },
  {
   "cell_type": "code",
   "execution_count": 9,
   "metadata": {},
   "outputs": [
    {
     "data": {
      "text/plain": [
       "'!\"#$%&\\'()*+,-./:;<=>?@[\\\\]^_`{|}~'"
      ]
     },
     "execution_count": 9,
     "metadata": {},
     "output_type": "execute_result"
    }
   ],
   "source": [
    "import string\n",
    "string.punctuation"
   ]
  },
  {
   "cell_type": "markdown",
   "metadata": {},
   "source": [
    "`re` is a special module that stands for regular expressions. It is the same system that Piper used to count punctuation. It may be most useful for us to count *arbitrary* amounts of whitespace, as in the string below:"
   ]
  },
  {
   "cell_type": "code",
   "execution_count": 10,
   "metadata": {},
   "outputs": [
    {
     "data": {
      "text/plain": [
       "['  ', ' ', ' ', ' \\t ', ' \\n  ', '   ']"
      ]
     },
     "execution_count": 10,
     "metadata": {},
     "output_type": "execute_result"
    }
   ],
   "source": [
    "import re\n",
    "re.findall('\\s+', '  instances of multiple \\t spaces \\n  are.   present')"
   ]
  },
  {
   "cell_type": "markdown",
   "metadata": {},
   "source": [
    "All you need to know is that the method `findall` from the library `re` can identify any amount of different sorts of whitespace in sequence. The special sequence `'\\s+'` finds the whitespace.\n",
    "\n",
    "We can use that flexibility to find *all* of the whitespace and replace it with spaces for simplicity:"
   ]
  },
  {
   "cell_type": "code",
   "execution_count": 11,
   "metadata": {},
   "outputs": [],
   "source": [
    "with open('/Users/e/Downloads/walden.txt') as thoreau:\n",
    "    thoreau = thoreau.read()"
   ]
  },
  {
   "cell_type": "code",
   "execution_count": 28,
   "metadata": {},
   "outputs": [],
   "source": [
    "def tokenize(text, keep_punct = False, to_lower = True):\n",
    "    if to_lower:\n",
    "        text = text.lower().strip()\n",
    "        \n",
    "    if keep_punct is True:\n",
    "        for punct in string.punctuation:\n",
    "            text = text.replace(punct, ' ' + punct + ' ') # adding spaces to either side of any punctuation mark\n",
    "    else:\n",
    "        for punct in string.punctuation:\n",
    "            text = text.replace(punct, ' ') # adding spaces in the place of punctuation\n",
    "    \n",
    "    # this replaces *any* amount of spaces with a single space:\n",
    "    text = re.sub('\\s+', ' ', text)\n",
    "    \n",
    "    # then we can use nltk's tokenizer\n",
    "    return nltk.word_tokenize(text)"
   ]
  },
  {
   "cell_type": "code",
   "execution_count": 30,
   "metadata": {},
   "outputs": [],
   "source": [
    "thoreau_toks = tokenize(thoreau)"
   ]
  },
  {
   "cell_type": "code",
   "execution_count": 31,
   "metadata": {},
   "outputs": [
    {
     "data": {
      "text/plain": [
       "['walden',\n",
       " 'and',\n",
       " 'on',\n",
       " 'the',\n",
       " 'duty',\n",
       " 'of',\n",
       " 'civil',\n",
       " 'disobedience',\n",
       " 'by',\n",
       " 'henry',\n",
       " 'david',\n",
       " 'thoreau',\n",
       " 'contents',\n",
       " 'walden',\n",
       " 'economy',\n",
       " 'where',\n",
       " 'i',\n",
       " 'lived',\n",
       " 'and',\n",
       " 'what']"
      ]
     },
     "execution_count": 31,
     "metadata": {},
     "output_type": "execute_result"
    }
   ],
   "source": [
    "thoreau_toks[:20]"
   ]
  },
  {
   "cell_type": "code",
   "execution_count": 32,
   "metadata": {},
   "outputs": [],
   "source": [
    "def ttr(text):\n",
    "    '''\n",
    "    Calculates the type-token ratio for any given text. Depends on function tokenize.\n",
    "    '''\n",
    "    tokens = tokenize(text, keep_punct=False)\n",
    "    types = set(tokens)\n",
    "    return len(types)/len(tokens)"
   ]
  },
  {
   "cell_type": "code",
   "execution_count": 33,
   "metadata": {},
   "outputs": [
    {
     "data": {
      "text/plain": [
       "0.09475101859902146"
      ]
     },
     "execution_count": 33,
     "metadata": {},
     "output_type": "execute_result"
    }
   ],
   "source": [
    "ttr(thoreau) # long texts are very repetitive!"
   ]
  },
  {
   "cell_type": "code",
   "execution_count": 34,
   "metadata": {},
   "outputs": [
    {
     "data": {
      "text/plain": [
       "0.125"
      ]
     },
     "execution_count": 34,
     "metadata": {},
     "output_type": "execute_result"
    }
   ],
   "source": [
    "ttr(\"Buffalo buffalo Buffalo buffalo buffalo buffalo Buffalo buffalo.\")"
   ]
  },
  {
   "cell_type": "code",
   "execution_count": 35,
   "metadata": {},
   "outputs": [
    {
     "data": {
      "text/plain": [
       "0.8333333333333334"
      ]
     },
     "execution_count": 35,
     "metadata": {},
     "output_type": "execute_result"
    }
   ],
   "source": [
    "ttr('the cat sat on the mat')"
   ]
  }
 ],
 "metadata": {
  "kernelspec": {
   "display_name": "Python 3",
   "language": "python",
   "name": "python3"
  },
  "language_info": {
   "codemirror_mode": {
    "name": "ipython",
    "version": 3
   },
   "file_extension": ".py",
   "mimetype": "text/x-python",
   "name": "python",
   "nbconvert_exporter": "python",
   "pygments_lexer": "ipython3",
   "version": "3.7.3"
  }
 },
 "nbformat": 4,
 "nbformat_minor": 4
}
